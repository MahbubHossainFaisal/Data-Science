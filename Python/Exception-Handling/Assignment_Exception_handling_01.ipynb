{
 "cells": [
  {
   "cell_type": "markdown",
   "id": "851dd703-766d-4cb0-929b-62c6207f90da",
   "metadata": {},
   "source": [
    "Q1. What is an Exeption in python? Write the differen  between Exeption and syntax error?"
   ]
  },
  {
   "cell_type": "markdown",
   "id": "a9fa725c-5819-4ec8-8e9f-9f2b3571b262",
   "metadata": {},
   "source": [
    "Exception is an error that can be occured during \n",
    "the runtime of python which can be for many situations like invalid data, invalid attribute, data divisible by zero, or finding a non existing file and so on.\n",
    "\n",
    "\n",
    "Difference between Exception and syntax:\n",
    "1. Exception happen during runtime where syntax error happen during before the runtime when python parser check the syntax with the python language rule.\n",
    "\n",
    "2. Exception is an execution result and syntax error is a wrongly typed python code.\n",
    "\n",
    "3. Exception got detected during the runtime of the program where syntax error detected by the python parser before the running of program."
   ]
  },
  {
   "cell_type": "code",
   "execution_count": null,
   "id": "72b7e2ab-8179-460a-8690-bfc84a92f05d",
   "metadata": {},
   "outputs": [],
   "source": []
  },
  {
   "cell_type": "markdown",
   "id": "86498801-3df3-4e2c-9060-2a585737261d",
   "metadata": {},
   "source": [
    "Q2. What happens when an exception is not handled? Explain with an example."
   ]
  },
  {
   "cell_type": "raw",
   "id": "be1aeac2-ccac-4e62-b55d-1f7b064be91e",
   "metadata": {},
   "source": [
    "When an exception is not handled, python provides an error message that includes the exception type, message, and traceback \n",
    "which is horrible in terms of user experience. So we need to handle exception to make user experience smooth.\n",
    "Below is an example if we don't handle exception"
   ]
  },
  {
   "cell_type": "code",
   "execution_count": 1,
   "id": "0b9b8465-7407-463e-94b5-37afa27b763e",
   "metadata": {},
   "outputs": [
    {
     "ename": "ZeroDivisionError",
     "evalue": "division by zero",
     "output_type": "error",
     "traceback": [
      "\u001b[0;31m---------------------------------------------------------------------------\u001b[0m",
      "\u001b[0;31mZeroDivisionError\u001b[0m                         Traceback (most recent call last)",
      "Cell \u001b[0;32mIn[1], line 5\u001b[0m\n\u001b[1;32m      1\u001b[0m \u001b[38;5;28;01mdef\u001b[39;00m \u001b[38;5;21mcalc\u001b[39m(x,y):\n\u001b[1;32m      2\u001b[0m     \u001b[38;5;28mprint\u001b[39m(x\u001b[38;5;241m/\u001b[39my)\n\u001b[0;32m----> 5\u001b[0m \u001b[43mcalc\u001b[49m\u001b[43m(\u001b[49m\u001b[38;5;241;43m3\u001b[39;49m\u001b[43m,\u001b[49m\u001b[38;5;241;43m0\u001b[39;49m\u001b[43m)\u001b[49m\n",
      "Cell \u001b[0;32mIn[1], line 2\u001b[0m, in \u001b[0;36mcalc\u001b[0;34m(x, y)\u001b[0m\n\u001b[1;32m      1\u001b[0m \u001b[38;5;28;01mdef\u001b[39;00m \u001b[38;5;21mcalc\u001b[39m(x,y):\n\u001b[0;32m----> 2\u001b[0m     \u001b[38;5;28mprint\u001b[39m(\u001b[43mx\u001b[49m\u001b[38;5;241;43m/\u001b[39;49m\u001b[43my\u001b[49m)\n",
      "\u001b[0;31mZeroDivisionError\u001b[0m: division by zero"
     ]
    }
   ],
   "source": [
    "def calc(x,y):\n",
    "    print(x/y)\n",
    "    \n",
    "    \n",
    "calc(3,0)"
   ]
  },
  {
   "cell_type": "code",
   "execution_count": null,
   "id": "42de5958-91c9-43cf-9c4b-8e97bd864b46",
   "metadata": {},
   "outputs": [],
   "source": []
  },
  {
   "cell_type": "markdown",
   "id": "34dccfac-e910-40b9-8a67-c4066edd82b6",
   "metadata": {},
   "source": [
    "Q3. Which python statements are used to catch and handle exceptions? Explain with an example."
   ]
  },
  {
   "cell_type": "markdown",
   "id": "27cc1940-f2bd-4450-a460-9c05e373b89c",
   "metadata": {},
   "source": [
    "To catch and handle exception ,'try' and 'except' these statements are used.\n",
    "In try block we put all the codes that we want to run. If something error happend while\n",
    "running that code, to handle that error we use except block.\n",
    "Example  is given below:"
   ]
  },
  {
   "cell_type": "code",
   "execution_count": 4,
   "id": "b431e0fe-d3ab-4621-921b-1250e58e6ed8",
   "metadata": {},
   "outputs": [
    {
     "name": "stdout",
     "output_type": "stream",
     "text": [
      "division by zero --> we can not divide something by zero\n"
     ]
    }
   ],
   "source": [
    "def calc(x,y):\n",
    "    try:\n",
    "        print(x/y)\n",
    "    except ZeroDivisionError as e:\n",
    "        print(e,'--> we can not divide something by zero')\n",
    "        \n",
    "calc(19,0)"
   ]
  },
  {
   "cell_type": "code",
   "execution_count": null,
   "id": "d77f6807-8436-4c94-aea4-36e15c8b2076",
   "metadata": {},
   "outputs": [],
   "source": []
  },
  {
   "cell_type": "raw",
   "id": "ac28d556-24df-444b-b89f-9166f2e315b5",
   "metadata": {},
   "source": [
    "Q4. Explain with examples.\n",
    "    \ta. Try and else\n",
    "        b. finally\n",
    "        c. raise"
   ]
  },
  {
   "cell_type": "raw",
   "id": "ee93884c-6915-4a89-858a-c6b9ea7690e3",
   "metadata": {},
   "source": [
    "Try and else: \n",
    "\n",
    "We use Try block to run the code that we need to execute.\n",
    "if try block raise some error that will go to except block\n",
    "and if things go right in Try block we can go to else block and write remaining code or any other code that\n",
    "we want to run if the all the codes of try block executes."
   ]
  },
  {
   "cell_type": "code",
   "execution_count": 10,
   "id": "dd3e8430-892a-490d-9d05-343e0f1e53fb",
   "metadata": {},
   "outputs": [],
   "source": []
  },
  {
   "cell_type": "raw",
   "id": "b73e1471-bfb7-4906-b665-991874f60123",
   "metadata": {},
   "source": [
    "We use finally block to write some code that has to be run though the try block code runs properly or not.\n",
    "to conclude somthing with code, we use the finally block. For example, closing file or closing database connection"
   ]
  },
  {
   "cell_type": "code",
   "execution_count": null,
   "id": "db6f1234-6a64-4c3e-a6d9-9376c8b0d922",
   "metadata": {},
   "outputs": [],
   "source": []
  },
  {
   "cell_type": "markdown",
   "id": "d9eb8c9b-e54c-44ef-9532-80ba7a4a169c",
   "metadata": {},
   "source": [
    "We use raise to raise an exception. this is useful for creating custom exceptions. It deliveres the required msg to the custom exception class."
   ]
  },
  {
   "cell_type": "code",
   "execution_count": null,
   "id": "550e36aa-bcd9-4a2c-b925-6e8154028224",
   "metadata": {},
   "outputs": [],
   "source": []
  },
  {
   "cell_type": "code",
   "execution_count": 22,
   "id": "927ab572-f2bd-49fb-9ba3-eb801daf4d5b",
   "metadata": {},
   "outputs": [
    {
     "name": "stdout",
     "output_type": "stream",
     "text": [
      "First letter of Hello in the text file should be capital\n"
     ]
    }
   ],
   "source": [
    "import os\n",
    "\n",
    "class firstLetterNotCapital(Exception):\n",
    "    def __init__(self,msg):\n",
    "        self.msg = msg\n",
    "        \n",
    "        \n",
    "try:\n",
    "    file = open(\"example.txt\", \"w\")\n",
    "    file.write(\"hello\")\n",
    "except IOError:\n",
    "    print(\"Error: Could not open file.\")\n",
    "else:\n",
    "    file.close() #if hello is written in the file, then in the else block we are closing the file.\n",
    "    \n",
    "filename = 'example.txt'    \n",
    "try:\n",
    "    file = open(filename,'r')\n",
    "    st = file.read()\n",
    "    if st != 'Hello':\n",
    "        raise firstLetterNotCapital('First letter of Hello in the text file should be capital')\n",
    "       \n",
    "except firstLetterNotCapital as f:\n",
    "    print(f)\n",
    "finally:\n",
    "    file.close()"
   ]
  },
  {
   "cell_type": "markdown",
   "id": "98d38649-6244-46f2-8fc1-dcff48e23a55",
   "metadata": {},
   "source": [
    "Q5. What are custom exceptions in python? Why do we need custome exceptions ? Explain with examples."
   ]
  },
  {
   "cell_type": "raw",
   "id": "8517ae65-74c1-4c56-b0c6-fab8c02e3a9d",
   "metadata": {},
   "source": [
    "Custom exceptions are user defined exceptions which inherits from the base Exception class.\n",
    "We need custom exceptions so that we can create more meaningful and specific error messages.\n",
    "Also we make custome exception classes to do some additional work for us sometimes."
   ]
  },
  {
   "cell_type": "code",
   "execution_count": 11,
   "id": "84dca553-acac-4ea8-84cd-510a4b5d60a3",
   "metadata": {},
   "outputs": [
    {
     "name": "stdout",
     "output_type": "stream",
     "text": [
      "Age can not be negative\n"
     ]
    }
   ],
   "source": [
    "class NegativeAge(Exception):\n",
    "    def __init__(self,msg):\n",
    "        self.msg = msg\n",
    "\n",
    "def age(num):\n",
    "    try:\n",
    "        if num < 0:\n",
    "            raise NegativeAge('Age can not be negative')\n",
    "    except NegativeAge as e:\n",
    "        print(e)\n",
    "        \n",
    "\n",
    "age(-23)\n"
   ]
  },
  {
   "cell_type": "code",
   "execution_count": null,
   "id": "02c6a50c-7f88-44ca-a2df-07f2144e6c84",
   "metadata": {},
   "outputs": [],
   "source": []
  },
  {
   "cell_type": "markdown",
   "id": "db58c9f6-8db3-4091-83d5-7b04c08ea28d",
   "metadata": {},
   "source": [
    "Q6. Create a custom exception class. Use this class to handle an exception"
   ]
  },
  {
   "cell_type": "code",
   "execution_count": 25,
   "id": "9ef7663a-dbc5-434b-82cd-12ea533e4530",
   "metadata": {},
   "outputs": [
    {
     "name": "stdout",
     "output_type": "stream",
     "text": [
      "Cannot uppercase an empty string.\n"
     ]
    }
   ],
   "source": [
    "class EmptyStringError(Exception):\n",
    "    def __init__(self,msg):\n",
    "        self.msg = msg\n",
    "        \n",
    "\n",
    "def uppercase_string(string):\n",
    "    if string == \"\":\n",
    "        raise EmptyStringError(\"Cannot uppercase an empty string.\")\n",
    "    else:\n",
    "        return string.upper()\n",
    "\n",
    "try:\n",
    "    name = uppercase_string(\"\")\n",
    "except EmptyStringError as e:\n",
    "    print(e)"
   ]
  },
  {
   "cell_type": "code",
   "execution_count": null,
   "id": "1cd33383-f686-47b0-a137-e20187a45b4d",
   "metadata": {},
   "outputs": [],
   "source": []
  }
 ],
 "metadata": {
  "kernelspec": {
   "display_name": "Python 3 (ipykernel)",
   "language": "python",
   "name": "python3"
  },
  "language_info": {
   "codemirror_mode": {
    "name": "ipython",
    "version": 3
   },
   "file_extension": ".py",
   "mimetype": "text/x-python",
   "name": "python",
   "nbconvert_exporter": "python",
   "pygments_lexer": "ipython3",
   "version": "3.10.8"
  }
 },
 "nbformat": 4,
 "nbformat_minor": 5
}
