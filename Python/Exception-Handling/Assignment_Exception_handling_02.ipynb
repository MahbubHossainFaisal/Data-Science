{
 "cells": [
  {
   "cell_type": "markdown",
   "id": "c0efa45c-ce21-4899-a9f4-0eca5bb5ca1a",
   "metadata": {},
   "source": [
    "Q1. Explain why we have to use the Exception class while creating a Custom Exception."
   ]
  },
  {
   "cell_type": "markdown",
   "id": "328c6a65-7b9a-4fe3-8f9a-ee971a02779b",
   "metadata": {},
   "source": [
    "Exception class comes with a lot of methods,properties and built in exceptions.\n",
    "When we create a custom exception class that means we are creating a new exception that is not available in Exception class.\n",
    "But the new exception class can use the benefits of already built in properties and methods by inheriting the Exception class.\n",
    "Also it can use additional properties of it's own if needed by creating it.\n",
    "Overall, using the Exception class as the base class for our custom exception ensures that our exception class follows the standard exception hierarchy in Python and can be handled using the same exception handling mechanisms provided by Python."
   ]
  },
  {
   "cell_type": "code",
   "execution_count": null,
   "id": "25184a64-327f-4fd7-9d95-41744666da56",
   "metadata": {},
   "outputs": [],
   "source": []
  },
  {
   "cell_type": "markdown",
   "id": "c8d05701-8245-455b-8842-f0c4f6c33554",
   "metadata": {},
   "source": [
    "Q2. Write a python program to print Python Exception Hierarchy."
   ]
  },
  {
   "cell_type": "code",
   "execution_count": 2,
   "id": "53624868-e731-41e6-9303-6375e0dfdb02",
   "metadata": {},
   "outputs": [
    {
     "name": "stdout",
     "output_type": "stream",
     "text": [
      "BaseException\n",
      "Exception\n",
      "TypeError\n",
      "StopAsyncIteration\n",
      "StopIteration\n",
      "GeneratorExit\n",
      "SystemExit\n",
      "KeyboardInterrupt\n",
      "ImportError\n",
      "ModuleNotFoundError\n",
      "OSError\n",
      "EnvironmentError\n",
      "IOError\n",
      "EOFError\n",
      "RuntimeError\n",
      "RecursionError\n",
      "NotImplementedError\n",
      "NameError\n",
      "UnboundLocalError\n",
      "AttributeError\n",
      "SyntaxError\n",
      "IndentationError\n",
      "TabError\n",
      "LookupError\n",
      "IndexError\n",
      "KeyError\n",
      "ValueError\n",
      "UnicodeError\n",
      "UnicodeEncodeError\n",
      "UnicodeDecodeError\n",
      "UnicodeTranslateError\n",
      "AssertionError\n",
      "ArithmeticError\n",
      "FloatingPointError\n",
      "OverflowError\n",
      "ZeroDivisionError\n",
      "SystemError\n",
      "ReferenceError\n",
      "MemoryError\n",
      "BufferError\n",
      "Warning\n",
      "UserWarning\n",
      "EncodingWarning\n",
      "DeprecationWarning\n",
      "PendingDeprecationWarning\n",
      "SyntaxWarning\n",
      "RuntimeWarning\n",
      "FutureWarning\n",
      "ImportWarning\n",
      "UnicodeWarning\n",
      "BytesWarning\n",
      "ResourceWarning\n",
      "ConnectionError\n",
      "BlockingIOError\n",
      "BrokenPipeError\n",
      "ChildProcessError\n",
      "ConnectionAbortedError\n",
      "ConnectionRefusedError\n",
      "ConnectionResetError\n",
      "FileExistsError\n",
      "FileNotFoundError\n",
      "IsADirectoryError\n",
      "NotADirectoryError\n",
      "InterruptedError\n",
      "PermissionError\n",
      "ProcessLookupError\n",
      "TimeoutError\n"
     ]
    }
   ],
   "source": [
    "for name, obj in vars(__builtins__).items():\n",
    "    if isinstance(obj, type) and issubclass(obj, BaseException):\n",
    "        print(name)\n"
   ]
  },
  {
   "cell_type": "code",
   "execution_count": null,
   "id": "efa08df5-1b6d-4df1-81b9-75e3860437b0",
   "metadata": {},
   "outputs": [],
   "source": []
  },
  {
   "cell_type": "markdown",
   "id": "3d51d332-ee51-46ae-8e3e-ed50b5bee309",
   "metadata": {},
   "source": [
    "Q3. What errors are defined in the ArithmeticError class? Explain any two with an example."
   ]
  },
  {
   "cell_type": "markdown",
   "id": "4fd0011e-62dc-40d0-8a31-a0708d742451",
   "metadata": {},
   "source": [
    "There are several errors that are defined by ArithmeticError class:\n",
    "    1) ZeroDivisionError\n",
    "    2) FloatingPointError\n",
    "    3) ValueError\n",
    "    4) Overflow error\n",
    "    \n"
   ]
  },
  {
   "cell_type": "markdown",
   "id": "4c284e08-bab6-40d0-946b-f34fc3d1bc4b",
   "metadata": {},
   "source": []
  },
  {
   "cell_type": "markdown",
   "id": "d3215852-df6b-4d40-8d7d-1085acfa4f85",
   "metadata": {},
   "source": [
    "ZeroDivisionError"
   ]
  },
  {
   "cell_type": "code",
   "execution_count": 8,
   "id": "308f32d0-c7a4-40fc-af2f-3bdc96a122dc",
   "metadata": {},
   "outputs": [
    {
     "name": "stdout",
     "output_type": "stream",
     "text": [
      "We can not divide anything by 0\n"
     ]
    }
   ],
   "source": [
    "def div(a,b):\n",
    "    try:\n",
    "        c = a/b\n",
    "        print(c)\n",
    "    except ZeroDivisionError:\n",
    "        print('We can not divide anything by 0')\n",
    "        \n",
    "        \n",
    "div(3,0)"
   ]
  },
  {
   "cell_type": "code",
   "execution_count": null,
   "id": "cc3994a0-0136-4550-a1e4-c87d3e15a795",
   "metadata": {},
   "outputs": [],
   "source": []
  },
  {
   "cell_type": "markdown",
   "id": "ac017c80-f607-4b85-b796-3bd6ad557ca4",
   "metadata": {},
   "source": [
    "Value Error"
   ]
  },
  {
   "cell_type": "code",
   "execution_count": 10,
   "id": "3d56b618-148b-47ed-b313-b514a88da9d0",
   "metadata": {},
   "outputs": [
    {
     "name": "stdout",
     "output_type": "stream",
     "text": [
      "Error: Cannot convert string to an integer\n"
     ]
    }
   ],
   "source": [
    "try:\n",
    "    num = int(\"faisal\")\n",
    "except ValueError:\n",
    "    print(\"Error: Cannot convert string to an integer\")"
   ]
  },
  {
   "cell_type": "code",
   "execution_count": null,
   "id": "23611257-1519-47bd-87f7-f3b17ddc2b96",
   "metadata": {},
   "outputs": [],
   "source": []
  },
  {
   "cell_type": "markdown",
   "id": "7a02e7c4-3e81-4d83-aac3-07d7dd4861a6",
   "metadata": {},
   "source": [
    "Q4. Why LookupError class is used? Explain with an example KeyError and IndexError."
   ]
  },
  {
   "cell_type": "markdown",
   "id": "dbf31174-b684-4203-a223-91d5194113de",
   "metadata": {},
   "source": [
    "LookupError class is used to manage the exceptions like indexError, KeyError,AttributeError.\n"
   ]
  },
  {
   "cell_type": "code",
   "execution_count": null,
   "id": "6113481e-a223-46d3-aa3d-c24c8daa6598",
   "metadata": {},
   "outputs": [],
   "source": []
  },
  {
   "cell_type": "markdown",
   "id": "d470e6da-03d0-4438-888f-5c2be784052e",
   "metadata": {},
   "source": [
    "KeyError"
   ]
  },
  {
   "cell_type": "code",
   "execution_count": 12,
   "id": "08e3c99e-1ddd-4d6b-9227-bd8b195710ae",
   "metadata": {},
   "outputs": [
    {
     "name": "stdout",
     "output_type": "stream",
     "text": [
      "There is no similar key in dictionary\n"
     ]
    }
   ],
   "source": [
    "dic = {'a':1,'b':2,'c':3}\n",
    "\n",
    "try:\n",
    "    print(dic['d'])\n",
    "except KeyError:\n",
    "    print('There is no similar key in dictionary')"
   ]
  },
  {
   "cell_type": "code",
   "execution_count": null,
   "id": "8c57e9a4-e5b9-41b6-8b7d-1a0bdfc9bf8e",
   "metadata": {},
   "outputs": [],
   "source": []
  },
  {
   "cell_type": "markdown",
   "id": "869a497b-a2ed-42cd-b837-7ba90a6ea317",
   "metadata": {},
   "source": [
    "IndexError"
   ]
  },
  {
   "cell_type": "code",
   "execution_count": 14,
   "id": "b8ecbb7f-29a6-4585-a052-f4e0e00bf100",
   "metadata": {},
   "outputs": [
    {
     "name": "stdout",
     "output_type": "stream",
     "text": [
      "Index is out of range\n"
     ]
    }
   ],
   "source": [
    "arr = [2,4,1,35]\n",
    "\n",
    "try:\n",
    "    print(arr[4])\n",
    "    \n",
    "except IndexError:\n",
    "    print('Index is out of range')"
   ]
  },
  {
   "cell_type": "code",
   "execution_count": null,
   "id": "e82e9c17-51a1-428f-8aed-de8b1934cd42",
   "metadata": {},
   "outputs": [],
   "source": []
  },
  {
   "cell_type": "markdown",
   "id": "862ae4f4-f421-4541-abad-231592038a34",
   "metadata": {},
   "source": [
    "Q5. Explain ImportError. What is ModuleNotFoundError?"
   ]
  },
  {
   "cell_type": "markdown",
   "id": "85a52788-a40c-4853-80a7-d04f6fd6c796",
   "metadata": {},
   "source": [
    "ImportError is an exception that is raised when a module or package is not found or imported.\n",
    "ModuleNotFoundError is a subclass of the ImportError. It works for the same purpose."
   ]
  },
  {
   "cell_type": "code",
   "execution_count": 17,
   "id": "17d286c0-7b5a-43ec-9837-ad0c60c4874e",
   "metadata": {},
   "outputs": [
    {
     "name": "stdout",
     "output_type": "stream",
     "text": [
      "There is no module named mathi\n"
     ]
    }
   ],
   "source": [
    "\n",
    "\n",
    "try:\n",
    "    import mathi\n",
    "    calc = math.sqrt(4)\n",
    "    print(calc)\n",
    "except ModuleNotFoundError:\n",
    "    print(\"There is no module named mathi\")"
   ]
  },
  {
   "cell_type": "code",
   "execution_count": null,
   "id": "4aea4771-af4f-42ad-a6af-c47649cd1a70",
   "metadata": {},
   "outputs": [],
   "source": []
  },
  {
   "cell_type": "markdown",
   "id": "169396a9-35fd-4d70-8567-08b9a627bf43",
   "metadata": {},
   "source": [
    "Q6. List down some best practices for exception handling in python."
   ]
  },
  {
   "cell_type": "markdown",
   "id": "ae0a1ed0-8145-42fc-b982-c13aaf9fdef8",
   "metadata": {},
   "source": [
    "1) Use specific exception classes like ValueError, AttributeError etc rather than catching broad exceptions like Exception\n",
    "2) Use exceptions where necessary\n",
    "3) Use finally block for clean up purpose. Like closing files,connections etc.\n",
    "4) Use custom exceptions if you failed to find any specific exceptions or want to add any additional logic in an exception\n",
    "5) Test your exceptions that if they working correctly or not.\n",
    "6) Use try except block for exception and logging for handling informations."
   ]
  },
  {
   "cell_type": "code",
   "execution_count": null,
   "id": "35f2f782-cde8-4ce5-b088-d6e15d7e6548",
   "metadata": {},
   "outputs": [],
   "source": []
  }
 ],
 "metadata": {
  "kernelspec": {
   "display_name": "Python 3 (ipykernel)",
   "language": "python",
   "name": "python3"
  },
  "language_info": {
   "codemirror_mode": {
    "name": "ipython",
    "version": 3
   },
   "file_extension": ".py",
   "mimetype": "text/x-python",
   "name": "python",
   "nbconvert_exporter": "python",
   "pygments_lexer": "ipython3",
   "version": "3.10.8"
  }
 },
 "nbformat": 4,
 "nbformat_minor": 5
}
