{
  "nbformat": 4,
  "nbformat_minor": 0,
  "metadata": {
    "colab": {
      "provenance": []
    },
    "kernelspec": {
      "name": "python3",
      "display_name": "Python 3"
    },
    "language_info": {
      "name": "python"
    }
  },
  "cells": [
    {
      "cell_type": "markdown",
      "source": [
        "## Exception Handling\n"
      ],
      "metadata": {
        "id": "ajVfqio_GinI"
      }
    },
    {
      "cell_type": "markdown",
      "source": [
        "###`Q-1`: You are given a function definition. There might be several issues on execution of this function. You are asked to do exception handling for diffrent errors that this function goes in to `without altering this function`. And print error text.\n",
        "\n"
      ],
      "metadata": {
        "id": "0qnQkJtnGozz"
      }
    },
    {
      "cell_type": "markdown",
      "source": [
        "Function parameters `l -> list, s -> could be anything`\n",
        "\n",
        "```\n",
        "def function(l: list, s, **args):\n",
        "    last_element = l[-1]\n",
        "    \n",
        "    l[int(s)]=10\n",
        "    any_element = l[int(s)+10]\n",
        "    l[s]=10\n",
        "    \n",
        "    res = sum(l)\n",
        "    \n",
        "    p = args['p']\n",
        "    # print(p)\n",
        "    return res/last_element * p + any_element\n",
        "\n",
        "```\n",
        "Check for different function calls:-\n",
        "\n",
        "```\n",
        "function([1,2,1], 12)\n",
        "function([1,2,1]*9, '1-2')\n",
        "function([1,'2',1]*9, 12)\n",
        "function([1,'2',1]*9, 12)\n",
        "function([1,2,0]*9, 12  )\n",
        "function([1,2,1]*9, 12, p=None)\n",
        "function([1,2,0]*9, 12, p=10)\n",
        "```"
      ],
      "metadata": {
        "id": "2no_EB2fGyGq"
      }
    },
    {
      "cell_type": "code",
      "source": [
        "# Write code here\n",
        "def function(l: list, s, **args):\n",
        "  try:\n",
        "\n",
        "    last_element = l[-1]\n",
        "\n",
        "    l[int(s)]=10\n",
        "    any_element = l[int(s)+10]\n",
        "    l[s]=10\n",
        "\n",
        "    res = sum(l)\n",
        "\n",
        "    p = args['p']\n",
        "    # print(p)\n",
        "    return res/last_element * p + any_element\n",
        "\n",
        "  except ValueError as e:\n",
        "    print('Value Error ->',e)\n",
        "    \n",
        "  except IndexError as e:\n",
        "    print('Index Error ->',e)\n",
        "  except TypeError as e:\n",
        "    print('Type Error ->',e)\n",
        "  except KeyError as e:\n",
        "    print('Key Error ->',e)\n",
        "  except ZeroDivisionError as e:\n",
        "    print('ZeroDivisionError ->',e)\n",
        "\n",
        "\n",
        "ans = function([1,2,0]*9, 12, p=10)"
      ],
      "metadata": {
        "id": "VoaL4_9eGjFU",
        "colab": {
          "base_uri": "https://localhost:8080/"
        },
        "outputId": "aac0b877-3c2e-46b8-b1a2-c5ff8dcebd3a"
      },
      "execution_count": 23,
      "outputs": [
        {
          "output_type": "stream",
          "name": "stdout",
          "text": [
            "ZeroDivisionError -> division by zero\n"
          ]
        }
      ]
    },
    {
      "cell_type": "markdown",
      "source": [
        "###`Q-2:` You are given a code snippet. There might be several issues on execution of this code. You are asked to do exception handling for diffrent errors, condition is what ever happens we need to execute last line printing correct result of `sum of elements`.\n",
        "\n",
        "List have elemnts as any no of  `key-pair dict with key as list index and value as any integer`, `integers` and `numeric-strings`. There is always only one element in the dict.\n",
        "\n",
        "\n",
        "```\n",
        "l = [{0:2},2,3,4,'5', {5:10}]\n",
        "# For calculating sum of above list\n",
        "s=0\n",
        "for i in range(len(l)):\n",
        "    #You can Edit code from here\n",
        "    s += l[i].get(i)\n",
        "    s += l[i]\n",
        "    s += int(l[i])\n",
        "\n",
        "\n",
        "print(s)\n",
        "```"
      ],
      "metadata": {
        "id": "HuLMy2fVG9sL"
      }
    },
    {
      "cell_type": "code",
      "source": [
        "l = [{0:2},2,3,4,'5', {5:10}]\n",
        "# For calculating sum of above list\n",
        "s=0\n",
        "for i in range(len(l)):\n",
        "    #You can Edit code from here\n",
        "    try:\n",
        "      s += l[i].get(i)\n",
        "      s += l[i]\n",
        "      s += int(l[i])\n",
        "    except ValueError as e:\n",
        "      print('Value error, so skipping the value ->',e)\n",
        "\n",
        "    except TypeError as e:\n",
        "      print('Type error, so skipping the value ->',e)\n",
        "\n",
        "    except AttributeError as e:\n",
        "      print('Attribute error, so skipping the value ->',e)\n",
        "\n",
        "print('Total Sum: ',s)"
      ],
      "metadata": {
        "id": "pEP8JU0qHAf8",
        "colab": {
          "base_uri": "https://localhost:8080/"
        },
        "outputId": "6ff78051-cabc-449e-f399-2bb13d9a29a3"
      },
      "execution_count": 36,
      "outputs": [
        {
          "output_type": "stream",
          "name": "stdout",
          "text": [
            "Type error, so skipping the value -> unsupported operand type(s) for +=: 'int' and 'dict'\n",
            "Attribute error, so skipping the value -> 'int' object has no attribute 'get'\n",
            "Attribute error, so skipping the value -> 'int' object has no attribute 'get'\n",
            "Attribute error, so skipping the value -> 'int' object has no attribute 'get'\n",
            "Attribute error, so skipping the value -> 'str' object has no attribute 'get'\n",
            "Type error, so skipping the value -> unsupported operand type(s) for +=: 'int' and 'dict'\n",
            "Total Sum:  12\n"
          ]
        }
      ]
    },
    {
      "cell_type": "markdown",
      "source": [
        "### `Q-3:`: File Handling with Exception handling\n",
        "\n",
        "Write a program that opens a text file and write data to it as \"Hello, Good Morning!!!\". Handle exceptions that can be generated during the I/O operations. Do not show the success message on the main exception handling block (write inside the else block)."
      ],
      "metadata": {
        "id": "ohE2fDTXHIan"
      }
    },
    {
      "cell_type": "code",
      "source": [
        "# write code here\n",
        "\n",
        "try:\n",
        "  with open('sample.txt','w') as file:\n",
        "    file.write('Hello, Good Morning!!!')\n",
        "\n",
        "except FileNotFoundError as e:\n",
        "  print('File not found!')\n",
        "except PermissionError as e:\n",
        "  print('Permission denied')\n",
        "else:\n",
        "  print('Sucessfully written!!')"
      ],
      "metadata": {
        "id": "iOeiWrcIHPlY",
        "colab": {
          "base_uri": "https://localhost:8080/"
        },
        "outputId": "9b5438b7-100b-4a39-bb31-774ded27a2f2"
      },
      "execution_count": 37,
      "outputs": [
        {
          "output_type": "stream",
          "name": "stdout",
          "text": [
            "Sucessfully written!!\n"
          ]
        }
      ]
    },
    {
      "cell_type": "markdown",
      "source": [
        "### `Q-4`: Number game program.\n",
        "\n",
        "Write a number game program. Ask the user to enter a number. If the number is greater than number to be guessed, raise a **ValueTooLarge** exception. If the value is smaller the number to be guessed the, raise a **ValueTooSmall** exception and prompt the user to enter again. Quit the program only when the user enters the correct number. Also raise **GuessError** if user guess a number less than 1."
      ],
      "metadata": {
        "id": "ru8g8-_bHTUf"
      }
    },
    {
      "cell_type": "code",
      "source": [
        "# Write code here\n",
        "class ValueTooSmall(Exception):\n",
        "  def __init__(self,msg):\n",
        "    self.msg = msg\n",
        "\n",
        "class ValueTooLarge(Exception):\n",
        "  def __init__(self,msg):\n",
        "    self.msg = msg\n",
        "\n",
        "class GuessError(Exception):\n",
        "  def __init__(self,msg):\n",
        "    self.msg = msg\n",
        "\n",
        "\n",
        "def numberGame(num):\n",
        "\n",
        "    \n",
        "    while True:\n",
        "      try:\n",
        "        userinput = int(input('Provide a number:'))\n",
        "        if userinput < 1:\n",
        "          raise GuessError('You have provided an input smaller than 1. Please provide greater than 1')\n",
        "        elif userinput < num:\n",
        "          raise ValueTooSmall('You have provided smaller input! Provide again!')\n",
        "        elif userinput > num:\n",
        "          raise ValueTooLarge('You have provided larger input! Provide again!')\n",
        "        else:\n",
        "          print('Congratulations! you have guessed it.')\n",
        "          break\n",
        "      except ValueError:\n",
        "        print('Invalid Value! Please provide a number!')\n",
        "      except GuessError as e:\n",
        "        print(e)\n",
        "      except ValueTooSmall as e:\n",
        "        print(e)\n",
        "      except ValueTooLarge as e:\n",
        "        print(e)\n",
        "      \n",
        "\n",
        "numberGame(35)\n",
        "\n"
      ],
      "metadata": {
        "id": "QftlN5LJHZSX",
        "colab": {
          "base_uri": "https://localhost:8080/"
        },
        "outputId": "00785018-13eb-40e4-d9e1-c7fcc558e575"
      },
      "execution_count": 38,
      "outputs": [
        {
          "output_type": "stream",
          "name": "stdout",
          "text": [
            "Provide a number:34\n",
            "You have provided smaller input! Provide again!\n",
            "Provide a number:36\n",
            "You have provided larger input! Provide again!\n",
            "Provide a number:-1\n",
            "You have provided an input smaller than 1. Please provide greater than 1\n",
            "Provide a number:30\n",
            "You have provided smaller input! Provide again!\n",
            "Provide a number:39\n",
            "You have provided larger input! Provide again!\n",
            "Provide a number:35\n",
            "Congratulations! you have guessed it.\n"
          ]
        }
      ]
    },
    {
      "cell_type": "markdown",
      "source": [
        "### `Q-5:` Cast vote\n",
        "\n",
        "Write a program that validate name and age as entered by the user to determine whether the person can cast vote or not. To handle the age, create **InvalidAge** exception and for name, create **InvalidName** exception. The name will be invalid when the string will be empty or name has only one word.\n",
        "\n",
        "Example 1:\n",
        "\n",
        "Input:\n",
        "\n",
        "```bash\n",
        "Enter the name:               goransh singh\n",
        "Enter the age: 25\n",
        "```\n",
        "\n",
        "Output:\n",
        "\n",
        "```bash\n",
        "Goransh Singh  Congratulation !!! You can vote.\n",
        "```"
      ],
      "metadata": {
        "id": "ZsGI_40fHcsd"
      }
    },
    {
      "cell_type": "code",
      "source": [
        "# Write code here\n",
        "class InvalidName(Exception):\n",
        "  def __init__(self,msg):\n",
        "    self.msg = msg\n",
        "\n",
        "\n",
        "class InvalidAge(Exception):\n",
        "  def __init__(self,msg):\n",
        "    self.msg = msg\n",
        "\n",
        "\n",
        "def castVote(name,age):\n",
        "  try:\n",
        "    if not isinstance(name,str) or  len(name) == 1 or name == '':\n",
        "      raise InvalidName('Please provide a valid name')\n",
        "\n",
        "    if not isinstance(age,int) or age <18:\n",
        "      raise InvalidAge('Please provide a valid age')\n",
        "\n",
        "  except InvalidName as e:\n",
        "    print(e)\n",
        "  except InvalidAge as e:\n",
        "    print(e)\n",
        "\n",
        "  else:\n",
        "    print('Congratulations!! You can cast vote.')\n",
        "\n",
        "\n",
        "\n",
        "castVote('',23)\n",
        "castVote('Naas',23)\n",
        "castVote('shan',2)"
      ],
      "metadata": {
        "id": "OHL3UiS4Hi3U",
        "colab": {
          "base_uri": "https://localhost:8080/"
        },
        "outputId": "46af19b4-ec20-4b99-9314-bf0d90525d41"
      },
      "execution_count": 47,
      "outputs": [
        {
          "output_type": "stream",
          "name": "stdout",
          "text": [
            "Please provide a valid name\n",
            "Congratulations!! You can cast vote.\n",
            "Please provide a valid age\n"
          ]
        }
      ]
    },
    {
      "cell_type": "markdown",
      "source": [
        "### `Q-6`: Write a python function which infinitely prints natural numbers in a single line. Raise the **StopIteration** exception after displaying first 20 numnbers to exit from the program."
      ],
      "metadata": {
        "id": "SCvs0QjgHlOG"
      }
    },
    {
      "cell_type": "code",
      "source": [
        "# Write code here\n",
        "\n",
        "def inifiniteNaturalNumbers():\n",
        "  try:\n",
        "    i=1\n",
        "    while True:\n",
        "      if i==21:\n",
        "        raise StopIteration\n",
        "      print(i,end=' ')\n",
        "      i+=1\n",
        "  except StopIteration as e:\n",
        "    print('\\n Program stopped')\n",
        "\n",
        "inifiniteNaturalNumbers()"
      ],
      "metadata": {
        "id": "Lc5ilNgNHoSx",
        "colab": {
          "base_uri": "https://localhost:8080/"
        },
        "outputId": "ce57443a-0c00-4533-d191-08b9967cca65"
      },
      "execution_count": 51,
      "outputs": [
        {
          "output_type": "stream",
          "name": "stdout",
          "text": [
            "1 2 3 4 5 6 7 8 9 10 11 12 13 14 15 16 17 18 19 20 \n",
            " Program stopped\n"
          ]
        }
      ]
    },
    {
      "cell_type": "code",
      "source": [],
      "metadata": {
        "id": "NwjdSNR3BAbT"
      },
      "execution_count": null,
      "outputs": []
    }
  ]
}