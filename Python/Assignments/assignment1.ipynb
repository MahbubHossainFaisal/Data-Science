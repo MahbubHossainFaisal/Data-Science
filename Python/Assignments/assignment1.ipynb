{
 "cells": [
  {
   "cell_type": "markdown",
   "id": "76af3787-cf24-494e-b62b-5cb20df68e59",
   "metadata": {},
   "source": [
    "Q1. Explain with an example each when to use a for loop and a while loop."
   ]
  },
  {
   "cell_type": "markdown",
   "id": "f1c194ce-68a1-40af-99a8-2fb5e2170c23",
   "metadata": {},
   "source": [
    "answer: \n",
    "\n",
    "when we travers any array or tuples or strings which has specific indexes that time we can use for loop.\n",
    "Here is an example of for loop"
   ]
  },
  {
   "cell_type": "code",
   "execution_count": 2,
   "id": "ae60bf42-bee5-401d-8291-db838ea0c207",
   "metadata": {},
   "outputs": [
    {
     "name": "stdout",
     "output_type": "stream",
     "text": [
      "10\n",
      "20\n",
      "40\n",
      "21\n",
      "43\n"
     ]
    }
   ],
   "source": [
    "marks =[10,20,40,21,43]\n",
    "\n",
    "for i in marks:\n",
    "    print(i)"
   ]
  },
  {
   "cell_type": "markdown",
   "id": "48d8ff0f-fe8f-4993-beb0-bbcdaf21aba5",
   "metadata": {},
   "source": [
    "When we have to repeatedly execute some code while a certain condition is true, then we use While loop."
   ]
  },
  {
   "cell_type": "code",
   "execution_count": 4,
   "id": "05f3c227-eea0-4082-9672-af2f6d86d3dc",
   "metadata": {},
   "outputs": [
    {
     "name": "stdout",
     "output_type": "stream",
     "text": [
      "9 is not found!\n",
      "9 is not found!\n",
      "9 is not found!\n",
      "9 is not found!\n",
      "9 is not found!\n",
      "9 is not found!\n",
      "9 is not found!\n",
      "9 is not found!\n",
      "9 is not found!\n",
      "9 is not found!\n",
      "9 is not found!\n",
      "9 is not found!\n",
      "9 is not found!\n",
      "9 is not found!\n"
     ]
    }
   ],
   "source": [
    "data = [1,2,4,2,1,5,3,1,3,5,7,8,3,1,9,1,2,4,6,8]\n",
    "\n",
    "i=0\n",
    "while data[i] != 9:\n",
    "    print('9 is not found!')\n",
    "    i+=1"
   ]
  },
  {
   "cell_type": "code",
   "execution_count": null,
   "id": "8343249c-91d3-40bf-a63c-28c1984ba36e",
   "metadata": {},
   "outputs": [],
   "source": []
  },
  {
   "cell_type": "markdown",
   "id": "107e46f7-2568-4e52-8c6f-157d1105deac",
   "metadata": {},
   "source": [
    "Q2. Write a python program to print the sum and product of the first 10 natural numbers using for\n",
    "and while loop."
   ]
  },
  {
   "cell_type": "code",
   "execution_count": 7,
   "id": "c2e76a12-a278-4145-b5d5-1e0a50579e43",
   "metadata": {},
   "outputs": [
    {
     "name": "stdout",
     "output_type": "stream",
     "text": [
      "sum:  55\n",
      "product:  3628800\n"
     ]
    }
   ],
   "source": [
    "sum=0\n",
    "product = 1\n",
    "\n",
    "for i in range(1,11):\n",
    "    sum = sum+i\n",
    "    product = product * i\n",
    "    \n",
    "print('sum: ',sum)\n",
    "print('product: ',product)"
   ]
  },
  {
   "cell_type": "code",
   "execution_count": null,
   "id": "a91d6af4-9613-4b6d-b1de-ae5164b4d7a5",
   "metadata": {},
   "outputs": [],
   "source": []
  },
  {
   "cell_type": "markdown",
   "id": "efd36274-9e4f-4803-81f3-73de702c71ff",
   "metadata": {},
   "source": [
    "Q3. Create a python program to compute the electricity bill for a household.\n",
    "The per-unit charges in rupees are as follows: For the first 100 units, the user will be charged Rs. 4.5 per\n",
    "unit, for the next 100 units, the user will be charged Rs. 6 per unit, and for the next 100 units, the user will\n",
    "be charged Rs. 10 per unit, After 300 units and above the user will be charged Rs. 20 per unit.\n",
    "You are required to take the units of electricity consumed in a month from the user as input.\n",
    "\n",
    "Your program must pass this test case: when the unit of electricity consumed by the user in a month is\n",
    "310, the total electricity bill should be 2250.\n"
   ]
  },
  {
   "cell_type": "code",
   "execution_count": 8,
   "id": "a34b630e-3d4f-4ee7-b9f2-371ae0ffdbc8",
   "metadata": {},
   "outputs": [
    {
     "name": "stdin",
     "output_type": "stream",
     "text": [
      "Please provide the unit consumption: 310\n"
     ]
    },
    {
     "name": "stdout",
     "output_type": "stream",
     "text": [
      "2250.0\n"
     ]
    }
   ],
   "source": [
    "unitConsumed = int(input('Please provide the unit consumption:'))\n",
    "cost = 0\n",
    "if unitConsumed <= 100:\n",
    "    cost = unitConsumed * 4.5\n",
    "\n",
    "elif unitConsumed >100 and unitConsumed <= 200:\n",
    "    firstcost = 4.5*100\n",
    "    remainedUnits = unitConsumed - 100\n",
    "    secondcost = 6*remainedUnits\n",
    "    \n",
    "    cost = firstcost + secondcost\n",
    "    \n",
    "elif unitConsumed >200 and unitConsumed <=300:\n",
    "    first = 4.5 * 100\n",
    "    second = 6 * 100\n",
    "    remainedUnits = unitConsumed - 200\n",
    "    third = 10* remainedUnits\n",
    "    \n",
    "    \n",
    "    cost = first + second + third\n",
    "    \n",
    "else:\n",
    "    first = 4.5 * 100\n",
    "    second = 6 * 100\n",
    "    third = 10*100\n",
    "    remainedUnits = unitConsumed - 300\n",
    "    fourth = 20 * remainedUnits\n",
    "    \n",
    "    cost = first + second + third + fourth\n",
    "    \n",
    "    \n",
    "print(cost)"
   ]
  },
  {
   "cell_type": "code",
   "execution_count": null,
   "id": "f2660fe2-01b0-4e5f-8cb0-bdd4bc5887ab",
   "metadata": {},
   "outputs": [],
   "source": []
  },
  {
   "cell_type": "markdown",
   "id": "efd2bf0a-df48-4ca1-95dc-d6296ca3dea3",
   "metadata": {},
   "source": [
    "Create a list of numbers from 1 to 100. Use for loop and while loop to calculate the cube of each\n",
    "number and if the cube of that number is divisible by 4 or 5 then append that number in a list and print\n",
    "that list."
   ]
  },
  {
   "cell_type": "code",
   "execution_count": 11,
   "id": "afe5954f-404e-441f-89de-f49bd8550406",
   "metadata": {},
   "outputs": [
    {
     "name": "stdout",
     "output_type": "stream",
     "text": [
      "[2, 4, 5, 6, 8, 10, 12, 14, 15, 16, 18, 20, 22, 24, 25, 26, 28, 30, 32, 34, 35, 36, 38, 40, 42, 44, 45, 46, 48, 50, 52, 54, 55, 56, 58, 60, 62, 64, 65, 66, 68, 70, 72, 74, 75, 76, 78, 80, 82, 84, 85, 86, 88, 90, 92, 94, 95, 96, 98, 100]\n"
     ]
    }
   ],
   "source": [
    "num = []\n",
    "\n",
    "for i in range(1,101):\n",
    "   if i*i*i % 4 == 0 or i*i*i % 5 == 0:\n",
    "    num.append(i)\n",
    "\n",
    "print(num)\n"
   ]
  },
  {
   "cell_type": "code",
   "execution_count": null,
   "id": "5475fb3f-1b7c-4817-b0cd-b8021d11ddf9",
   "metadata": {},
   "outputs": [],
   "source": []
  },
  {
   "cell_type": "markdown",
   "id": "6e040a4d-3578-495c-92fa-ee0eaa75b3cd",
   "metadata": {},
   "source": [
    "Write a program to filter count vowels in the below-given string.\n",
    "string = \"I want to become a data scientist\""
   ]
  },
  {
   "cell_type": "code",
   "execution_count": 14,
   "id": "dd504a4a-69e3-4cb1-9647-6385afd078e7",
   "metadata": {},
   "outputs": [
    {
     "name": "stdout",
     "output_type": "stream",
     "text": [
      "the number of vowels:  9\n"
     ]
    }
   ],
   "source": [
    "string = \"I want to become a data scientist\"\n",
    "\n",
    "count =0\n",
    "\n",
    "for i in string:\n",
    "    if i == 'a' or i=='e' or i=='í' or i=='o' or i == 'u':\n",
    "        count+=1\n",
    "    \n",
    "print('the number of vowels: ',count)\n",
    "        "
   ]
  },
  {
   "cell_type": "code",
   "execution_count": null,
   "id": "2bdd574b-bee0-4884-b608-254c715542d5",
   "metadata": {},
   "outputs": [],
   "source": []
  }
 ],
 "metadata": {
  "kernelspec": {
   "display_name": "Python 3 (ipykernel)",
   "language": "python",
   "name": "python3"
  },
  "language_info": {
   "codemirror_mode": {
    "name": "ipython",
    "version": 3
   },
   "file_extension": ".py",
   "mimetype": "text/x-python",
   "name": "python",
   "nbconvert_exporter": "python",
   "pygments_lexer": "ipython3",
   "version": "3.10.8"
  }
 },
 "nbformat": 4,
 "nbformat_minor": 5
}
