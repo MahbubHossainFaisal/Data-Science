{
 "cells": [
  {
   "cell_type": "markdown",
   "id": "0e439f9e-6239-4faa-b2bc-ae4b3c62297c",
   "metadata": {},
   "source": [
    "Q1. Which keyword is used to create a function? Create a function to return a list of odd numbers in the\n",
    "range of 1 to 25."
   ]
  },
  {
   "cell_type": "markdown",
   "id": "c8f4ceb0-da39-416e-858e-51821ab8508a",
   "metadata": {},
   "source": [
    "'def' keyword is used to create a function"
   ]
  },
  {
   "cell_type": "code",
   "execution_count": 1,
   "id": "6aa67b34-2e70-4815-86c7-f4dbd043c972",
   "metadata": {},
   "outputs": [
    {
     "name": "stdout",
     "output_type": "stream",
     "text": [
      "[1, 3, 5, 7, 9, 11, 13, 15, 17, 19, 21, 23, 25]\n"
     ]
    }
   ],
   "source": [
    "def odd():\n",
    "    ol = []\n",
    "    for i in range(1,26):\n",
    "        if i%2 != 0:\n",
    "            ol.append(i)\n",
    "    return ol\n",
    "\n",
    "\n",
    "oddList = odd()\n",
    "\n",
    "print(oddList)\n",
    "        "
   ]
  },
  {
   "cell_type": "code",
   "execution_count": null,
   "id": "d52399cd-405c-4f10-bbdf-09187309732a",
   "metadata": {},
   "outputs": [],
   "source": []
  },
  {
   "cell_type": "markdown",
   "id": "b351ae3b-2b3a-406c-a584-b654de567bc5",
   "metadata": {},
   "source": [
    "Q2. Why *args and **kwargs is used in some functions? Create a function each for *args and **kwargs\n",
    "to demonstrate their use."
   ]
  },
  {
   "cell_type": "markdown",
   "id": "d464a486-6194-4b0a-bfa4-9eb553f2e465",
   "metadata": {},
   "source": [
    "When we send multiple arguments in a function, that time we can receive all the arguments by using *args (inside a tuple) . For example"
   ]
  },
  {
   "cell_type": "code",
   "execution_count": 2,
   "id": "e5b347f6-f0a6-4935-af24-a10809ab5826",
   "metadata": {},
   "outputs": [
    {
     "name": "stdout",
     "output_type": "stream",
     "text": [
      "('faisal', 2, 2.42, 'harsh', True)\n",
      "faisal\n",
      "2\n",
      "2.42\n",
      "harsh\n",
      "True\n"
     ]
    }
   ],
   "source": [
    "def exm(*args):\n",
    "    print(args)\n",
    "    for i in args:\n",
    "        print(i)\n",
    "        \n",
    "        \n",
    "exm('faisal',2,2.42,'harsh',True)"
   ]
  },
  {
   "cell_type": "markdown",
   "id": "4092d775-2933-4b95-9386-e1f713883e47",
   "metadata": {},
   "source": [
    "When we send multiple key value pairs to a function, that time we can receive it by **kwargs (as a dictionary). For example"
   ]
  },
  {
   "cell_type": "code",
   "execution_count": 3,
   "id": "39b4819c-8257-49f8-923d-654e1d8e4a72",
   "metadata": {},
   "outputs": [
    {
     "name": "stdout",
     "output_type": "stream",
     "text": [
      "{'a': 1, 'b': 2, 'c': 3, 'd': 4, 'e': 5, 'faisal': 'me'}\n",
      "a :  1\n",
      "b :  2\n",
      "c :  3\n",
      "d :  4\n",
      "e :  5\n",
      "faisal :  me\n"
     ]
    }
   ],
   "source": [
    "def exm(**kwargs):\n",
    "    print(kwargs)\n",
    "    for key,value in kwargs.items():\n",
    "        print(key,': ',value)\n",
    "        \n",
    "\n",
    "        \n",
    "exm(a=1,b=2,c=3,d=4,e=5,faisal='me')"
   ]
  },
  {
   "cell_type": "code",
   "execution_count": null,
   "id": "aa23455b-6652-49e2-86e1-d776f1641332",
   "metadata": {},
   "outputs": [],
   "source": []
  },
  {
   "cell_type": "markdown",
   "id": "418f186e-a2d6-48a6-8bd4-62619260612f",
   "metadata": {},
   "source": [
    "Q3. What is an iterator in python? Name the method used to initialise the iterator object and the method\n",
    "used for iteration. Use these methods to print the first five elements of the given list [2, 4, 6, 8, 10, 12, 14,\n",
    "16, 18, 20]."
   ]
  },
  {
   "cell_type": "markdown",
   "id": "13f515ed-ed19-45ce-a99b-490f81b8b122",
   "metadata": {},
   "source": [
    "In python Iterator can iterate an iterable object. For example list,tuples,strings these are iterable objects. An iterator can loop through this objects. To initialise the iterator object we use iter() function.\n",
    "Then the method used for iteration is next() method."
   ]
  },
  {
   "cell_type": "code",
   "execution_count": 4,
   "id": "9214bb34-9dfc-4b46-aa25-d40a2b90c6e1",
   "metadata": {},
   "outputs": [
    {
     "name": "stdout",
     "output_type": "stream",
     "text": [
      "2\n",
      "4\n",
      "6\n",
      "8\n",
      "10\n"
     ]
    }
   ],
   "source": [
    "def evenReturn():\n",
    "    even = [2, 4, 6, 8, 10, 12, 14, 16, 18, 20]\n",
    "    obj = iter(even)\n",
    "    i=1\n",
    "    \n",
    "    while i<=5:\n",
    "        print(next(obj))\n",
    "        i+=1\n",
    "    \n",
    "\n",
    "evenReturn()\n",
    "\n"
   ]
  },
  {
   "cell_type": "code",
   "execution_count": null,
   "id": "c017d711-e478-48f4-8a49-3962a5c95463",
   "metadata": {},
   "outputs": [],
   "source": []
  },
  {
   "cell_type": "markdown",
   "id": "80055ec4-5cae-45c8-8f92-10afcabcc600",
   "metadata": {},
   "source": [
    "Q4. What is a generator function in python? Why yield keyword is used? Give an example of a generator\n",
    "function."
   ]
  },
  {
   "cell_type": "markdown",
   "id": "aa94393a-4541-4759-8c5f-abf86e407563",
   "metadata": {},
   "source": [
    "A generator is a function that generates a sequence of value on the fly. The main purpose of using generator is, we don't have to load lots of data together as (lists,tuples,strings)\n",
    "at a time, we can load data one by one and use them. So it improves efficiency and saves memory usage.\n",
    "\n",
    "Yield keyword works as return. But it doesn't come out of the function immediately like return. Rather it can return as much value as wanted by the user one by one. So suppose if a list contains 1-100 and user wanted first 20 values,\n",
    "generator will take values from the list one by one (1 then 2 then 3 like that) and yield will return 1 then 2 then 3 and so on. Like this first 20 values will be returned to the user."
   ]
  },
  {
   "cell_type": "code",
   "execution_count": 8,
   "id": "6e171b09-ba0c-49b1-8f63-4b14b6b9a6b5",
   "metadata": {},
   "outputs": [
    {
     "name": "stdout",
     "output_type": "stream",
     "text": [
      "1\n",
      "2\n",
      "3\n",
      "4\n",
      "5\n",
      "6\n",
      "7\n",
      "8\n",
      "9\n",
      "10\n",
      "11\n",
      "12\n",
      "13\n",
      "14\n",
      "15\n",
      "16\n",
      "17\n",
      "18\n",
      "19\n",
      "20\n"
     ]
    }
   ],
   "source": [
    "def generator():\n",
    "    num =[i for i in range(1,101)]\n",
    "    \n",
    "    for i in num:\n",
    "        yield i\n",
    "\n",
    "gen = generator()\n",
    "\n",
    "for i in range(1,21):\n",
    "    print(next(gen))\n"
   ]
  },
  {
   "cell_type": "code",
   "execution_count": null,
   "id": "f04f210f-d92f-4d88-ba3b-284564fb535f",
   "metadata": {},
   "outputs": [],
   "source": []
  },
  {
   "cell_type": "markdown",
   "id": "8c386b0a-33c9-4c90-9608-0574b87233b7",
   "metadata": {},
   "source": [
    "Q5. Create a generator function for prime numbers less than 1000. Use the next() method to print the\n",
    "first 20 prime numbers."
   ]
  },
  {
   "cell_type": "code",
   "execution_count": 16,
   "id": "9cd573d0-33c7-426e-901d-32f08354742e",
   "metadata": {},
   "outputs": [
    {
     "name": "stdout",
     "output_type": "stream",
     "text": [
      "2\n",
      "3\n",
      "5\n",
      "7\n",
      "11\n",
      "13\n",
      "17\n",
      "19\n",
      "23\n",
      "29\n",
      "31\n",
      "37\n",
      "41\n",
      "43\n",
      "47\n",
      "53\n",
      "59\n",
      "61\n",
      "67\n",
      "71\n"
     ]
    }
   ],
   "source": [
    "def primeNumbers():\n",
    "    yield 2 # 2 is a prime number\n",
    "    for i in range(3,1000,2):\n",
    "        isPrime = True\n",
    "        for j in range(3,i,2):\n",
    "            if i%j == 0:\n",
    "                isPrime = False\n",
    "                break\n",
    "        if isPrime:\n",
    "            yield i\n",
    "            \n",
    "            \n",
    "primes = primeNumbers()\n",
    "\n",
    "for i in range(20):\n",
    "    print(next(primes))\n",
    "        "
   ]
  },
  {
   "cell_type": "code",
   "execution_count": null,
   "id": "cc843ab2-686b-41ae-be1c-d7f563bffcb1",
   "metadata": {},
   "outputs": [],
   "source": []
  },
  {
   "cell_type": "markdown",
   "id": "735f109c-aea2-4a8a-b238-fae1789ae3bb",
   "metadata": {},
   "source": [
    "Q6. Write a python program to print the first 10 Fibonacci numbers using a while loop."
   ]
  },
  {
   "cell_type": "code",
   "execution_count": 18,
   "id": "cdad1edd-7e8d-46ad-884e-f1bdf4835795",
   "metadata": {},
   "outputs": [
    {
     "name": "stdout",
     "output_type": "stream",
     "text": [
      "0\n",
      "1\n",
      "1\n",
      "2\n",
      "3\n",
      "5\n",
      "8\n",
      "13\n",
      "21\n",
      "34\n"
     ]
    }
   ],
   "source": [
    "def fib():\n",
    "    a,b=0,1\n",
    "    \n",
    "    i=1\n",
    "    while i<=10:\n",
    "        print(a)\n",
    "        c=a+b\n",
    "        a=b\n",
    "        b=c\n",
    "        \n",
    "        i+=1\n",
    "\n",
    "        \n",
    "fib()"
   ]
  },
  {
   "cell_type": "code",
   "execution_count": null,
   "id": "3190d907-538e-4238-a0db-6e18f1f0db9c",
   "metadata": {},
   "outputs": [],
   "source": []
  },
  {
   "cell_type": "markdown",
   "id": "4be751b1-7134-40a9-845e-575779400ac8",
   "metadata": {},
   "source": [
    "Q7. Write a List Comprehension to iterate through the given string: ‘pwskills’.\n",
    "Expected output: ['p', 'w', 's', 'k', 'i', 'l', 'l', 's']"
   ]
  },
  {
   "cell_type": "code",
   "execution_count": 20,
   "id": "98f02f2b-57b7-4496-b862-6c632f8d3d2a",
   "metadata": {},
   "outputs": [
    {
     "data": {
      "text/plain": [
       "['p', 'w', 's', 'k', 'i', 'l', 'l', 's']"
      ]
     },
     "execution_count": 20,
     "metadata": {},
     "output_type": "execute_result"
    }
   ],
   "source": [
    "string = 'pwskills'\n",
    "\n",
    "output = [i for i in string]\n",
    "output"
   ]
  },
  {
   "cell_type": "code",
   "execution_count": null,
   "id": "228cc5b4-4785-451e-ad04-49ee2e8701fb",
   "metadata": {},
   "outputs": [],
   "source": []
  },
  {
   "cell_type": "markdown",
   "id": "efd6f2e1-549a-457f-ae63-42196c52ed61",
   "metadata": {},
   "source": [
    "Q8. Write a python program to check whether a given number is Palindrome or not using a while loop."
   ]
  },
  {
   "cell_type": "code",
   "execution_count": 28,
   "id": "3261b53e-ab6f-48b8-aeca-a476511f3600",
   "metadata": {},
   "outputs": [
    {
     "name": "stdin",
     "output_type": "stream",
     "text": [
      "provide a number: 112211\n"
     ]
    },
    {
     "name": "stdout",
     "output_type": "stream",
     "text": [
      "given number is a pallindrome\n"
     ]
    }
   ],
   "source": [
    "num = int(input('provide a positive number:'))\n",
    "lnum = []\n",
    "while num != 0:\n",
    "    x= int(num % 10)\n",
    "    num = int(num / 10)\n",
    "    lnum.append(x)\n",
    "    \n",
    "low = 0\n",
    "high = len(lnum)-1\n",
    "\n",
    "isPallindrome = True\n",
    "while low <= high:\n",
    "    \n",
    "    if lnum[low] == lnum[high]:\n",
    "        high -= 1\n",
    "        low +=1\n",
    "    else:\n",
    "        isPallindrome = False\n",
    "        break\n",
    "\n",
    "\n",
    "if isPallindrome:\n",
    "    print('given number is a pallindrome')\n",
    "else:\n",
    "    print('given number is not a pallindrome')\n",
    "    \n",
    "    \n",
    "    "
   ]
  },
  {
   "cell_type": "code",
   "execution_count": null,
   "id": "b66b1d5e-38fc-4a89-bef2-bb95aabc7026",
   "metadata": {},
   "outputs": [],
   "source": []
  },
  {
   "cell_type": "markdown",
   "id": "727da8b5-889f-4191-a9e8-1be794dcea61",
   "metadata": {},
   "source": [
    "Q9. Write a code to print odd numbers from 1 to 100 using list comprehension.\n",
    "Note: Use a list comprehension to create a list from 1 to 100 and use another List comprehension to filter\n",
    "out odd numbers."
   ]
  },
  {
   "cell_type": "code",
   "execution_count": 30,
   "id": "52e85b1f-d801-4feb-844b-7fed501e8d07",
   "metadata": {},
   "outputs": [
    {
     "name": "stdout",
     "output_type": "stream",
     "text": [
      "odd numbers in 1-100 range:  [1, 3, 5, 7, 9, 11, 13, 15, 17, 19, 21, 23, 25, 27, 29, 31, 33, 35, 37, 39, 41, 43, 45, 47, 49, 51, 53, 55, 57, 59, 61, 63, 65, 67, 69, 71, 73, 75, 77, 79, 81, 83, 85, 87, 89, 91, 93, 95, 97, 99]\n"
     ]
    }
   ],
   "source": [
    "nums = [i for i in range(1,101)]\n",
    "\n",
    "odds = [i for i in nums if i%2 !=0]\n",
    "\n",
    "print('odd numbers in 1-100 range: ',odds)"
   ]
  },
  {
   "cell_type": "code",
   "execution_count": null,
   "id": "ed87e3d1-2023-4ff2-ad17-e206ee2a4161",
   "metadata": {},
   "outputs": [],
   "source": []
  }
 ],
 "metadata": {
  "kernelspec": {
   "display_name": "Python 3 (ipykernel)",
   "language": "python",
   "name": "python3"
  },
  "language_info": {
   "codemirror_mode": {
    "name": "ipython",
    "version": 3
   },
   "file_extension": ".py",
   "mimetype": "text/x-python",
   "name": "python",
   "nbconvert_exporter": "python",
   "pygments_lexer": "ipython3",
   "version": "3.10.8"
  }
 },
 "nbformat": 4,
 "nbformat_minor": 5
}
