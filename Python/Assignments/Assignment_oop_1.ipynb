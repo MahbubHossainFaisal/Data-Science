{
 "cells": [
  {
   "cell_type": "markdown",
   "id": "0b899d77-438b-48b3-baf9-ffb9b774d7a5",
   "metadata": {},
   "source": [
    "Q1. Explain Class and Object with respect to Object-Oriented Programming. Give a suitable example."
   ]
  },
  {
   "cell_type": "markdown",
   "id": "52beb3ae-9e72-45c2-ac10-50378c67b1a9",
   "metadata": {},
   "source": [
    "A class is a blueprint of an object. A class can contain various attributes and methods which every objects of that class can use.\n",
    "An object is the instance of a class which can access the attributes and methods\n",
    "and work accordingly."
   ]
  },
  {
   "cell_type": "code",
   "execution_count": 3,
   "id": "ee36a81c-95bc-4209-882c-2c935d46bc96",
   "metadata": {},
   "outputs": [
    {
     "name": "stdout",
     "output_type": "stream",
     "text": [
      "Brock  can teach:  Math\n",
      "Brock  can teach:  Physics\n",
      "Brock  can teach:  Chemistry\n"
     ]
    }
   ],
   "source": [
    "class Teacher:\n",
    "    def __init__(self,name,age,courses):\n",
    "        self.name = name\n",
    "        self.age = age\n",
    "        self.courses = courses\n",
    "        \n",
    "        \n",
    "    def expertise(self):\n",
    "        for i in self.courses:\n",
    "            print(self.name,' can teach: ',i)\n",
    "            \n",
    "            \n",
    "            \n",
    "Brock = Teacher('Brock',29,['Math','Physics','Chemistry'])\n",
    "\n",
    "Brock.expertise()\n",
    "\n",
    "        "
   ]
  },
  {
   "cell_type": "code",
   "execution_count": null,
   "id": "213b9786-39a8-4993-92a9-2d696f82224d",
   "metadata": {},
   "outputs": [],
   "source": []
  },
  {
   "cell_type": "markdown",
   "id": "3d99b1bd-167d-4346-b2bc-a530e10a1287",
   "metadata": {},
   "source": [
    "Q2. Name the four pillars of OOPs."
   ]
  },
  {
   "cell_type": "markdown",
   "id": "e9a218be-63c9-43ac-98c7-f9ab5d8b61d9",
   "metadata": {},
   "source": [
    "1) Encapsulation\n",
    "2) Inheritance\n",
    "3) Abstraction\n",
    "4) Polymorphism"
   ]
  },
  {
   "cell_type": "code",
   "execution_count": null,
   "id": "c4083c2e-b311-481b-b6a9-537cc08a531d",
   "metadata": {},
   "outputs": [],
   "source": []
  },
  {
   "cell_type": "markdown",
   "id": "1cfb6f83-a9f7-493f-9ac1-1ed2b09592d0",
   "metadata": {},
   "source": [
    "Q3. Explain why the __init__() function is used. Give a suitable example."
   ]
  },
  {
   "cell_type": "markdown",
   "id": "1b7b6a77-64a6-48b0-9140-9cd87b36fd00",
   "metadata": {},
   "source": [
    "The __init__() method in python used as like constructors in other programming language.\n",
    "While the creation of objects this method is needed to initialize the values that the object might required while being created.\n",
    "Also with __init__() method we can perform some initial tasks before the object is ready to use."
   ]
  },
  {
   "cell_type": "code",
   "execution_count": 9,
   "id": "f1f0b5cb-5d78-49a6-b87a-160ece5d22e0",
   "metadata": {},
   "outputs": [
    {
     "name": "stdout",
     "output_type": "stream",
     "text": [
      "29000000\n"
     ]
    }
   ],
   "source": [
    "class Car:\n",
    "    def __init__(self,make,model,year,color,price):\n",
    "        self.make = make\n",
    "        self.model = model\n",
    "        self.year = year \n",
    "        self.color = color\n",
    "        self.price = price\n",
    "        \n",
    "        \n",
    "Accord = Car('Honda','Sport','2023','Blue',29000000)\n",
    "\n",
    "print(Accord.price)"
   ]
  },
  {
   "cell_type": "code",
   "execution_count": null,
   "id": "4bc8dfc1-b955-41b5-b4c2-77ba9d296a7a",
   "metadata": {},
   "outputs": [],
   "source": []
  },
  {
   "cell_type": "markdown",
   "id": "3bb235f0-dc54-44ba-a22f-f7be380c8022",
   "metadata": {},
   "source": [
    "Q4. Why self is used in OOPs?"
   ]
  },
  {
   "cell_type": "markdown",
   "id": "ab8d7f77-2768-42e7-b729-e7b059cff66e",
   "metadata": {},
   "source": [
    "Self itself is the object. In the class itself, all methods can't communicate with each other if there is no object connection in between.\n",
    "So it's the object who can connect different attributes and methods inside the class. That's why always when we call a method or attribute inside the class\n",
    "from outside using the help of the object, the first thing we send as the parameter is the object itself and in the class that parameter is called as 'Self\n",
    "'"
   ]
  },
  {
   "cell_type": "code",
   "execution_count": 11,
   "id": "03b8fc05-ba37-4e5e-adfe-c2e47608da95",
   "metadata": {},
   "outputs": [
    {
     "name": "stdout",
     "output_type": "stream",
     "text": [
      "The color of the Accord car:  Blue\n"
     ]
    }
   ],
   "source": [
    "class Car:\n",
    "    def __init__(self,make,model,year,color,price):\n",
    "        self.make = make\n",
    "        self.model = model\n",
    "        self.year = year \n",
    "        self.color = color\n",
    "        self.price = price\n",
    "    \n",
    "    def manufacturer(self):\n",
    "        return self.make\n",
    "    \n",
    "    def color(self):\n",
    "        return self.color\n",
    "        \n",
    "Accord = Car('Honda','Sport','2023','Blue',29000000)\n",
    "\n",
    "print('The color of the Accord car: ',Accord.color)"
   ]
  },
  {
   "cell_type": "code",
   "execution_count": null,
   "id": "dbb235ae-a65c-4e79-a2c9-19bc532c1d97",
   "metadata": {},
   "outputs": [],
   "source": []
  },
  {
   "cell_type": "markdown",
   "id": "d5cff085-8cde-4a95-99a4-b21ceb82d39f",
   "metadata": {},
   "source": [
    "Q5. What is inheritance? Give an example for each type of inheritance.\n"
   ]
  },
  {
   "cell_type": "markdown",
   "id": "af991b2d-c957-4f1c-a66c-1f91b707b2d4",
   "metadata": {},
   "source": [
    "Inheritance is a technique of sharing attributes and methods of one classes to another.It allows us to create some derrived classes who uses some new methods and attributes allong with some\n",
    "existing methods and attributes of an existing class."
   ]
  },
  {
   "cell_type": "markdown",
   "id": "7c26dcee-4120-4298-b88b-1bb5e775325f",
   "metadata": {},
   "source": [
    "There are 4 kinds of inheritance.\n",
    "\n",
    "1) Single inheritance\n",
    "2) Multiple inheritance\n",
    "3) Hierarchical inheritance\n",
    "4) Multilevel inheritance\n"
   ]
  },
  {
   "cell_type": "markdown",
   "id": "6e944660-3ba1-4634-b131-0b10375bbd36",
   "metadata": {},
   "source": [
    "Single Inheritacne:\n",
    "\n",
    "A new class can be derrived from a existing class."
   ]
  },
  {
   "cell_type": "code",
   "execution_count": 20,
   "id": "3240c526-bc45-4088-b987-32f76e8d2d58",
   "metadata": {},
   "outputs": [
    {
     "name": "stdout",
     "output_type": "stream",
     "text": [
      "Honda\n",
      "turbocharged-4\n"
     ]
    }
   ],
   "source": [
    "class Car:\n",
    "    def __init__(self, make, model, year, color, price):\n",
    "        self.make = make\n",
    "        self.model = model\n",
    "        self.year = year \n",
    "        self.color = color\n",
    "        self.price = price\n",
    "    \n",
    "    def get_manufacturer(self):\n",
    "        return self.make\n",
    "    \n",
    "    def get_color(self):\n",
    "        return self.color\n",
    "    \n",
    "    \n",
    "class Accord(Car):\n",
    "    def __init__(self, make, model, year, color, price, engine):\n",
    "        super().__init__(make, model, year, color, price)\n",
    "        self.engine = engine\n",
    "        \n",
    "    def get_engine(self):\n",
    "        return self.engine\n",
    "    \n",
    "\n",
    "obj = Accord('Honda', 'sports', 2021, 'black', 20303202, 'turbocharged-4')\n",
    "\n",
    "print(obj.get_manufacturer())\n",
    "print(obj.get_engine())"
   ]
  },
  {
   "cell_type": "code",
   "execution_count": null,
   "id": "e1a9ec85-de79-4f5c-b81c-3eb506963125",
   "metadata": {},
   "outputs": [],
   "source": []
  },
  {
   "cell_type": "markdown",
   "id": "9b12ea44-7197-4c5c-979f-664fd3784c7e",
   "metadata": {},
   "source": [
    "Multiple Inheritance:\n",
    "    \n",
    "    When a class inherits more than 1 class, then it is called multiple inheritance.\n"
   ]
  },
  {
   "cell_type": "code",
   "execution_count": 23,
   "id": "4bf5ef07-badc-4126-a0a1-9ea9475aa718",
   "metadata": {},
   "outputs": [
    {
     "name": "stdout",
     "output_type": "stream",
     "text": [
      "name:  John Cena  finisher:  AA\n",
      "name:  John Cena  movie: FF10\n"
     ]
    }
   ],
   "source": [
    "class Wrestler:\n",
    "    def __init__(self, name, finisher):\n",
    "        self.name = name\n",
    "        self.finisher = finisher\n",
    "\n",
    "    def intro(self):\n",
    "        print('name: ',self.name,' finisher: ',self.finisher )\n",
    "\n",
    "class Actor:\n",
    "    def __init__(self, name, movie):\n",
    "        self.name = name\n",
    "        self.movie = movie\n",
    "\n",
    "    def intro(self):\n",
    "        print('name: ',self.name,' movie:',self.movie)\n",
    "\n",
    "class WrestlingActor(Wrestler, Actor):\n",
    "    def __init__(self, name, finisher, movie):\n",
    "        Wrestler.__init__(self, name, finisher)\n",
    "        Actor.__init__(self, name, movie)\n",
    "\n",
    "    def intro(self):\n",
    "        Wrestler.intro(self)\n",
    "        Actor.intro(self)\n",
    "\n",
    "superstar = WrestlingActor(\"John Cena\", \"AA\", \"FF10\")\n",
    "superstar.intro()"
   ]
  },
  {
   "cell_type": "code",
   "execution_count": null,
   "id": "9e951262-5598-4090-b3da-1dae0ee5a1f4",
   "metadata": {},
   "outputs": [],
   "source": []
  },
  {
   "cell_type": "markdown",
   "id": "c9b6886a-673b-46ae-95ab-1794216ae548",
   "metadata": {},
   "source": [
    "Hierarchical inheritance: In hierarchical inheritance, a new class is derived from a single base class, and multiple derived classes are created from the same base class."
   ]
  },
  {
   "cell_type": "code",
   "execution_count": 27,
   "id": "a3b6177a-8f1b-452c-ba78-0f7a5fba7eed",
   "metadata": {},
   "outputs": [
    {
     "name": "stdout",
     "output_type": "stream",
     "text": [
      "Honda\n",
      "turbocharged-4\n",
      "BMW-Group\n",
      "600HP\n"
     ]
    }
   ],
   "source": [
    "class Car:\n",
    "    def __init__(self, make, model, year, color, price):\n",
    "        self.make = make\n",
    "        self.model = model\n",
    "        self.year = year \n",
    "        self.color = color\n",
    "        self.price = price\n",
    "    \n",
    "    def get_manufacturer(self):\n",
    "        return self.make\n",
    "    \n",
    "    def get_color(self):\n",
    "        return self.color\n",
    "    \n",
    "    \n",
    "class Accord(Car):\n",
    "    def __init__(self, make, model, year, color, price, engine):\n",
    "        super().__init__(make, model, year, color, price)\n",
    "        self.engine = engine\n",
    "        \n",
    "    def get_engine(self):\n",
    "        return self.engine\n",
    "\n",
    "\n",
    "class BMW(Car):\n",
    "    def __init__(self, make, model, year, color, price, power):\n",
    "        super().__init__(make, model, year, color, price)\n",
    "        self.power = power\n",
    "        \n",
    "    def get_Power(self):\n",
    "        return self.power\n",
    "    \n",
    "    \n",
    "obj1 = Accord('Honda', 'sports', 2021, 'black', 20303202, 'turbocharged-4')\n",
    "\n",
    "obj2 = BMW('BMW-Group', 'sports', 2021, 'blue', 20000002, '600HP')\n",
    "\n",
    "print(obj1.get_manufacturer())\n",
    "print(obj1.get_engine())\n",
    "\n",
    "print(obj2.get_manufacturer())\n",
    "print(obj2.get_Power())"
   ]
  },
  {
   "cell_type": "markdown",
   "id": "b77ed7eb-32f6-4fd9-b437-76545b9a6dc5",
   "metadata": {},
   "source": [
    "Multilevel inheritance:\n",
    "    When suppose class B inherits properties from class A, and class C inherits property from class B, that relationship is called multilevel inheritance. So as a result,\n",
    "    class B can access the attributes and methods of class A and also class C can access the attributes and methods of both class A,B."
   ]
  },
  {
   "cell_type": "code",
   "execution_count": 28,
   "id": "14ef3420-36c2-4d1d-81d3-541e49067dbf",
   "metadata": {},
   "outputs": [
    {
     "name": "stdout",
     "output_type": "stream",
     "text": [
      "name:  Randy Orton  finisher:  RkO\n",
      "nickname:  The Viper\n",
      "title:  WWE Champion\n"
     ]
    }
   ],
   "source": [
    "class Wrestler:\n",
    "    def __init__(self, name, finisher):\n",
    "        self.name = name\n",
    "        self.finisher = finisher\n",
    "\n",
    "    def intro(self):\n",
    "        print('name: ',self.name,' finisher: ',self.finisher )\n",
    "\n",
    "class Superstar(Wrestler):\n",
    "    def __init__(self, name, finisher, nickname):\n",
    "        super().__init__(name, finisher)\n",
    "        self.nickname = nickname\n",
    "\n",
    "    def intro(self):\n",
    "        super().intro()\n",
    "        print('nickname: ',self.nickname)\n",
    "\n",
    "class Champion(Superstar):\n",
    "    def __init__(self, name, finisher, nickname, title):\n",
    "        super().__init__(name, finisher, nickname)\n",
    "        self.title = title\n",
    "\n",
    "    def intro(self):\n",
    "        super().intro()\n",
    "        print('title: ',self.title)\n",
    "\n",
    "champ = Champion(\"Randy Orton\", \"RkO\", \"The Viper\", \"WWE Champion\")\n",
    "champ.intro()"
   ]
  },
  {
   "cell_type": "code",
   "execution_count": null,
   "id": "590fd97e-86a9-40c5-bb3c-3907d014ed11",
   "metadata": {},
   "outputs": [],
   "source": []
  }
 ],
 "metadata": {
  "kernelspec": {
   "display_name": "Python 3 (ipykernel)",
   "language": "python",
   "name": "python3"
  },
  "language_info": {
   "codemirror_mode": {
    "name": "ipython",
    "version": 3
   },
   "file_extension": ".py",
   "mimetype": "text/x-python",
   "name": "python",
   "nbconvert_exporter": "python",
   "pygments_lexer": "ipython3",
   "version": "3.10.8"
  }
 },
 "nbformat": 4,
 "nbformat_minor": 5
}
