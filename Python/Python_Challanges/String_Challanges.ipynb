{
 "cells": [
  {
   "cell_type": "markdown",
   "id": "0a30c638-04c9-4b04-a8fd-5cc2ac875449",
   "metadata": {},
   "source": [
    "challange 1"
   ]
  },
  {
   "cell_type": "code",
   "execution_count": 7,
   "id": "5afe12a5-1a10-4842-8d6c-bace414fdade",
   "metadata": {},
   "outputs": [
    {
     "name": "stdout",
     "output_type": "stream",
     "text": [
      "abcdghimopr\n"
     ]
    }
   ],
   "source": [
    "str1 = 'bghiamporcd'\n",
    "\n",
    "ss = sorted(str1)\n",
    "ans =''.join(ss)\n",
    "    \n",
    "print(ans)"
   ]
  },
  {
   "cell_type": "markdown",
   "id": "b6cd0d9c-bace-48d0-9307-834fc6b380fc",
   "metadata": {},
   "source": [
    "challange 2"
   ]
  },
  {
   "cell_type": "code",
   "execution_count": 11,
   "id": "d66dea98-9c62-4005-858b-1d3b6cf2a066",
   "metadata": {},
   "outputs": [
    {
     "name": "stdout",
     "output_type": "stream",
     "text": [
      "Product Name........Price\n"
     ]
    },
    {
     "name": "stdin",
     "output_type": "stream",
     "text": [
      "Please enter product name:  chal\n",
      "Please enter the price:  32\n"
     ]
    },
    {
     "name": "stdout",
     "output_type": "stream",
     "text": [
      "chal...................32\n"
     ]
    }
   ],
   "source": [
    "print('Product Name........Price')\n",
    "name = input('Please enter product name: ')\n",
    "price = input('Please enter the price: ')\n",
    "\n",
    "nameLen = len(name)\n",
    "priceLen = len(price)\n",
    "\n",
    "remaining = 25 - (nameLen+priceLen)\n",
    "\n",
    "ans = name + remaining*'.' + price\n",
    "\n",
    "print(ans)"
   ]
  },
  {
   "cell_type": "markdown",
   "id": "b4cae74d-25a1-410c-b14a-017c1cafa640",
   "metadata": {},
   "source": [
    "Challange 3"
   ]
  },
  {
   "cell_type": "code",
   "execution_count": 13,
   "id": "c6abcf1d-cb88-404a-bd3c-19be37f41c85",
   "metadata": {},
   "outputs": [
    {
     "name": "stdin",
     "output_type": "stream",
     "text": [
      "Enter password:  Pass2\n",
      "Confirm password:  pass2\n"
     ]
    },
    {
     "name": "stdout",
     "output_type": "stream",
     "text": [
      "Check for password cases.\n"
     ]
    }
   ],
   "source": [
    "pass1 = input('Enter password: ')\n",
    "pass2 = input('Confirm password: ')\n",
    "\n",
    "\n",
    "if pass1 != pass2:\n",
    "    if pass1.lower() == pass2.lower():\n",
    "        print('Check for password cases.')\n",
    "    else:\n",
    "        print('Please provide accurate password!')\n",
    "else:\n",
    "    print('Password created successfully!')"
   ]
  },
  {
   "cell_type": "markdown",
   "id": "9e28cd1b-c3d6-43e1-99eb-a8bbae7e618d",
   "metadata": {},
   "source": [
    "casefold() vs lower()\n",
    "\n",
    "In Python, both casefold() and lower() are string methods that return a new string with all the characters in the original string converted to lowercase. However, there are some differences between these two methods:\n",
    "\n",
    "casefold() is more aggressive in converting characters to lowercase than lower(). It converts not only the standard ASCII characters but also any characters that have equivalent lowercase forms in a different alphabet, such as German umlauts or Greek letters. This makes casefold() suitable for case-insensitive comparisons or when working with strings that may contain characters from different alphabets.\n",
    "\n",
    "lower() is less aggressive than casefold(). It only converts the standard ASCII characters to lowercase and does not perform any additional conversions. This makes lower() suitable for general-purpose lowercase string operations.\n",
    "\n",
    "casefold() may produce a different result than lower() for certain Unicode characters that have lowercase equivalents in non-Latin alphabets. For example, the Turkish \"I\" (İ) character has a lowercase equivalent \"i\" (ı) in Turkish, but lower() does not convert it to the correct lowercase form, while casefold() does."
   ]
  },
  {
   "cell_type": "code",
   "execution_count": null,
   "id": "cb4ddb4a-f50f-447f-ad8c-0dd492f19ddb",
   "metadata": {},
   "outputs": [],
   "source": []
  },
  {
   "cell_type": "markdown",
   "id": "d3cc2087-5e24-4978-b8bf-9b6f216c3ce8",
   "metadata": {},
   "source": [
    "challange 4: show credit card numbers"
   ]
  },
  {
   "cell_type": "code",
   "execution_count": 19,
   "id": "18f76b7e-7320-4392-aaa2-cf08183d6dba",
   "metadata": {},
   "outputs": [
    {
     "name": "stdin",
     "output_type": "stream",
     "text": [
      "Insert credit card number:  1232 4422 5432 1234\n"
     ]
    },
    {
     "name": "stdout",
     "output_type": "stream",
     "text": [
      "Credit card number:  **** **** **** 1234\n"
     ]
    }
   ],
   "source": [
    "cc = input('Insert credit card number: ')\n",
    "\n",
    "lfd = cc[15::]\n",
    "\n",
    "print('Credit card number: ','**** **** **** ' + lfd)"
   ]
  },
  {
   "cell_type": "code",
   "execution_count": null,
   "id": "adc914ec-5120-4f63-bf05-b442a0fd5c1a",
   "metadata": {},
   "outputs": [],
   "source": []
  },
  {
   "cell_type": "markdown",
   "id": "513d63d3-e733-475f-a88e-3686e91e4b0f",
   "metadata": {},
   "source": [
    "challange 5: find the domain name and user id from email"
   ]
  },
  {
   "cell_type": "code",
   "execution_count": 23,
   "id": "5d691213-69bf-4c74-8efc-434ee9fe8fe1",
   "metadata": {},
   "outputs": [
    {
     "name": "stdin",
     "output_type": "stream",
     "text": [
      "Insert your mail address :  mahbub.hossain@gmail.com\n"
     ]
    },
    {
     "name": "stdout",
     "output_type": "stream",
     "text": [
      "user id:  mahbub.hossain\n",
      "domain name:  gmail.com\n"
     ]
    }
   ],
   "source": [
    "email = input('Insert your mail address : ')\n",
    "\n",
    "index = email.index('@')\n",
    "\n",
    "uid = email[:index]\n",
    "dn = email[index+1::]\n",
    "\n",
    "print('user id: ',uid)\n",
    "print('domain name: ',dn)"
   ]
  },
  {
   "cell_type": "code",
   "execution_count": null,
   "id": "b48e8c8e-1462-447b-86bc-52473153656a",
   "metadata": {},
   "outputs": [],
   "source": []
  },
  {
   "cell_type": "markdown",
   "id": "8b88c02c-04ee-4aea-b6f2-f7db4897bec2",
   "metadata": {},
   "source": [
    "challange 6: Convert a given string to pallindrome"
   ]
  },
  {
   "cell_type": "code",
   "execution_count": 25,
   "id": "13eb51a3-d2ad-4f45-8b99-72da3eddd016",
   "metadata": {},
   "outputs": [
    {
     "name": "stdin",
     "output_type": "stream",
     "text": [
      "Enter the string:  madam\n"
     ]
    },
    {
     "name": "stdout",
     "output_type": "stream",
     "text": [
      "madam\n"
     ]
    }
   ],
   "source": [
    "st = input('Enter the string: ')\n",
    "\n",
    "st2 = st[::-1]\n",
    "\n",
    "if st == st2:\n",
    "    print(st)\n",
    "else:\n",
    "    print(st+st2)"
   ]
  },
  {
   "cell_type": "code",
   "execution_count": null,
   "id": "ed571e3c-99df-4f19-a5fe-23bebe37622a",
   "metadata": {},
   "outputs": [],
   "source": []
  },
  {
   "cell_type": "markdown",
   "id": "06c42037-52a7-4c5e-bbb3-16a90acdaebb",
   "metadata": {},
   "source": [
    "challange 7: find day,month,year from given date (dd/mm/yy) format "
   ]
  },
  {
   "cell_type": "code",
   "execution_count": 29,
   "id": "85dc99be-2636-4220-8a91-52f80396e200",
   "metadata": {},
   "outputs": [
    {
     "name": "stdin",
     "output_type": "stream",
     "text": [
      "Provide the date:  3/2/2021\n"
     ]
    },
    {
     "name": "stdout",
     "output_type": "stream",
     "text": [
      "['3', '2', '2021']\n",
      "day:  3  month:  2  year:  2021\n"
     ]
    }
   ],
   "source": [
    "date = input('Provide the date: ')\n",
    "\n",
    "dateArr = date.split('/')\n",
    "print(dateArr)\n",
    "\n",
    "day = int(dateArr[0])\n",
    "month = int(dateArr[1])\n",
    "year = int(dateArr[2])\n",
    "\n",
    "print('day: ',day,' month: ',month, ' year: ',year)"
   ]
  },
  {
   "cell_type": "code",
   "execution_count": null,
   "id": "053e4238-b285-4d8d-a1b8-3b35067565e0",
   "metadata": {},
   "outputs": [],
   "source": []
  },
  {
   "cell_type": "markdown",
   "id": "5a4b7e5c-bc70-4436-919e-4c5fcda005ba",
   "metadata": {},
   "source": [
    "challange 8: Upper case then lower"
   ]
  },
  {
   "cell_type": "code",
   "execution_count": 32,
   "id": "fc4b269f-77e8-4225-8f8a-6dff056bbf84",
   "metadata": {},
   "outputs": [
    {
     "name": "stdin",
     "output_type": "stream",
     "text": [
      "Provide input:  faisalShanTa\n"
     ]
    },
    {
     "name": "stdout",
     "output_type": "stream",
     "text": [
      "STfaisalhana\n"
     ]
    }
   ],
   "source": [
    "st = input('Provide input: ')\n",
    "\n",
    "lower=''\n",
    "upper = ''\n",
    "\n",
    "for i in st:\n",
    "    if i.islower():\n",
    "        lower += i\n",
    "    else:\n",
    "        upper += i\n",
    "        \n",
    "newStr = upper + lower\n",
    "print(newStr)"
   ]
  },
  {
   "cell_type": "markdown",
   "id": "ec9ec0ea-6480-488c-b986-3af3198ab235",
   "metadata": {},
   "source": [
    "challange 9: remove punctuations from string"
   ]
  },
  {
   "cell_type": "code",
   "execution_count": 35,
   "id": "e39cc236-2d15-4433-b37d-e742c0e21e54",
   "metadata": {},
   "outputs": [
    {
     "name": "stdout",
     "output_type": "stream",
     "text": [
      "HelloWorldThisisanexamplestringItcontainspunctuation\n"
     ]
    }
   ],
   "source": [
    "import re\n",
    "\n",
    "def remove_non_alphabetic(input_string):\n",
    "    \"\"\"\n",
    "    This function removes all the non-alphabetic characters (including punctuation marks and whitespace) from a string.\n",
    "    \"\"\"\n",
    "    return re.sub(r'[^a-zA-Z]', '', input_string)\n",
    "\n",
    "# example usage\n",
    "input_string = \"Hello, World! This is an example string. It contains punctuation! 123\"\n",
    "output_string = remove_non_alphabetic(input_string)\n",
    "print(output_string)"
   ]
  },
  {
   "cell_type": "markdown",
   "id": "85b4b71d-cc93-4d76-987b-08e4d9136487",
   "metadata": {},
   "source": [
    "In regular expressions, the pattern [^a-zA-Z] means \"any character that is not a lowercase or uppercase alphabetic character\".\n",
    "\n",
    "The pattern is composed of several parts:\n",
    "\n",
    "^ is a metacharacter that indicates the beginning of the character set. When used inside square brackets [], it negates the character set, meaning that the pattern matches any character that is not in the set.\n",
    "a-z is a character range that matches any lowercase alphabetic character between a and z.\n",
    "A-Z is another character range that matches any uppercase alphabetic character between A and Z.\n",
    "Putting these parts together, the pattern [^a-zA-Z] matches any character that is not a lowercase or uppercase alphabetic character. This includes whitespace, digits, punctuation marks, and any other non-alphabetic characters.\n",
    "\n",
    "Using this pattern in the re.sub() method with an empty replacement string effectively removes all non-alphabetic characters from a string."
   ]
  },
  {
   "cell_type": "code",
   "execution_count": null,
   "id": "97ee78f9-d4e9-4175-914d-819b63105692",
   "metadata": {},
   "outputs": [],
   "source": []
  }
 ],
 "metadata": {
  "kernelspec": {
   "display_name": "Python 3 (ipykernel)",
   "language": "python",
   "name": "python3"
  },
  "language_info": {
   "codemirror_mode": {
    "name": "ipython",
    "version": 3
   },
   "file_extension": ".py",
   "mimetype": "text/x-python",
   "name": "python",
   "nbconvert_exporter": "python",
   "pygments_lexer": "ipython3",
   "version": "3.10.8"
  }
 },
 "nbformat": 4,
 "nbformat_minor": 5
}
