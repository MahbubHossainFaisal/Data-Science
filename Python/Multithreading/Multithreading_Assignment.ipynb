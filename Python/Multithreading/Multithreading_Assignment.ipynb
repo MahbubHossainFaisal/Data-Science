{
 "cells": [
  {
   "cell_type": "markdown",
   "id": "9ca917c9-4510-49f2-80c0-897560594432",
   "metadata": {},
   "source": [
    "##### Q1. What is multithreading in python? Why is it used? Name the module used to handle threads in python."
   ]
  },
  {
   "cell_type": "markdown",
   "id": "20219614-a6dc-4b05-95a5-6c69a9b33aac",
   "metadata": {},
   "source": [
    "Multithreading in Python is a programming technique that allows multiple threads of execution to run concurrently within a single program. Threads are lightweight sub-processes that share the same memory space and can perform tasks independently. In other words, multithreading allows multiple functions or parts of a program to run at the same time, thereby improving the overall performance and efficiency of the program.\n",
    "\n",
    "Multithreading is commonly used in Python for tasks such as network programming, web scraping, GUI development, and data processing. It can also be used for tasks that require parallel processing, such as image and video processing, scientific computing, and machine learning.\n",
    "\n",
    "The module used to handle threads in Python is called \"threading\". The threading module provides a simple way to create and manage threads in Python. It allows you to create new threads, start and stop threads, and communicate between threads using synchronization primitives such as locks, semaphores, and condition variables."
   ]
  },
  {
   "cell_type": "code",
   "execution_count": null,
   "id": "ae1a27fe-f7db-4b10-b765-5cc7eaf1c2dd",
   "metadata": {},
   "outputs": [],
   "source": []
  },
  {
   "cell_type": "markdown",
   "id": "72304137-8082-4d5b-8644-9ddfaaa1b09d",
   "metadata": {},
   "source": [
    "##### Q2. Why threading module used? rite the use of the following functions\n",
    "1. activeCount\n",
    "2. currentThread\n",
    "3. enumerate)"
   ]
  },
  {
   "cell_type": "markdown",
   "id": "65423e99-9072-494d-89f0-4c2c80bb0287",
   "metadata": {},
   "source": [
    "The threading module is used in Python for creating and managing threads. It provides a high-level interface for working with threads, allowing developers to easily create and control multiple threads of execution within a single program.\n",
    "\n",
    "Here are the uses of the following functions in the threading module:\n",
    "\n",
    "activeCount(): This function returns the number of thread objects that are active in the current Python interpreter. An active thread is a thread that has been created and started but has not yet finished running or has been terminated.\n",
    "\n",
    "currentThread(): This function returns a reference to the current thread object that is executing in the Python interpreter. It can be used to identify the current thread, get information about the current thread, or perform operations on the current thread.\n",
    "\n",
    "enumerate(): This function returns a list of all thread objects that are active in the current Python interpreter. Each thread object is represented by an instance of the Thread class in Python. The list returned by this function can be used to iterate over all active threads and perform operations on them."
   ]
  },
  {
   "cell_type": "code",
   "execution_count": null,
   "id": "60814cd1-8aae-43bd-ba50-225248e9cbcb",
   "metadata": {},
   "outputs": [],
   "source": []
  },
  {
   "cell_type": "markdown",
   "id": "89b0f125-122a-4e22-b68c-24142bf6d843",
   "metadata": {},
   "source": [
    "##### Q3. Explain the following functions\n",
    "1. run\n",
    "2. start\n",
    "3. join\n",
    "4. isAlive"
   ]
  },
  {
   "cell_type": "markdown",
   "id": "976f157f-74fb-476e-9b1b-e3518c0f3254",
   "metadata": {},
   "source": [
    "The following are the commonly used functions in Python's threading module:\n",
    "\n",
    "run(): This function is called when a new thread is started using the start() function. The run() function contains the code that will be executed in the new thread. You can override the run() function in your own thread subclass to define the behavior of the thread.\n",
    "\n",
    "start(): This function is used to start a new thread of execution. When this function is called, a new thread is created and the code in the run() function is executed in the new thread. It is important to note that the start() function does not block the main thread, so the main program can continue to run while the new thread is executing.\n",
    "\n",
    "join(): This function is used to wait for a thread to finish executing before continuing with the main program. When the join() function is called on a thread object, the main thread blocks until the thread has finished executing. This is useful for coordinating the execution of multiple threads in a program.\n",
    "\n",
    "isAlive(): This function is used to check if a thread is currently executing. When this function is called on a thread object, it returns True if the thread is currently executing, and False otherwise. This can be useful for checking the status of a thread and coordinating the execution of multiple threads in a program."
   ]
  },
  {
   "cell_type": "code",
   "execution_count": null,
   "id": "1599182e-5801-4a7d-b062-0480ee9ad5ee",
   "metadata": {},
   "outputs": [],
   "source": []
  },
  {
   "cell_type": "markdown",
   "id": "f7772c96-78c6-4a7d-92b2-85cfdbfc477f",
   "metadata": {},
   "source": [
    "##### Q4. Write a python program to create two threads. Thread one must print the list of squares and thread two must print the list of cubes"
   ]
  },
  {
   "cell_type": "code",
   "execution_count": 3,
   "id": "b775afc2-5d1c-47be-8c13-078ec1923590",
   "metadata": {},
   "outputs": [
    {
     "name": "stdout",
     "output_type": "stream",
     "text": [
      "calculate square numbers:\n",
      "square:  16\n",
      "square:  36\n",
      "square:  81\n",
      "square:  9\n",
      "calculate cube numbers: \n",
      "cube:  64\n",
      "cube:  216\n",
      "cube:  729\n",
      "cube:  27\n",
      "done in:  0.0011720657348632812\n",
      "successfully done\n"
     ]
    }
   ],
   "source": [
    "import time\n",
    "import threading\n",
    "\n",
    "def square(numbers):\n",
    "    print('calculate square numbers:')\n",
    "    for i in numbers:\n",
    "        #time.sleep(0.3)\n",
    "        print('square: ', i*i)\n",
    "        \n",
    "\n",
    "def cube(numbers):\n",
    "    print('calculate cube numbers: ')\n",
    "    for i in numbers:\n",
    "        #time.sleep(0.3)\n",
    "        print('cube: ', i*i*i)\n",
    "        \n",
    "        \n",
    "arr = [4,6,9,3]\n",
    "\n",
    "t1 = threading.Thread(target = square, args=(arr,))\n",
    "t2 = threading.Thread(target = cube, args=(arr,))\n",
    "\n",
    "t = time.time()\n",
    "\n",
    "t1.start()\n",
    "t2.start()\n",
    "\n",
    "t1.join() # t1 will wait until t2 finish it's task \n",
    "t2.join() # t2 will wait until t1 finish it's task\n",
    "        \n",
    "print('done in: ',time.time()-t)\n",
    "print('successfully done')"
   ]
  },
  {
   "cell_type": "code",
   "execution_count": null,
   "id": "434c0085-0063-4631-9692-ca15433a01ac",
   "metadata": {},
   "outputs": [],
   "source": []
  },
  {
   "cell_type": "markdown",
   "id": "81133518-45b6-4dd2-b918-2cb4dadfd272",
   "metadata": {},
   "source": [
    "##### Q5. State advantages and disadvantages of multithreading"
   ]
  },
  {
   "cell_type": "markdown",
   "id": "fde03802-f4e6-4881-815e-641082c75e4a",
   "metadata": {},
   "source": [
    "Advantages of Multithreading:"
   ]
  },
  {
   "cell_type": "markdown",
   "id": "081632cc-412c-455e-b414-eb66f55792a8",
   "metadata": {},
   "source": [
    "1. Improved Performance: Multithreading allows a program to execute multiple tasks concurrently, which can lead to improved performance and faster execution times. By using multiple threads, a program can make more efficient use of the available system resources, such as CPU and memory.\n",
    "\n",
    "2. Resource Sharing: Multithreading allows multiple threads to share the same memory space and resources, such as file handles and network connections. This can reduce the overhead of creating and managing separate processes, as well as simplify inter-process communication.\n",
    "\n",
    "3. Responsiveness: Multithreading can improve the responsiveness of a program by allowing it to perform non-blocking operations, such as user interface updates and network communications, while other tasks are running in the background.\n",
    "\n",
    "4. Scalability: Multithreading can improve the scalability of a program by allowing it to utilize multiple processors or cores, which can improve performance on multi-core systems."
   ]
  },
  {
   "cell_type": "markdown",
   "id": "fe9c5ab3-ccff-4626-906a-f299ce26ac22",
   "metadata": {},
   "source": [
    "Disadvantages of Multithreading:\n",
    "\n"
   ]
  },
  {
   "cell_type": "markdown",
   "id": "06a894f1-abdb-402c-802c-b2b27a474508",
   "metadata": {},
   "source": [
    "1. Complexity: Multithreading can introduce additional complexity to a program, as it requires careful coordination of the various threads to ensure correct operation. This can make debugging and testing more difficult, and can also introduce the possibility of subtle race conditions and other synchronization issues.\n",
    "\n",
    "2. Overhead: Multithreading can introduce additional overhead to a program, as the system must manage the creation, scheduling, and synchronization of multiple threads. This overhead can be significant for small programs or programs that do not make heavy use of system resources.\n",
    "\n",
    "3. Resource Contention: Multithreading can introduce the possibility of resource contention, where multiple threads compete for the same resources, such as memory or I/O devices. This can lead to performance degradation and unpredictable behavior.\n",
    "\n",
    "4. Deadlocks and Race Conditions: Multithreading can introduce the possibility of deadlocks and race conditions, where multiple threads are blocked waiting for each other to release resources, or where multiple threads modify shared data concurrently, leading to incorrect results. Careful design and testing are required to avoid these issues."
   ]
  },
  {
   "cell_type": "markdown",
   "id": "955c3f39-f912-4321-b3b4-0d51746ac21f",
   "metadata": {},
   "source": [
    "##### Q6. Explain deadlocks and race conditions."
   ]
  },
  {
   "cell_type": "markdown",
   "id": "4202c921-31e2-45ae-8bee-aa07eb1b25ba",
   "metadata": {},
   "source": [
    "Deadlocks: A deadlock occurs when two or more threads are blocked, waiting for each other to release resources that they need to continue executing. For example, if one thread acquires a lock on a shared resource, and another thread tries to acquire the same lock while holding a lock on a different resource, a deadlock can occur. Deadlocks can be difficult to detect and debug, and can cause a program to hang or become unresponsive.\n",
    "\n",
    "Race Conditions: A race condition occurs when two or more threads access shared data concurrently, and the final outcome depends on the order in which the threads execute. For example, if two threads try to increment the same variable at the same time, the final value of the variable will depend on the order in which the threads execute. Race conditions can lead to incorrect results and can be difficult to reproduce and debug."
   ]
  },
  {
   "cell_type": "code",
   "execution_count": null,
   "id": "836b24c7-45e0-4316-b0a8-94e0335774c0",
   "metadata": {},
   "outputs": [],
   "source": []
  }
 ],
 "metadata": {
  "kernelspec": {
   "display_name": "Python 3 (ipykernel)",
   "language": "python",
   "name": "python3"
  },
  "language_info": {
   "codemirror_mode": {
    "name": "ipython",
    "version": 3
   },
   "file_extension": ".py",
   "mimetype": "text/x-python",
   "name": "python",
   "nbconvert_exporter": "python",
   "pygments_lexer": "ipython3",
   "version": "3.10.8"
  }
 },
 "nbformat": 4,
 "nbformat_minor": 5
}
