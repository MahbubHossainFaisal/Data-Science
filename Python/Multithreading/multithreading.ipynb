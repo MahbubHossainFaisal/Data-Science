{
 "cells": [
  {
   "cell_type": "markdown",
   "id": "be2ecd9e-f2ed-433a-98dc-2aff24d40d53",
   "metadata": {},
   "source": [
    "What is Multithreading in python?"
   ]
  },
  {
   "cell_type": "markdown",
   "id": "60e3910e-9e85-4e1f-b68f-240a381da387",
   "metadata": {},
   "source": [
    "Multithreading in Python refers to the ability of a program to run multiple threads (smaller units of execution) simultaneously within a single process. Each thread runs independently of the others, but they all share the same memory space, allowing for efficient communication and sharing of resources.\n",
    "\n",
    "Python's threading module provides a simple way to create and manage threads within a program. Using threads can help improve the performance of programs that perform multiple tasks concurrently, such as I/O-bound or CPU-bound operations."
   ]
  },
  {
   "cell_type": "markdown",
   "id": "65ccba31-e50c-4fe7-a07e-b28dde9b19a0",
   "metadata": {},
   "source": [
    "Example of multithreading"
   ]
  },
  {
   "cell_type": "code",
   "execution_count": null,
   "id": "e13875d2-1604-4250-acaf-d482295cccb4",
   "metadata": {},
   "outputs": [],
   "source": []
  },
  {
   "cell_type": "code",
   "execution_count": 5,
   "id": "eceb8dde-77a2-47c2-bf50-1347a332227c",
   "metadata": {},
   "outputs": [
    {
     "name": "stdout",
     "output_type": "stream",
     "text": [
      "calculate square numbers:\n",
      "calculate cube numbers: \n",
      "square:  16\n",
      "cube:  64\n",
      "square:  36\n",
      "cube:  216\n",
      "square:  81\n",
      "cube:  729\n",
      "square:  9\n",
      "cube:  27\n",
      "done in:  1.2030243873596191\n",
      "successfully done\n"
     ]
    }
   ],
   "source": [
    "import time\n",
    "import threading\n",
    "\n",
    "def square(numbers):\n",
    "    print('calculate square numbers:')\n",
    "    for i in numbers:\n",
    "        time.sleep(0.3)\n",
    "        print('square: ', i*i)\n",
    "        \n",
    "\n",
    "def cube(numbers):\n",
    "    print('calculate cube numbers: ')\n",
    "    for i in numbers:\n",
    "        time.sleep(0.3)\n",
    "        print('cube: ', i*i*i)\n",
    "        \n",
    "        \n",
    "arr = [4,6,9,3]\n",
    "\n",
    "t1 = threading.Thread(target = square, args=(arr,))\n",
    "t2 = threading.Thread(target = cube, args=(arr,))\n",
    "\n",
    "t = time.time()\n",
    "\n",
    "t1.start()\n",
    "t2.start()\n",
    "\n",
    "t1.join() # t1 will wait until t2 finish it's task \n",
    "t2.join() # t2 will wait until t1 finish it's task\n",
    "        \n",
    "print('done in: ',time.time()-t)\n",
    "print('successfully done')"
   ]
  },
  {
   "cell_type": "code",
   "execution_count": null,
   "id": "09ff1c89-9832-48d2-ba90-22144ba4e7b9",
   "metadata": {},
   "outputs": [],
   "source": []
  },
  {
   "cell_type": "markdown",
   "id": "87552fe2-acbc-402f-a7af-ea95f52ce07c",
   "metadata": {},
   "source": [
    "Making multiple threads in a single core"
   ]
  },
  {
   "cell_type": "code",
   "execution_count": 3,
   "id": "8bf5b428-db5f-4960-8652-5e4e47ecb879",
   "metadata": {},
   "outputs": [
    {
     "name": "stdout",
     "output_type": "stream",
     "text": [
      "the id is 0\n",
      "the id is 1\n",
      "the id is 2\n",
      "the id is 3\n",
      "the id is 4\n",
      "the id is 5\n",
      "the id is 6\n",
      "the id is 7\n",
      "the id is 8\n",
      "the id is 9\n"
     ]
    }
   ],
   "source": [
    "import threading\n",
    "\n",
    "def test(id):\n",
    "    print('the id is %d' % id)\n",
    "    \n",
    "    \n",
    "thread = [threading.Thread(target=test,args=(i,)) for i in range(10)]\n",
    "\n",
    "for t in thread:\n",
    "    t.start() \n",
    "    \n",
    "# so actually we are creating 10 threads in a core and running them.\n"
   ]
  },
  {
   "cell_type": "code",
   "execution_count": 11,
   "id": "a75adf5e-f433-449e-80f5-8a34164986c2",
   "metadata": {},
   "outputs": [],
   "source": [
    "import threading\n",
    "\n",
    "import urllib.request\n",
    "\n",
    "def download_file(url, filename):\n",
    "    urllib.request.urlretrieve(url,filename)\n",
    "    \n",
    "\n",
    "filename_list = ['textfile.txt']\n",
    "\n",
    "url_list = ['https://github.com/MahbubHossainFaisal/Python/blob/master/Python%20Objects%20and%20Data%20Structures/Inpurt_Output_Commands/myFile.txt']\n",
    "\n",
    "\n",
    "thread = [threading.Thread(target = download_file, args = (url_list[i],filename_list[i],)) for i in range(len(url_list))]\n",
    "\n",
    "for t in thread:\n",
    "    t.start()\n",
    "    \n"
   ]
  },
  {
   "cell_type": "code",
   "execution_count": null,
   "id": "df9df9d0-5f90-401a-842a-3b897292e9e9",
   "metadata": {},
   "outputs": [],
   "source": []
  },
  {
   "cell_type": "markdown",
   "id": "59981aa9-28b2-4522-bf00-9920efaeb9bd",
   "metadata": {},
   "source": [
    "Another example:"
   ]
  },
  {
   "cell_type": "code",
   "execution_count": 15,
   "id": "d5f03cf8-aeef-4beb-93cd-e3ecdc66e074",
   "metadata": {},
   "outputs": [
    {
     "name": "stdout",
     "output_type": "stream",
     "text": [
      "test 2 is 0 has increased the shared variable by 1 \n",
      "test 2 is 1 has increased the shared variable by 2 \n",
      "test 2 is 2 has increased the shared variable by 3 \n"
     ]
    }
   ],
   "source": [
    "import time\n",
    "shared_var = 0\n",
    "lock_var = threading.Lock()\n",
    "\n",
    "def test2(id):\n",
    "    global shared_var\n",
    "    with lock_var:\n",
    "        shared_var += 1\n",
    "        print('test 2 is %d has increased the shared variable by %d ' % (id, shared_var))\n",
    "        time.sleep(1)\n",
    "        \n",
    "arr = [threading.Thread(target = test2, args = (i,)) for i in range(3)]\n",
    "\n",
    "for t in arr:\n",
    "    t.start()\n",
    "    "
   ]
  },
  {
   "cell_type": "code",
   "execution_count": 17,
   "id": "65587e7c-1e07-4106-b259-7713dd575669",
   "metadata": {},
   "outputs": [
    {
     "name": "stdout",
     "output_type": "stream",
     "text": [
      "test 2 is 0 has increased the shared variable by 1 \n",
      "test 2 is 1 has increased the shared variable by 2 \n",
      "test 2 is 2 has increased the shared variable by 3 \n"
     ]
    }
   ],
   "source": [
    "import time\n",
    "shared_var = 0\n",
    "lock_var = threading.Lock()\n",
    "\n",
    "def test2(id):\n",
    "    global shared_var\n",
    "    \n",
    "    shared_var += 1\n",
    "    print('test 2 is %d has increased the shared variable by %d ' % (id, shared_var))\n",
    "    \n",
    "        \n",
    "arr = [threading.Thread(target = test2, args = (i,)) for i in range(3)]\n",
    "\n",
    "for t in arr:\n",
    "    t.start()"
   ]
  },
  {
   "cell_type": "markdown",
   "id": "f5133ee0-fb05-4a61-b3a7-5c419aa1a5ca",
   "metadata": {},
   "source": [
    "Imagine you have a toy box that you and your friends are playing with. You all want to take toys out of the box and play with them, but you also want to make sure that nobody takes the same toy at the same time, because then you might fight over it.\n",
    "\n",
    "To prevent this, you could use a lock. A lock is like a special key that only one person can hold at a time. Whenever someone wants to take a toy out of the box, they have to ask for the lock first. If the lock is available, they can take the lock and open the box to take out a toy. While they have the lock, nobody else can take a toy from the box. When they're done playing with the toy, they put it back in the box and give the lock to someone else who wants to take a toy.\n",
    "\n",
    "Using a lock helps prevent conflicts between kids who want to play with the same toy at the same time. If there was no lock, two kids might try to take the same toy at the same time, which could lead to fighting or arguments. With the lock, only one kid can take a toy at a time, which keeps things more organized and peaceful.\n",
    "\n",
    "In computer programming, locks work in a similar way. When multiple threads are running at the same time and trying to access the same shared resource, like a variable or a file, locks can be used to ensure that only one thread can access the resource at a time. This helps prevent conflicts between threads that might try to modify the same resource at the same time, which could lead to errors or unpredictable behavior in the program."
   ]
  },
  {
   "cell_type": "code",
   "execution_count": null,
   "id": "d9f89a77-c0f3-47f3-87d5-0e367cf59dad",
   "metadata": {},
   "outputs": [],
   "source": []
  }
 ],
 "metadata": {
  "kernelspec": {
   "display_name": "Python 3 (ipykernel)",
   "language": "python",
   "name": "python3"
  },
  "language_info": {
   "codemirror_mode": {
    "name": "ipython",
    "version": 3
   },
   "file_extension": ".py",
   "mimetype": "text/x-python",
   "name": "python",
   "nbconvert_exporter": "python",
   "pygments_lexer": "ipython3",
   "version": "3.10.8"
  }
 },
 "nbformat": 4,
 "nbformat_minor": 5
}
