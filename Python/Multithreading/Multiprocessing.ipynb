{
 "cells": [
  {
   "cell_type": "markdown",
   "id": "0f04045f-8eeb-4ceb-b65a-3c77bbcf0361",
   "metadata": {},
   "source": [
    "## What is multiprocessing in python?"
   ]
  },
  {
   "cell_type": "markdown",
   "id": "85848811-1d5e-4ed4-a017-0aa8f2336ae1",
   "metadata": {},
   "source": [
    "Have you ever seen a chef cooking in a kitchen? They usually have many pots and pans on the stove, and they are constantly stirring, chopping, and doing different things to each dish. This is kind of like how multiprocessing works in Python.\n",
    "\n",
    "In Python, a program is like a chef in a kitchen, and the computer is like the stove. If you have a big task that you want the program to do, like cooking a big meal, it can take a long time to finish. But just like a chef can work on many dishes at once, a program can work on many tasks at once using multiprocessing.\n",
    "\n",
    "Multiprocessing is like having multiple chefs in the kitchen, each working on a different dish at the same time. They can all work independently, but they can also communicate with each other and share ingredients if they need to. This makes cooking faster and more efficient, just like multiprocessing makes programs faster and more efficient.\n",
    "\n",
    "So, if you have a big task that needs to be done in Python, like processing a lot of data or running a complex algorithm, you can use multiprocessing to divide the task into smaller parts and have them all run at the same time. This can help your program finish the task much faster than if it had to do it all by itself."
   ]
  },
  {
   "cell_type": "markdown",
   "id": "9f86db9b-cf28-40e8-aeeb-22cf13b03043",
   "metadata": {},
   "source": [
    "In Python, multiprocessing is a module that allows you to run multiple processes concurrently. A process is an instance of a program that is running on your computer. When you start a process, it gets its own memory space and resources to run independently of other processes.\n",
    "\n",
    "Multiprocessing can be useful for tasks that can be broken down into smaller, independent pieces, such as image processing, data analysis, or simulations. By running multiple processes at the same time, you can take advantage of the multiple cores on your CPU and get your task done faster.\n",
    "\n",
    "To use multiprocessing in Python, you can create a new process using the Process class in the multiprocessing module. You can then start the process by calling its start() method, and wait for it to finish using the join() method.\n",
    "\n",
    "One thing to keep in mind when using multiprocessing is that each process has its own memory space, which means that data cannot be shared between processes directly. To share data between processes, you can use the Queue, Pipe, or Manager classes provided by the multiprocessing module.\n",
    "\n",
    "Another thing to consider is that creating and managing multiple processes can come with some overhead. It's important to balance the benefits of running multiple processes against the cost of creating and managing them.\n",
    "\n",
    "Overall, multiprocessing in Python is a powerful tool that can help you take advantage of multiple cores on your CPU and get your tasks done faster. It can be a bit more complex to use than single-threaded programming, but the benefits can be well worth the effort."
   ]
  },
  {
   "cell_type": "markdown",
   "id": "7b2531f8-70ea-4a8e-8970-dbe213eaae32",
   "metadata": {},
   "source": [
    "Example:\n"
   ]
  },
  {
   "cell_type": "code",
   "execution_count": 2,
   "id": "62007b4c-7f22-4434-b33f-003ba703156d",
   "metadata": {},
   "outputs": [
    {
     "name": "stdout",
     "output_type": "stream",
     "text": [
      "this is main function program\n",
      "this program is used in multiprocessing\n"
     ]
    }
   ],
   "source": [
    "import multiprocessing\n",
    "\n",
    "def test():\n",
    "    print('this program is used in multiprocessing')\n",
    "    \n",
    "if __name__ == '__main__':\n",
    "    m = multiprocessing.Process(target = test)\n",
    "    print('this is main function program')\n",
    "    \n",
    "    m.start()\n",
    "    m.join()\n",
    "    "
   ]
  },
  {
   "cell_type": "code",
   "execution_count": null,
   "id": "080f0a84-80af-47ad-b13b-81638d8a57fe",
   "metadata": {},
   "outputs": [],
   "source": []
  },
  {
   "cell_type": "markdown",
   "id": "a2e5bc02-16fc-44d1-a6a2-4cdfa26ea22f",
   "metadata": {},
   "source": [
    "## Multiprocessing Pool"
   ]
  },
  {
   "cell_type": "markdown",
   "id": "0804cd42-606e-47c7-b9b9-81117371348c",
   "metadata": {},
   "source": [
    "Imagine you have a big pile of candy that needs to be sorted into different bowls based on their colors. You can do this by yourself, but it might take a long time. However, if you have a few friends to help you, you can get the job done much faster!\n",
    "\n",
    "In programming, we use multiprocessing to divide a big task into smaller chunks and distribute them to different processors or CPU cores to work on them simultaneously, just like you and your friends sorting the candy. This makes the task faster and more efficient."
   ]
  },
  {
   "cell_type": "markdown",
   "id": "312bdab5-0d1f-4de6-aa19-0efc6898c3b7",
   "metadata": {},
   "source": [
    "A pool is like a group of processors that can work on different chunks of a task simultaneously. To create a pool, we first need to import the multiprocessing module:"
   ]
  },
  {
   "cell_type": "code",
   "execution_count": 6,
   "id": "17a17538-8e28-4e9d-97f8-e87382aa339e",
   "metadata": {},
   "outputs": [],
   "source": [
    "import multiprocessing"
   ]
  },
  {
   "cell_type": "markdown",
   "id": "fcb91a1c-5249-45c1-8910-68717d63e9e0",
   "metadata": {},
   "source": [
    "We can create a pool by using the Pool() function and passing in the number of processes we want to use. In our candy sorting example, this would be like creating a group of friends to help us sort the candy\n"
   ]
  },
  {
   "cell_type": "code",
   "execution_count": 7,
   "id": "892543c4-f9e9-40d9-9965-fba1c7981690",
   "metadata": {},
   "outputs": [],
   "source": [
    "pool = multiprocessing.Pool(processes=3)\n"
   ]
  },
  {
   "cell_type": "markdown",
   "id": "b15fc1eb-e96c-4475-ba3b-8a4236defc84",
   "metadata": {},
   "source": [
    "This creates a pool with 3 processes that can work on our task. Now, let's say we have a list of candy colors that we need to sort into different bowls. We can use the map() function of the pool object to apply a function to each item in the list, like so"
   ]
  },
  {
   "cell_type": "code",
   "execution_count": 11,
   "id": "44924913-552e-4988-b95c-6e4a51c4c649",
   "metadata": {},
   "outputs": [
    {
     "name": "stdout",
     "output_type": "stream",
     "text": [
      "[['cherry', 'strawberry', 'raspberry'], ['apple', 'watermelon', 'lime'], ['blueberry', 'blue raspberry', 'grape'], ['lemon', 'pineapple', 'banana'], ['orange', 'peach', 'mango']]\n"
     ]
    }
   ],
   "source": [
    "import multiprocessing\n",
    "\n",
    "def sort_candy(candy_color):\n",
    "    # sort the candy into the appropriate bowl based on its color\n",
    "    if candy_color == 'red':\n",
    "        sorted_candy = ['cherry', 'strawberry', 'raspberry']\n",
    "    elif candy_color == 'green':\n",
    "        sorted_candy = ['apple', 'watermelon', 'lime']\n",
    "    elif candy_color == 'blue':\n",
    "        sorted_candy = ['blueberry', 'blue raspberry', 'grape']\n",
    "    elif candy_color == 'yellow':\n",
    "        sorted_candy = ['lemon', 'pineapple', 'banana']\n",
    "    elif candy_color == 'orange':\n",
    "        sorted_candy = ['orange', 'peach', 'mango']\n",
    "    else:\n",
    "        sorted_candy = []\n",
    "    \n",
    "    return sorted_candy\n",
    "\n",
    "if __name__ == '__main__':\n",
    "    candy_colors = ['red', 'green', 'blue', 'yellow', 'orange']\n",
    "    with multiprocessing.Pool(processes=3) as pool:\n",
    "        sorted_candy = pool.map(sort_candy, candy_colors)\n",
    "    print(sorted_candy)\n"
   ]
  },
  {
   "cell_type": "markdown",
   "id": "1b4178a3-ad01-42dc-b122-a153df1cf6a1",
   "metadata": {},
   "source": [
    "Another Example"
   ]
  },
  {
   "cell_type": "code",
   "execution_count": 1,
   "id": "7b6f0712-9364-4321-b851-9aec8d221848",
   "metadata": {},
   "outputs": [],
   "source": [
    "import multiprocessing\n",
    "import os"
   ]
  },
  {
   "cell_type": "code",
   "execution_count": 9,
   "id": "1883d6df-872d-4eae-90f8-47f677341fcf",
   "metadata": {},
   "outputs": [
    {
     "name": "stdout",
     "output_type": "stream",
     "text": [
      "number: number: number: number:     6147\n",
      "\n",
      "\n",
      "\n",
      "process id:process id:process id:process id:    2331233323322334\n",
      "\n",
      "\n",
      "\n",
      "[1, 16, 36, 49]\n"
     ]
    }
   ],
   "source": [
    "def square(n):\n",
    "    print('number: ',n)\n",
    "    print('process id:',os.getpid())\n",
    "    return n*n\n",
    "\n",
    "mylist = [1,4,6,7]\n",
    "p = multiprocessing.Pool()\n",
    "\n",
    "result = p.map(square, mylist)\n",
    "\n",
    "print(result)"
   ]
  },
  {
   "cell_type": "markdown",
   "id": "a47ca2bf-ac3a-43d6-990e-a70b41598251",
   "metadata": {},
   "source": [
    "## Multiprocessing Queue (A way of process communication)"
   ]
  },
  {
   "cell_type": "markdown",
   "id": "d1235064-e820-4147-b9b6-c506e8986a05",
   "metadata": {},
   "source": [
    "let's imagine you have a bunch of friends who are all working on a project together. Each friend has a different job to do, and they all need to communicate with each other to make sure they're doing everything correctly.\n",
    "\n",
    "Now, let's say that your friends can't talk to each other directly. Instead, they have to use a special box to pass messages back and forth. This box is called a queue.\n",
    "\n",
    "Whenever a friend has a message for another friend, they write it down on a piece of paper and put it in the queue. The friend who is supposed to receive the message checks the queue every so often to see if there are any new messages waiting for them. If there are, they take the message out of the queue and read it.\n",
    "\n",
    "The important thing to remember is that the queue is like a middleman between your friends. They can't talk to each other directly, so they have to use the queue to pass messages back and forth.\n",
    "\n",
    "In Python, multiprocessing.Queue is a similar idea. It's a way for different processes to share data with each other. If one process wants to send a message to another process, it can put that message into the queue. The other process can then read the message from the queue and do whatever it needs to do with it.\n",
    "\n",
    "The multiprocessing.Queue is like a box that the different processes can use to talk to each other indirectly. It's a safe way to share data between different processes, because it ensures that only one process can access the data at a time."
   ]
  },
  {
   "cell_type": "code",
   "execution_count": null,
   "id": "fceb38a3-31da-42fc-a804-b61e01a65c5f",
   "metadata": {},
   "outputs": [
    {
     "name": "stdout",
     "output_type": "stream",
     "text": [
      "0\n",
      "1\n",
      "2\n",
      "3\n",
      "4\n",
      "5\n",
      "6\n",
      "7\n",
      "8\n",
      "9\n",
      "Faisal\n"
     ]
    }
   ],
   "source": [
    "def producer(q):\n",
    "    for i in range(10):\n",
    "        q.put(i)\n",
    "        \n",
    "    \n",
    "def consumer(q):\n",
    "    while True:\n",
    "        item = q.get()\n",
    "        if item is None:\n",
    "            break\n",
    "        print(item)\n",
    "        \n",
    "if __name__ == '__main__':\n",
    "    queue = multiprocessing.Queue()\n",
    "    m1 = multiprocessing.Process(target = producer, args = (queue,))\n",
    "    m2 = multiprocessing.Process(target = consumer, args = (queue,))\n",
    "    m1.start()\n",
    "    m2.start()\n",
    "    queue.put('Faisal')\n",
    "    m1.join()\n",
    "    m2.join()\n",
    "    "
   ]
  },
  {
   "cell_type": "markdown",
   "id": "b7a39d65-1123-40af-ba4b-6b61ca4d333d",
   "metadata": {},
   "source": [
    "## Multiprocessing Pipe (Another way of process communication)"
   ]
  },
  {
   "cell_type": "code",
   "execution_count": 25,
   "id": "496e6f6a-5b1f-4d7e-ae7b-8ff5349c3b1c",
   "metadata": {},
   "outputs": [
    {
     "name": "stdout",
     "output_type": "stream",
     "text": [
      "Hey\n",
      "Hello\n",
      "How are you\n"
     ]
    }
   ],
   "source": [
    "import multiprocessing\n",
    "\n",
    "msgs = [\"Hey\",\"Hello\",\"How are you\",\"End\"]\n",
    "\n",
    "def send_msgs(conn,msgs):\n",
    "    for msg in msgs:\n",
    "        conn.send(msg)\n",
    "    conn.close()\n",
    "    \n",
    "    \n",
    "def recieve_msgs(conn):\n",
    "    while True:\n",
    "        msg = conn.recv()\n",
    "        if msg == \"End\":\n",
    "            break\n",
    "        print(msg)\n",
    "        \n",
    "        \n",
    "parent_conn,child_conn = multiprocessing.Pipe()\n",
    "\n",
    "p1 = multiprocessing.Process(target = send_msgs, args = (parent_conn,msgs))\n",
    "p2 = multiprocessing.Process(target = recieve_msgs, args = (child_conn,))\n",
    "\n",
    "p1.start()\n",
    "p1.join()\n",
    "\n",
    "p2.start()\n",
    "p2.join()\n"
   ]
  },
  {
   "cell_type": "markdown",
   "id": "721a2af7-d291-4e51-a8dc-a04dcd3f4859",
   "metadata": {},
   "source": [
    "## Queue vs Pipe"
   ]
  },
  {
   "cell_type": "markdown",
   "id": "52307cc2-4e3f-4a80-8238-54e2dcff286e",
   "metadata": {},
   "source": [
    "In multiprocessing, both queues and pipes can be used to communicate between processes. However, there are some differences between the two that may make one more suitable than the other for a given use case.\n",
    "\n",
    "A queue is a simple way to pass messages between processes. It is a thread-safe and process-safe way to share data between processes. The Queue object in the multiprocessing module provides a simple interface to add items to the queue using the put() method and remove items from the queue using the get() method. Queues can be used to implement task queues, distribute work among multiple processes, and coordinate data between multiple processes.\n",
    "\n",
    "On the other hand, a pipe is a more low-level way to communicate between processes. Pipes are similar to queues in that they can be used to pass messages between processes, but they also allow for bi-directional communication between processes. Pipes can be created using the Pipe() function in the multiprocessing module. The Pipe() function returns a pair of connection objects that can be used to send and receive data between processes. Pipes can be used to implement inter-process communication and synchronization mechanisms, such as a lock or a semaphore.\n",
    "\n",
    "In general, queues are easier to use and provide a higher-level interface to share data between processes. Pipes are more low-level and provide more flexibility for more complex communication needs. If you need simple message passing between processes, then a queue is probably the best choice. If you need more control over the communication and need bi-directional communication, then a pipe may be more appropriate.\n",
    "\n",
    "As a summary we can say that, if there is two process want to communicate with each other than we can use pipe else for multiple process communication we can use Queue"
   ]
  },
  {
   "cell_type": "code",
   "execution_count": null,
   "id": "b6dab887-9f32-47d3-9253-01a712f0fed9",
   "metadata": {},
   "outputs": [],
   "source": []
  },
  {
   "cell_type": "markdown",
   "id": "9aa84b62-22aa-4469-a073-01032e0cebf7",
   "metadata": {},
   "source": [
    "This code uses multiprocessing.Queue to create a simple producer-consumer pattern using two processes, where one process (producer) puts items into a queue and the other process (consumer) gets items from the queue and processes them.\n",
    "\n",
    "Here's how the code works step by step:\n",
    "\n",
    "First, the producer function is defined which takes a multiprocessing.Queue object as an argument. In this function, we simply loop over the range 10 and put each value in the queue.\n",
    "\n",
    "Then, the consumer function is defined which also takes a multiprocessing.Queue object as an argument. This function runs in an infinite loop and continuously gets items from the queue using the get() method. If the item is None (which indicates the end of the data stream), it breaks the loop. Otherwise, it simply prints the item.\n",
    "\n",
    "In the main section of the code, we create a multiprocessing.Queue object called queue.\n",
    "\n",
    "Next, we create two processes m1 and m2 using the multiprocessing.Process constructor. m1 is the producer process and we pass the queue object as an argument. m2 is the consumer process and we also pass the queue object as an argument.\n",
    "\n",
    "We start both processes using the start() method.\n",
    "\n",
    "After starting the processes, we add an extra item to the queue by calling the put() method of the queue object with the string 'Faisal'.\n",
    "\n",
    "We wait for both processes to complete using the join() method.\n",
    "\n",
    "Overall, the code creates a producer process that adds 10 integers to a queue, and a consumer process that continuously gets items from the queue and prints them out. The extra 'Faisal' string that we add to the queue is just to demonstrate that we can add other types of data to the queue as well, not just integers."
   ]
  },
  {
   "cell_type": "markdown",
   "id": "bc03b262-8d3c-4987-9ece-7c93f3a58b8c",
   "metadata": {},
   "source": [
    "## Multiprocessing Array"
   ]
  },
  {
   "cell_type": "markdown",
   "id": "caef1dcf-b5fe-46b0-9674-ac0482dfb086",
   "metadata": {},
   "source": [
    "Multiprocessing.array() is like a special container that allows different parts of your computer program to share and access the same array of numbers or data at the same time. It's like having a big plate of cookies that everyone can reach and take a bite from, instead of just one person holding the plate and passing it around.\n",
    "\n",
    "With multiprocessing.array(), different parts of your program can read and write to the array without interfering with each other or causing problems. This means that your program can do multiple things at the same time, like solving different math problems or analyzing different parts of a big dataset.\n",
    "\n",
    "In short, multiprocessing.array() is a tool that helps your program work more efficiently by allowing different parts of your code to share and access the same data at the same time."
   ]
  },
  {
   "cell_type": "markdown",
   "id": "635f1e12-3a6a-4e08-b85b-e10bfc0f03b1",
   "metadata": {},
   "source": [
    "Example:"
   ]
  },
  {
   "cell_type": "code",
   "execution_count": 6,
   "id": "80c5700a-dcbc-4bb7-8ae3-cbf86640cc01",
   "metadata": {},
   "outputs": [
    {
     "name": "stdout",
     "output_type": "stream",
     "text": [
      "[1, 4, 9, 16, 25, 36, 49, 64, 81, 100]\n"
     ]
    }
   ],
   "source": [
    "import multiprocessing\n",
    "\n",
    "def square(index,arr):\n",
    "    arr[index] = arr[index]**2\n",
    "    \n",
    "    \n",
    "if __name__ == '__main__':\n",
    "    arr = multiprocessing.Array('i',[1,2,3,4,5,6,7,8,9,10])\n",
    "    process = []\n",
    "    \n",
    "    for i in range(10):\n",
    "        m = multiprocessing.Process(target = square, args = (i,arr))\n",
    "        process.append(m)\n",
    "        m.start()\n",
    "        \n",
    "    for m in process:\n",
    "        m.join()\n",
    "        \n",
    "    print(list(arr))"
   ]
  },
  {
   "cell_type": "markdown",
   "id": "2aec5540-37a4-4d3d-9baf-c0a81c40d034",
   "metadata": {},
   "source": []
  },
  {
   "cell_type": "markdown",
   "id": "1c6e3786-f934-49aa-81b9-432dfb29c4d9",
   "metadata": {},
   "source": [
    "Another example of shared array and shared value that multiple processes can use at a time"
   ]
  },
  {
   "cell_type": "code",
   "execution_count": 11,
   "id": "88af3aac-9ada-46d6-ac4f-5bc003e108e1",
   "metadata": {},
   "outputs": [],
   "source": [
    "import multiprocessing\n",
    "\n",
    "def square(myList,result, square_sum):\n",
    "    for index,num in enumerate(myList):\n",
    "        result[index] = num*num\n",
    "    \n",
    "    square_sum.value = sum(result)\n",
    "        \n",
    "\n",
    "myList = [1,2,3,4]\n",
    "\n",
    "result = multiprocessing.Array('i',4)  #here i means integer type\n",
    "square_sum = multiprocessing.Value('i') #here i means integer type\n",
    "\n",
    "\n",
    "p1 =multiprocessing.Process(target=square, args=(myList,result,square_sum))\n",
    "\n",
    "p1.start()\n",
    "p1.join()"
   ]
  },
  {
   "cell_type": "code",
   "execution_count": 12,
   "id": "172e115d-5163-4445-9856-5a8b039b4cc1",
   "metadata": {},
   "outputs": [
    {
     "name": "stdout",
     "output_type": "stream",
     "text": [
      "1\n",
      "4\n",
      "9\n",
      "16\n",
      "square_sum 30\n"
     ]
    }
   ],
   "source": [
    "for i in range(4):\n",
    "    print(result[i])\n",
    "    \n",
    "print('square_sum',square_sum.value)\n"
   ]
  },
  {
   "cell_type": "markdown",
   "id": "fd6eff10-ba98-4af0-a5fb-02b3265f7621",
   "metadata": {},
   "source": [
    "As evey process uses it's own memory space, so if we declare any global variable or array and try to use that in multiple processes than we will see that it won't work!\n",
    "Rather if we want some variable or array to share in multiple processes where every process can use them together, we have to declare multiprocessing.Array() or multiprocessing.Value\n",
    "to work with all of them."
   ]
  },
  {
   "cell_type": "code",
   "execution_count": null,
   "id": "ad6447d6-2aba-466a-9896-e95ab2e28ae6",
   "metadata": {},
   "outputs": [],
   "source": []
  },
  {
   "cell_type": "markdown",
   "id": "ccef1866-a722-4d12-9938-e1490bf02f60",
   "metadata": {},
   "source": [
    "## Sharing Data using Server Process"
   ]
  },
  {
   "cell_type": "code",
   "execution_count": 20,
   "id": "78c5f2a7-16e6-4243-98bd-34c0168c0e8e",
   "metadata": {},
   "outputs": [],
   "source": [
    "import multiprocessing\n",
    "\n",
    "def printRecords(records):\n",
    "    for record in records:\n",
    "        print('Name : {0} \\n Score : {1} \\n'.format(record[0],record[1]))\n",
    "        \n",
    "def insert_record(record,records):\n",
    "    records.append(record)\n",
    "    print('New record added\\n')"
   ]
  },
  {
   "cell_type": "code",
   "execution_count": 21,
   "id": "3752b41d-d0a6-44a3-84f6-7abdea42667d",
   "metadata": {},
   "outputs": [
    {
     "name": "stdout",
     "output_type": "stream",
     "text": [
      "New record added\n",
      "\n",
      "Name : Faisal \n",
      " Score : 10 \n",
      "\n",
      "Name : Sakib \n",
      " Score : 12 \n",
      "\n",
      "Name : Tafsir \n",
      " Score : 14 \n",
      "\n",
      "Name : Radha \n",
      " Score : 100 \n",
      "\n"
     ]
    }
   ],
   "source": [
    "with multiprocessing.Manager() as manager:\n",
    "    records = manager.list([('Faisal',10),('Sakib',12),['Tafsir',14]])\n",
    "    record = ('Radha',100)\n",
    "    \n",
    "    p1 = multiprocessing.Process(target=insert_record, args =(record,records))\n",
    "    p2 = multiprocessing.Process(target= printRecords, args = (records,))\n",
    "    \n",
    "    p1.start()\n",
    "    p1.join()\n",
    "    \n",
    "    p2.start()\n",
    "    p2.join()"
   ]
  },
  {
   "cell_type": "markdown",
   "id": "ca08d3fa-91d0-415a-8aa8-52f5d3f87afa",
   "metadata": {},
   "source": [
    "In multiprocessing, we can share data between processes using a server process. The server process is responsible for managing the shared data and ensuring that it is accessed in a thread-safe manner.When we create a shared object using a Manager object, the object is created in the server process. Any modifications made to the shared object by other processes are communicated to the server process, which updates the object in a thread-safe manner. This ensures that multiple processes can safely access and modify the same shared data without causing conflicts or race conditions.\n",
    "\n",
    "The server process is responsible for managing the shared data and ensuring that it is accessed and modified in a thread-safe manner. It handles all communication with the other processes and ensures that the shared data remains consistent and up-to-date."
   ]
  },
  {
   "cell_type": "code",
   "execution_count": null,
   "id": "278ef94d-e007-4575-b426-14819b2bce82",
   "metadata": {},
   "outputs": [],
   "source": []
  }
 ],
 "metadata": {
  "kernelspec": {
   "display_name": "Python 3 (ipykernel)",
   "language": "python",
   "name": "python3"
  },
  "language_info": {
   "codemirror_mode": {
    "name": "ipython",
    "version": 3
   },
   "file_extension": ".py",
   "mimetype": "text/x-python",
   "name": "python",
   "nbconvert_exporter": "python",
   "pygments_lexer": "ipython3",
   "version": "3.10.8"
  }
 },
 "nbformat": 4,
 "nbformat_minor": 5
}
