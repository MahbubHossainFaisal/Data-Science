{
 "cells": [
  {
   "cell_type": "markdown",
   "id": "4f8d9461-5064-440c-9b11-a80141fcb0bb",
   "metadata": {},
   "source": [
    "Q1, Create a vehicle class with an init method having instance variables as name_of_vehicle, max_speed\n",
    "and average_of_vehicle."
   ]
  },
  {
   "cell_type": "code",
   "execution_count": 1,
   "id": "6a11d5f6-75ca-43e5-8e85-0cafce483c54",
   "metadata": {},
   "outputs": [],
   "source": [
    "class Vehicle:\n",
    "    def __init__(self,name,speed,average):\n",
    "        self.name_of_vehicle = name\n",
    "        self.max_speed = speed\n",
    "        self.average_of_vehicle = average\n",
    "        \n",
    "        \n",
    "        \n"
   ]
  },
  {
   "cell_type": "markdown",
   "id": "4bd97e56-b39f-4b15-a337-bd10b05b3524",
   "metadata": {},
   "source": [
    "Q2. Create a child class car from the vehicle class created in Que 1, which will inherit the vehicle class.\n",
    "Create a method named seating_capacity which takes capacity as an argument and returns the name of\n",
    "the vehicle and its seating capacity."
   ]
  },
  {
   "cell_type": "code",
   "execution_count": 2,
   "id": "be01f5a1-3c97-49f4-a850-fd39d2e765a6",
   "metadata": {},
   "outputs": [],
   "source": [
    "class Car(Vehicle):\n",
    "    def __init__(self,name,speed,average,capacity):\n",
    "        super().__init__(name,speed,average)\n",
    "        self.seating_capacity= capacity\n",
    "        \n",
    "    def get_name(self):\n",
    "        return self.name_of_vehicle\n",
    "    \n",
    "    def get_seating_capacity(self):\n",
    "        return self.seating_capacity\n",
    "    \n",
    "    \n",
    "    "
   ]
  },
  {
   "cell_type": "code",
   "execution_count": 3,
   "id": "a519db57-1793-4add-859c-14c12816de4b",
   "metadata": {},
   "outputs": [
    {
     "name": "stdout",
     "output_type": "stream",
     "text": [
      "BmW\n",
      "4\n"
     ]
    }
   ],
   "source": [
    "obj = Car('BmW','12 kph','2 kph',4)\n",
    "\n",
    "print(obj.get_name())\n",
    "print(obj.seating_capacity)"
   ]
  },
  {
   "cell_type": "markdown",
   "id": "0718cd59-6f2d-48f4-985d-2b30c76f4a28",
   "metadata": {},
   "source": [
    "Q3. What is multiple inheritance? Write a python code to demonstrate multiple inheritance."
   ]
  },
  {
   "cell_type": "markdown",
   "id": "a97ecddd-8fe4-4c86-8959-f88e2a5861bd",
   "metadata": {},
   "source": [
    "When more than one class inherit a single base class, that time it is called multiple inheritance."
   ]
  },
  {
   "cell_type": "code",
   "execution_count": 4,
   "id": "46e3c8c4-ae96-4feb-b613-53762a19f3d6",
   "metadata": {},
   "outputs": [],
   "source": [
    "class Vehicle:\n",
    "    def __init__(self,name,speed,average):\n",
    "        self.name_of_vehicle = name\n",
    "        self.max_speed = speed\n",
    "        self.average_of_vehicle = average\n",
    "\n",
    "class Car(Vehicle):\n",
    "    def __init__(self,name,speed,average,capacity):\n",
    "        super().__init__(name,speed,average)\n",
    "        self.seating_capacity= capacity\n",
    "        \n",
    "    def get_name(self):\n",
    "        return self.name_of_vehicle\n",
    "    \n",
    "    def get_seating_capacity(self):\n",
    "        return self.seating_capacity\n",
    "    \n",
    "    \n",
    "    \n",
    "class Bike(Vehicle):\n",
    "    def __init__(self,name,speed,average,milage):\n",
    "        super().__init__(name,speed,average)\n",
    "        self.milage = milage\n",
    "        \n",
    "    def get_milage(self):\n",
    "        return self.milage"
   ]
  },
  {
   "cell_type": "code",
   "execution_count": 5,
   "id": "215c248e-5778-46ce-9765-8722ee7d88c8",
   "metadata": {},
   "outputs": [
    {
     "name": "stdout",
     "output_type": "stream",
     "text": [
      "1\n"
     ]
    }
   ],
   "source": [
    "Bmw = Car('BmW','12KPH','2KPH',5)\n",
    "\n",
    "Yamaha = Bike('Yamaha','4KPH','1KPH',1)\n",
    "print(Yamaha.get_milage())"
   ]
  },
  {
   "cell_type": "code",
   "execution_count": null,
   "id": "1150e79e-91da-4328-8f55-1cfb6e06a9ef",
   "metadata": {},
   "outputs": [],
   "source": []
  },
  {
   "cell_type": "markdown",
   "id": "c626ac19-5f05-4a1e-aa72-a64303f5904e",
   "metadata": {},
   "source": [
    "Q4. What are getter and setter in python? Create a class and create a getter and a setter method in this\n",
    "class."
   ]
  },
  {
   "cell_type": "markdown",
   "id": "abca4229-6eee-48d7-b024-71bc4db16c82",
   "metadata": {},
   "source": [
    "Getter are Setter are the public methods of a class through which a user can get the access of a private attribute of a class.\n",
    "Getter is used to access the value of the attribute and setter is used to modify the attribute."
   ]
  },
  {
   "cell_type": "code",
   "execution_count": 10,
   "id": "4692af9f-7cad-44c3-a989-0771e7d4283d",
   "metadata": {},
   "outputs": [
    {
     "name": "stdout",
     "output_type": "stream",
     "text": [
      "Mahbub\n",
      "Faisal\n"
     ]
    }
   ],
   "source": [
    "class Student:\n",
    "    def __init__(self,name):\n",
    "        self.__name = name\n",
    "        \n",
    "    def get_name(self): #getter\n",
    "        return self.__name\n",
    "    \n",
    "    def set_name(self,newName): #setter\n",
    "        self.__name = newName\n",
    "        \n",
    "        \n",
    "        \n",
    "obj = Student('Mahbub')\n",
    "\n",
    "print(obj.get_name())\n",
    "\n",
    "obj.set_name('Faisal')\n",
    "\n",
    "print(obj.get_name())"
   ]
  },
  {
   "cell_type": "code",
   "execution_count": null,
   "id": "6c27389d-b1cc-4f43-b137-c64f436e7ba7",
   "metadata": {},
   "outputs": [],
   "source": []
  },
  {
   "cell_type": "markdown",
   "id": "942b199d-e914-409f-a2c0-cce20316a8eb",
   "metadata": {},
   "source": [
    "Q5.What is method overriding in python? Write a python code to demonstrate method overriding."
   ]
  },
  {
   "cell_type": "markdown",
   "id": "7441db00-4c7f-49fc-9879-4f9f8237c827",
   "metadata": {},
   "source": [
    "Method overriding is a concept where a subclass of a base class use a method in it's own way which is already used in the base class also. But the subclass\n",
    "use the same named method but in a different way.\n"
   ]
  },
  {
   "cell_type": "code",
   "execution_count": 15,
   "id": "6ca2f110-b8b5-441e-abe5-d3311c1d76b4",
   "metadata": {},
   "outputs": [
    {
     "name": "stdout",
     "output_type": "stream",
     "text": [
      "Faisal\n",
      "Jahid\n"
     ]
    }
   ],
   "source": [
    "class Human:\n",
    "    def __init__(self,name):\n",
    "        self.name = name\n",
    "        \n",
    "    def get_name(self):\n",
    "        print(self.name)\n",
    "        \n",
    "        \n",
    "class Boy(Human):\n",
    "    def __init__(self,name):\n",
    "        super().__init__(name)\n",
    "        \n",
    "    def get_name(self): #method overriding\n",
    "        print(self.name)\n",
    "        \n",
    "        \n",
    "obj1 = Human('Faisal')\n",
    "obj1.get_name()\n",
    "\n",
    "obj2 = Boy('Jahid')\n",
    "obj2.get_name()\n",
    "    "
   ]
  },
  {
   "cell_type": "code",
   "execution_count": null,
   "id": "6bcce74b-acd2-436f-867a-2edf6c9f0a9b",
   "metadata": {},
   "outputs": [],
   "source": []
  }
 ],
 "metadata": {
  "kernelspec": {
   "display_name": "Python 3 (ipykernel)",
   "language": "python",
   "name": "python3"
  },
  "language_info": {
   "codemirror_mode": {
    "name": "ipython",
    "version": 3
   },
   "file_extension": ".py",
   "mimetype": "text/x-python",
   "name": "python",
   "nbconvert_exporter": "python",
   "pygments_lexer": "ipython3",
   "version": "3.10.8"
  }
 },
 "nbformat": 4,
 "nbformat_minor": 5
}
