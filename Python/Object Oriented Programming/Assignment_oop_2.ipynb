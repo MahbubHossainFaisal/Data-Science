{
 "cells": [
  {
   "cell_type": "markdown",
   "id": "1c71c59b-4e3b-4bfe-a2eb-1b1f70608a99",
   "metadata": {},
   "source": [
    "Q1. What is Abstraction in OOps? Explain with an example."
   ]
  },
  {
   "cell_type": "markdown",
   "id": "2fcc251f-f2c4-43f2-9211-593864945840",
   "metadata": {},
   "source": [
    "Abstraction is an oop concept in which hides the complexity of codes and just showcase the required functionality to the user.\n",
    "For example, When we make a button in a website, user don't see the codes , css, html to create that button but user can click and use the functionalities of that button without\n",
    "knowing how the button is created because that is not necessary for the user  to know. So the hiding of the codebase of button is abstraction."
   ]
  },
  {
   "cell_type": "code",
   "execution_count": 6,
   "id": "0ebd3fb2-ba49-46be-864b-d81a4cdbc025",
   "metadata": {},
   "outputs": [
    {
     "name": "stdout",
     "output_type": "stream",
     "text": [
      "This is a car engine\n",
      "This is a bike engine\n"
     ]
    }
   ],
   "source": [
    "from abc import ABC,abstractmethod\n",
    "\n",
    "class Vehicle:\n",
    "    @abstractmethod\n",
    "    def engine_def(self):\n",
    "        pass\n",
    "    \n",
    "\n",
    "class Car(Vehicle):\n",
    "    \n",
    "    def engine_def(self):\n",
    "        print('This is a car engine')\n",
    "        \n",
    "    \n",
    "class bike(Vehicle):\n",
    "    def engine_def(self):\n",
    "        print('This is a bike engine')\n",
    "        \n",
    "        \n",
    "bmw = Car()\n",
    "bmw.engine_def()\n",
    "\n",
    "yamaha = bike()\n",
    "yamaha.engine_def()"
   ]
  },
  {
   "cell_type": "code",
   "execution_count": null,
   "id": "a24b9d03-26e7-41ce-98c8-1366654a1f96",
   "metadata": {},
   "outputs": [],
   "source": []
  },
  {
   "cell_type": "markdown",
   "id": "6781f497-92d8-450d-b80f-49a023dee145",
   "metadata": {},
   "source": [
    "Q2. Differentiate between Abstraction and Encapsulation. Explain with an example."
   ]
  },
  {
   "cell_type": "markdown",
   "id": "42f892e9-218b-4fbc-a7e2-cb1d4b90a492",
   "metadata": {},
   "source": [
    "Abstraction is hiding the complexity of code and irrevalant things from the user where encapsulation is making attributes and method of classes private for security and better code organisation.\n",
    "Abstraction put some constraints to the programmer while writing code where encapsulation tell the programmar to not access certain attributes or methods of a class from outside. Programmar can use the public methods to retain the private attribute values."
   ]
  },
  {
   "cell_type": "code",
   "execution_count": 13,
   "id": "330b709c-adbc-4cff-970c-f3e67ba10c8a",
   "metadata": {},
   "outputs": [
    {
     "name": "stdout",
     "output_type": "stream",
     "text": [
      "This is a car engine\n",
      "BMW\n",
      "This is a bike engine\n",
      "YAMAHA\n"
     ]
    }
   ],
   "source": [
    "from abc import ABC,abstractmethod\n",
    "\n",
    "class Vehicle:\n",
    "    @abstractmethod\n",
    "    def engine_def(self):\n",
    "        pass\n",
    "    \n",
    "\n",
    "class Car(Vehicle):\n",
    "    def __init__(self,name):\n",
    "        self.__name = name\n",
    "    \n",
    "    \n",
    "    def getName(self):\n",
    "        return self.__name\n",
    "        \n",
    "        \n",
    "    def engine_def(self):\n",
    "        print('This is a car engine')\n",
    "        \n",
    "    \n",
    "class bike(Vehicle):\n",
    "    def __init__(self,name):\n",
    "        self.__name = name\n",
    "        \n",
    "    def getName(self):\n",
    "        return self.__name\n",
    "        \n",
    "    def engine_def(self):\n",
    "        print('This is a bike engine')\n",
    "        \n",
    "        \n",
    "bmw = Car('BMW')\n",
    "bmw.engine_def()\n",
    "print(bmw.getName())\n",
    "\n",
    "\n",
    "yamaha = bike('YAMAHA')\n",
    "yamaha.engine_def()\n",
    "print(yamaha.getName())"
   ]
  },
  {
   "cell_type": "code",
   "execution_count": null,
   "id": "6097ef4f-7251-4ab9-b9c8-d0905dfc51d6",
   "metadata": {},
   "outputs": [],
   "source": []
  },
  {
   "cell_type": "markdown",
   "id": "d3b87ba8-a08c-495d-a217-dbf2d07842c5",
   "metadata": {},
   "source": [
    "Q3. What is abc module in python? Why is it used?"
   ]
  },
  {
   "cell_type": "markdown",
   "id": "a0ff1ddd-57d5-4b19-871d-cf3b3d8a92f3",
   "metadata": {},
   "source": [
    "abc module is called the abstract base class module which helps to build the abstract class in python.\n",
    "To create a abstract method we need to use the decorator @abstractmethod which comes from the abc module.\n",
    "That's why it is used."
   ]
  },
  {
   "cell_type": "code",
   "execution_count": null,
   "id": "797e1b52-347a-4da9-bd44-2c03125e1a61",
   "metadata": {},
   "outputs": [],
   "source": []
  },
  {
   "cell_type": "markdown",
   "id": "f027e2ed-d084-4182-8d95-281c8bd204e2",
   "metadata": {},
   "source": [
    "Q4. How can we achieve data abstraction?"
   ]
  },
  {
   "cell_type": "markdown",
   "id": "af8cba9c-9d2c-4254-bccf-904e989b56e7",
   "metadata": {},
   "source": [
    "We can achieve data abstraction by providing encapsulation and absraction in among classes.\n",
    "\n",
    "1) We can make private attributes for classes so they should not be used from outside. For using them from outside of the class we can create public methods of them.\n",
    "2) We can make abstract classes where method will be created but they will be empty. But they have to be implemented by subclasses who will inherit the abstract class.\n",
    "\n",
    "By doing these abstraction techniques we can create clean, easy to maintain code and can extend them whenever needed."
   ]
  },
  {
   "cell_type": "code",
   "execution_count": null,
   "id": "3a706100-0308-45d2-8131-21efd7b607f7",
   "metadata": {},
   "outputs": [],
   "source": []
  },
  {
   "cell_type": "markdown",
   "id": "a688dcfd-2a16-40a4-a8c2-44898a39a3fb",
   "metadata": {},
   "source": [
    "Q5. Can we create an instance of an abstract class? Explain your answer."
   ]
  },
  {
   "cell_type": "markdown",
   "id": "3adccc2f-caf7-4086-a348-da306d553a43",
   "metadata": {},
   "source": [
    "We can't create an instance of an abstract class. Because an abstract class will have one or more abstract method implemented in it which will have no implementation details.\n",
    "This methods have to be used by the subclasses which will inherit the abstract classes to make their different statements according to their choice.\n",
    "As abstract methods don't have anything to return or work with , so creating their instance will not bring any value also will bring typeerror. If we make a summary,\n",
    "abstract classes are made for the subclasses to use the abstract methods under it, so it can't have it's own object or instance."
   ]
  },
  {
   "cell_type": "code",
   "execution_count": null,
   "id": "a3f266e6-31bd-40cf-b23b-64003dd11efa",
   "metadata": {},
   "outputs": [],
   "source": []
  }
 ],
 "metadata": {
  "kernelspec": {
   "display_name": "Python 3 (ipykernel)",
   "language": "python",
   "name": "python3"
  },
  "language_info": {
   "codemirror_mode": {
    "name": "ipython",
    "version": 3
   },
   "file_extension": ".py",
   "mimetype": "text/x-python",
   "name": "python",
   "nbconvert_exporter": "python",
   "pygments_lexer": "ipython3",
   "version": "3.10.8"
  }
 },
 "nbformat": 4,
 "nbformat_minor": 5
}
