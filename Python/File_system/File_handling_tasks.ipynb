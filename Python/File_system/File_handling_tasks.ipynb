{
  "nbformat": 4,
  "nbformat_minor": 0,
  "metadata": {
    "colab": {
      "provenance": []
    },
    "kernelspec": {
      "name": "python3",
      "display_name": "Python 3"
    },
    "language_info": {
      "name": "python"
    }
  },
  "cells": [
    {
      "cell_type": "markdown",
      "source": [
        "### `Q-1:` Write a function `get_final_line(filename)`, which takes filename as input and return final line of the file.\n",
        "\n",
        "Note: You can choose any file of your choice."
      ],
      "metadata": {
        "id": "MbeMdx5d5qRj"
      }
    },
    {
      "cell_type": "code",
      "source": [
        "# Write code here\n",
        "\n",
        "with open('sample.txt','w') as f:\n",
        "  f.writelines('Hello!\\n')\n",
        "  f.writelines('I am learning file handling!\\n')\n",
        "  f.writelines('It is really interesting.')\n",
        "\n",
        "\n",
        "def get_final_line(filename):\n",
        "    with open(filename, 'r') as file:\n",
        "        lines = file.readlines()\n",
        "        print(lines)\n",
        "        if lines:\n",
        "            return lines[-1].strip()\n",
        "        else:\n",
        "            return ''\n",
        "\n",
        "\n",
        "get_final_line('sample.txt')\n",
        "\n",
        "\n"
      ],
      "metadata": {
        "id": "rjx9XRTq5uzD",
        "colab": {
          "base_uri": "https://localhost:8080/",
          "height": 53
        },
        "outputId": "2c08bebf-c8bf-47b6-f6ca-006d92e75f38"
      },
      "execution_count": 1,
      "outputs": [
        {
          "output_type": "stream",
          "name": "stdout",
          "text": [
            "['Hello!\\n', 'I am learning file handling!\\n', 'It is really interesting.']\n"
          ]
        },
        {
          "output_type": "execute_result",
          "data": {
            "text/plain": [
              "'It is really interesting.'"
            ],
            "application/vnd.google.colaboratory.intrinsic+json": {
              "type": "string"
            }
          },
          "metadata": {},
          "execution_count": 1
        }
      ]
    },
    {
      "cell_type": "markdown",
      "source": [
        "what **readlines()** do is it makes an array and makes every text line it's elements.\n",
        "So then we can get the last element as last line and show the text.\n",
        "\n",
        "and with **strip()**  leading and trailing whitespace characters got removed"
      ],
      "metadata": {
        "id": "0N7StVqiuyEc"
      }
    },
    {
      "cell_type": "code",
      "source": [],
      "metadata": {
        "id": "aQ5RuKhX7_bL"
      },
      "execution_count": 1,
      "outputs": []
    },
    {
      "cell_type": "markdown",
      "source": [
        "###`Q-2:` Read through a text file, line by line. Use a dict to keep track of how many times each vowel (a, e, i, o, and u) appears in the file. Print the resulting tabulation -- dictionary. "
      ],
      "metadata": {
        "id": "B87Z6-yQ5wVO"
      }
    },
    {
      "cell_type": "code",
      "source": [
        "# Write code here\n",
        "vowels = {\n",
        "    'a':0,\n",
        "    'e':0,\n",
        "    'i':0,\n",
        "    'o':0,\n",
        "    'u':0\n",
        "}\n",
        "with open('sample.txt', 'r') as file:\n",
        "  while True:\n",
        "    letter = file.read(1)\n",
        "\n",
        "    if not letter:\n",
        "      break\n",
        "    \n",
        "    if letter.lower() in 'aeiou':\n",
        "      vowels[letter.lower()] +=1\n",
        "\n",
        "\n",
        "print(vowels)"
      ],
      "metadata": {
        "id": "XeXnOL7X50Sa",
        "colab": {
          "base_uri": "https://localhost:8080/"
        },
        "outputId": "f0c92310-17fa-41c5-9f78-044926bc755b"
      },
      "execution_count": 2,
      "outputs": [
        {
          "output_type": "stream",
          "name": "stdout",
          "text": [
            "{'a': 4, 'e': 6, 'i': 8, 'o': 1, 'u': 0}\n"
          ]
        }
      ]
    },
    {
      "cell_type": "markdown",
      "source": [
        "###`Q-3:` Create a text file (using an editor, not necessarily Python) containing two tab separated columns, with each column containing a number. Then use Python to read through the file you’ve created. For each line, multiply each first number by the second and include it in the file in third column. In last add a line Total, by summing the value of third column\n",
        "\n"
      ],
      "metadata": {
        "id": "lRqQ2Y295-Gg"
      }
    },
    {
      "cell_type": "markdown",
      "source": [
        "Input File example: That you need to create\n",
        "```\n",
        "1   2\n",
        "3   4\n",
        "5   6\n",
        "7   8\n",
        "9   10\n",
        "\n",
        "```\n",
        "\n",
        "Output File Example:\n",
        "```\n",
        "1   2   2\n",
        "3   4   12\n",
        "5   6   30\n",
        "7   8   56\n",
        "9   10  90\n",
        "Total   190\n",
        "```\n"
      ],
      "metadata": {
        "id": "GtFfahZc6Bvg"
      }
    },
    {
      "cell_type": "code",
      "source": [
        "# write code here\n",
        "\n",
        "with open('numbers.txt', 'r+') as file:\n",
        "   lines = file.readlines()\n",
        "   #print(lines)\n",
        "   total = 0\n",
        "   for index,line in enumerate(lines):\n",
        "     a,b = line.split()\n",
        "     c = int(a) * int(b)\n",
        "\n",
        "     lines[index] = '{}   {}    {}\\n'.format(a,b,c)\n",
        "     total +=c\n",
        "\n",
        "   lines.append('Total    {}'.format(total))\n",
        "   file.seek(0)\n",
        "   file.truncate()\n",
        "   file.writelines(lines)\n",
        "     \n"
      ],
      "metadata": {
        "id": "GiKvqHnr5-j2",
        "colab": {
          "base_uri": "https://localhost:8080/",
          "height": 235
        },
        "outputId": "4f7897d6-5963-49a2-8f65-83dec9dc0a6f"
      },
      "execution_count": 3,
      "outputs": [
        {
          "output_type": "error",
          "ename": "ValueError",
          "evalue": "ignored",
          "traceback": [
            "\u001b[0;31m---------------------------------------------------------------------------\u001b[0m",
            "\u001b[0;31mValueError\u001b[0m                                Traceback (most recent call last)",
            "\u001b[0;32m<ipython-input-3-6dce0b9f63ee>\u001b[0m in \u001b[0;36m<cell line: 3>\u001b[0;34m()\u001b[0m\n\u001b[1;32m      6\u001b[0m    \u001b[0mtotal\u001b[0m \u001b[0;34m=\u001b[0m \u001b[0;36m0\u001b[0m\u001b[0;34m\u001b[0m\u001b[0;34m\u001b[0m\u001b[0m\n\u001b[1;32m      7\u001b[0m    \u001b[0;32mfor\u001b[0m \u001b[0mindex\u001b[0m\u001b[0;34m,\u001b[0m\u001b[0mline\u001b[0m \u001b[0;32min\u001b[0m \u001b[0menumerate\u001b[0m\u001b[0;34m(\u001b[0m\u001b[0mlines\u001b[0m\u001b[0;34m)\u001b[0m\u001b[0;34m:\u001b[0m\u001b[0;34m\u001b[0m\u001b[0;34m\u001b[0m\u001b[0m\n\u001b[0;32m----> 8\u001b[0;31m      \u001b[0ma\u001b[0m\u001b[0;34m,\u001b[0m\u001b[0mb\u001b[0m \u001b[0;34m=\u001b[0m \u001b[0mline\u001b[0m\u001b[0;34m.\u001b[0m\u001b[0msplit\u001b[0m\u001b[0;34m(\u001b[0m\u001b[0;34m)\u001b[0m\u001b[0;34m\u001b[0m\u001b[0;34m\u001b[0m\u001b[0m\n\u001b[0m\u001b[1;32m      9\u001b[0m      \u001b[0mc\u001b[0m \u001b[0;34m=\u001b[0m \u001b[0mint\u001b[0m\u001b[0;34m(\u001b[0m\u001b[0ma\u001b[0m\u001b[0;34m)\u001b[0m \u001b[0;34m*\u001b[0m \u001b[0mint\u001b[0m\u001b[0;34m(\u001b[0m\u001b[0mb\u001b[0m\u001b[0;34m)\u001b[0m\u001b[0;34m\u001b[0m\u001b[0;34m\u001b[0m\u001b[0m\n\u001b[1;32m     10\u001b[0m \u001b[0;34m\u001b[0m\u001b[0m\n",
            "\u001b[0;31mValueError\u001b[0m: too many values to unpack (expected 2)"
          ]
        }
      ]
    },
    {
      "cell_type": "markdown",
      "source": [
        "Here **readlines()** makes an array from file where every index has a line stored in it.\n",
        "\n",
        "Then, we **split()** every index and got the two digits and stored that to a,b\n",
        "\n",
        "Then we also keep a*b in c\n",
        "\n",
        "Then, we modified the index with our new format.\n",
        "Also we kept the total counting.\n",
        "\n",
        "At last we added the last format in the lines list, that was asked to append at the last of the file.\n",
        "\n",
        "Then, we made **seek(0)** so that the pointer could point in the first character of the file.\n",
        "\n",
        "Then, we **truncated()** the file so no value remains the file.\n",
        "\n",
        "then we use **writelines()** to write in the files from the lines array line by line."
      ],
      "metadata": {
        "id": "J5CvTPaxOXuG"
      }
    },
    {
      "cell_type": "markdown",
      "source": [
        "###`Q-4:` Create line wise reverse of a file\n",
        "Write a function which takes two arguments: the names of the input file (to be read from) and the output file (which will be created)."
      ],
      "metadata": {
        "id": "DunQepHC6J9r"
      }
    },
    {
      "cell_type": "markdown",
      "source": [
        "For example, if a file looks like\n",
        " ```\n",
        "abc def\n",
        "ghi jkl\n",
        "```\n",
        "then the output file will be\n",
        "```\n",
        "fed cba\n",
        "lkj ihg\n",
        "```\n",
        "**Notice**: The newline remains at the end of the string, while the rest of the characters are all reversed."
      ],
      "metadata": {
        "id": "QxWEtFle6Nmu"
      }
    },
    {
      "cell_type": "code",
      "source": [
        "# write code here\n",
        "revLines=[]\n",
        "def reverseFile(inputFile,outputFile):\n",
        "  with open(inputFile,'r') as file:\n",
        "    lines = file.readlines()\n",
        "    revLines = [line.rstrip()[::-1] + '\\n' for line in lines]\n",
        "    print(revLines)\n",
        "  with open(outputFile,'w') as file:\n",
        "    file.writelines(revLines)\n",
        "\n",
        "\n",
        "reverseFile('letters.txt','revLetters.txt')\n"
      ],
      "metadata": {
        "id": "aIJTJNAq6LD7"
      },
      "execution_count": null,
      "outputs": []
    },
    {
      "cell_type": "markdown",
      "source": [
        "So, what **rstript()** doing in this code is, it is removing extra trailing characters like here it is removing (\\n) so that we can reverse the needed string.\n",
        "\n",
        "Then we are adding newline so that the strings can get organised in the text file."
      ],
      "metadata": {
        "id": "8jxN0ov0XXPl"
      }
    },
    {
      "cell_type": "markdown",
      "source": [],
      "metadata": {
        "id": "RtT3_kO1XTzN"
      }
    },
    {
      "cell_type": "markdown",
      "source": [
        "###`Q-5:` Create a Serialized dict of frequency of words in the file. And from given list of words, using serialized dict show word count.\n",
        "\n",
        "* List of word will be given\n",
        "\n"
      ],
      "metadata": {
        "id": "wqvx3sMY6bou"
      }
    },
    {
      "cell_type": "markdown",
      "source": [
        "Given String\n",
        "\n",
        "```\n",
        "strings = \"\"\"Alice was beginning to get very tired of sitting by her sister\n",
        "            on the bank, and of having nothing to do:  once or twice she had\n",
        "            peeped into the book her sister was reading, but it had no\n",
        "            pictures or conversations in it, `and what is the use of a book,'\n",
        "            thought Alice `without pictures or conversation?'\n",
        "\n",
        "            So she was considering in her own mind (as well as she could,\n",
        "            for the hot day made her feel very sleepy and stupid), whether\n",
        "            the pleasure of making a daisy-chain would be worth the trouble\n",
        "            of getting up and picking the daisies, when suddenly a White\n",
        "            Rabbit with pink eyes ran close by her.\n",
        "\n",
        "            There was nothing so VERY remarkable in that; nor did Alice\n",
        "            think it so VERY much out of the way to hear the Rabbit say to\n",
        "            itself, `Oh dear!  Oh dear!  I shall be late!'  (when she thought\n",
        "            it over afterwards, it occurred to her that she ought to have\n",
        "            wondered at this, but at the time it all seemed quite natural);\n",
        "            but when the Rabbit actually TOOK A WATCH OUT OF ITS WAISTCOAT-\n",
        "            POCKET, and looked at it, and then hurried on, Alice started to\n",
        "            her feet, for it flashed across her mind that she had never\n",
        "            before seen a rabbit with either a waistcoat-pocket, or a watch to\n",
        "            take out of it, and burning with curiosity, she ran across the\n",
        "            field after it, and fortunately was just in time to see it pop\n",
        "            down a large rabbit-hole under the hedge.\"\"\"\n",
        "\n",
        "word_list = ['alice', 'wonder', 'natural']\n",
        "```"
      ],
      "metadata": {
        "id": "uc5MSUWg6cZG"
      }
    },
    {
      "cell_type": "code",
      "source": [
        "# write code here\n",
        "import re\n",
        "import json\n",
        "\n",
        "strings = \"\"\"Alice was beginning to get very tired of sitting by her sister\n",
        "            on the bank, and of having nothing to do:  once or twice she had\n",
        "            peeped into the book her sister was reading, but it had no\n",
        "            pictures or conversations in it, `and what is the use of a book,'\n",
        "            thought Alice `without pictures or conversation?'\n",
        "\n",
        "            So she was considering in her own mind (as well as she could,\n",
        "            for the hot day made her feel very sleepy and stupid), whether\n",
        "            the pleasure of making a daisy-chain would be worth the trouble\n",
        "            of getting up and picking the daisies, when suddenly a White\n",
        "            Rabbit with pink eyes ran close by her.\n",
        "\n",
        "            There was nothing so VERY remarkable in that; nor did Alice\n",
        "            think it so VERY much out of the way to hear the Rabbit say to\n",
        "            itself, `Oh dear!  Oh dear!  I shall be late!'  (when she thought\n",
        "            it over afterwards, it occurred to her that she ought to have\n",
        "            wondered at this, but at the time it all seemed quite natural);\n",
        "            but when the Rabbit actually TOOK A WATCH OUT OF ITS WAISTCOAT-\n",
        "            POCKET, and looked at it, and then hurried on, Alice started to\n",
        "            her feet, for it flashed across her mind that she had never\n",
        "            before seen a rabbit with either a waistcoat-pocket, or a watch to\n",
        "            take out of it, and burning with curiosity, she ran across the\n",
        "            field after it, and fortunately was just in time to see it pop\n",
        "            down a large rabbit-hole under the hedge.\"\"\"\n",
        "\n",
        "\n",
        "# first we will only take the words from the string\n",
        "\n",
        "words = re.sub(r'[^\\w\\s]','',strings).lower().split()\n",
        "#print(words)  # we will get the array of words\n",
        "\n",
        "\n",
        "word_freq = {}\n",
        "\n",
        "for word in words:\n",
        "  if word in word_freq.keys():\n",
        "    word_freq[word] +=1\n",
        "  else:\n",
        "    word_freq[word] = 1\n",
        "\n",
        "#print(word_freq)\n",
        "\n",
        "word_list = ['alice', 'wonder', 'natural']\n",
        "\n",
        "d ={}\n",
        "\n",
        "for i in word_list:\n",
        "  if i in word_freq.keys():\n",
        "    print(i)\n",
        "    d[i] = word_freq[i]\n",
        "\n",
        "with open('demo.json','w') as f:\n",
        "  json.dump(d,f,indent=4)\n",
        "\n",
        "\n",
        "with open('demo.json','r') as f:\n",
        "  d = json.load(f)\n",
        "  print(d)\n",
        "  print(type(d))"
      ],
      "metadata": {
        "id": "-SmtFFUq6a70"
      },
      "execution_count": null,
      "outputs": []
    },
    {
      "cell_type": "markdown",
      "source": [
        "### **`Q-6:`** Given a string calculate length of the string using recursion.\n",
        "\n",
        "**Example 1:**\n",
        "\n",
        "Input:\n",
        "```bash\n",
        "\"abcd\"\n",
        "```\n",
        "\n",
        "Output:\n",
        "\n",
        "```bash\n",
        "4\n",
        "```\n",
        "\n",
        "**Example 2:**\n",
        "\n",
        "Input:\n",
        "```bash\n",
        "DataScience\n",
        "```\n",
        "\n",
        "Output:\n",
        "\n",
        "```bash\n",
        "11\n",
        "```\n"
      ],
      "metadata": {
        "id": "Und2HuFW6kAw"
      }
    },
    {
      "cell_type": "code",
      "source": [
        "# Write code here\n",
        "\n",
        "def returnLength(data):\n",
        "  if len(data) == 0:\n",
        "    return 0\n",
        "\n",
        "  return 1 + returnLength(data[0:len(data)-1])\n",
        "\n",
        "data = 'DataScience'\n",
        "\n",
        "ans = returnLength(data)\n",
        "print(ans)"
      ],
      "metadata": {
        "id": "9HE7lB5W61gT",
        "colab": {
          "base_uri": "https://localhost:8080/"
        },
        "outputId": "cbe23882-bbc8-4630-8d72-e82c3a187d8f"
      },
      "execution_count": 2,
      "outputs": [
        {
          "output_type": "stream",
          "name": "stdout",
          "text": [
            "11\n"
          ]
        }
      ]
    },
    {
      "cell_type": "markdown",
      "source": [
        "### **`Q-7:`** Write a function that accepts two numbers and returns their greatest common divisior. Without using any loop\n",
        "\n",
        "def gcd(int, int) => int\n",
        "\n",
        "```\n",
        "gcd(16,24) will give 8\n",
        "```"
      ],
      "metadata": {
        "id": "iUDvc-jl6759"
      }
    },
    {
      "cell_type": "code",
      "source": [
        "# Write code here\n",
        "# Write code here\n",
        "gcd = 1\n",
        "def findgcd(n1,n2,counter):\n",
        "  global gcd\n",
        "  \n",
        "  m = min(n1,n2)\n",
        "  if counter>m:\n",
        "    return gcd\n",
        "  if int(n1%counter)==0 and int(n2%counter) == 0:\n",
        "    gcd = counter\n",
        "  \n",
        "  counter+=1\n",
        "  findgcd(n1,n2,counter)\n",
        "  return gcd\n",
        "\n",
        "ans = findgcd(10,20,1)\n",
        "print(ans)"
      ],
      "metadata": {
        "id": "uMQnojHR7O2S"
      },
      "execution_count": null,
      "outputs": []
    },
    {
      "cell_type": "markdown",
      "source": [
        " ### `Q-8:` String Edit Distance\n",
        "\n",
        " Use your recursive function to write a program that reads two strings from the\n",
        "user and displays the edit distance between them.\n",
        "\n",
        "*The edit distance between two strings is a measure of their similarity—the smaller the edit distance, the more similar the strings are with regard to the minimum number of insert, delete and substitute operations needed to transform one string into the other.*\n",
        "\n",
        "Consider the strings `kitten` and `sitting`. The first string can be transformed\n",
        "into the second string with the following operations: \n",
        "* Substitute the `k` with an `s`, \n",
        "* substitute the `e` with an `i`, \n",
        "* and insert a `g` at the end of the string. \n",
        "\n",
        "This is the smallest number of operations that can be performed to transform kitten into sitting. As a result, the edit distance is `3`.\n",
        "\n",
        "\n",
        "Write a recursive function that computes the edit distance between two strings.\n",
        "\n",
        "Use the following algorithm:\n",
        "\n",
        "```\n",
        "Let s and t be the strings\n",
        "    If the length of s is 0 then\n",
        "        Return the length of t\n",
        "    Else if the length of t is 0 then\n",
        "        Return the length of s\n",
        "    Else\n",
        "        Set cost to 0\n",
        "        If the last character in s does not equal the last character in t then\n",
        "            Set cost to 1\n",
        "        Set d1 equal to the edit distance between all characters except the last one in s, and all characters in t, plus 1\n",
        "        Set d2 equal to the edit distance between all characters in s, and all characters except the last one in t, plus 1\n",
        "\n",
        "        Set d3 equal to the edit distance between all characters except the last one in s, and all characters except the last one in t, plus cost\n",
        "        Return the minimum of d1, d2 and d3\n",
        "```\n",
        "\n",
        "\n",
        "\n"
      ],
      "metadata": {
        "id": "wFD35fva7Q_B"
      }
    },
    {
      "cell_type": "code",
      "source": [
        "# write code here\n",
        "def edit_distance(str1, str2):\n",
        "    if len(str1) == 0:\n",
        "        return len(str2)\n",
        "    if len(str2) == 0:\n",
        "        return len(str1)\n",
        "    if str1[-1] == str2[-1]:\n",
        "        cost = 0\n",
        "    else:\n",
        "        cost = 1\n",
        "    return min(edit_distance(str1[:-1], str2) + 1,\n",
        "               edit_distance(str1, str2[:-1]) + 1,\n",
        "               edit_distance(str1[:-1], str2[:-1]) + cost)\n",
        "\n",
        "str1 = input(\"Enter the first string: \")\n",
        "str2 = input(\"Enter the second string: \")\n",
        "print(\"The edit distance between the two strings is: \", edit_distance(str1, str2))\n",
        "\n",
        "\n",
        "d1 = 'kitten'\n",
        "d2 = 'sitting'\n",
        "\n",
        "\n",
        "edit_distance(d1,d2)\n",
        "print(ans)"
      ],
      "metadata": {
        "id": "zlNy_Q987QOX",
        "colab": {
          "base_uri": "https://localhost:8080/"
        },
        "outputId": "7aae1f66-e03e-471f-ebcb-068e999eb3c7"
      },
      "execution_count": 3,
      "outputs": [
        {
          "output_type": "stream",
          "name": "stdout",
          "text": [
            "Enter the first string: kitten\n",
            "Enter the second string: sitting\n",
            "The edit distance between the two strings is:  3\n",
            "11\n"
          ]
        }
      ]
    },
    {
      "cell_type": "markdown",
      "source": [
        "###`Q-9:` Run-Length Encoding\n",
        "\n",
        "Run-length encoding is a simple data compression technique that can be effective when repeated values occur at adjacent positions within a list. Compression is achieved by replacing groups of repeated values with one copy of the value, followed by the number of times that the value should be repeated. For example, the list \n",
        "```\n",
        "[\"A\", \"A\", \"A\", \"A\", \"A\", \"A\", \"A\", \"A\", \"A\", \"A\", \"A\", \"A\", \"B\", \"B\", \"B\", \"B\", \"A\", \"A\", \"A\", \"A\", \"A\", \"A\", \"B\"]\n",
        "```\n",
        "would be compressed as `[\"A\", 12, \"B\", 4, \"A\", 6, \"B\", 1]`. \n",
        "\n",
        "Write a recursive function that implements the run-length compression technique\n",
        "described above. Your function will take a list or a string as its only parameter. It should return the run-length compressed list as its only result. Include a main program that reads a string from the user, compresses it, and displays the run-length encoded result."
      ],
      "metadata": {
        "id": "Hc9e-qES7iAK"
      }
    },
    {
      "cell_type": "code",
      "source": [
        "# Write code here\n",
        "arr = [\"A\", \"A\", \"A\", \"A\", \"A\", \"A\", \"A\", \"A\", \"A\", \"A\", \"A\", \"A\", \"B\", \"B\", \"B\", \"B\", \"A\", \"A\", \"A\", \"A\", \"A\", \"A\", \"B\"]\n",
        "res=[]\n",
        "\n",
        "flag=arr[0]\n",
        "counter=0\n",
        "def encode(arr):\n",
        "  global res\n",
        "  global flag\n",
        "  global counter\n",
        "  if len(arr) == 0:\n",
        "    res.append(flag)\n",
        "    res.append(counter)\n",
        "    return\n",
        "  if arr[0] == flag:\n",
        "    counter+=1\n",
        "  else:\n",
        "    res.append(flag)\n",
        "    res.append(counter)\n",
        "    counter=1\n",
        "    flag=arr[0]\n",
        "\n",
        "  encode(arr[1:])\n",
        "  \n",
        "\n",
        "encode(arr)\n",
        "print(res)"
      ],
      "metadata": {
        "id": "W2Wb_WzP7qM1",
        "colab": {
          "base_uri": "https://localhost:8080/"
        },
        "outputId": "cedbfcf5-f492-483f-80a6-0348e21f9e57"
      },
      "execution_count": 4,
      "outputs": [
        {
          "output_type": "stream",
          "name": "stdout",
          "text": [
            "['A', 12, 'B', 4, 'A', 6, 'B', 1]\n"
          ]
        }
      ]
    },
    {
      "cell_type": "markdown",
      "source": [
        "###`Q-10:` Write a recursive function to convert a decimal to binary"
      ],
      "metadata": {
        "id": "x6A-4vGC8SLs"
      }
    },
    {
      "cell_type": "code",
      "source": [
        "# Write code here\n",
        "\n",
        "# Write code here\n",
        "st=''\n",
        "def dtob(num):\n",
        "  global st\n",
        "  if num<1:\n",
        "    return 1\n",
        "  x=int(num%2)\n",
        "  dtob(num/2)\n",
        "  st+=str(x)\n",
        "  #print(st)\n",
        "  return st\n",
        "\n",
        "\n",
        "ans = dtob(132)\n",
        "\n",
        "print(ans)\n",
        "\n"
      ],
      "metadata": {
        "id": "izOr6D9V8aME",
        "colab": {
          "base_uri": "https://localhost:8080/"
        },
        "outputId": "6d968b01-acfe-4b61-854b-bd9f991d95d3"
      },
      "execution_count": 5,
      "outputs": [
        {
          "output_type": "stream",
          "name": "stdout",
          "text": [
            "10000100\n"
          ]
        }
      ]
    },
    {
      "cell_type": "code",
      "source": [],
      "metadata": {
        "id": "YiCs1p5F2rZ5"
      },
      "execution_count": null,
      "outputs": []
    }
  ]
}