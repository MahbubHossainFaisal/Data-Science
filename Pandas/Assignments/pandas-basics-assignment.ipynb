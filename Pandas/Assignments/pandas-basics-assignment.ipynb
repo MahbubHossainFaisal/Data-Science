{
 "cells": [
  {
   "cell_type": "code",
   "execution_count": 1,
   "id": "ad010b8c-c3d7-4179-97f7-22ddec32dc5c",
   "metadata": {},
   "outputs": [
    {
     "name": "stdout",
     "output_type": "stream",
     "text": [
      "Requirement already satisfied: pandas in /opt/conda/lib/python3.10/site-packages (1.5.2)\n",
      "Requirement already satisfied: python-dateutil>=2.8.1 in /opt/conda/lib/python3.10/site-packages (from pandas) (2.8.2)\n",
      "Requirement already satisfied: pytz>=2020.1 in /opt/conda/lib/python3.10/site-packages (from pandas) (2022.6)\n",
      "Requirement already satisfied: numpy>=1.21.0 in /opt/conda/lib/python3.10/site-packages (from pandas) (1.23.5)\n",
      "Requirement already satisfied: six>=1.5 in /opt/conda/lib/python3.10/site-packages (from python-dateutil>=2.8.1->pandas) (1.16.0)\n"
     ]
    }
   ],
   "source": [
    "!pip install pandas"
   ]
  },
  {
   "cell_type": "code",
   "execution_count": 3,
   "id": "f1a2de83-80f3-40c6-94a1-8e5c8f3fd773",
   "metadata": {},
   "outputs": [],
   "source": [
    "import pandas as pd\n",
    "import numpy as np"
   ]
  },
  {
   "cell_type": "markdown",
   "id": "110dec87-2477-4aa5-a706-ef52148c13f6",
   "metadata": {},
   "source": [
    "### Q1. Create a Pandas Series that contains the following data: 4, 8, 15, 16, 23, and 42. Then, print the series."
   ]
  },
  {
   "cell_type": "code",
   "execution_count": 5,
   "id": "d1d3eff8-ef6f-440a-9807-99444da3141a",
   "metadata": {},
   "outputs": [
    {
     "name": "stdout",
     "output_type": "stream",
     "text": [
      "0     4\n",
      "1     8\n",
      "2    15\n",
      "3    16\n",
      "4    23\n",
      "5    42\n",
      "dtype: int64\n"
     ]
    }
   ],
   "source": [
    "series = pd.Series([4,8,15,16,23,42])\n",
    "print(series)"
   ]
  },
  {
   "cell_type": "markdown",
   "id": "b9198f50-0be0-4839-bfe9-dd828eeaa305",
   "metadata": {},
   "source": [
    "### Q2. Create a variable of list type containing 10 elements in it, and apply pandas.Series function on the variable print it."
   ]
  },
  {
   "cell_type": "code",
   "execution_count": 7,
   "id": "59b05cf7-2298-4763-805e-b3f05f34ff12",
   "metadata": {},
   "outputs": [
    {
     "name": "stdout",
     "output_type": "stream",
     "text": [
      "0     1\n",
      "1     2\n",
      "2     3\n",
      "3     4\n",
      "4     5\n",
      "5     6\n",
      "6     7\n",
      "7     8\n",
      "8     9\n",
      "9    10\n",
      "dtype: int64\n"
     ]
    }
   ],
   "source": [
    "arr = [1,2,3,4,5,6,7,8,9,10]\n",
    "series = pd.Series(arr)\n",
    "print(series)"
   ]
  },
  {
   "cell_type": "markdown",
   "id": "291c250e-b6b3-48bb-b6c8-fbbb867d34a1",
   "metadata": {},
   "source": [
    "### Q3. Create a Pandas DataFrame that contains the following data:\n",
    "Name\n",
    "Alice\n",
    "Bob\n",
    "Claire\n",
    "\n",
    "Age\n",
    "25\n",
    "30\n",
    "27\n",
    "\n",
    "Gender\n",
    "Female\n",
    "Male\n",
    "Female"
   ]
  },
  {
   "cell_type": "code",
   "execution_count": 10,
   "id": "62db5aa5-3760-4e95-8559-f15a4060b16a",
   "metadata": {},
   "outputs": [
    {
     "name": "stdout",
     "output_type": "stream",
     "text": [
      "    Name  Age  Gender\n",
      "0  Alice   25  Female\n",
      "1    B9b   30    Male\n",
      "2  Clair   27  Female\n"
     ]
    }
   ],
   "source": [
    "dic = {\n",
    "    'Name': ['Alice','B9b','Clair'],\n",
    "    'Age': [25,30,27],\n",
    "    'Gender':['Female','Male','Female']\n",
    "    \n",
    "}\n",
    "\n",
    "df = pd.DataFrame(dic)\n",
    "print(df)"
   ]
  },
  {
   "cell_type": "markdown",
   "id": "1e3c732b-b68f-4604-bda4-64dbfe073030",
   "metadata": {},
   "source": [
    "### Q4. What is ‘DataFrame’ in pandas and how is it different from pandas.series? Explain with an example."
   ]
  },
  {
   "cell_type": "markdown",
   "id": "7ef4013b-81a9-4566-a242-16c2ebeb103f",
   "metadata": {},
   "source": [
    "In pandas, a DataFrame is a two-dimensional labeled data structure with columns of potentially different types. It is similar to a spreadsheet or SQL table, where the rows represent observations and the columns represent variables.\n",
    "\n",
    "On the other hand, a Series is a one-dimensional labeled array capable of holding data of any type.\n",
    "\n",
    "To illustrate the difference between the two, let's consider an example. Suppose we have a dataset containing information about some fruits such as name, color, and price. We can represent this data in a DataFrame as follows:"
   ]
  },
  {
   "cell_type": "code",
   "execution_count": 14,
   "id": "ecf7d626-b84f-4692-be4d-580aab2b2aa2",
   "metadata": {},
   "outputs": [
    {
     "data": {
      "text/html": [
       "<div>\n",
       "<style scoped>\n",
       "    .dataframe tbody tr th:only-of-type {\n",
       "        vertical-align: middle;\n",
       "    }\n",
       "\n",
       "    .dataframe tbody tr th {\n",
       "        vertical-align: top;\n",
       "    }\n",
       "\n",
       "    .dataframe thead th {\n",
       "        text-align: right;\n",
       "    }\n",
       "</style>\n",
       "<table border=\"1\" class=\"dataframe\">\n",
       "  <thead>\n",
       "    <tr style=\"text-align: right;\">\n",
       "      <th></th>\n",
       "      <th>Name</th>\n",
       "      <th>Color</th>\n",
       "      <th>Price</th>\n",
       "    </tr>\n",
       "  </thead>\n",
       "  <tbody>\n",
       "    <tr>\n",
       "      <th>0</th>\n",
       "      <td>Apple</td>\n",
       "      <td>Red</td>\n",
       "      <td>1.0</td>\n",
       "    </tr>\n",
       "    <tr>\n",
       "      <th>1</th>\n",
       "      <td>Banana</td>\n",
       "      <td>Yellow</td>\n",
       "      <td>0.5</td>\n",
       "    </tr>\n",
       "    <tr>\n",
       "      <th>2</th>\n",
       "      <td>Orange</td>\n",
       "      <td>Orange</td>\n",
       "      <td>0.8</td>\n",
       "    </tr>\n",
       "  </tbody>\n",
       "</table>\n",
       "</div>"
      ],
      "text/plain": [
       "     Name   Color  Price\n",
       "0   Apple     Red    1.0\n",
       "1  Banana  Yellow    0.5\n",
       "2  Orange  Orange    0.8"
      ]
     },
     "execution_count": 14,
     "metadata": {},
     "output_type": "execute_result"
    }
   ],
   "source": [
    "\n",
    "data = {\n",
    "    'Name': ['Apple', 'Banana', 'Orange'],\n",
    "    'Color': ['Red', 'Yellow', 'Orange'],\n",
    "    'Price': [1.0, 0.5, 0.8]\n",
    "}\n",
    "\n",
    "df = pd.DataFrame(data)\n",
    "df"
   ]
  },
  {
   "cell_type": "markdown",
   "id": "93f10349-d5d5-437a-ab93-1c0cc4be78d7",
   "metadata": {},
   "source": [
    "### Q5. What are some common functions you can use to manipulate data in a Pandas DataFrame? Can you give an example of when you might use one of these functions?"
   ]
  },
  {
   "cell_type": "markdown",
   "id": "56818edc-a96c-42c0-8a0f-e115bd5a3ec5",
   "metadata": {},
   "source": [
    "Pandas provides a variety of functions that can be used to manipulate data in a DataFrame. Here are some of the most commonly used functions:\n",
    "\n",
    "head() and tail(): These functions can be used to get the first few or last few rows of a DataFrame. For example, df.head() would return the first 5 rows of the DataFrame df.\n",
    "\n",
    "describe(): This function can be used to get a summary of the distribution of numerical data in a DataFrame. For example, df.describe() would return summary statistics such as mean, standard deviation, minimum, and maximum for all numeric columns in the DataFrame df.\n",
    "\n",
    "dropna(): This function can be used to remove any rows or columns that contain missing values in a DataFrame. For example, df.dropna() would remove all rows containing missing values in the DataFrame df.\n",
    "\n",
    "groupby(): This function can be used to group a DataFrame by one or more columns and perform operations on the resulting groups. For example, df.groupby('column_name').mean() would group the DataFrame df by the values in the column named 'column_name' and calculate the mean value for each group.\n",
    "\n",
    "merge(): This function can be used to merge two or more DataFrames based on a common column or index. For example, if we have two DataFrames df1 and df2 with a common column 'column_name', we can merge them using pd.merge(df1, df2, on='column_name')."
   ]
  },
  {
   "cell_type": "markdown",
   "id": "774718c8-c753-4d20-9882-0c1f4e697217",
   "metadata": {},
   "source": [
    "### Q6. Which of the following is mutable in nature Series, DataFrame, Panel?"
   ]
  },
  {
   "cell_type": "markdown",
   "id": "2ed756cf-420f-4cd4-b2fe-63507c31e817",
   "metadata": {},
   "source": [
    "In Pandas, both Series and DataFrame are mutable objects, meaning that they can be modified after they are created. On the other hand, Panel is an immutable object and cannot be modified once it is created. But Panel is depreciated now from Pandas newer version."
   ]
  },
  {
   "cell_type": "markdown",
   "id": "ccb71b07-9167-4122-af83-508f30cbafc3",
   "metadata": {},
   "source": [
    "### Q7. Create a DataFrame using multiple Series. Explain with an example."
   ]
  },
  {
   "cell_type": "markdown",
   "id": "01e068b1-fb01-4db5-b130-7968633e26bb",
   "metadata": {},
   "source": [
    "Yes , we can create multiple Series and then add them together to build a DataFrame"
   ]
  },
  {
   "cell_type": "code",
   "execution_count": 17,
   "id": "9d10f7dc-c722-463f-92b4-03ded976afdc",
   "metadata": {},
   "outputs": [
    {
     "name": "stdout",
     "output_type": "stream",
     "text": [
      "  Vehicles  Fruits  Animals\n",
      "0      Car   apple      cow\n",
      "1     Bike  banana  chicken\n",
      "2      Bus  cherry     Goat\n",
      "3    Truck    date     Deer\n"
     ]
    }
   ],
   "source": [
    "s1 = pd.Series(['Car','Bike','Bus','Truck'])\n",
    "s2 = pd.Series(['apple', 'banana', 'cherry', 'date'])\n",
    "s3 = pd.Series(['cow','chicken','Goat','Deer'])\n",
    "\n",
    "# create the dataframe using the dictionary of series\n",
    "df = pd.DataFrame({'Vehicles':s1, 'Fruits': s2,'Animals':s3})\n",
    "\n",
    "# print the dataframe\n",
    "print(df)\n"
   ]
  },
  {
   "cell_type": "code",
   "execution_count": null,
   "id": "ddfc5c4c-276c-4409-ade9-51cab11d7a68",
   "metadata": {},
   "outputs": [],
   "source": []
  }
 ],
 "metadata": {
  "kernelspec": {
   "display_name": "Python 3 (ipykernel)",
   "language": "python",
   "name": "python3"
  },
  "language_info": {
   "codemirror_mode": {
    "name": "ipython",
    "version": 3
   },
   "file_extension": ".py",
   "mimetype": "text/x-python",
   "name": "python",
   "nbconvert_exporter": "python",
   "pygments_lexer": "ipython3",
   "version": "3.10.8"
  }
 },
 "nbformat": 4,
 "nbformat_minor": 5
}
