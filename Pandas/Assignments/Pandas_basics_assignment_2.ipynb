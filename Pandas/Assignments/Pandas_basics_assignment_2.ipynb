{
 "cells": [
  {
   "cell_type": "code",
   "execution_count": 1,
   "id": "603a2612-5546-4f12-90c7-077bffd38d87",
   "metadata": {},
   "outputs": [],
   "source": [
    "import pandas as pd"
   ]
  },
  {
   "cell_type": "markdown",
   "id": "2904210c-6d95-42e8-a6f6-3b88605d5ef2",
   "metadata": {},
   "source": [
    "### Q1. List any five functions of the pandas library with execution."
   ]
  },
  {
   "cell_type": "code",
   "execution_count": null,
   "id": "2dbc0c2b-5723-4072-a106-b44bb4f599e2",
   "metadata": {},
   "outputs": [],
   "source": []
  },
  {
   "cell_type": "markdown",
   "id": "75b8e053-8d2b-4cee-b987-de4623c06c94",
   "metadata": {},
   "source": [
    "read_csv: This function is used to read a CSV (Comma Separated Values) file into a pandas DataFrame. "
   ]
  },
  {
   "cell_type": "code",
   "execution_count": 2,
   "id": "8e9a5ee7-6925-43e6-8bf2-9627d5d0e26d",
   "metadata": {},
   "outputs": [],
   "source": [
    "df = pd.read_csv('./items.csv')"
   ]
  },
  {
   "cell_type": "markdown",
   "id": "f7b48786-b4eb-4bbe-8e93-af8cbf60b2a6",
   "metadata": {},
   "source": []
  },
  {
   "cell_type": "markdown",
   "id": "31fa6cd9-5915-4ee9-a573-b50b049c845a",
   "metadata": {},
   "source": [
    "info: This function is used to get information about the DataFrame such as data types and memory usage. "
   ]
  },
  {
   "cell_type": "code",
   "execution_count": 3,
   "id": "c934822c-4826-4a30-95fd-bc954730fafd",
   "metadata": {},
   "outputs": [
    {
     "name": "stdout",
     "output_type": "stream",
     "text": [
      "<class 'pandas.core.frame.DataFrame'>\n",
      "RangeIndex: 4622 entries, 0 to 4621\n",
      "Data columns (total 2 columns):\n",
      " #   Column      Non-Null Count  Dtype \n",
      "---  ------      --------------  ----- \n",
      " 0   item_name   4622 non-null   object\n",
      " 1   item_price  4572 non-null   object\n",
      "dtypes: object(2)\n",
      "memory usage: 72.3+ KB\n"
     ]
    }
   ],
   "source": [
    "df.info()"
   ]
  },
  {
   "cell_type": "code",
   "execution_count": null,
   "id": "9aab73df-a561-411c-a6e5-6a2e399289b9",
   "metadata": {},
   "outputs": [],
   "source": []
  },
  {
   "cell_type": "markdown",
   "id": "2790dcb6-7e1d-4239-8d8b-bcc01e883950",
   "metadata": {},
   "source": [
    "describe: This function is used to get summary statistics for the DataFrame such as count, mean, standard deviation, minimum and maximum values."
   ]
  },
  {
   "cell_type": "code",
   "execution_count": 4,
   "id": "edcda688-9d65-44a2-a011-02c1c1b808cc",
   "metadata": {},
   "outputs": [
    {
     "data": {
      "text/html": [
       "<div>\n",
       "<style scoped>\n",
       "    .dataframe tbody tr th:only-of-type {\n",
       "        vertical-align: middle;\n",
       "    }\n",
       "\n",
       "    .dataframe tbody tr th {\n",
       "        vertical-align: top;\n",
       "    }\n",
       "\n",
       "    .dataframe thead th {\n",
       "        text-align: right;\n",
       "    }\n",
       "</style>\n",
       "<table border=\"1\" class=\"dataframe\">\n",
       "  <thead>\n",
       "    <tr style=\"text-align: right;\">\n",
       "      <th></th>\n",
       "      <th>item_name</th>\n",
       "      <th>item_price</th>\n",
       "    </tr>\n",
       "  </thead>\n",
       "  <tbody>\n",
       "    <tr>\n",
       "      <th>count</th>\n",
       "      <td>4622</td>\n",
       "      <td>4572</td>\n",
       "    </tr>\n",
       "    <tr>\n",
       "      <th>unique</th>\n",
       "      <td>50</td>\n",
       "      <td>78</td>\n",
       "    </tr>\n",
       "    <tr>\n",
       "      <th>top</th>\n",
       "      <td>Chicken Bowl</td>\n",
       "      <td>$8.75</td>\n",
       "    </tr>\n",
       "    <tr>\n",
       "      <th>freq</th>\n",
       "      <td>726</td>\n",
       "      <td>724</td>\n",
       "    </tr>\n",
       "  </tbody>\n",
       "</table>\n",
       "</div>"
      ],
      "text/plain": [
       "           item_name item_price\n",
       "count           4622       4572\n",
       "unique            50         78\n",
       "top     Chicken Bowl     $8.75 \n",
       "freq             726        724"
      ]
     },
     "execution_count": 4,
     "metadata": {},
     "output_type": "execute_result"
    }
   ],
   "source": [
    "df.describe()"
   ]
  },
  {
   "cell_type": "markdown",
   "id": "65eaa158-1bb1-4181-bfbd-0a72bef8d4d9",
   "metadata": {},
   "source": []
  },
  {
   "cell_type": "markdown",
   "id": "a14dfdcd-045c-41d2-8b20-ceea1b638100",
   "metadata": {},
   "source": [
    "head() displays the first n rows of a DataFrame (by default n=5)"
   ]
  },
  {
   "cell_type": "code",
   "execution_count": 5,
   "id": "976164b1-7e4f-45d4-9f69-946d95f84946",
   "metadata": {},
   "outputs": [
    {
     "data": {
      "text/html": [
       "<div>\n",
       "<style scoped>\n",
       "    .dataframe tbody tr th:only-of-type {\n",
       "        vertical-align: middle;\n",
       "    }\n",
       "\n",
       "    .dataframe tbody tr th {\n",
       "        vertical-align: top;\n",
       "    }\n",
       "\n",
       "    .dataframe thead th {\n",
       "        text-align: right;\n",
       "    }\n",
       "</style>\n",
       "<table border=\"1\" class=\"dataframe\">\n",
       "  <thead>\n",
       "    <tr style=\"text-align: right;\">\n",
       "      <th></th>\n",
       "      <th>item_name</th>\n",
       "      <th>item_price</th>\n",
       "    </tr>\n",
       "  </thead>\n",
       "  <tbody>\n",
       "    <tr>\n",
       "      <th>0</th>\n",
       "      <td>Chips and Fresh Tomato Salsa</td>\n",
       "      <td>$2.39</td>\n",
       "    </tr>\n",
       "    <tr>\n",
       "      <th>1</th>\n",
       "      <td>Izze</td>\n",
       "      <td>$3.39</td>\n",
       "    </tr>\n",
       "    <tr>\n",
       "      <th>2</th>\n",
       "      <td>Nantucket Nectar</td>\n",
       "      <td>$3.39</td>\n",
       "    </tr>\n",
       "    <tr>\n",
       "      <th>3</th>\n",
       "      <td>Chips and Tomatillo-Green Chili Salsa</td>\n",
       "      <td>$2.39</td>\n",
       "    </tr>\n",
       "    <tr>\n",
       "      <th>4</th>\n",
       "      <td>Chicken Bowl</td>\n",
       "      <td>$16.98</td>\n",
       "    </tr>\n",
       "  </tbody>\n",
       "</table>\n",
       "</div>"
      ],
      "text/plain": [
       "                               item_name item_price\n",
       "0           Chips and Fresh Tomato Salsa     $2.39 \n",
       "1                                   Izze     $3.39 \n",
       "2                       Nantucket Nectar     $3.39 \n",
       "3  Chips and Tomatillo-Green Chili Salsa     $2.39 \n",
       "4                           Chicken Bowl    $16.98 "
      ]
     },
     "execution_count": 5,
     "metadata": {},
     "output_type": "execute_result"
    }
   ],
   "source": [
    "df.head()"
   ]
  },
  {
   "cell_type": "code",
   "execution_count": null,
   "id": "e031bb32-9e3a-4d9b-a460-12f1829fd0ca",
   "metadata": {},
   "outputs": [],
   "source": []
  },
  {
   "cell_type": "markdown",
   "id": "0f13444c-7581-4011-9e3c-082fe1bbfe0b",
   "metadata": {},
   "source": [
    "tail() displays the last n rows of a DataFrame (by default n=5)."
   ]
  },
  {
   "cell_type": "code",
   "execution_count": 6,
   "id": "743ea7f6-02bf-4542-864b-d615e380b697",
   "metadata": {},
   "outputs": [
    {
     "data": {
      "text/html": [
       "<div>\n",
       "<style scoped>\n",
       "    .dataframe tbody tr th:only-of-type {\n",
       "        vertical-align: middle;\n",
       "    }\n",
       "\n",
       "    .dataframe tbody tr th {\n",
       "        vertical-align: top;\n",
       "    }\n",
       "\n",
       "    .dataframe thead th {\n",
       "        text-align: right;\n",
       "    }\n",
       "</style>\n",
       "<table border=\"1\" class=\"dataframe\">\n",
       "  <thead>\n",
       "    <tr style=\"text-align: right;\">\n",
       "      <th></th>\n",
       "      <th>item_name</th>\n",
       "      <th>item_price</th>\n",
       "    </tr>\n",
       "  </thead>\n",
       "  <tbody>\n",
       "    <tr>\n",
       "      <th>4617</th>\n",
       "      <td>Steak Burrito</td>\n",
       "      <td>$11.75</td>\n",
       "    </tr>\n",
       "    <tr>\n",
       "      <th>4618</th>\n",
       "      <td>Steak Burrito</td>\n",
       "      <td>$11.75</td>\n",
       "    </tr>\n",
       "    <tr>\n",
       "      <th>4619</th>\n",
       "      <td>Chicken Salad Bowl</td>\n",
       "      <td>$11.25</td>\n",
       "    </tr>\n",
       "    <tr>\n",
       "      <th>4620</th>\n",
       "      <td>Chicken Salad Bowl</td>\n",
       "      <td>$8.75</td>\n",
       "    </tr>\n",
       "    <tr>\n",
       "      <th>4621</th>\n",
       "      <td>Chicken Salad Bowl</td>\n",
       "      <td>$8.75</td>\n",
       "    </tr>\n",
       "  </tbody>\n",
       "</table>\n",
       "</div>"
      ],
      "text/plain": [
       "               item_name item_price\n",
       "4617       Steak Burrito    $11.75 \n",
       "4618       Steak Burrito    $11.75 \n",
       "4619  Chicken Salad Bowl    $11.25 \n",
       "4620  Chicken Salad Bowl     $8.75 \n",
       "4621  Chicken Salad Bowl     $8.75 "
      ]
     },
     "execution_count": 6,
     "metadata": {},
     "output_type": "execute_result"
    }
   ],
   "source": [
    "df.tail()"
   ]
  },
  {
   "cell_type": "code",
   "execution_count": null,
   "id": "a5431409-3aaf-4c5d-ab8c-4f855e30de8f",
   "metadata": {},
   "outputs": [],
   "source": []
  },
  {
   "cell_type": "markdown",
   "id": "5430bb24-e281-4938-aa43-74300bead7c4",
   "metadata": {},
   "source": [
    "### Q2. Given a Pandas DataFrame df with columns 'A', 'B', and 'C', write a Python function to re-index the DataFrame with a new index that starts from 1 and increments by 2 for each row."
   ]
  },
  {
   "cell_type": "code",
   "execution_count": 7,
   "id": "9c6fd9bd-4027-4ea1-a427-0ff1e29e09e3",
   "metadata": {},
   "outputs": [],
   "source": [
    "dic = {\n",
    "\n",
    "    'A': [1,3,5,7],\n",
    "    'B': [2.4,3.3,2.4,6.3],\n",
    "    'C': [True,False,True,False]\n",
    "}\n",
    "\n",
    "\n",
    "df = pd.DataFrame(dic)"
   ]
  },
  {
   "cell_type": "code",
   "execution_count": 8,
   "id": "05bb4fa7-2cf5-4588-8cea-cbe78542aaf6",
   "metadata": {},
   "outputs": [
    {
     "name": "stdout",
     "output_type": "stream",
     "text": [
      "     A    B      C\n",
      "1  3.0  3.3  False\n",
      "3  7.0  6.3  False\n",
      "5  NaN  NaN    NaN\n",
      "7  NaN  NaN    NaN\n"
     ]
    }
   ],
   "source": [
    "def reIndexing(df):\n",
    "    new_index = range(1, 2*len(df)+1, 2)\n",
    "    df = df.reindex(new_index)\n",
    "    return df\n",
    "\n",
    "\n",
    "\n",
    "\n",
    "new_indexed_df = reIndexing(df)\n",
    "print(new_indexed_df)"
   ]
  },
  {
   "cell_type": "code",
   "execution_count": null,
   "id": "b21ce632-8dab-4fa9-a390-3bd89675d64a",
   "metadata": {},
   "outputs": [],
   "source": []
  },
  {
   "cell_type": "markdown",
   "id": "8d4376b8-f059-4828-ab35-96459eac44bf",
   "metadata": {},
   "source": [
    "### Q3. You have a Pandas DataFrame df with a column named 'Values'. Write a Python function that iterates over the DataFrame and calculates the sum of the first three values in the 'Values' column. The function should print the sum to the console."
   ]
  },
  {
   "cell_type": "code",
   "execution_count": 9,
   "id": "2d112435-3e05-4d6f-8eec-39dc28f88755",
   "metadata": {},
   "outputs": [],
   "source": [
    "\n",
    "df['Values'] = [6,4,3,2]"
   ]
  },
  {
   "cell_type": "code",
   "execution_count": 10,
   "id": "0e0bc32e-aefe-45bf-98cb-7c29c7939264",
   "metadata": {},
   "outputs": [
    {
     "data": {
      "text/html": [
       "<div>\n",
       "<style scoped>\n",
       "    .dataframe tbody tr th:only-of-type {\n",
       "        vertical-align: middle;\n",
       "    }\n",
       "\n",
       "    .dataframe tbody tr th {\n",
       "        vertical-align: top;\n",
       "    }\n",
       "\n",
       "    .dataframe thead th {\n",
       "        text-align: right;\n",
       "    }\n",
       "</style>\n",
       "<table border=\"1\" class=\"dataframe\">\n",
       "  <thead>\n",
       "    <tr style=\"text-align: right;\">\n",
       "      <th></th>\n",
       "      <th>A</th>\n",
       "      <th>B</th>\n",
       "      <th>C</th>\n",
       "      <th>Values</th>\n",
       "    </tr>\n",
       "  </thead>\n",
       "  <tbody>\n",
       "    <tr>\n",
       "      <th>0</th>\n",
       "      <td>1</td>\n",
       "      <td>2.4</td>\n",
       "      <td>True</td>\n",
       "      <td>6</td>\n",
       "    </tr>\n",
       "    <tr>\n",
       "      <th>1</th>\n",
       "      <td>3</td>\n",
       "      <td>3.3</td>\n",
       "      <td>False</td>\n",
       "      <td>4</td>\n",
       "    </tr>\n",
       "    <tr>\n",
       "      <th>2</th>\n",
       "      <td>5</td>\n",
       "      <td>2.4</td>\n",
       "      <td>True</td>\n",
       "      <td>3</td>\n",
       "    </tr>\n",
       "    <tr>\n",
       "      <th>3</th>\n",
       "      <td>7</td>\n",
       "      <td>6.3</td>\n",
       "      <td>False</td>\n",
       "      <td>2</td>\n",
       "    </tr>\n",
       "  </tbody>\n",
       "</table>\n",
       "</div>"
      ],
      "text/plain": [
       "   A    B      C  Values\n",
       "0  1  2.4   True       6\n",
       "1  3  3.3  False       4\n",
       "2  5  2.4   True       3\n",
       "3  7  6.3  False       2"
      ]
     },
     "execution_count": 10,
     "metadata": {},
     "output_type": "execute_result"
    }
   ],
   "source": [
    "df"
   ]
  },
  {
   "cell_type": "code",
   "execution_count": 11,
   "id": "5133f825-595a-4b85-9fda-060aba8f3852",
   "metadata": {},
   "outputs": [
    {
     "name": "stdout",
     "output_type": "stream",
     "text": [
      "13\n"
     ]
    }
   ],
   "source": [
    "def print3values(df):\n",
    "    total=0\n",
    "    for i in df['Values'][0:3]:\n",
    "        total+=i\n",
    "    \n",
    "    print(total)\n",
    "    \n",
    "    \n",
    "\n",
    "print3values(df)"
   ]
  },
  {
   "cell_type": "code",
   "execution_count": null,
   "id": "df102c9e-7744-48ce-8be4-6dd5002a876a",
   "metadata": {},
   "outputs": [],
   "source": []
  },
  {
   "cell_type": "markdown",
   "id": "8c4bc94c-d4cc-41a5-b0f1-047461f92975",
   "metadata": {},
   "source": [
    "### Q4. Given a Pandas DataFrame df with a column 'Text', write a Python function to create a new column 'Word_Count' that contains the number of words in each row of the 'Text' column."
   ]
  },
  {
   "cell_type": "code",
   "execution_count": 12,
   "id": "4235311e-46af-45b8-b0d7-a2a481c93e9c",
   "metadata": {},
   "outputs": [],
   "source": [
    "df['Text'] = ['plane','Roar','Lady','air']"
   ]
  },
  {
   "cell_type": "code",
   "execution_count": 13,
   "id": "cf043e6f-faa3-42e3-b06c-6d56ff179f20",
   "metadata": {},
   "outputs": [
    {
     "data": {
      "text/html": [
       "<div>\n",
       "<style scoped>\n",
       "    .dataframe tbody tr th:only-of-type {\n",
       "        vertical-align: middle;\n",
       "    }\n",
       "\n",
       "    .dataframe tbody tr th {\n",
       "        vertical-align: top;\n",
       "    }\n",
       "\n",
       "    .dataframe thead th {\n",
       "        text-align: right;\n",
       "    }\n",
       "</style>\n",
       "<table border=\"1\" class=\"dataframe\">\n",
       "  <thead>\n",
       "    <tr style=\"text-align: right;\">\n",
       "      <th></th>\n",
       "      <th>A</th>\n",
       "      <th>B</th>\n",
       "      <th>C</th>\n",
       "      <th>Values</th>\n",
       "      <th>Text</th>\n",
       "    </tr>\n",
       "  </thead>\n",
       "  <tbody>\n",
       "    <tr>\n",
       "      <th>0</th>\n",
       "      <td>1</td>\n",
       "      <td>2.4</td>\n",
       "      <td>True</td>\n",
       "      <td>6</td>\n",
       "      <td>plane</td>\n",
       "    </tr>\n",
       "    <tr>\n",
       "      <th>1</th>\n",
       "      <td>3</td>\n",
       "      <td>3.3</td>\n",
       "      <td>False</td>\n",
       "      <td>4</td>\n",
       "      <td>Roar</td>\n",
       "    </tr>\n",
       "    <tr>\n",
       "      <th>2</th>\n",
       "      <td>5</td>\n",
       "      <td>2.4</td>\n",
       "      <td>True</td>\n",
       "      <td>3</td>\n",
       "      <td>Lady</td>\n",
       "    </tr>\n",
       "    <tr>\n",
       "      <th>3</th>\n",
       "      <td>7</td>\n",
       "      <td>6.3</td>\n",
       "      <td>False</td>\n",
       "      <td>2</td>\n",
       "      <td>air</td>\n",
       "    </tr>\n",
       "  </tbody>\n",
       "</table>\n",
       "</div>"
      ],
      "text/plain": [
       "   A    B      C  Values   Text\n",
       "0  1  2.4   True       6  plane\n",
       "1  3  3.3  False       4   Roar\n",
       "2  5  2.4   True       3   Lady\n",
       "3  7  6.3  False       2    air"
      ]
     },
     "execution_count": 13,
     "metadata": {},
     "output_type": "execute_result"
    }
   ],
   "source": [
    "df"
   ]
  },
  {
   "cell_type": "code",
   "execution_count": 14,
   "id": "98db1754-2b63-4f50-ae6a-e1a04e53bb82",
   "metadata": {},
   "outputs": [
    {
     "data": {
      "text/html": [
       "<div>\n",
       "<style scoped>\n",
       "    .dataframe tbody tr th:only-of-type {\n",
       "        vertical-align: middle;\n",
       "    }\n",
       "\n",
       "    .dataframe tbody tr th {\n",
       "        vertical-align: top;\n",
       "    }\n",
       "\n",
       "    .dataframe thead th {\n",
       "        text-align: right;\n",
       "    }\n",
       "</style>\n",
       "<table border=\"1\" class=\"dataframe\">\n",
       "  <thead>\n",
       "    <tr style=\"text-align: right;\">\n",
       "      <th></th>\n",
       "      <th>A</th>\n",
       "      <th>B</th>\n",
       "      <th>C</th>\n",
       "      <th>Values</th>\n",
       "      <th>Text</th>\n",
       "      <th>Word_Count</th>\n",
       "    </tr>\n",
       "  </thead>\n",
       "  <tbody>\n",
       "    <tr>\n",
       "      <th>0</th>\n",
       "      <td>1</td>\n",
       "      <td>2.4</td>\n",
       "      <td>True</td>\n",
       "      <td>6</td>\n",
       "      <td>plane</td>\n",
       "      <td>5</td>\n",
       "    </tr>\n",
       "    <tr>\n",
       "      <th>1</th>\n",
       "      <td>3</td>\n",
       "      <td>3.3</td>\n",
       "      <td>False</td>\n",
       "      <td>4</td>\n",
       "      <td>Roar</td>\n",
       "      <td>4</td>\n",
       "    </tr>\n",
       "    <tr>\n",
       "      <th>2</th>\n",
       "      <td>5</td>\n",
       "      <td>2.4</td>\n",
       "      <td>True</td>\n",
       "      <td>3</td>\n",
       "      <td>Lady</td>\n",
       "      <td>4</td>\n",
       "    </tr>\n",
       "    <tr>\n",
       "      <th>3</th>\n",
       "      <td>7</td>\n",
       "      <td>6.3</td>\n",
       "      <td>False</td>\n",
       "      <td>2</td>\n",
       "      <td>air</td>\n",
       "      <td>3</td>\n",
       "    </tr>\n",
       "  </tbody>\n",
       "</table>\n",
       "</div>"
      ],
      "text/plain": [
       "   A    B      C  Values   Text  Word_Count\n",
       "0  1  2.4   True       6  plane           5\n",
       "1  3  3.3  False       4   Roar           4\n",
       "2  5  2.4   True       3   Lady           4\n",
       "3  7  6.3  False       2    air           3"
      ]
     },
     "execution_count": 14,
     "metadata": {},
     "output_type": "execute_result"
    }
   ],
   "source": [
    "def countwordscol(df):\n",
    "    wordcount = []\n",
    "    for i in df['Text']:\n",
    "       wordcount.append(len(i))\n",
    "    df['Word_Count'] = wordcount\n",
    "        \n",
    "countwordscol(df)\n",
    "df"
   ]
  },
  {
   "cell_type": "markdown",
   "id": "c16e6154-a7b9-4dfd-b178-0f00bb9f77f7",
   "metadata": {},
   "source": [
    "### Q5. How are DataFrame.size() and DataFrame.shape() different?"
   ]
  },
  {
   "cell_type": "markdown",
   "id": "598b7ee8-44eb-4c91-9b2d-e1492c051f59",
   "metadata": {},
   "source": [
    "The DataFrame.size attribute and the DataFrame.shape attribute both provide information about the dimensions of a Pandas DataFrame, but they are calculated differently.\n",
    "\n",
    "**DataFrame.size** returns the total number of elements in the DataFrame, which is equal to the product of the number of rows and the number of columns. For example, if a DataFrame has 3 rows and 4 columns, DataFrame.size will return 12.\n",
    "\n",
    "**DataFrame.shape** returns a tuple representing the dimensions of the DataFrame in the form (number of rows, number of columns). For example, if a DataFrame has 3 rows and 4 columns, DataFrame.shape will return (3, 4)."
   ]
  },
  {
   "cell_type": "markdown",
   "id": "e01df6ad-339a-4dc2-8151-03fd6bc7ae29",
   "metadata": {},
   "source": [
    "### Q6. Which function of pandas do we use to read an excel file?"
   ]
  },
  {
   "cell_type": "markdown",
   "id": "9dd236d3-c3db-4394-bf7d-bd319ff15351",
   "metadata": {},
   "source": [
    "The function in Pandas used to read an Excel file is pandas.read_excel(). This function can read data from both XLS and XLSX file formats. "
   ]
  },
  {
   "cell_type": "markdown",
   "id": "8469ef56-8926-4dd4-9bbb-8df760009480",
   "metadata": {},
   "source": [
    "### Q7. You have a Pandas DataFrame df that contains a column named 'Email' that contains email addresses in the format 'username@domain.com'. Write a Python function that creates a new column 'Username' in df that contains only the username part of each email address."
   ]
  },
  {
   "cell_type": "code",
   "execution_count": 16,
   "id": "0c202e3b-a4b7-4640-ad87-f11b78b0a404",
   "metadata": {},
   "outputs": [],
   "source": [
    "df['Email'] = ['mh@example.com','rasis.can@jmail.com','public.st@smail.com','look.at@hmail.com']"
   ]
  },
  {
   "cell_type": "code",
   "execution_count": 30,
   "id": "68cb56e2-f927-4b3d-a6cc-60162fe2b8fd",
   "metadata": {},
   "outputs": [
    {
     "name": "stdout",
     "output_type": "stream",
     "text": [
      "['mh', 'rasis.can', 'public.st', 'look.at']\n"
     ]
    }
   ],
   "source": [
    "email_list = list(df['Email'])\n",
    "username_list=[]\n",
    "for i in email_list:\n",
    "    username_list.append(i.split('@')[0])\n",
    "    \n",
    "print(username_list)"
   ]
  },
  {
   "cell_type": "code",
   "execution_count": 31,
   "id": "76276ac9-4e7e-4592-97e3-088d8151537d",
   "metadata": {},
   "outputs": [],
   "source": [
    "df['Username'] = username_list"
   ]
  },
  {
   "cell_type": "code",
   "execution_count": 32,
   "id": "96ee6c61-c735-479e-bb51-1f327740979d",
   "metadata": {},
   "outputs": [
    {
     "data": {
      "text/plain": [
       "0           mh\n",
       "1    rasis.can\n",
       "2    public.st\n",
       "3      look.at\n",
       "Name: Username, dtype: object"
      ]
     },
     "execution_count": 32,
     "metadata": {},
     "output_type": "execute_result"
    }
   ],
   "source": [
    "df['Username']"
   ]
  },
  {
   "cell_type": "code",
   "execution_count": 33,
   "id": "79094476-f19b-4522-84a4-b22b409a5eed",
   "metadata": {},
   "outputs": [
    {
     "data": {
      "text/html": [
       "<div>\n",
       "<style scoped>\n",
       "    .dataframe tbody tr th:only-of-type {\n",
       "        vertical-align: middle;\n",
       "    }\n",
       "\n",
       "    .dataframe tbody tr th {\n",
       "        vertical-align: top;\n",
       "    }\n",
       "\n",
       "    .dataframe thead th {\n",
       "        text-align: right;\n",
       "    }\n",
       "</style>\n",
       "<table border=\"1\" class=\"dataframe\">\n",
       "  <thead>\n",
       "    <tr style=\"text-align: right;\">\n",
       "      <th></th>\n",
       "      <th>A</th>\n",
       "      <th>B</th>\n",
       "      <th>C</th>\n",
       "      <th>Values</th>\n",
       "      <th>Text</th>\n",
       "      <th>Word_Count</th>\n",
       "      <th>Email</th>\n",
       "      <th>Username</th>\n",
       "    </tr>\n",
       "  </thead>\n",
       "  <tbody>\n",
       "    <tr>\n",
       "      <th>0</th>\n",
       "      <td>1</td>\n",
       "      <td>2.4</td>\n",
       "      <td>True</td>\n",
       "      <td>6</td>\n",
       "      <td>plane</td>\n",
       "      <td>5</td>\n",
       "      <td>mh@example.com</td>\n",
       "      <td>mh</td>\n",
       "    </tr>\n",
       "    <tr>\n",
       "      <th>1</th>\n",
       "      <td>3</td>\n",
       "      <td>3.3</td>\n",
       "      <td>False</td>\n",
       "      <td>4</td>\n",
       "      <td>Roar</td>\n",
       "      <td>4</td>\n",
       "      <td>rasis.can@jmail.com</td>\n",
       "      <td>rasis.can</td>\n",
       "    </tr>\n",
       "    <tr>\n",
       "      <th>2</th>\n",
       "      <td>5</td>\n",
       "      <td>2.4</td>\n",
       "      <td>True</td>\n",
       "      <td>3</td>\n",
       "      <td>Lady</td>\n",
       "      <td>4</td>\n",
       "      <td>public.st@smail.com</td>\n",
       "      <td>public.st</td>\n",
       "    </tr>\n",
       "    <tr>\n",
       "      <th>3</th>\n",
       "      <td>7</td>\n",
       "      <td>6.3</td>\n",
       "      <td>False</td>\n",
       "      <td>2</td>\n",
       "      <td>air</td>\n",
       "      <td>3</td>\n",
       "      <td>look.at@hmail.com</td>\n",
       "      <td>look.at</td>\n",
       "    </tr>\n",
       "  </tbody>\n",
       "</table>\n",
       "</div>"
      ],
      "text/plain": [
       "   A    B      C  Values   Text  Word_Count                Email   Username\n",
       "0  1  2.4   True       6  plane           5       mh@example.com         mh\n",
       "1  3  3.3  False       4   Roar           4  rasis.can@jmail.com  rasis.can\n",
       "2  5  2.4   True       3   Lady           4  public.st@smail.com  public.st\n",
       "3  7  6.3  False       2    air           3    look.at@hmail.com    look.at"
      ]
     },
     "execution_count": 33,
     "metadata": {},
     "output_type": "execute_result"
    }
   ],
   "source": [
    "df"
   ]
  },
  {
   "cell_type": "code",
   "execution_count": null,
   "id": "6e9c4d5c-f1ba-4076-a674-dc2e107afc20",
   "metadata": {},
   "outputs": [],
   "source": []
  },
  {
   "cell_type": "markdown",
   "id": "71a9de30-587e-4a92-a2b6-04855191919f",
   "metadata": {},
   "source": [
    "### Q8. You have a Pandas DataFrame df with columns 'A', 'B', and 'C'. Write a Python function that selects all rows where the value in column 'A' is greater than 5 and the value in column 'B' is less than 10. The function should return a new DataFrame that contains only the selected rows."
   ]
  },
  {
   "cell_type": "code",
   "execution_count": 34,
   "id": "f3297afe-a7f8-4349-a26b-9a5198c48349",
   "metadata": {},
   "outputs": [
    {
     "data": {
      "text/html": [
       "<div>\n",
       "<style scoped>\n",
       "    .dataframe tbody tr th:only-of-type {\n",
       "        vertical-align: middle;\n",
       "    }\n",
       "\n",
       "    .dataframe tbody tr th {\n",
       "        vertical-align: top;\n",
       "    }\n",
       "\n",
       "    .dataframe thead th {\n",
       "        text-align: right;\n",
       "    }\n",
       "</style>\n",
       "<table border=\"1\" class=\"dataframe\">\n",
       "  <thead>\n",
       "    <tr style=\"text-align: right;\">\n",
       "      <th></th>\n",
       "      <th>A</th>\n",
       "      <th>B</th>\n",
       "      <th>C</th>\n",
       "      <th>Values</th>\n",
       "      <th>Text</th>\n",
       "      <th>Word_Count</th>\n",
       "      <th>Email</th>\n",
       "      <th>Username</th>\n",
       "    </tr>\n",
       "  </thead>\n",
       "  <tbody>\n",
       "    <tr>\n",
       "      <th>0</th>\n",
       "      <td>1</td>\n",
       "      <td>2.4</td>\n",
       "      <td>True</td>\n",
       "      <td>6</td>\n",
       "      <td>plane</td>\n",
       "      <td>5</td>\n",
       "      <td>mh@example.com</td>\n",
       "      <td>mh</td>\n",
       "    </tr>\n",
       "    <tr>\n",
       "      <th>1</th>\n",
       "      <td>3</td>\n",
       "      <td>3.3</td>\n",
       "      <td>False</td>\n",
       "      <td>4</td>\n",
       "      <td>Roar</td>\n",
       "      <td>4</td>\n",
       "      <td>rasis.can@jmail.com</td>\n",
       "      <td>rasis.can</td>\n",
       "    </tr>\n",
       "    <tr>\n",
       "      <th>2</th>\n",
       "      <td>5</td>\n",
       "      <td>2.4</td>\n",
       "      <td>True</td>\n",
       "      <td>3</td>\n",
       "      <td>Lady</td>\n",
       "      <td>4</td>\n",
       "      <td>public.st@smail.com</td>\n",
       "      <td>public.st</td>\n",
       "    </tr>\n",
       "    <tr>\n",
       "      <th>3</th>\n",
       "      <td>7</td>\n",
       "      <td>6.3</td>\n",
       "      <td>False</td>\n",
       "      <td>2</td>\n",
       "      <td>air</td>\n",
       "      <td>3</td>\n",
       "      <td>look.at@hmail.com</td>\n",
       "      <td>look.at</td>\n",
       "    </tr>\n",
       "  </tbody>\n",
       "</table>\n",
       "</div>"
      ],
      "text/plain": [
       "   A    B      C  Values   Text  Word_Count                Email   Username\n",
       "0  1  2.4   True       6  plane           5       mh@example.com         mh\n",
       "1  3  3.3  False       4   Roar           4  rasis.can@jmail.com  rasis.can\n",
       "2  5  2.4   True       3   Lady           4  public.st@smail.com  public.st\n",
       "3  7  6.3  False       2    air           3    look.at@hmail.com    look.at"
      ]
     },
     "execution_count": 34,
     "metadata": {},
     "output_type": "execute_result"
    }
   ],
   "source": [
    "df"
   ]
  },
  {
   "cell_type": "code",
   "execution_count": 47,
   "id": "63bbffe5-4793-403e-9508-50559bd83ddd",
   "metadata": {},
   "outputs": [],
   "source": [
    "dic = {\n",
    "    'A':[3,8,6,2,9],\n",
    "    'B':[5,12,19,13,1],\n",
    "    'C':[1,7,4,5,2]\n",
    "}\n",
    "\n",
    "df = pd.DataFrame(dic)\n"
   ]
  },
  {
   "cell_type": "code",
   "execution_count": 48,
   "id": "71584334-8357-461d-b383-399d315352ff",
   "metadata": {},
   "outputs": [
    {
     "data": {
      "text/html": [
       "<div>\n",
       "<style scoped>\n",
       "    .dataframe tbody tr th:only-of-type {\n",
       "        vertical-align: middle;\n",
       "    }\n",
       "\n",
       "    .dataframe tbody tr th {\n",
       "        vertical-align: top;\n",
       "    }\n",
       "\n",
       "    .dataframe thead th {\n",
       "        text-align: right;\n",
       "    }\n",
       "</style>\n",
       "<table border=\"1\" class=\"dataframe\">\n",
       "  <thead>\n",
       "    <tr style=\"text-align: right;\">\n",
       "      <th></th>\n",
       "      <th>A</th>\n",
       "      <th>B</th>\n",
       "      <th>C</th>\n",
       "    </tr>\n",
       "  </thead>\n",
       "  <tbody>\n",
       "    <tr>\n",
       "      <th>0</th>\n",
       "      <td>3</td>\n",
       "      <td>5</td>\n",
       "      <td>1</td>\n",
       "    </tr>\n",
       "    <tr>\n",
       "      <th>1</th>\n",
       "      <td>8</td>\n",
       "      <td>12</td>\n",
       "      <td>7</td>\n",
       "    </tr>\n",
       "    <tr>\n",
       "      <th>2</th>\n",
       "      <td>6</td>\n",
       "      <td>19</td>\n",
       "      <td>4</td>\n",
       "    </tr>\n",
       "    <tr>\n",
       "      <th>3</th>\n",
       "      <td>2</td>\n",
       "      <td>13</td>\n",
       "      <td>5</td>\n",
       "    </tr>\n",
       "    <tr>\n",
       "      <th>4</th>\n",
       "      <td>9</td>\n",
       "      <td>1</td>\n",
       "      <td>2</td>\n",
       "    </tr>\n",
       "  </tbody>\n",
       "</table>\n",
       "</div>"
      ],
      "text/plain": [
       "   A   B  C\n",
       "0  3   5  1\n",
       "1  8  12  7\n",
       "2  6  19  4\n",
       "3  2  13  5\n",
       "4  9   1  2"
      ]
     },
     "execution_count": 48,
     "metadata": {},
     "output_type": "execute_result"
    }
   ],
   "source": [
    "df"
   ]
  },
  {
   "cell_type": "code",
   "execution_count": 50,
   "id": "51e06580-9fa2-4287-9409-027f0cb208ef",
   "metadata": {},
   "outputs": [
    {
     "name": "stdout",
     "output_type": "stream",
     "text": [
      "   A  B  C\n",
      "4  9  1  2\n",
      "<class 'pandas.core.frame.DataFrame'>\n"
     ]
    }
   ],
   "source": [
    "def selectrows(df):\n",
    "    new_df = df[(df['A']>5) & (df['B'] < 10)]\n",
    "    return new_df\n",
    "\n",
    "\n",
    "\n",
    "result = selectrows(df)\n",
    "\n",
    "print(result)\n",
    "print(type(result))"
   ]
  },
  {
   "cell_type": "code",
   "execution_count": null,
   "id": "d8e6d063-67e0-4ab3-8c90-b274c0137c63",
   "metadata": {},
   "outputs": [],
   "source": []
  },
  {
   "cell_type": "code",
   "execution_count": null,
   "id": "9c321166-f5c4-48fe-a771-1a3a4bf2738f",
   "metadata": {},
   "outputs": [],
   "source": []
  }
 ],
 "metadata": {
  "kernelspec": {
   "display_name": "Python 3 (ipykernel)",
   "language": "python",
   "name": "python3"
  },
  "language_info": {
   "codemirror_mode": {
    "name": "ipython",
    "version": 3
   },
   "file_extension": ".py",
   "mimetype": "text/x-python",
   "name": "python",
   "nbconvert_exporter": "python",
   "pygments_lexer": "ipython3",
   "version": "3.10.8"
  }
 },
 "nbformat": 4,
 "nbformat_minor": 5
}
