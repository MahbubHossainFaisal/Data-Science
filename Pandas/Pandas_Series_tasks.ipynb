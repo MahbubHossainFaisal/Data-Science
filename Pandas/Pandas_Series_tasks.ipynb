{
  "nbformat": 4,
  "nbformat_minor": 0,
  "metadata": {
    "colab": {
      "provenance": []
    },
    "kernelspec": {
      "name": "python3",
      "display_name": "Python 3"
    },
    "language_info": {
      "name": "python"
    }
  },
  "cells": [
    {
      "cell_type": "code",
      "execution_count": 40,
      "metadata": {
        "id": "zxrbXftDYalU"
      },
      "outputs": [],
      "source": [
        "\n",
        "import numpy as np\n",
        "import pandas as pd\n",
        "     "
      ]
    },
    {
      "cell_type": "markdown",
      "source": [
        "###`Q-1:` Write a program to create an empty series."
      ],
      "metadata": {
        "id": "MetYTZJpYfdz"
      }
    },
    {
      "cell_type": "code",
      "source": [
        "# code here\n",
        "\n",
        "pd.Series([],dtype=int)"
      ],
      "metadata": {
        "id": "KUcgT935YgC5",
        "colab": {
          "base_uri": "https://localhost:8080/"
        },
        "outputId": "bfc04848-cfdc-4c73-c893-dac4bfca964b"
      },
      "execution_count": 41,
      "outputs": [
        {
          "output_type": "execute_result",
          "data": {
            "text/plain": [
              "Series([], dtype: int64)"
            ]
          },
          "metadata": {},
          "execution_count": 41
        }
      ]
    },
    {
      "cell_type": "markdown",
      "source": [
        "###`Q-2:` Write a Pandas program to add, subtract, multiple and divide two Pandas Series."
      ],
      "metadata": {
        "id": "jw5ybzU6YhOo"
      }
    },
    {
      "cell_type": "code",
      "source": [
        "# code here\n",
        "arr1 = [4,1,5,7,9,2]\n",
        "arr2 = [1,4,2,5,8,3]\n",
        "\n",
        "pds1 = pd.Series(arr1,dtype=np.int32)\n",
        "pds2 = pd.Series(arr2,dtype=np.int32)\n",
        "\n",
        "pds1+pds2"
      ],
      "metadata": {
        "id": "EF3GgVFjYjwG",
        "colab": {
          "base_uri": "https://localhost:8080/"
        },
        "outputId": "51827374-36eb-4199-f3f3-884928a9a45b"
      },
      "execution_count": 42,
      "outputs": [
        {
          "output_type": "execute_result",
          "data": {
            "text/plain": [
              "0     5\n",
              "1     5\n",
              "2     7\n",
              "3    12\n",
              "4    17\n",
              "5     5\n",
              "dtype: int32"
            ]
          },
          "metadata": {},
          "execution_count": 42
        }
      ]
    },
    {
      "cell_type": "code",
      "source": [
        "pds2-pds1"
      ],
      "metadata": {
        "colab": {
          "base_uri": "https://localhost:8080/"
        },
        "id": "feM1lLS504yN",
        "outputId": "16a3fefd-e708-4b7f-d803-ce92c5427c9f"
      },
      "execution_count": 43,
      "outputs": [
        {
          "output_type": "execute_result",
          "data": {
            "text/plain": [
              "0   -3\n",
              "1    3\n",
              "2   -3\n",
              "3   -2\n",
              "4   -1\n",
              "5    1\n",
              "dtype: int32"
            ]
          },
          "metadata": {},
          "execution_count": 43
        }
      ]
    },
    {
      "cell_type": "code",
      "source": [
        "pds1*pds2"
      ],
      "metadata": {
        "colab": {
          "base_uri": "https://localhost:8080/"
        },
        "id": "Y69pX4gd040z",
        "outputId": "30f3b12c-f822-4159-f099-df2cc5f239ca"
      },
      "execution_count": 44,
      "outputs": [
        {
          "output_type": "execute_result",
          "data": {
            "text/plain": [
              "0     4\n",
              "1     4\n",
              "2    10\n",
              "3    35\n",
              "4    72\n",
              "5     6\n",
              "dtype: int32"
            ]
          },
          "metadata": {},
          "execution_count": 44
        }
      ]
    },
    {
      "cell_type": "code",
      "source": [
        "pds1/pds2"
      ],
      "metadata": {
        "colab": {
          "base_uri": "https://localhost:8080/"
        },
        "id": "zGrowylW044D",
        "outputId": "83c543b7-79ed-4273-c32b-05ed3c50cbb5"
      },
      "execution_count": 45,
      "outputs": [
        {
          "output_type": "execute_result",
          "data": {
            "text/plain": [
              "0    4.000000\n",
              "1    0.250000\n",
              "2    2.500000\n",
              "3    1.400000\n",
              "4    1.125000\n",
              "5    0.666667\n",
              "dtype: float64"
            ]
          },
          "metadata": {},
          "execution_count": 45
        }
      ]
    },
    {
      "cell_type": "markdown",
      "source": [
        "###`Q-3` Write a Pandas program to compare the elements of the two Pandas Series.\n",
        "Sample Series: [2, 4, 6, 8, 10], [1, 3, 5, 7, 10]\n",
        "\n"
      ],
      "metadata": {
        "id": "TZDp25jeYlB6"
      }
    },
    {
      "cell_type": "code",
      "source": [
        "# code here\n",
        "\n",
        "arr1 = [2,4,6,8,10]\n",
        "arr2 = [1,3,5,7,10]\n",
        "\n",
        "pds1 = pd.Series(arr1)\n",
        "pds2 = pd.Series(arr2)\n",
        "\n",
        "result = pds1.compare(pds2)\n",
        "print(result)"
      ],
      "metadata": {
        "id": "gFNil8ruYp1y",
        "colab": {
          "base_uri": "https://localhost:8080/"
        },
        "outputId": "57c65a5c-6364-4312-9c51-d6f805c63799"
      },
      "execution_count": 46,
      "outputs": [
        {
          "output_type": "stream",
          "name": "stdout",
          "text": [
            "   self  other\n",
            "0   2.0    1.0\n",
            "1   4.0    3.0\n",
            "2   6.0    5.0\n",
            "3   8.0    7.0\n"
          ]
        }
      ]
    },
    {
      "cell_type": "markdown",
      "source": [
        "###`Q-5.`Write a function to change the data type of given a column or a Series. Function takes series and data type as input, returns the converted series.\n",
        "```\n",
        "series = pd.Series([1,2,'Python', 2.0, True, 100])\n",
        "change to float type data\n",
        "```\n",
        "Note: Read about pd.to_numeric()"
      ],
      "metadata": {
        "id": "HlOBn_N6YrZz"
      }
    },
    {
      "cell_type": "code",
      "source": [
        "# code here\n",
        "def changeDataType(series,datatype):\n",
        " new =pd.to_numeric(series, errors='coerce').astype(datatype)\n",
        " return new\n",
        "\n",
        "\n",
        "series = pd.Series([1,2,'Python', 2.0, True, 100])\n",
        "datatype = 'float'\n",
        "\n",
        "ans = changeDataType(series,datatype)\n",
        "print(ans)"
      ],
      "metadata": {
        "id": "_SWQJCUJYwXm",
        "colab": {
          "base_uri": "https://localhost:8080/"
        },
        "outputId": "d730ebcd-91cf-4094-9080-1a70c505abf2"
      },
      "execution_count": 47,
      "outputs": [
        {
          "output_type": "stream",
          "name": "stdout",
          "text": [
            "0      1.0\n",
            "1      2.0\n",
            "2      NaN\n",
            "3      2.0\n",
            "4      1.0\n",
            "5    100.0\n",
            "dtype: float64\n"
          ]
        }
      ]
    },
    {
      "cell_type": "markdown",
      "source": [
        "Download data - https://drive.google.com/file/d/1LRhXwbEodeWXtzPhJCX0X9Lf_BECzvqb/view?usp=share_link\n",
        "All Batsman runs series in IPL 2008 to 2022.\n",
        "\n",
        "Below questions are based on this data."
      ],
      "metadata": {
        "id": "PGp3OqRIY0Va"
      }
    },
    {
      "cell_type": "markdown",
      "source": [
        "###`Q-6` Find top 10 most run getter from the series."
      ],
      "metadata": {
        "id": "TxFkp-L4Y23d"
      }
    },
    {
      "cell_type": "code",
      "source": [
        "# code here\n",
        "\n",
        "cricket = pd.read_csv('/content/sample_data/batsman_runs_series.csv',index_col='batter').squeeze(\"columns\")\n",
        "cricket"
      ],
      "metadata": {
        "id": "muBgocA6Y2Bg",
        "colab": {
          "base_uri": "https://localhost:8080/"
        },
        "outputId": "1bfe598a-759a-4ccb-fa28-ae1d73c8a6e5"
      },
      "execution_count": 74,
      "outputs": [
        {
          "output_type": "execute_result",
          "data": {
            "text/plain": [
              "batter\n",
              "A Ashish Reddy     280\n",
              "A Badoni           161\n",
              "A Chandila           4\n",
              "A Chopra            53\n",
              "A Choudhary         25\n",
              "                  ... \n",
              "Yash Dayal           0\n",
              "Yashpal Singh       47\n",
              "Younis Khan          3\n",
              "Yuvraj Singh      2754\n",
              "Z Khan             117\n",
              "Name: batsman_run, Length: 605, dtype: int64"
            ]
          },
          "metadata": {},
          "execution_count": 74
        }
      ]
    },
    {
      "cell_type": "code",
      "source": [
        "\n",
        "cricket.sort_values(ascending=False)"
      ],
      "metadata": {
        "colab": {
          "base_uri": "https://localhost:8080/"
        },
        "id": "tPTiEgViuIpy",
        "outputId": "69d2d63c-95af-4f2a-ef47-4484b7e3c865"
      },
      "execution_count": 76,
      "outputs": [
        {
          "output_type": "execute_result",
          "data": {
            "text/plain": [
              "batter\n",
              "V Kohli            True\n",
              "S Dhawan           True\n",
              "DA Warner          True\n",
              "RG Sharma          True\n",
              "SK Raina           True\n",
              "                  ...  \n",
              "C Nanda           False\n",
              "Akash Deep        False\n",
              "S Ladda           False\n",
              "V Pratap Singh    False\n",
              "S Lamichhane      False\n",
              "Name: batsman_run, Length: 605, dtype: bool"
            ]
          },
          "metadata": {},
          "execution_count": 76
        }
      ]
    },
    {
      "cell_type": "markdown",
      "source": [
        "###`Q-7` No of players having runs above 3000"
      ],
      "metadata": {
        "id": "GzlCFBM_Y83g"
      }
    },
    {
      "cell_type": "code",
      "source": [
        "# code here\n",
        "mask = cricket.sort_values(ascending=False)>3000\n",
        "cricket[mask]\n",
        "len(cricket[mask])"
      ],
      "metadata": {
        "id": "JdNchHRWY1B-",
        "colab": {
          "base_uri": "https://localhost:8080/"
        },
        "outputId": "c8a48608-f369-4902-bc0c-9ee200625686"
      },
      "execution_count": 79,
      "outputs": [
        {
          "output_type": "execute_result",
          "data": {
            "text/plain": [
              "20"
            ]
          },
          "metadata": {},
          "execution_count": 79
        }
      ]
    },
    {
      "cell_type": "markdown",
      "source": [
        "###`Q-8` No of players having runs above mean value?"
      ],
      "metadata": {
        "id": "pMBEoCL1Y-vh"
      }
    },
    {
      "cell_type": "code",
      "source": [
        "# code here\n",
        "mean_val = cricket.mean()\n",
        "no_of_players = cricket[cricket.values > mean_val]\n",
        "len(no_of_players)"
      ],
      "metadata": {
        "id": "LgtViVFZZBIu",
        "colab": {
          "base_uri": "https://localhost:8080/"
        },
        "outputId": "74b0ecd8-aed1-46c2-eeeb-92e448151df7"
      },
      "execution_count": 85,
      "outputs": [
        {
          "output_type": "execute_result",
          "data": {
            "text/plain": [
              "128"
            ]
          },
          "metadata": {},
          "execution_count": 85
        }
      ]
    },
    {
      "cell_type": "markdown",
      "source": [
        "Download data - https://drive.google.com/file/d/1QZuZ5bypUInfVvarHACLAi8tXXHvb8xd/view?usp=share_link\n",
        "\n",
        "file name - items.csv\n",
        "\n"
      ],
      "metadata": {
        "id": "OAB1CgdgZEqE"
      }
    },
    {
      "cell_type": "markdown",
      "source": [
        "###`Q-9` \n",
        "    i. Read `items.csv` making `item_name` as index.\n",
        "    ii. Show no of nan values\n",
        "    ii. Item price is given in $, so convert it to BDT.without currency symbol.\n",
        "    iii. Make data type of newly made series as float.\n",
        "    iv. Fill nan with mean of the series\n",
        "\n",
        "\n",
        "How csv file looks\n",
        "\n",
        "```\n",
        "item_name\titem_price\n",
        "Chips and Fresh Tomato Salsa\t$2.39\n",
        "Izze\t$3.39\n",
        "Nantucket Nectar\t$3.39\n",
        "Chips and Tomatillo-Green Chili Salsa\t$2.39\n",
        "Chicken Bowl\t$16.98\n",
        "\n",
        "```"
      ],
      "metadata": {
        "id": "1UTQQImxZGLu"
      }
    },
    {
      "cell_type": "code",
      "source": [
        "# code here\n",
        "# i\n",
        "item = pd.read_csv('/content/sample_data/items.csv', index_col='item_name').squeeze('columns')\n",
        "items = item.copy()\n",
        "items"
      ],
      "metadata": {
        "id": "1xaWkoMJZFNK",
        "colab": {
          "base_uri": "https://localhost:8080/"
        },
        "outputId": "146dfa71-2c0d-4252-9938-e0950d885579"
      },
      "execution_count": 219,
      "outputs": [
        {
          "output_type": "execute_result",
          "data": {
            "text/plain": [
              "item_name\n",
              "Chips and Fresh Tomato Salsa              $2.39 \n",
              "Izze                                      $3.39 \n",
              "Nantucket Nectar                          $3.39 \n",
              "Chips and Tomatillo-Green Chili Salsa     $2.39 \n",
              "Chicken Bowl                             $16.98 \n",
              "                                          ...   \n",
              "Steak Burrito                            $11.75 \n",
              "Steak Burrito                            $11.75 \n",
              "Chicken Salad Bowl                       $11.25 \n",
              "Chicken Salad Bowl                        $8.75 \n",
              "Chicken Salad Bowl                        $8.75 \n",
              "Name: item_price, Length: 4622, dtype: object"
            ]
          },
          "metadata": {},
          "execution_count": 219
        }
      ]
    },
    {
      "cell_type": "code",
      "source": [
        "# ii\n",
        "nan_items = items[items.isna()]\n",
        "\n",
        "len(nan_items)"
      ],
      "metadata": {
        "colab": {
          "base_uri": "https://localhost:8080/"
        },
        "id": "kSI4t4tF5tGa",
        "outputId": "1fa09ed4-cf20-4a66-926a-7accc7d26944"
      },
      "execution_count": 220,
      "outputs": [
        {
          "output_type": "execute_result",
          "data": {
            "text/plain": [
              "50"
            ]
          },
          "metadata": {},
          "execution_count": 220
        }
      ]
    },
    {
      "cell_type": "code",
      "source": [
        "exchangeRate = 108\n",
        "st = items.str[1:]\n",
        "st = st.astype(float)\n",
        "st = st*exchangeRate\n",
        "items = st\n",
        "items"
      ],
      "metadata": {
        "colab": {
          "base_uri": "https://localhost:8080/"
        },
        "id": "wCtWSYHc6_EB",
        "outputId": "c4b9209e-12fe-4891-c2e9-7ef5aa26482c"
      },
      "execution_count": 221,
      "outputs": [
        {
          "output_type": "execute_result",
          "data": {
            "text/plain": [
              "item_name\n",
              "Chips and Fresh Tomato Salsa              258.12\n",
              "Izze                                      366.12\n",
              "Nantucket Nectar                          366.12\n",
              "Chips and Tomatillo-Green Chili Salsa     258.12\n",
              "Chicken Bowl                             1833.84\n",
              "                                          ...   \n",
              "Steak Burrito                            1269.00\n",
              "Steak Burrito                            1269.00\n",
              "Chicken Salad Bowl                       1215.00\n",
              "Chicken Salad Bowl                        945.00\n",
              "Chicken Salad Bowl                        945.00\n",
              "Name: item_price, Length: 4622, dtype: float64"
            ]
          },
          "metadata": {},
          "execution_count": 221
        }
      ]
    },
    {
      "cell_type": "code",
      "source": [
        "\n",
        "# iv\n",
        "print(items[items.isna()])\n",
        "items[items.isna()] = items.mean()"
      ],
      "metadata": {
        "colab": {
          "base_uri": "https://localhost:8080/"
        },
        "id": "9L8-SPUS5tI5",
        "outputId": "11da5ca0-797c-4bf0-e6f0-480a6367bf2d"
      },
      "execution_count": 222,
      "outputs": [
        {
          "output_type": "stream",
          "name": "stdout",
          "text": [
            "item_name\n",
            "Side of Chips                        NaN\n",
            "Steak Soft Tacos                     NaN\n",
            "Chips                                NaN\n",
            "Chicken Burrito                      NaN\n",
            "Veggie Bowl                          NaN\n",
            "Steak Salad Bowl                     NaN\n",
            "Chicken Salad Bowl                   NaN\n",
            "Barbacoa Burrito                     NaN\n",
            "Chicken Soft Tacos                   NaN\n",
            "Chicken Bowl                         NaN\n",
            "Steak Burrito                        NaN\n",
            "Chips and Guacamole                  NaN\n",
            "Chips and Roasted Chili Corn Salsa   NaN\n",
            "Chips and Fresh Tomato Salsa         NaN\n",
            "Steak Bowl                           NaN\n",
            "Steak Burrito                        NaN\n",
            "Chicken Bowl                         NaN\n",
            "Canned Soft Drink                    NaN\n",
            "Chicken Soft Tacos                   NaN\n",
            "Steak Burrito                        NaN\n",
            "Steak Burrito                        NaN\n",
            "Steak Burrito                        NaN\n",
            "Carnitas Soft Tacos                  NaN\n",
            "Chips                                NaN\n",
            "Chicken Burrito                      NaN\n",
            "Canned Soft Drink                    NaN\n",
            "Chicken Bowl                         NaN\n",
            "Side of Chips                        NaN\n",
            "Chicken Bowl                         NaN\n",
            "Chips                                NaN\n",
            "Chicken Bowl                         NaN\n",
            "Chicken Burrito                      NaN\n",
            "Canned Soda                          NaN\n",
            "Chicken Salad                        NaN\n",
            "Side of Chips                        NaN\n",
            "Chips and Guacamole                  NaN\n",
            "Chicken Burrito                      NaN\n",
            "Chips                                NaN\n",
            "Canned Soft Drink                    NaN\n",
            "Chicken Bowl                         NaN\n",
            "Chips and Guacamole                  NaN\n",
            "Steak Burrito                        NaN\n",
            "6 Pack Soft Drink                    NaN\n",
            "Chicken Burrito                      NaN\n",
            "Chips                                NaN\n",
            "Steak Burrito                        NaN\n",
            "Canned Soft Drink                    NaN\n",
            "Canned Soft Drink                    NaN\n",
            "Veggie Salad Bowl                    NaN\n",
            "Chicken Salad Bowl                   NaN\n",
            "Name: item_price, dtype: float64\n"
          ]
        }
      ]
    },
    {
      "cell_type": "code",
      "source": [
        "\n"
      ],
      "metadata": {
        "id": "zvrvl4sP5tLB"
      },
      "execution_count": 222,
      "outputs": []
    },
    {
      "cell_type": "markdown",
      "source": [
        "###`Q-10`: \n",
        "    i. Find mean price\n",
        "    ii. Find 30th and 6th percentile value\n",
        "    iii. Plot Histogram on price with bin size 50\n",
        "    iv. No of items price lies between [1000 to 2000]\n",
        "\n"
      ],
      "metadata": {
        "id": "UHc_4e9cZK8r"
      }
    },
    {
      "cell_type": "code",
      "source": [
        "# code here\n",
        "mean_price = items.mean()\n",
        "print(mean_price)"
      ],
      "metadata": {
        "id": "Eh3xX9FpZNmE",
        "colab": {
          "base_uri": "https://localhost:8080/"
        },
        "outputId": "759c0301-475e-45a1-ba49-eb57a2eb75f7"
      },
      "execution_count": 223,
      "outputs": [
        {
          "output_type": "stream",
          "name": "stdout",
          "text": [
            "806.0074015748032\n"
          ]
        }
      ]
    },
    {
      "cell_type": "code",
      "source": [
        "\n",
        "print(np.percentile(items.values,50))\n",
        "print(np.percentile(items.values,6))\n"
      ],
      "metadata": {
        "colab": {
          "base_uri": "https://localhost:8080/"
        },
        "id": "if_kSZHBQYZY",
        "outputId": "b51d2c57-334f-4893-83ca-5690c8a5a643"
      },
      "execution_count": 224,
      "outputs": [
        {
          "output_type": "stream",
          "name": "stdout",
          "text": [
            "945.0\n",
            "135.0\n"
          ]
        }
      ]
    },
    {
      "cell_type": "code",
      "source": [
        "items.value_counts().head(20).plot(kind='hist')"
      ],
      "metadata": {
        "colab": {
          "base_uri": "https://localhost:8080/",
          "height": 447
        },
        "id": "2d93aOJsQ_XJ",
        "outputId": "85c8ae12-16dd-43cc-b5f3-0c19def1c1c4"
      },
      "execution_count": 230,
      "outputs": [
        {
          "output_type": "execute_result",
          "data": {
            "text/plain": [
              "<Axes: ylabel='Frequency'>"
            ]
          },
          "metadata": {},
          "execution_count": 230
        },
        {
          "output_type": "display_data",
          "data": {
            "text/plain": [
              "<Figure size 640x480 with 1 Axes>"
            ],
            "image/png": "[encoded data removed]"
          },
          "metadata": {}
        }
      ]
    },
    {
      "cell_type": "code",
      "source": [
        "items.sort_values(ascending = False)"
      ],
      "metadata": {
        "colab": {
          "base_uri": "https://localhost:8080/"
        },
        "id": "sBpJ7E6sR9Hq",
        "outputId": "5d030905-26e3-456e-9386-6a7c6348f6cc"
      },
      "execution_count": 234,
      "outputs": [
        {
          "output_type": "execute_result",
          "data": {
            "text/plain": [
              "item_name\n",
              "Chips and Fresh Tomato Salsa    4779.00\n",
              "Carnitas Bowl                   3807.00\n",
              "Chicken Burrito                 3780.00\n",
              "Chicken Burrito                 3780.00\n",
              "Veggie Burrito                  3645.00\n",
              "                                 ...   \n",
              "Canned Soda                      117.72\n",
              "Canned Soda                      117.72\n",
              "Canned Soda                      117.72\n",
              "Canned Soda                      117.72\n",
              "Canned Soda                      117.72\n",
              "Name: item_price, Length: 4622, dtype: float64"
            ]
          },
          "metadata": {},
          "execution_count": 234
        }
      ]
    },
    {
      "cell_type": "code",
      "source": [
        "\n",
        "print(items.dtype)"
      ],
      "metadata": {
        "colab": {
          "base_uri": "https://localhost:8080/"
        },
        "id": "r-k-WzDGSku-",
        "outputId": "738b8c17-8098-4b8b-db82-3de201983ded"
      },
      "execution_count": 240,
      "outputs": [
        {
          "output_type": "stream",
          "name": "stdout",
          "text": [
            "int64\n"
          ]
        }
      ]
    },
    {
      "cell_type": "code",
      "source": [
        "items[items.between(1000,2000)]"
      ],
      "metadata": {
        "colab": {
          "base_uri": "https://localhost:8080/"
        },
        "id": "KI9R7EyPVlGZ",
        "outputId": "d40fc9a6-d4ba-424f-a5fd-b179c17b7e5a"
      },
      "execution_count": 250,
      "outputs": [
        {
          "output_type": "execute_result",
          "data": {
            "text/plain": [
              "item_name\n",
              "Chicken Bowl          1833\n",
              "Chicken Bowl          1185\n",
              "Steak Burrito         1269\n",
              "Chicken Bowl          1215\n",
              "Chicken Burrito       1185\n",
              "                      ... \n",
              "Steak Burrito         1269\n",
              "Veggie Burrito        1215\n",
              "Steak Burrito         1269\n",
              "Steak Burrito         1269\n",
              "Chicken Salad Bowl    1215\n",
              "Name: item_price, Length: 1089, dtype: int64"
            ]
          },
          "metadata": {},
          "execution_count": 250
        }
      ]
    },
    {
      "cell_type": "code",
      "source": [
        "\n"
      ],
      "metadata": {
        "id": "mS-o5AVtWnQU"
      },
      "execution_count": null,
      "outputs": []
    }
  ]
}