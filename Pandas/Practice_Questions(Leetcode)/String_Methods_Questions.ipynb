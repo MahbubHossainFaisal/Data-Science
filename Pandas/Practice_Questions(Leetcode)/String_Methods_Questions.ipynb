{
 "cells": [
  {
   "cell_type": "markdown",
   "id": "6fac1c4c-4f82-4c15-874e-c224c9767d8d",
   "metadata": {},
   "source": [
    "## Invalid Tweets\n",
    "\n",
    "Leetcode link: https://leetcode.com/problems/invalid-tweets/?envType=study-plan-v2&envId=30-days-of-pandas&lang=pythondata"
   ]
  },
  {
   "cell_type": "code",
   "execution_count": 1,
   "id": "9a7a14b5-c716-41d0-a0b8-e251005addb2",
   "metadata": {},
   "outputs": [],
   "source": [
    "import pandas as pd\n",
    "\n",
    "def invalid_tweets(tweets: pd.DataFrame) -> pd.DataFrame:\n",
    "    data = tweets[tweets['content'].str.len() > 15]\n",
    "    \n",
    "    return pd.DataFrame(data['tweet_id'])"
   ]
  },
  {
   "cell_type": "code",
   "execution_count": null,
   "id": "9e0ea59d-17f1-432c-a92f-98ad473c3548",
   "metadata": {},
   "outputs": [],
   "source": []
  },
  {
   "cell_type": "markdown",
   "id": "cc6d87f7-b22a-42ee-838f-81842aa5c538",
   "metadata": {},
   "source": [
    "## Calculate Special Bonus\n",
    "\n",
    "Leetcode link: https://leetcode.com/problems/calculate-special-bonus/?envType=study-plan-v2&envId=30-days-of-pandas&lang=pythondata"
   ]
  },
  {
   "cell_type": "markdown",
   "id": "99f594d2-0819-401c-ad68-1092dce9a1cd",
   "metadata": {},
   "source": [
    "```python\n",
    "import pandas as pd\n",
    "\n",
    "# Define a function to apply bonus logic based on conditions\n",
    "def apply_bonus(row):\n",
    "    if row['employee_id'] % 2 != 0 and not row['name'].startswith('M'):\n",
    "        return row['salary']\n",
    "    else:\n",
    "        return 0\n",
    "\n",
    "# Define a function to calculate special bonuses for employees\n",
    "def calculate_special_bonus(employees: pd.DataFrame) -> pd.DataFrame:\n",
    "    # Apply the apply_bonus function to each row using the apply method with axis=1\n",
    "    employees['bonus'] = employees.apply(apply_bonus, axis=1)\n",
    "    \n",
    "    # Sort the DataFrame by 'employee_id'\n",
    "    employees = employees.sort_values(by='employee_id')\n",
    "    \n",
    "    # Return a DataFrame containing only 'employee_id' and 'bonus' columns\n",
    "    return employees[['employee_id', 'bonus']]\n",
    "```\n",
    "\n",
    "Let's break down the code step by step:\n",
    "\n",
    "1. Import the Pandas library: `import pandas as pd`.\n",
    "2. Define a function named `apply_bonus(row)`:\n",
    "   - This function takes a single argument `row`, which represents a row in the DataFrame.\n",
    "   - Inside the function, there's an `if` condition that checks two conditions:\n",
    "     - If the `employee_id` in the row is odd (`row['employee_id'] % 2 != 0`) AND\n",
    "     - If the name of the employee does not start with the letter 'M' (`not row['name'].startswith('M')`).\n",
    "   - If both conditions are satisfied, it returns the value of the 'salary' column for that row; otherwise, it returns 0.\n",
    "   \n",
    "3. Define a function named `calculate_special_bonus(employees: pd.DataFrame) -> pd.DataFrame`:\n",
    "   - This function takes a DataFrame called `employees` as an input and returns a DataFrame as output.\n",
    "   - Inside this function:\n",
    "     - It adds a new column 'bonus' to the `employees` DataFrame by applying the `apply_bonus` function to each row using the `apply()` method with `axis=1`. This means the function is applied row-wise.\n",
    "     - It sorts the `employees` DataFrame by the 'employee_id' column using the `sort_values()` method.\n",
    "     - Finally, it returns a new DataFrame containing only the 'employee_id' and 'bonus' columns.\n",
    "\n",
    "So, the purpose of the code is to calculate a special bonus for employees based on certain conditions involving their 'employee_id', 'name', and 'salary'. The resulting DataFrame will have the 'employee_id' and the corresponding bonus amount as its columns."
   ]
  },
  {
   "cell_type": "code",
   "execution_count": null,
   "id": "d4784f16-8ce8-4c28-a5ae-ededb723a35a",
   "metadata": {},
   "outputs": [],
   "source": []
  },
  {
   "cell_type": "markdown",
   "id": "47427c7f-6aed-4729-98f6-7b4a096d3bc0",
   "metadata": {},
   "source": [
    "## Fix Names in a Table\n",
    "\n",
    "Leetcode link: https://leetcode.com/problems/fix-names-in-a-table/description/?envType=study-plan-v2&envId=30-days-of-pandas&lang=pythondata"
   ]
  },
  {
   "cell_type": "code",
   "execution_count": 2,
   "id": "c74c1133-1a40-440c-b78c-5e6358ff8bac",
   "metadata": {},
   "outputs": [],
   "source": [
    "import pandas as pd\n",
    "def fix(name):\n",
    "    updated_name = name[0].capitalize() + name[1:].lower()\n",
    "    return updated_name\n",
    "\n",
    "def fix_names(users: pd.DataFrame) -> pd.DataFrame:\n",
    "    users['name'] = users['name'].apply(fix)\n",
    "    users = users.sort_values(by='user_id')\n",
    "    return users"
   ]
  },
  {
   "cell_type": "code",
   "execution_count": null,
   "id": "3046f49a-d159-4445-aa24-eb09e5b55f31",
   "metadata": {},
   "outputs": [],
   "source": []
  },
  {
   "cell_type": "markdown",
   "id": "cf861868-2684-4786-8c43-fd08e2152a4e",
   "metadata": {},
   "source": [
    "## Patients With a Condition\n",
    "\n",
    "\n",
    "Leetcode link: https://leetcode.com/problems/patients-with-a-condition/submissions/?envType=study-plan-v2&envId=30-days-of-pandas&lang=pythondata"
   ]
  },
  {
   "cell_type": "markdown",
   "id": "87478f5d-57d9-4ee9-9b15-6eb9e13ced73",
   "metadata": {},
   "source": [
    "```python\n",
    "import pandas as pd\n",
    "\n",
    "def find_patients(patients: pd.DataFrame) -> pd.DataFrame:\n",
    "    data = patients[patients['conditions'].str.contains(r'\\bDIAB1')]\n",
    "    return data\n",
    "```\n",
    "\n",
    "- `import pandas as pd`: This line imports the Pandas library, allowing you to work with DataFrames and Series.\n",
    "\n",
    "- `def find_patients(patients: pd.DataFrame) -> pd.DataFrame:`: This line defines a function named `find_patients`. It takes a single argument `patients` which is expected to be a Pandas DataFrame containing patient information. The function annotation `-> pd.DataFrame` indicates that the function returns a DataFrame.\n",
    "\n",
    "- `data = patients[patients['conditions'].str.contains(r'\\bDIAB1')]`: This line performs the main operation of the function.\n",
    "  - `patients['conditions']` accesses the 'conditions' column of the DataFrame `patients`.\n",
    "  - `.str.contains(r'\\bDIAB1')` uses the `str.contains()` method with a regex pattern to check if each element in the 'conditions' column contains the regex pattern `r'\\bDIAB1'`.\n",
    "  - `r'\\bDIAB1'` is the regex pattern used to match 'DIAB1' as a standalone word. The `\\b` is a word boundary anchor that matches the position between a word character and a non-word character.\n",
    "  - The result of `str.contains()` is a boolean Series indicating whether the condition is met for each row.\n",
    "  - `patients[...]` uses this boolean Series to filter rows from the original DataFrame where the condition is `True`.\n",
    "  - The filtered rows are assigned to the DataFrame variable `data`.\n",
    "\n",
    "- `return data`: This line returns the DataFrame `data` containing the filtered rows to the caller of the function.\n",
    "\n",
    "Regex Pattern `r'\\bDIAB1'`:\n",
    "- `\\b`: This is a word boundary anchor. It matches the position between a word character and a non-word character.\n",
    "- `DIAB1`: This is the string 'DIAB1' that we're looking for in the 'conditions' column.\n",
    "\n",
    "Examples:\n",
    "1. `'DIAB1'`: This will match because 'DIAB1' starts as a standalone word.\n",
    "2. `'DIAB100'`: This will match because 'DIAB1' is a standalone word within the string.\n",
    "3. `'SADIAB100'`: This will not match because 'DIAB1' is not separated by a word boundary; it's part of the word.\n",
    "4. `'Another DIAB1 example'`: This will match because 'DIAB1' starts as a standalone word.\n",
    "5. `'DIAB1abc'`: This will not match because 'DIAB1' is not a standalone word; it's part of a larger word.\n",
    "\n",
    "In summary, the `find_patients` function uses the `str.contains()` method with a regex pattern to filter rows where the 'conditions' column contains the word 'DIAB1' as a standalone word. The `\\b` word boundary anchor ensures that 'DIAB1' is treated as a distinct word."
   ]
  },
  {
   "cell_type": "code",
   "execution_count": null,
   "id": "4dfba562-d628-4193-a46d-b388d575a138",
   "metadata": {},
   "outputs": [],
   "source": []
  },
  {
   "cell_type": "code",
   "execution_count": null,
   "id": "0d5635a4-8ae1-4b9c-a086-1c65018dc8ac",
   "metadata": {},
   "outputs": [],
   "source": []
  }
 ],
 "metadata": {
  "kernelspec": {
   "display_name": "Python 3 (ipykernel)",
   "language": "python",
   "name": "python3"
  },
  "language_info": {
   "codemirror_mode": {
    "name": "ipython",
    "version": 3
   },
   "file_extension": ".py",
   "mimetype": "text/x-python",
   "name": "python",
   "nbconvert_exporter": "python",
   "pygments_lexer": "ipython3",
   "version": "3.10.8"
  }
 },
 "nbformat": 4,
 "nbformat_minor": 5
}
