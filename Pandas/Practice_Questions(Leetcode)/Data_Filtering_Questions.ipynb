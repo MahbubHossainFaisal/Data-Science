{
 "cells": [
  {
   "cell_type": "markdown",
   "id": "c7b0e8c2-1b90-4758-b799-1fb7c5b5fdb1",
   "metadata": {},
   "source": [
    "## Big Countries\n",
    "\n",
    "Leetcode link: https://leetcode.com/problems/big-countries/?envType=study-plan-v2&envId=30-days-of-pandas&lang=pythondata"
   ]
  },
  {
   "cell_type": "code",
   "execution_count": 1,
   "id": "053a086a-4b3a-4619-bffd-e76663c610bd",
   "metadata": {},
   "outputs": [],
   "source": [
    "import pandas as pd\n",
    "\n",
    "def big_countries(world: pd.DataFrame) -> pd.DataFrame:\n",
    "    data = world[(world['area'] >= 3000000) | (world['population'] >= 25000000)][['name','population','area']]\n",
    "    return data"
   ]
  },
  {
   "cell_type": "code",
   "execution_count": null,
   "id": "9daad5b5-ed2c-4888-9e84-a9a332879650",
   "metadata": {},
   "outputs": [],
   "source": []
  },
  {
   "cell_type": "markdown",
   "id": "2e898e03-69cd-43e6-a9f6-65c99d829199",
   "metadata": {},
   "source": [
    "## Recyclable and Low Fat Products\n",
    "\n",
    "Leetcode link: https://leetcode.com/problems/recyclable-and-low-fat-products/"
   ]
  },
  {
   "cell_type": "code",
   "execution_count": 2,
   "id": "a9898563-c460-46ab-8b92-f2a7d1ee725d",
   "metadata": {},
   "outputs": [],
   "source": [
    "import pandas as pd\n",
    "\n",
    "def find_products(products: pd.DataFrame) -> pd.DataFrame:\n",
    "    data = products[(products['low_fats'] == 'Y') & (products['recyclable'] == 'Y')]['product_id']\n",
    "    return pd.DataFrame(data)"
   ]
  },
  {
   "cell_type": "code",
   "execution_count": null,
   "id": "639ad639-666b-49ae-87cc-2b5d0f538dfc",
   "metadata": {},
   "outputs": [],
   "source": []
  },
  {
   "cell_type": "markdown",
   "id": "e95f2256-0afb-4ef8-8f6b-560c17fa60db",
   "metadata": {},
   "source": [
    "## Customers Who Never Order\n",
    "\n",
    "Leetcode link: https://leetcode.com/problems/customers-who-never-order/?envType=study-plan-v2&envId=30-days-of-pandas&lang=pythondata"
   ]
  },
  {
   "cell_type": "code",
   "execution_count": 3,
   "id": "5d81ae3a-c9db-4ec1-9e48-4c6af6255f3b",
   "metadata": {},
   "outputs": [],
   "source": [
    "import pandas as pd\n",
    "\n",
    "def find_customers(customers: pd.DataFrame, orders: pd.DataFrame) -> pd.DataFrame:\n",
    "    # extract the customers id who ordered\n",
    "    order_customer_id_list = orders['customerId'].tolist()\n",
    "    # filter the customers who didn't order\n",
    "    filtered_customers = customers[~customers['id'].isin(order_customer_id_list)]\n",
    "    # change the column name from 'name' to 'Customers'\n",
    "\n",
    "    filtered_customers.rename(columns={'name':'Customers'}, inplace=True)\n",
    "    return pd.DataFrame(filtered_customers['Customers'])"
   ]
  },
  {
   "cell_type": "code",
   "execution_count": null,
   "id": "4ff1d345-8e1a-4571-8cc5-b3c40f06f0f6",
   "metadata": {},
   "outputs": [],
   "source": []
  },
  {
   "cell_type": "markdown",
   "id": "57fd9d7b-f56b-4ba7-a905-01b5aba4abc1",
   "metadata": {},
   "source": [
    "## Article Views I\n",
    "\n",
    "Leetcode link: https://leetcode.com/problems/article-views-i/?envType=study-plan-v2&envId=30-days-of-pandas&lang=pythondata"
   ]
  },
  {
   "cell_type": "code",
   "execution_count": 4,
   "id": "ae4068ad-fc09-48fc-a919-b79b63a11a0e",
   "metadata": {},
   "outputs": [],
   "source": [
    "import pandas as pd\n",
    "\n",
    "def article_views(views: pd.DataFrame) -> pd.DataFrame:\n",
    "\n",
    "    data = views[views['author_id'] == views['viewer_id']]['author_id'].drop_duplicates()\n",
    "    final_data =pd.DataFrame(data)\n",
    "    final_data = final_data.sort_values(by='author_id')\n",
    "    final_data.rename(columns={'author_id': 'id'},inplace=True)\n",
    "    return final_data"
   ]
  },
  {
   "cell_type": "code",
   "execution_count": null,
   "id": "2bd2ea55-e646-422a-8e1f-e4ce220f8b8c",
   "metadata": {},
   "outputs": [],
   "source": []
  }
 ],
 "metadata": {
  "kernelspec": {
   "display_name": "Python 3 (ipykernel)",
   "language": "python",
   "name": "python3"
  },
  "language_info": {
   "codemirror_mode": {
    "name": "ipython",
    "version": 3
   },
   "file_extension": ".py",
   "mimetype": "text/x-python",
   "name": "python",
   "nbconvert_exporter": "python",
   "pygments_lexer": "ipython3",
   "version": "3.10.8"
  }
 },
 "nbformat": 4,
 "nbformat_minor": 5
}
