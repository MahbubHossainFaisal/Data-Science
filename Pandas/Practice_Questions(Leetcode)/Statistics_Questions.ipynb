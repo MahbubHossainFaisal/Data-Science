{
 "cells": [
  {
   "cell_type": "markdown",
   "id": "1232a9a3-cb73-43f4-b47c-493143bb6d8a",
   "metadata": {},
   "source": [
    "Leetcode link: https://leetcode.com/problems/the-number-of-rich-customers/?envType=study-plan-v2&envId=30-days-of-pandas&lang=pythondata"
   ]
  },
  {
   "cell_type": "code",
   "execution_count": 1,
   "id": "cbfbbcad-741c-495c-9bd0-ef51e58a02c5",
   "metadata": {},
   "outputs": [],
   "source": [
    "import pandas as pd\n",
    "\n",
    "def count_rich_customers(store: pd.DataFrame) -> pd.DataFrame:\n",
    "    rich_data = store.groupby('customer_id').apply(lambda group: group[group['amount'] > 500].max() )\n",
    "    rich_data.dropna(inplace = True)\n",
    "    return pd.DataFrame([{'rich_count': len(rich_data)}])"
   ]
  },
  {
   "cell_type": "code",
   "execution_count": null,
   "id": "063a71bc-4df3-4664-8f9c-94e229b2eaa3",
   "metadata": {},
   "outputs": [],
   "source": []
  },
  {
   "cell_type": "markdown",
   "id": "4da5a9e4-158a-409f-949f-5fa4bbcd318a",
   "metadata": {},
   "source": [
    "Leetcode Link: https://leetcode.com/problems/immediate-food-delivery-i/?envType=study-plan-v2&envId=30-days-of-pandas&lang=pythondata"
   ]
  },
  {
   "cell_type": "code",
   "execution_count": 2,
   "id": "9f2417c1-d76d-4a1c-8fc0-d9bb61cd8672",
   "metadata": {},
   "outputs": [],
   "source": [
    "import pandas as pd\n",
    "\n",
    "def food_delivery(delivery: pd.DataFrame) -> pd.DataFrame:\n",
    "\n",
    "    same_order_date_count = len(delivery[delivery['order_date'] == delivery['customer_pref_delivery_date']])\n",
    "    delivery_len = len(delivery)\n",
    "    percentage = round((same_order_date_count/delivery_len)*100,2)\n",
    "    return pd.DataFrame([{'immediate_percentage': percentage }])"
   ]
  },
  {
   "cell_type": "code",
   "execution_count": null,
   "id": "0c68fae0-e8de-45e7-9ff4-c0fe0866d3e3",
   "metadata": {},
   "outputs": [],
   "source": []
  },
  {
   "cell_type": "markdown",
   "id": "f02344da-e2d7-4b73-92f5-c69a7a8868af",
   "metadata": {},
   "source": [
    "Leetcode Link: https://leetcode.com/problems/count-salary-categories/?envType=study-plan-v2&envId=30-days-of-pandas&lang=pythondata"
   ]
  },
  {
   "cell_type": "code",
   "execution_count": 3,
   "id": "00372173-6471-406b-8949-03000c624ce8",
   "metadata": {},
   "outputs": [],
   "source": [
    "import pandas as pd\n",
    "def income_status(income):\n",
    "    if income < 20000:\n",
    "        return 'Low Salary'\n",
    "    elif income >= 20000 and income < 50000:\n",
    "        return 'Average Salary'\n",
    "    else:\n",
    "        return 'High Salary'\n",
    "\n",
    "\n",
    "def count_salary_categories(accounts: pd.DataFrame) -> pd.DataFrame:\n",
    "\n",
    "    Low_Salary = len(accounts[accounts['income'] < 20000])\n",
    "    Average_Salary = len(accounts[(accounts['income'] >= 20000) & (accounts['income'] <= 50000) ])\n",
    "    High_Salary = len(accounts[accounts['income'] > 50000])\n",
    "    data = {\n",
    "        'category': ['Low Salary','Average Salary','High Salary'],\n",
    "        'accounts_count': [Low_Salary,Average_Salary,High_Salary]\n",
    "    }\n",
    "\n",
    "    return pd.DataFrame(data)"
   ]
  },
  {
   "cell_type": "code",
   "execution_count": null,
   "id": "b9e188a5-8f3b-49d5-9525-4b01d0818a5d",
   "metadata": {},
   "outputs": [],
   "source": []
  }
 ],
 "metadata": {
  "kernelspec": {
   "display_name": "Python 3 (ipykernel)",
   "language": "python",
   "name": "python3"
  },
  "language_info": {
   "codemirror_mode": {
    "name": "ipython",
    "version": 3
   },
   "file_extension": ".py",
   "mimetype": "text/x-python",
   "name": "python",
   "nbconvert_exporter": "python",
   "pygments_lexer": "ipython3",
   "version": "3.10.8"
  }
 },
 "nbformat": 4,
 "nbformat_minor": 5
}
