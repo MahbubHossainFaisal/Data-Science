{
 "cells": [
  {
   "cell_type": "code",
   "execution_count": null,
   "id": "024e10c9-c2df-4449-beed-a03a10888f9e",
   "metadata": {},
   "outputs": [],
   "source": []
  },
  {
   "cell_type": "code",
   "execution_count": null,
   "id": "0f67dd8d-6511-4bdb-b91b-58f923013d88",
   "metadata": {},
   "outputs": [],
   "source": []
  },
  {
   "cell_type": "code",
   "execution_count": null,
   "id": "cce1a5f5-7929-4f3a-9fd1-ddc244e7e364",
   "metadata": {},
   "outputs": [],
   "source": []
  },
  {
   "cell_type": "code",
   "execution_count": null,
   "id": "df9e510b-8583-4b83-85aa-c239698ba042",
   "metadata": {},
   "outputs": [],
   "source": []
  },
  {
   "cell_type": "markdown",
   "id": "e73526a2-75bd-4d1b-9c00-dfce4f25b55d",
   "metadata": {},
   "source": [
    "Link: https://leetcode.com/problems/department-highest-salary/submissions/?envType=study-plan-v2&envId=30-days-of-pandas&lang=pythondata\n"
   ]
  },
  {
   "cell_type": "code",
   "execution_count": 1,
   "id": "ddfae44a-c6a7-4a68-9a47-3d6508888890",
   "metadata": {},
   "outputs": [],
   "source": [
    "import pandas as pd\n",
    "\n",
    "def department_highest_salary(employee: pd.DataFrame, department: pd.DataFrame) -> pd.DataFrame:\n",
    "    joined_data = pd.merge(employee, department, left_on='departmentId', right_on='id', how='inner')\n",
    "    \n",
    "    # Group by department and find employees with the highest salary\n",
    "    grouped_data = joined_data.groupby('name_y').apply(lambda group: group[group['salary'] == group['salary'].max()])\n",
    "    \n",
    "    # Select relevant columns and reset the index\n",
    "    result_dataframe = grouped_data[['name_y', 'name_x', 'salary']].reset_index(drop=True)\n",
    "    result_dataframe.columns = ['Department', 'Employee', 'Salary']\n",
    "    \n",
    "    return result_dataframe"
   ]
  },
  {
   "cell_type": "markdown",
   "id": "b34a0bfc-9e45-45f7-85c7-1a9ed57c6820",
   "metadata": {},
   "source": [
    "**Step 1: Joining the Employee and Department tables**\n",
    "```python\n",
    "joined_data = pd.merge(employee, department, left_on='departmentId', right_on='id', how='inner')\n",
    "```\n",
    "In this step, we are using the `pd.merge()` function to combine the `employee` and `department` DataFrames based on the common column `'departmentId'`. The resulting `joined_data` DataFrame will contain information from both tables merged together.\n",
    "\n",
    "**Step 2: Group by department and find employees with the highest salary**\n",
    "```python\n",
    "grouped_data = joined_data.groupby('name_y').apply(lambda group: group[group['salary'] == group['salary'].max()])\n",
    "```\n",
    "In this step, we are using the `groupby()` function to group the `joined_data` DataFrame by the department names `'name_y'`. Then, we use the `apply()` function with a lambda function. The lambda function is applied to each group and filters the group to only include rows where the salary is equal to the maximum salary within that group. This effectively identifies employees with the highest salary in each department.\n",
    "\n",
    "**Step 3: Select relevant columns and reset the index**\n",
    "```python\n",
    "result_dataframe = grouped_data[['name_y', 'name_x', 'salary']].reset_index(drop=True)\n",
    "result_dataframe.columns = ['Department', 'Employee', 'Salary']\n",
    "```\n",
    "In this step, we are selecting the relevant columns `'name_y'`, `'name_x'`, and `'salary'` from the `grouped_data` DataFrame. The `.reset_index(drop=True)` call resets the index of the DataFrame, effectively removing the existing index and replacing it with a default integer index. Finally, we rename the columns to match the expected output using the `.columns` attribute.\n",
    "\n",
    "So, in summary, the `department_highest_salary` function combines employee and department data, groups the data by department, identifies employees with the highest salary in each department, and then formats the result into a DataFrame with the appropriate columns and structure. The lambda function within the `apply()` step is used to filter the groups to retain only those employees who have the maximum salary within their respective departments."
   ]
  },
  {
   "cell_type": "code",
   "execution_count": null,
   "id": "95bcf57a-3c12-4e05-a5db-0648b52321b7",
   "metadata": {},
   "outputs": [],
   "source": []
  },
  {
   "cell_type": "markdown",
   "id": "4eeddcae-a442-4cd4-9237-e1f8be36d998",
   "metadata": {},
   "source": [
    "Link: https://leetcode.com/problems/rank-scores/submissions/?envType=study-plan-v2&envId=30-days-of-pandas&lang=pythondata"
   ]
  },
  {
   "cell_type": "code",
   "execution_count": 2,
   "id": "1e182f6f-0850-4b19-b2b9-9f62e8f6dabb",
   "metadata": {},
   "outputs": [],
   "source": [
    "import pandas as pd\n",
    "\n",
    "def order_scores(scores: pd.DataFrame) -> pd.DataFrame:\n",
    "    scores['rank'] = scores['score'].rank(ascending=False,method='dense')\n",
    "    scores = scores.sort_values(by='rank')\n",
    "    return scores[['score','rank']]"
   ]
  },
  {
   "cell_type": "markdown",
   "id": "2b3e518d-7801-432c-b25f-f5c17de444fe",
   "metadata": {},
   "source": [
    "The `rank()` function in Pandas provides several methods for assigning ranks to data. You can specify the desired ranking method using the `method` parameter. Here are the available ranking methods:\n",
    "\n",
    "1. **average (default)**: This method assigns the average rank to tied values. If two values are tied for a particular rank, they will both receive the average of the ranks that they would have received using the 'min' and 'max' methods.\n",
    "\n",
    "2. **min**: This method assigns the minimum rank to tied values. If two values are tied, they both receive the same rank, which is the smallest rank that would have been assigned using any ranking method.\n",
    "\n",
    "3. **max**: This method assigns the maximum rank to tied values. If two values are tied, they both receive the same rank, which is the largest rank that would have been assigned using any ranking method.\n",
    "\n",
    "4. **first**: This method assigns ranks in the order they appear in the data, without adjusting for ties. The first occurrence of a value receives rank 1, the second occurrence receives rank 2, and so on.\n",
    "\n",
    "5. **dense**: This method assigns ranks similar to the 'min' method, but the ranks are not skipped if there are tied values. For example, if two values are tied for rank 2, the next value will receive rank 3 instead of 4."
   ]
  },
  {
   "cell_type": "code",
   "execution_count": null,
   "id": "9468be37-1194-4207-9abc-8eb6e81bf891",
   "metadata": {},
   "outputs": [],
   "source": []
  },
  {
   "cell_type": "markdown",
   "id": "be7c7ce2-2feb-4fd5-8fa5-681646a4adf5",
   "metadata": {},
   "source": [
    "Link: https://leetcode.com/problems/rearrange-products-table/submissions/?envType=study-plan-v2&envId=30-days-of-pandas&lang=pythondata"
   ]
  },
  {
   "cell_type": "code",
   "execution_count": 3,
   "id": "41cd2b72-b36c-4a3d-a715-d27c88798a59",
   "metadata": {},
   "outputs": [],
   "source": [
    "import pandas as pd\n",
    "\n",
    "def rearrange_products_table(products: pd.DataFrame) -> pd.DataFrame:\n",
    "    melt_products = pd.melt(products, id_vars=['product_id'], value_vars=['store1','store2','store3'], var_name='store',value_name='price')\n",
    "\n",
    "    melt_products.dropna(subset=['price'], inplace= True)\n",
    "    return melt_products"
   ]
  },
  {
   "cell_type": "markdown",
   "id": "73bada57-f38d-4727-a56c-74df2470a9dc",
   "metadata": {},
   "source": [
    "The `pd.melt()` function is used to transform a DataFrame from a wide format to a long format. In a wide format DataFrame, each row represents a single observation or entity, and each column represents a different attribute or feature. In a long format DataFrame, the data is \"melted\" down so that each row represents a unique combination of observations and attributes.\n",
    "\n",
    "Let's break down the parameters of the `pd.melt()` function:\n",
    "\n",
    "```python\n",
    "melted_df = pd.melt(\n",
    "    frame,       # The DataFrame to be melted\n",
    "    id_vars,     # Columns to use as identifiers (they will remain as columns in the melted DataFrame)\n",
    "    value_vars,  # Columns to be \"unpivoted\" (they will become the values in the melted DataFrame)\n",
    "    var_name,    # Name to give to the variable column (default is 'variable')\n",
    "    value_name   # Name to give to the value column (default is 'value')\n",
    ")\n",
    "```\n",
    "\n",
    "Here's a detailed explanation of each parameter:\n",
    "\n",
    "- `frame`: This is the DataFrame that you want to reshape.\n",
    "\n",
    "- `id_vars`: These are the columns that you want to keep as identifiers in the resulting melted DataFrame. They will remain as columns, and each unique combination of identifiers and melted columns will form a row in the melted DataFrame.\n",
    "\n",
    "- `value_vars`: These are the columns that you want to \"unpivot\" or melt. The values in these columns will be gathered into a single column in the melted DataFrame.\n",
    "\n",
    "- `var_name`: This parameter allows you to specify the name of the column that will contain the variable names (i.e., the columns that were \"unpivoted\"). By default, this column is named `'variable'`.\n",
    "\n",
    "- `value_name`: This parameter allows you to specify the name of the column that will contain the values that were in the columns you unpivoted. By default, this column is named `'value'`.\n",
    "\n",
    "In the context of your example, you have a DataFrame with prices of products in different stores (`store1`, `store2`, `store3`). You want to reshape this data so that each row represents a product in a specific store along with its price. The `pd.melt()` function helps you achieve this transformation.\n",
    "\n",
    "By specifying `id_vars=['product_id']` and `value_vars=['store1', 'store2', 'store3']`, you're indicating that you want to keep the `product_id` as an identifier, and you want to \"melt\" the columns `store1`, `store2`, and `store3` into a single column called `'store'` and the corresponding prices into a single column called `'price'`.\n",
    "\n",
    "The result is a long format DataFrame where each row contains the product's `product_id`, the store it's associated with, and the price in that store. This format makes it easier to analyze and work with the data, especially when you want to compare prices across different stores."
   ]
  },
  {
   "cell_type": "markdown",
   "id": "319d0bb6-f03f-4443-833b-fe1498167d39",
   "metadata": {},
   "source": [
    "Suppose you have the following DataFrame with student scores in different subjects:\n",
    "\n",
    "```python\n",
    "import pandas as pd\n",
    "\n",
    "data = {\n",
    "    'Student': ['Alice', 'Bob', 'Charlie'],\n",
    "    'Math': [90, 85, 70],\n",
    "    'Science': [95, 92, 88],\n",
    "    'History': [80, 75, 60]\n",
    "}\n",
    "\n",
    "df = pd.DataFrame(data)\n",
    "print(\"Original DataFrame:\")\n",
    "print(df)\n",
    "```\n",
    "\n",
    "This will output:\n",
    "\n",
    "```\n",
    "   Student  Math  Science  History\n",
    "0    Alice    90       95       80\n",
    "1      Bob    85       92       75\n",
    "2  Charlie    70       88       60\n",
    "```\n",
    "\n",
    "Now, let's use the `pd.melt()` function to reshape this DataFrame:\n",
    "\n",
    "```python\n",
    "melted_df = pd.melt(df, id_vars=['Student'], value_vars=['Math', 'Science', 'History'], \n",
    "                    var_name='Subject', value_name='Score')\n",
    "print(\"\\nMelted DataFrame:\")\n",
    "print(melted_df)\n",
    "```\n",
    "\n",
    "The output will be:\n",
    "\n",
    "```\n",
    "    Student  Subject  Score\n",
    "0     Alice     Math     90\n",
    "1       Bob     Math     85\n",
    "2   Charlie     Math     70\n",
    "3     Alice  Science     95\n",
    "4       Bob  Science     92\n",
    "5   Charlie  Science     88\n",
    "6     Alice  History     80\n",
    "7       Bob  History     75\n",
    "8   Charlie  History     60\n",
    "```\n",
    "\n",
    "In this example, the original DataFrame has students' scores in different subjects. By using the `pd.melt()` function, we've reshaped the data so that each row now represents a student's score in a specific subject. The columns `'Student'`, `'Subject'`, and `'Score'` correspond to the identifier, the variable (unpivoted columns), and the value, respectively.\n",
    "\n",
    "This transformed long format DataFrame can be useful for various analyses, such as comparing scores across subjects or performing aggregation tasks on specific subjects."
   ]
  },
  {
   "cell_type": "code",
   "execution_count": null,
   "id": "98538026-03ee-4c66-b6f8-691079723885",
   "metadata": {},
   "outputs": [],
   "source": []
  }
 ],
 "metadata": {
  "kernelspec": {
   "display_name": "Python 3 (ipykernel)",
   "language": "python",
   "name": "python3"
  },
  "language_info": {
   "codemirror_mode": {
    "name": "ipython",
    "version": 3
   },
   "file_extension": ".py",
   "mimetype": "text/x-python",
   "name": "python",
   "nbconvert_exporter": "python",
   "pygments_lexer": "ipython3",
   "version": "3.10.8"
  }
 },
 "nbformat": 4,
 "nbformat_minor": 5
}
