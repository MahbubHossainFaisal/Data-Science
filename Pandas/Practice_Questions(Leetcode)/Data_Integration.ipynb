{
 "cells": [
  {
   "cell_type": "markdown",
   "id": "5f014018-bc2a-4c3b-a487-089a366a7e20",
   "metadata": {},
   "source": [
    "## Actors and Directors Who Cooperated At Least Three Times\n",
    "\n",
    "Leetcode Link: https://leetcode.com/problems/actors-and-directors-who-cooperated-at-least-three-times/description/?envType=study-plan-v2&envId=30-days-of-pandas&lang=pythondata"
   ]
  },
  {
   "cell_type": "code",
   "execution_count": 1,
   "id": "d859e031-18d8-4b9f-b67e-e0ac765eb7d7",
   "metadata": {},
   "outputs": [],
   "source": [
    "import pandas as pd\n",
    "\n",
    "def actors_and_directors(actor_director: pd.DataFrame) -> pd.DataFrame:\n",
    "    result = actor_director.groupby(['actor_id', 'director_id']).filter(lambda x: len(x) >= 3)\n",
    "\n",
    "    result = result.drop_duplicates(subset=['actor_id', 'director_id'])\n",
    "\n",
    "    return result[['actor_id','director_id']];"
   ]
  },
  {
   "cell_type": "code",
   "execution_count": null,
   "id": "3ac278c0-308c-4836-94da-27cab86bcafc",
   "metadata": {},
   "outputs": [],
   "source": []
  },
  {
   "cell_type": "markdown",
   "id": "47a8ea1c-c87e-40c5-84ce-14da346f3461",
   "metadata": {},
   "source": [
    "## Replace Employee ID With The Unique Identifier\n",
    "\n",
    "Leetcode Link: https://leetcode.com/problems/replace-employee-id-with-the-unique-identifier/description/?envType=study-plan-v2&envId=30-days-of-pandas&lang=pythondata"
   ]
  },
  {
   "cell_type": "code",
   "execution_count": 2,
   "id": "646377d4-4d7b-4f14-8251-b1ea5eb78863",
   "metadata": {},
   "outputs": [],
   "source": [
    "import pandas as pd\n",
    "\n",
    "def replace_employee_id(employees: pd.DataFrame, employee_uni: pd.DataFrame) -> pd.DataFrame:\n",
    "    joined_data = employee_uni.merge(employees, on='id',how='right')\n",
    "\n",
    "    return joined_data[['unique_id','name']]"
   ]
  },
  {
   "cell_type": "code",
   "execution_count": null,
   "id": "960bf8a3-b2a3-4859-b439-9a9f14bcbda8",
   "metadata": {},
   "outputs": [],
   "source": []
  },
  {
   "cell_type": "markdown",
   "id": "df543eb1-97bd-4bed-804e-66d00cbf34ab",
   "metadata": {},
   "source": [
    "## Students and Examinations\n",
    "\n",
    "Leetcode link: https://leetcode.com/problems/students-and-examinations/description/?envType=study-plan-v2&envId=30-days-of-pandas&lang=pythondata"
   ]
  },
  {
   "cell_type": "code",
   "execution_count": 4,
   "id": "2370d25c-aa94-43dd-a0b4-cb37a62414bb",
   "metadata": {},
   "outputs": [],
   "source": [
    "import pandas as pd\n",
    "\n",
    "def students_and_examinations(students: pd.DataFrame, subjects: pd.DataFrame, examinations: pd.DataFrame) -> pd.DataFrame:\n",
    "    \n",
    "    if students.empty or subjects.empty or examinations.empty:\n",
    "        return pd.DataFrame(columns=['student_id', 'student_name', 'subject_name', 'attended_exams'])\n",
    "\n",
    "    all_combinations = students.assign(key=1).merge(subjects.assign(key=1), on='key').drop('key', axis=1)\n",
    "\n",
    "    # Left join with the count of examinations\n",
    "    result_df = all_combinations.merge(examinations.groupby(['student_id', 'subject_name']).size().reset_index(name='attended_exams'), on=['student_id', 'subject_name'], how='left').fillna(0)\n",
    "\n",
    "    # Order the result\n",
    "    result_df = result_df.sort_values(by=['student_id', 'subject_name'])\n",
    "\n",
    "    return result_df"
   ]
  },
  {
   "cell_type": "markdown",
   "id": "f80b0e43-119f-49e5-bff2-a0eb35b13ad6",
   "metadata": {},
   "source": [
    "\n",
    "Let's break down each step in detail:\n",
    "\n",
    "1. **Checking for Empty DataFrames (Input Validation)**:\n",
    "   - This part of the code is designed to handle the case where any of the input DataFrames (`students`, `subjects`, `examinations`) is empty. An empty DataFrame means there is no data to process, so it would be inappropriate to continue the computation. Instead, an empty DataFrame with the expected column names (`student_id`, `student_name`, `subject_name`, `attended_exams`) is returned, indicating that there is no data available.\n",
    "\n",
    "2. **Generate All Combinations of Students and Subjects**:\n",
    "   - In this step, a temporary column named `'key'` is added to the `students` DataFrame using the `assign()` method. This temporary column helps in performing a Cartesian product or cross join between `students` and `subjects` DataFrames. Then, the `merge()` function is used to combine the modified `students` DataFrame with the `subjects` DataFrame using the common column `'key'`. The result is a DataFrame containing all possible combinations of students and subjects.\n",
    "\n",
    "3. **Left Join with the Count of Examinations**:\n",
    "   - The number of exams attended by each student for each subject is calculated by grouping the `examinations` DataFrame using `groupby()`. The `size()` function is then applied to each group to count the number of occurrences, and the result is reset using `reset_index()` to create a DataFrame with columns `student_id`, `subject_name`, and `attended_exams`. This DataFrame is then left-joined with the `all_combinations` DataFrame to associate each student-subject combination with the count of attended exams. The `fillna(0)` method is used to fill missing values (where no exams were attended) with zeros.\n",
    "\n",
    "4. **Order the Result**:\n",
    "   - The resulting DataFrame is sorted by `student_id` and `subject_name` using the `sort_values()` method. This ensures that the data is organized in a consistent manner for analysis.\n",
    "\n",
    "5. **Return the Final DataFrame**:\n",
    "   - The processed DataFrame is returned as the final output of the function.\n",
    "\n",
    "I hope this detailed explanation clarifies each part of the code and how they come together to achieve the goal of counting attended exams for each student-subject combination. If you have any further questions or aspects you'd like to explore, feel free to ask!"
   ]
  },
  {
   "cell_type": "code",
   "execution_count": null,
   "id": "b56ede1d-86f0-4dda-8ec5-6393856f2819",
   "metadata": {},
   "outputs": [],
   "source": []
  },
  {
   "cell_type": "markdown",
   "id": "25912767-180d-42c8-bf15-3e4ee38764fd",
   "metadata": {},
   "source": [
    "## Managers with at Least 5 Direct Reports\n",
    "\n",
    "Leetcode link: https://leetcode.com/problems/managers-with-at-least-5-direct-reports/description/?envType=study-plan-v2&envId=30-days-of-pandas&lang=pythondata"
   ]
  },
  {
   "cell_type": "code",
   "execution_count": null,
   "id": "a69fedb7-821f-4596-9f8e-c56d6b54c601",
   "metadata": {},
   "outputs": [],
   "source": [
    "import pandas as pd\n",
    "\n",
    "\n",
    "def find_managers(employee: pd.DataFrame) -> pd.DataFrame:\n",
    "    \n",
    "    manager_reports = employee['managerId'].value_counts()\n",
    "\n",
    "    # Filter managers with at least five direct reports\n",
    "    qualified_managers = manager_reports[manager_reports >= 5].index\n",
    "\n",
    "    # Get the names of qualified managers\n",
    "    result_df = employee[employee['id'].isin(qualified_managers)][['name']]\n",
    "\n",
    "    return result_df"
   ]
  },
  {
   "cell_type": "markdown",
   "id": "18ab4d9c-05a3-41c0-aef6-2468fa1045e9",
   "metadata": {},
   "source": [
    "Here's how the code works:\n",
    "\n",
    "1. **Importing pandas**:\n",
    "   - The code begins by importing the pandas library, which is a popular data manipulation library in Python.\n",
    "\n",
    "2. **Defining the Function**:\n",
    "   - The `find_managers` function is defined, which takes a DataFrame named `employee` as an argument and returns a DataFrame containing the names of qualified managers.\n",
    "\n",
    "3. **Calculating Manager Reports**:\n",
    "   - `manager_reports = employee['managerId'].value_counts()` calculates the count of occurrences of each unique value in the `'managerId'` column. This operation gives us the number of direct reports for each manager.\n",
    "\n",
    "4. **Filtering Qualified Managers**:\n",
    "   - `qualified_managers = manager_reports[manager_reports >= 5].index` filters the `manager_reports` Series to include only those managers who have at least five direct reports (counted using the `.value_counts()` results). The `.index` attribute retrieves the indices (IDs) of qualified managers.\n",
    "\n",
    "5. **Getting Names of Qualified Managers**:\n",
    "   - `result_df = employee[employee['id'].isin(qualified_managers)][['name']]` filters the `employee` DataFrame to include only rows where the `'id'` (manager's ID) is in the list of qualified managers' IDs. This narrows down the DataFrame to only qualified managers. Then, we select only the `'name'` column from the filtered DataFrame, creating a DataFrame containing the names of qualified managers.\n",
    "\n",
    "6. **Returning the Result**:\n",
    "   - The final step is to return the `result_df`, which contains the names of managers who have at least five direct reports.\n",
    "\n",
    "In summary, this code uses pandas operations to calculate the number of direct reports for each manager, filter out qualified managers, and then extract and return their names. This approach helps identify managers with at least five direct reports based on the given DataFrame of employee information."
   ]
  },
  {
   "cell_type": "code",
   "execution_count": null,
   "id": "e7baa53b-4a96-4e88-9cbf-a6c9ddf3e8d7",
   "metadata": {},
   "outputs": [],
   "source": []
  },
  {
   "cell_type": "markdown",
   "id": "e15b9fc3-05a7-4fd7-ad36-71863e689cce",
   "metadata": {},
   "source": [
    "## Sales Person\n",
    "\n",
    "Leetcode link: https://leetcode.com/problems/sales-person/"
   ]
  },
  {
   "cell_type": "code",
   "execution_count": 5,
   "id": "f8ee2455-7dba-4544-b32f-ebbd6a2377d5",
   "metadata": {},
   "outputs": [],
   "source": [
    "import pandas as pd\n",
    "\n",
    "def sales_person(sales_person: pd.DataFrame, company: pd.DataFrame, orders: pd.DataFrame) -> pd.DataFrame:\n",
    "    sales_orders = company.merge(orders,on='com_id',how='inner')\n",
    "    sales_id = sales_orders[sales_orders['name'] == 'RED']['sales_id']\n",
    "\n",
    "    persons = sales_person[~sales_person['sales_id'].isin(sales_id)]['name']\n",
    "    return pd.DataFrame(persons);"
   ]
  },
  {
   "cell_type": "code",
   "execution_count": null,
   "id": "4b353c5f-d839-4019-9724-857c2f675103",
   "metadata": {},
   "outputs": [],
   "source": []
  }
 ],
 "metadata": {
  "kernelspec": {
   "display_name": "Python 3 (ipykernel)",
   "language": "python",
   "name": "python3"
  },
  "language_info": {
   "codemirror_mode": {
    "name": "ipython",
    "version": 3
   },
   "file_extension": ".py",
   "mimetype": "text/x-python",
   "name": "python",
   "nbconvert_exporter": "python",
   "pygments_lexer": "ipython3",
   "version": "3.10.8"
  }
 },
 "nbformat": 4,
 "nbformat_minor": 5
}
