{
 "cells": [
  {
   "cell_type": "markdown",
   "id": "89ed72b5-d8f1-4c36-a50b-e5331ab0d3d2",
   "metadata": {},
   "source": [
    "## Find Total Time Spent by Each Employee\n",
    "Leetcode link: https://leetcode.com/problems/find-total-time-spent-by-each-employee/description/?envType=study-plan-v2&envId=30-days-of-pandas&lang=pythondata"
   ]
  },
  {
   "cell_type": "code",
   "execution_count": 1,
   "id": "a2099d82-529b-4f4d-8a53-63542836f272",
   "metadata": {},
   "outputs": [],
   "source": [
    "import pandas as pd\n",
    "def sum_time(df):\n",
    "    total_time = 0\n",
    "    for index,row in df.iterrows():\n",
    "        total_time += row['out_time'] - row['in_time']\n",
    "\n",
    "    return total_time; \n",
    "\n",
    "def total_time(employees: pd.DataFrame) -> pd.DataFrame:\n",
    "    grouped = employees.groupby(['event_day','emp_id'])\n",
    "\n",
    "    result = grouped.apply(sum_time).reset_index()\n",
    "    result.rename(columns={0: 'total_time','event_day': 'day'}, inplace=True)\n",
    "    result = result.sort_values(by=['day', 'emp_id'])\n",
    "\n",
    "    return result;"
   ]
  },
  {
   "cell_type": "markdown",
   "id": "f2b852b4-252e-40ff-8e12-8a0be9721b3b",
   "metadata": {},
   "source": [
    "1. Importing Pandas: The code starts by importing the Pandas library, which is used for data manipulation and analysis.\n",
    "\n",
    "2. `sum_time` Function: This function calculates the total time spent for a given group of rows (a group of entries/exits for a particular employee on a specific day). It iterates through each row using the `iterrows()` function and calculates the total time spent by subtracting the 'in_time' from the 'out_time'.\n",
    "\n",
    "3. `total_time` Function: This is the main function that calculates the total time spent by each employee on each day at the office.\n",
    "\n",
    "   - `grouped = employees.groupby(['event_day', 'emp_id'])`: The DataFrame `employees` is grouped by the 'event_day' and 'emp_id' columns. This will create groups of rows where the entries and exits of each employee on each day are grouped together.\n",
    "\n",
    "   - `result = grouped.apply(sum_time).reset_index()`: The `sum_time` function is applied to each group of rows. This calculates the total time spent by the employee on that specific day. The `reset_index()` function is used to reset the index of the resulting DataFrame, so the group labels become columns.\n",
    "\n",
    "   - `result.rename(columns={0: 'total_time', 'event_day': 'day'}, inplace=True)`: The column names are renamed. The calculated total time is named 'total_time', and the 'event_day' column is renamed to 'day'.\n",
    "\n",
    "   - `result = result.sort_values(by=['day', 'emp_id'])`: The resulting DataFrame is sorted by the 'day' and 'emp_id' columns to match the expected output format.\n",
    "\n",
    "   - Finally, the `result` DataFrame, containing the total time spent by each employee on each day at the office, is returned.\n",
    "\n",
    "The code essentially groups the data, calculates the total time for each group, and organizes the results according to the specified format."
   ]
  },
  {
   "cell_type": "code",
   "execution_count": null,
   "id": "d246d37d-3802-4b2f-96a4-d83b977506f4",
   "metadata": {},
   "outputs": [],
   "source": []
  },
  {
   "cell_type": "markdown",
   "id": "f904b142-6d48-4246-ad7d-2203c53904d7",
   "metadata": {},
   "source": [
    "## Game Analysis\n",
    "\n",
    "Leetcode link: https://leetcode.com/studyplan/30-days-of-pandas/"
   ]
  },
  {
   "cell_type": "code",
   "execution_count": 2,
   "id": "dee947ce-e8f2-4afa-9b44-24ac4c2461e4",
   "metadata": {},
   "outputs": [],
   "source": [
    "import pandas as pd\n",
    "\n",
    "def find_first_login(df):\n",
    "    return df['event_date'].min()\n",
    "\n",
    "\n",
    "def game_analysis(activity: pd.DataFrame) -> pd.DataFrame:\n",
    "    grouped = activity.groupby(['player_id']).apply(find_first_login).reset_index()\n",
    "    grouped.rename(columns={0:'first_login'},inplace=True)\n",
    "    return grouped"
   ]
  },
  {
   "cell_type": "code",
   "execution_count": null,
   "id": "18f9cb30-a13f-4752-9ef0-eafa5d64821f",
   "metadata": {},
   "outputs": [],
   "source": []
  },
  {
   "cell_type": "markdown",
   "id": "bcaf16a6-38ae-4634-bbc3-8ed155983578",
   "metadata": {},
   "source": [
    "## Number of Unique Subjects Taught by Each Teacher\n",
    "Leetcode link: https://leetcode.com/problems/number-of-unique-subjects-taught-by-each-teacher/description/?envType=study-plan-v2&envId=30-days-of-pandas&lang=pythondata"
   ]
  },
  {
   "cell_type": "code",
   "execution_count": null,
   "id": "2cca22d6-d1af-4fd4-9773-1b748496e29b",
   "metadata": {},
   "outputs": [],
   "source": [
    "import pandas as pd\n",
    "\n",
    "def count_subjects(df):\n",
    "    return len(df['subject_id'].unique())\n",
    "def count_unique_subjects(teacher: pd.DataFrame) -> pd.DataFrame:\n",
    "    grouped = teacher.groupby(['teacher_id']).apply(count_subjects).reset_index()\n",
    "    grouped.rename(columns={0:'cnt'},inplace=True)\n",
    "    return grouped\n"
   ]
  },
  {
   "cell_type": "code",
   "execution_count": null,
   "id": "4fa0fc1c-69f4-4d18-bd2a-f1b81815679d",
   "metadata": {},
   "outputs": [],
   "source": []
  },
  {
   "cell_type": "markdown",
   "id": "6d928574-37e3-4703-ab80-603e9f05f19c",
   "metadata": {},
   "source": [
    "## Classes More Than 5 Students\n",
    "\n",
    "Leetcode : https://leetcode.com/problems/classes-more-than-5-students/?envType=study-plan-v2&envId=30-days-of-pandas&lang=pythondata"
   ]
  },
  {
   "cell_type": "code",
   "execution_count": 4,
   "id": "25503125-abd9-40c8-b9e1-cbf9ffc0530a",
   "metadata": {},
   "outputs": [],
   "source": [
    "import pandas as pd\n",
    "\n",
    "\n",
    "def find_classes(courses: pd.DataFrame) -> pd.DataFrame:\n",
    "    class_counts = courses.groupby('class')['student'].count()\n",
    "\n",
    "    # Filter classes that have at least five students\n",
    "    result = class_counts[class_counts >= 5].reset_index()\n",
    "\n",
    "    return pd.DataFrame(result['class'])"
   ]
  },
  {
   "cell_type": "code",
   "execution_count": null,
   "id": "75b895be-6704-4a25-be29-73e398cb0b66",
   "metadata": {},
   "outputs": [],
   "source": []
  },
  {
   "cell_type": "markdown",
   "id": "de0d978b-c682-43b6-abf2-0eb034df73a2",
   "metadata": {},
   "source": [
    "## Customer Placing the Largest Number of Orders\n",
    "\n",
    "Leetcode link: https://leetcode.com/problems/customer-placing-the-largest-number-of-orders/?envType=study-plan-v2&envId=30-days-of-pandas&lang=pythondata"
   ]
  },
  {
   "cell_type": "code",
   "execution_count": 2,
   "id": "41ef79a8-72d1-4b2e-ae4e-2cd953c4fcf6",
   "metadata": {},
   "outputs": [],
   "source": [
    "import pandas as pd\n",
    "\n",
    "\n",
    "def largest_orders(orders: pd.DataFrame) -> pd.DataFrame:\n",
    "    customer_count = orders['customer_number'].value_counts().reset_index()\n",
    "    customer_count.columns = ['customer_number', 'order_count']\n",
    "    max_order_customer = customer_count[customer_count['order_count'] == customer_count['order_count'].max()]\n",
    "    return pd.DataFrame(max_order_customer['customer_number']);"
   ]
  },
  {
   "cell_type": "code",
   "execution_count": null,
   "id": "03699db8-ed6e-47ae-83c9-2b855d478bc7",
   "metadata": {},
   "outputs": [],
   "source": []
  },
  {
   "cell_type": "markdown",
   "id": "8d6465a3-5d16-428b-a05f-fecab25c589a",
   "metadata": {},
   "source": [
    "## Group Sold Products By The Date\n",
    "\n",
    "Leetcode link: https://leetcode.com/problems/group-sold-products-by-the-date/description/?envType=study-plan-v2&envId=30-days-of-pandas&lang=pythondata"
   ]
  },
  {
   "cell_type": "code",
   "execution_count": 5,
   "id": "67f6599d-15a5-4cab-8aca-da443ddebc50",
   "metadata": {},
   "outputs": [],
   "source": [
    "import pandas as pd\n",
    "\n",
    "\n",
    "def categorize_products(activities: pd.DataFrame) -> pd.DataFrame:\n",
    "    # finding unique dates and count of unique products\n",
    "    unique_date = activities.groupby('sell_date').nunique().reset_index()\n",
    "    unique_date.rename(columns={'product':'num_sold'},inplace=True)\n",
    "    # converting products from being in columns to single strings\n",
    "    grouped_product = activities.groupby('sell_date')['product'].unique().apply(lambda x: ','.join(sorted(x))).reset_index()\n",
    "    unique_date['products'] = grouped_product['product']\n",
    "    return unique_date"
   ]
  },
  {
   "cell_type": "markdown",
   "id": "1d84a9ca-9aae-4f04-b105-885cf79b0b1e",
   "metadata": {},
   "source": [
    "Here's a summary of the code's functionality:\n",
    "\n",
    "1. The function begins by importing the pandas library, which is commonly used for data manipulation and analysis.\n",
    "\n",
    "2. The `categorize_products` function takes a DataFrame named \"activities\" as its parameter and is expected to return a DataFrame.\n",
    "\n",
    "3. Within the function:\n",
    "   - The code groups the data in the \"activities\" DataFrame by the 'sell_date' column and calculates the number of unique products sold on each date using the `.nunique()` method. This result is stored in a new DataFrame called \"unique_date.\"\n",
    "   - The column name 'product' is renamed to 'num_sold' in the \"unique_date\" DataFrame to reflect the count of unique products sold on each date.\n",
    "   - The code groups the data in the \"activities\" DataFrame again by the 'sell_date' column and aggregates the unique product names using the `.unique()` method. The `.apply(lambda x: ','.join(sorted(x)))` operation is used to convert the list of products into a single string with products sorted and separated by commas. This result is stored in a new DataFrame called \"grouped_product.\"\n",
    "   - The product information from the \"grouped_product\" DataFrame is then added as a new column called 'products' to the \"unique_date\" DataFrame.\n",
    "   - Finally, the modified \"unique_date\" DataFrame is returned as the output of the function.\n",
    "\n",
    "In summary, the function takes a DataFrame containing information about product sales on different dates. It calculates the count of unique products sold on each date and creates a concatenated, sorted string of the product names for each date. The resulting DataFrame includes columns for the date, the count of products sold, and the concatenated product names."
   ]
  },
  {
   "cell_type": "markdown",
   "id": "bf2b9397-eb8d-4048-852f-7d72b49b5553",
   "metadata": {},
   "source": [
    "## Daily Leads and Partners\n",
    "\n",
    "Leetcode link: https://leetcode.com/problems/daily-leads-and-partners/description/?envType=study-plan-v2&envId=30-days-of-pandas&lang=pythondata"
   ]
  },
  {
   "cell_type": "code",
   "execution_count": 6,
   "id": "e7f1274c-cf8d-446d-8779-46bd8ee991d2",
   "metadata": {},
   "outputs": [],
   "source": [
    "import pandas as pd\n",
    "\n",
    "def daily_leads_and_partners(daily_sales: pd.DataFrame) -> pd.DataFrame:\n",
    "    count_unique_leads = daily_sales.groupby(['date_id','make_name']).nunique().reset_index()\n",
    "    count_unique_leads.rename(columns={'lead_id':'unique_leads','partner_id':'unique_partners'}, inplace = True)\n",
    "\n",
    "    return count_unique_leads"
   ]
  },
  {
   "cell_type": "markdown",
   "id": "57750b29-c91c-4838-ba54-b70b073c706d",
   "metadata": {},
   "source": [
    "Here's a summary of the code's functionality:\n",
    "\n",
    "1. The code begins by importing the pandas library, which is widely used for data manipulation and analysis.\n",
    "\n",
    "2. The `daily_leads_and_partners` function takes a DataFrame named \"daily_sales\" as its parameter and is expected to return a DataFrame.\n",
    "\n",
    "3. Within the function:\n",
    "   - The code groups the data in the \"daily_sales\" DataFrame by two columns: 'date_id' (representing different date IDs) and 'make_name' (representing the names of car makes).\n",
    "   - The `.nunique()` method is applied to the grouped data to count the number of unique lead IDs and unique partner IDs for each combination of date ID and make name.\n",
    "   - The results are stored in a new DataFrame called \"count_unique_leads.\"\n",
    "   - The column names 'lead_id' and 'partner_id' are renamed to 'unique_leads' and 'unique_partners' respectively, in order to better represent the counts of unique leads and partners associated with each combination of date ID and make name.\n",
    "\n",
    "4. Finally, the modified \"count_unique_leads\" DataFrame, containing information about the counts of unique leads and partners for various car makes on different date IDs, is returned as the output of the function.\n",
    "\n",
    "In summary, the function calculates the number of unique leads and partners for different car makes on specific date IDs. It groups the data by date ID and make name, counts the unique lead and partner IDs within each group, and returns a DataFrame with columns for date ID, make name, count of unique leads, and count of unique partners."
   ]
  },
  {
   "cell_type": "code",
   "execution_count": null,
   "id": "850ee1fb-d957-4151-9231-5852dbb9cfed",
   "metadata": {},
   "outputs": [],
   "source": []
  }
 ],
 "metadata": {
  "kernelspec": {
   "display_name": "Python 3 (ipykernel)",
   "language": "python",
   "name": "python3"
  },
  "language_info": {
   "codemirror_mode": {
    "name": "ipython",
    "version": 3
   },
   "file_extension": ".py",
   "mimetype": "text/x-python",
   "name": "python",
   "nbconvert_exporter": "python",
   "pygments_lexer": "ipython3",
   "version": "3.10.8"
  }
 },
 "nbformat": 4,
 "nbformat_minor": 5
}
