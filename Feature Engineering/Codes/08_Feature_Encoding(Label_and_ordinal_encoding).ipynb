{
 "cells": [
  {
   "cell_type": "markdown",
   "id": "8feaabdc",
   "metadata": {},
   "source": [
    "## Label Encoding\n",
    "Label encoding is used to convert categorical data into numerical values by assigning a unique integer label to each category. Unlike ordinal encoding, label encoding doesn't assume any inherent order among the categories. "
   ]
  },
  {
   "cell_type": "code",
   "execution_count": 8,
   "id": "6c87f208",
   "metadata": {},
   "outputs": [
    {
     "name": "stdout",
     "output_type": "stream",
     "text": [
      "   Color  Encoded Color\n",
      "0    Red              2\n",
      "1   Blue              0\n",
      "2  Green              1\n",
      "3   Blue              0\n",
      "4    Red              2\n"
     ]
    }
   ],
   "source": [
    "import pandas as pd\n",
    "from sklearn.preprocessing import LabelEncoder\n",
    "\n",
    "# Create a sample DataFrame\n",
    "data = {'Color': ['Red', 'Blue', 'Green', 'Blue', 'Red']}\n",
    "df = pd.DataFrame(data)\n",
    "\n",
    "# Create an instance of LabelEncoder\n",
    "label_encoder = LabelEncoder()\n",
    "\n",
    "# Fit and transform the 'Color' column\n",
    "df['Encoded Color'] = label_encoder.fit_transform(df['Color'])\n",
    "\n",
    "# Display the resulting DataFrame\n",
    "print(df)\n"
   ]
  },
  {
   "cell_type": "markdown",
   "id": "a5990801",
   "metadata": {},
   "source": [
    "## Why Label encoding is not suitable in many cases"
   ]
  },
  {
   "cell_type": "markdown",
   "id": "ef9ff645",
   "metadata": {},
   "source": [
    "Label encoding assigns numerical labels to categorical data, making it suitable for ordinal data with inherent order. However, it can mislead machine learning algorithms into assuming non-existent ordinal relationships, potentially causing inaccuracies and biases. It may also be inappropriate for nominal data and can increase dimensionality in cases with numerous categories. To address these issues, consider alternative encoding methods like one-hot encoding or binary encoding, which better preserve categorical information and avoid these drawbacks."
   ]
  },
  {
   "cell_type": "markdown",
   "id": "44dd3920",
   "metadata": {},
   "source": [
    "## Ordinal Encoding"
   ]
  },
  {
   "cell_type": "markdown",
   "id": "25e1d2d3",
   "metadata": {},
   "source": [
    "Ordinal encoding is a technique used to convert categorical data with an inherent ordinal relationship into numerical values. This method assigns integer values to categories based on their __order or rank__. In this response, I'll provide an example of ordinal encoding using the popular Python library, scikit-learn, with a DataFrame from the pandas library.\n",
    "\n",
    "Suppose you have a DataFrame containing a \"Education Level\" column with categories such as \"High School,\" \"Bachelor's Degree,\" \"Master's Degree,\" and \"Ph.D.\" These categories have a clear and meaningful ordinal relationship, so we want to encode them accordingly.\n",
    "\n",
    "Here's how you can perform ordinal encoding using scikit-learn and pandas:\n",
    "\n",
    "```python\n",
    "import pandas as pd\n",
    "from sklearn.preprocessing import OrdinalEncoder\n",
    "\n",
    "# Create a sample DataFrame\n",
    "data = {'Education Level': ['High School', 'Bachelor\\'s Degree', 'Master\\'s Degree', 'Ph.D.', 'Bachelor\\'s Degree']}\n",
    "df = pd.DataFrame(data)\n",
    "\n",
    "# Define the order of categories\n",
    "education_order = ['High School', 'Bachelor\\'s Degree', 'Master\\'s Degree', 'Ph.D.']\n",
    "\n",
    "# Create an instance of OrdinalEncoder with specified categories\n",
    "encoder = OrdinalEncoder(categories=[education_order])\n",
    "\n",
    "# Fit the encoder on the data and transform the 'Education Level' column\n",
    "df['Encoded Education'] = encoder.fit_transform(df[['Education Level']])\n",
    "\n",
    "# Display the resulting DataFrame\n",
    "print(df)\n",
    "```\n",
    "\n",
    "Output:\n",
    "```\n",
    "     Education Level  Encoded Education\n",
    "0        High School                0.0\n",
    "1  Bachelor's Degree                1.0\n",
    "2    Master's Degree                2.0\n",
    "3               Ph.D.                3.0\n",
    "4  Bachelor's Degree                1.0\n",
    "```\n",
    "\n",
    "In this example, we:\n",
    "\n",
    "1. Created a sample DataFrame containing the \"Education Level\" column.\n",
    "2. Defined the order of categories in the `education_order` list to specify the desired encoding order.\n",
    "3. Created an instance of the `OrdinalEncoder` class, passing the `education_order` as the `categories` parameter to enforce the desired encoding order.\n",
    "4. Used the `fit_transform` method to encode the \"Education Level\" column and create a new column called \"Encoded Education\" with the ordinal values.\n",
    "\n",
    "Now, the \"Education Level\" column has been transformed into numerical values based on the specified order, allowing you to use it as input for machine learning algorithms while preserving the ordinal information."
   ]
  },
  {
   "cell_type": "markdown",
   "id": "db4901f3",
   "metadata": {},
   "source": [
    "## Another example of Ordinal Encoding"
   ]
  },
  {
   "cell_type": "code",
   "execution_count": 2,
   "id": "1b255d30",
   "metadata": {},
   "outputs": [],
   "source": [
    "import pandas as pd\n",
    "from sklearn.preprocessing import OrdinalEncoder"
   ]
  },
  {
   "cell_type": "code",
   "execution_count": 4,
   "id": "352ef8e5",
   "metadata": {},
   "outputs": [
    {
     "data": {
      "text/html": [
       "<div>\n",
       "<style scoped>\n",
       "    .dataframe tbody tr th:only-of-type {\n",
       "        vertical-align: middle;\n",
       "    }\n",
       "\n",
       "    .dataframe tbody tr th {\n",
       "        vertical-align: top;\n",
       "    }\n",
       "\n",
       "    .dataframe thead th {\n",
       "        text-align: right;\n",
       "    }\n",
       "</style>\n",
       "<table border=\"1\" class=\"dataframe\">\n",
       "  <thead>\n",
       "    <tr style=\"text-align: right;\">\n",
       "      <th></th>\n",
       "      <th>Skill</th>\n",
       "    </tr>\n",
       "  </thead>\n",
       "  <tbody>\n",
       "    <tr>\n",
       "      <th>0</th>\n",
       "      <td>Beginner</td>\n",
       "    </tr>\n",
       "    <tr>\n",
       "      <th>1</th>\n",
       "      <td>Mid-level</td>\n",
       "    </tr>\n",
       "    <tr>\n",
       "      <th>2</th>\n",
       "      <td>Pro</td>\n",
       "    </tr>\n",
       "  </tbody>\n",
       "</table>\n",
       "</div>"
      ],
      "text/plain": [
       "       Skill\n",
       "0   Beginner\n",
       "1  Mid-level\n",
       "2        Pro"
      ]
     },
     "execution_count": 4,
     "metadata": {},
     "output_type": "execute_result"
    }
   ],
   "source": [
    "data = {'Skill':['Beginner','Mid-level','Pro']}\n",
    "\n",
    "df = pd.DataFrame(data)\n",
    "df"
   ]
  },
  {
   "cell_type": "code",
   "execution_count": 6,
   "id": "908baa13",
   "metadata": {},
   "outputs": [],
   "source": [
    "# order of categories \n",
    "skill_order = ['Beginner','Mid-level','Pro']\n",
    "\n",
    "encoder = OrdinalEncoder(categories=[skill_order])\n",
    "\n",
    "df['encoded_skill'] = encoder.fit_transform(df[['Skill']])"
   ]
  },
  {
   "cell_type": "code",
   "execution_count": 7,
   "id": "1b3cc563",
   "metadata": {},
   "outputs": [
    {
     "data": {
      "text/html": [
       "<div>\n",
       "<style scoped>\n",
       "    .dataframe tbody tr th:only-of-type {\n",
       "        vertical-align: middle;\n",
       "    }\n",
       "\n",
       "    .dataframe tbody tr th {\n",
       "        vertical-align: top;\n",
       "    }\n",
       "\n",
       "    .dataframe thead th {\n",
       "        text-align: right;\n",
       "    }\n",
       "</style>\n",
       "<table border=\"1\" class=\"dataframe\">\n",
       "  <thead>\n",
       "    <tr style=\"text-align: right;\">\n",
       "      <th></th>\n",
       "      <th>Skill</th>\n",
       "      <th>encoded_skill</th>\n",
       "    </tr>\n",
       "  </thead>\n",
       "  <tbody>\n",
       "    <tr>\n",
       "      <th>0</th>\n",
       "      <td>Beginner</td>\n",
       "      <td>0.0</td>\n",
       "    </tr>\n",
       "    <tr>\n",
       "      <th>1</th>\n",
       "      <td>Mid-level</td>\n",
       "      <td>1.0</td>\n",
       "    </tr>\n",
       "    <tr>\n",
       "      <th>2</th>\n",
       "      <td>Pro</td>\n",
       "      <td>2.0</td>\n",
       "    </tr>\n",
       "  </tbody>\n",
       "</table>\n",
       "</div>"
      ],
      "text/plain": [
       "       Skill  encoded_skill\n",
       "0   Beginner            0.0\n",
       "1  Mid-level            1.0\n",
       "2        Pro            2.0"
      ]
     },
     "execution_count": 7,
     "metadata": {},
     "output_type": "execute_result"
    }
   ],
   "source": [
    "df"
   ]
  },
  {
   "cell_type": "code",
   "execution_count": null,
   "id": "22546c7a",
   "metadata": {},
   "outputs": [],
   "source": []
  }
 ],
 "metadata": {
  "kernelspec": {
   "display_name": "Python 3 (ipykernel)",
   "language": "python",
   "name": "python3"
  },
  "language_info": {
   "codemirror_mode": {
    "name": "ipython",
    "version": 3
   },
   "file_extension": ".py",
   "mimetype": "text/x-python",
   "name": "python",
   "nbconvert_exporter": "python",
   "pygments_lexer": "ipython3",
   "version": "3.9.13"
  }
 },
 "nbformat": 4,
 "nbformat_minor": 5
}
