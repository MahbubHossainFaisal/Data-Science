{
 "cells": [
  {
   "cell_type": "markdown",
   "id": "e7a3bbc3",
   "metadata": {},
   "source": [
    "One-hot encoding is a technique used in machine learning and data preprocessing to represent categorical data numerically. It is particularly useful when you have categorical variables (attributes) that cannot be directly used in many machine learning algorithms, which often require numerical input. One-hot encoding converts these categorical variables into a binary (0 or 1) format, making them suitable for mathematical modeling.\n",
    "\n",
    "Here's how one-hot encoding works:\n",
    "\n",
    "1. **Identify Categorical Variables:** First, you need to identify the categorical variables in your dataset. These are variables that represent categories or labels, such as colors, types of animals, or product categories.\n",
    "\n",
    "2. **Create a Binary Matrix:** For each categorical variable, you create a binary matrix where each category is represented by a column, and each row corresponds to a data point. \n",
    "\n",
    "   - For each row, you set a 1 in the column that corresponds to the category of that data point.\n",
    "   - All other columns for that row are set to 0.\n",
    "\n",
    "   Here's an example:\n",
    "\n",
    "   | Color   | Red | Green | Blue |\n",
    "   | ------- | --- | ----- | ---- |\n",
    "   | Data 1  | 1   | 0     | 0    |\n",
    "   | Data 2  | 0   | 1     | 0    |\n",
    "   | Data 3  | 0   | 0     | 1    |\n",
    "\n",
    "   In this example, \"Color\" is the categorical variable, and it has been one-hot encoded into three columns: \"Red,\" \"Green,\" and \"Blue.\"\n",
    "\n",
    "3. **Advantages of One-Hot Encoding:**\n",
    "\n",
    "   - **Preservation of Information:** One-hot encoding preserves the distinct categories and ensures that they don't imply any ordinal relationship (i.e., no category is \"greater\" or \"lesser\" than another).\n",
    "   \n",
    "   - **Compatibility with Algorithms:** Many machine learning algorithms, like linear regression, decision trees, and neural networks, require numerical input. One-hot encoding allows you to use categorical data with these algorithms.\n",
    "\n",
    "4. **Drawbacks of One-Hot Encoding:**\n",
    "\n",
    "   - **Increased Dimensionality:** One-hot encoding can significantly increase the dimensionality of your dataset, especially if you have categorical variables with many unique categories. This can lead to a \"curse of dimensionality,\" where the dataset becomes sparse and may require more data to train models effectively.\n",
    "\n",
    "   - **Potential for Collinearity:** When one-hot encoding is applied to multiple categorical variables, it can introduce multicollinearity, where two or more columns are highly correlated. This can be an issue for some machine learning algorithms, like linear regression.\n",
    "\n",
    "To address the issue of increased dimensionality, you can use techniques like feature selection or dimensionality reduction methods (e.g., PCA) to reduce the number of one-hot encoded features while retaining essential information. Additionally, you can explore other encoding techniques, such as label encoding or ordinal encoding, for ordinal categorical variables or when the dimensionality increase is a concern."
   ]
  },
  {
   "cell_type": "code",
   "execution_count": 7,
   "id": "0cd52595",
   "metadata": {},
   "outputs": [
    {
     "name": "stdout",
     "output_type": "stream",
     "text": [
      "One-Hot Encoded Array:\n",
      "[[0. 0. 1.]\n",
      " [0. 1. 0.]\n",
      " [1. 0. 0.]\n",
      " [0. 0. 1.]\n",
      " [1. 0. 0.]]\n",
      "\n",
      "Feature Names:\n",
      "['Color_Blue' 'Color_Green' 'Color_Red']\n"
     ]
    }
   ],
   "source": [
    "import numpy as np\n",
    "import pandas as pd\n",
    "from sklearn.preprocessing import OneHotEncoder\n",
    "\n",
    "# Sample data with a categorical feature 'Color'\n",
    "data = np.array(['Red', 'Green', 'Blue', 'Red', 'Blue']).reshape(-1, 1)\n",
    "\n",
    "# Create an instance of OneHotEncoder\n",
    "encoder = OneHotEncoder()\n",
    "\n",
    "# Fit and transform the data to perform one-hot encoding\n",
    "one_hot_encoded = encoder.fit_transform(data)\n",
    "\n",
    "# Convert the one-hot encoded result to an array\n",
    "one_hot_encoded_array = one_hot_encoded.toarray()\n",
    "\n",
    "# Print the one-hot encoded array\n",
    "print(\"One-Hot Encoded Array:\")\n",
    "print(one_hot_encoded_array)\n",
    "\n",
    "# Get the feature names for each column\n",
    "feature_names = encoder.get_feature_names_out(['Color'])\n",
    "print(\"\\nFeature Names:\")\n",
    "print(feature_names)\n"
   ]
  },
  {
   "cell_type": "code",
   "execution_count": 10,
   "id": "2c69438a",
   "metadata": {},
   "outputs": [],
   "source": [
    "encoded_df = pd.DataFrame(one_hot_encoded_array,columns=feature_names)"
   ]
  },
  {
   "cell_type": "code",
   "execution_count": 11,
   "id": "2ca00d30",
   "metadata": {},
   "outputs": [
    {
     "data": {
      "text/html": [
       "<div>\n",
       "<style scoped>\n",
       "    .dataframe tbody tr th:only-of-type {\n",
       "        vertical-align: middle;\n",
       "    }\n",
       "\n",
       "    .dataframe tbody tr th {\n",
       "        vertical-align: top;\n",
       "    }\n",
       "\n",
       "    .dataframe thead th {\n",
       "        text-align: right;\n",
       "    }\n",
       "</style>\n",
       "<table border=\"1\" class=\"dataframe\">\n",
       "  <thead>\n",
       "    <tr style=\"text-align: right;\">\n",
       "      <th></th>\n",
       "      <th>Color_Blue</th>\n",
       "      <th>Color_Green</th>\n",
       "      <th>Color_Red</th>\n",
       "    </tr>\n",
       "  </thead>\n",
       "  <tbody>\n",
       "    <tr>\n",
       "      <th>0</th>\n",
       "      <td>0.0</td>\n",
       "      <td>0.0</td>\n",
       "      <td>1.0</td>\n",
       "    </tr>\n",
       "    <tr>\n",
       "      <th>1</th>\n",
       "      <td>0.0</td>\n",
       "      <td>1.0</td>\n",
       "      <td>0.0</td>\n",
       "    </tr>\n",
       "    <tr>\n",
       "      <th>2</th>\n",
       "      <td>1.0</td>\n",
       "      <td>0.0</td>\n",
       "      <td>0.0</td>\n",
       "    </tr>\n",
       "    <tr>\n",
       "      <th>3</th>\n",
       "      <td>0.0</td>\n",
       "      <td>0.0</td>\n",
       "      <td>1.0</td>\n",
       "    </tr>\n",
       "    <tr>\n",
       "      <th>4</th>\n",
       "      <td>1.0</td>\n",
       "      <td>0.0</td>\n",
       "      <td>0.0</td>\n",
       "    </tr>\n",
       "  </tbody>\n",
       "</table>\n",
       "</div>"
      ],
      "text/plain": [
       "   Color_Blue  Color_Green  Color_Red\n",
       "0         0.0          0.0        1.0\n",
       "1         0.0          1.0        0.0\n",
       "2         1.0          0.0        0.0\n",
       "3         0.0          0.0        1.0\n",
       "4         1.0          0.0        0.0"
      ]
     },
     "execution_count": 11,
     "metadata": {},
     "output_type": "execute_result"
    }
   ],
   "source": [
    "encoded_df"
   ]
  },
  {
   "cell_type": "code",
   "execution_count": null,
   "id": "f11455f9",
   "metadata": {},
   "outputs": [],
   "source": []
  },
  {
   "cell_type": "code",
   "execution_count": null,
   "id": "0f10d77a",
   "metadata": {},
   "outputs": [],
   "source": []
  }
 ],
 "metadata": {
  "kernelspec": {
   "display_name": "Python 3 (ipykernel)",
   "language": "python",
   "name": "python3"
  },
  "language_info": {
   "codemirror_mode": {
    "name": "ipython",
    "version": 3
   },
   "file_extension": ".py",
   "mimetype": "text/x-python",
   "name": "python",
   "nbconvert_exporter": "python",
   "pygments_lexer": "ipython3",
   "version": "3.9.13"
  }
 },
 "nbformat": 4,
 "nbformat_minor": 5
}
