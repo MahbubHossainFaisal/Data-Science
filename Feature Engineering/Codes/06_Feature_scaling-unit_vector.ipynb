{
 "cells": [
  {
   "cell_type": "markdown",
   "id": "e563bf17",
   "metadata": {},
   "source": [
    "The unit vector method, also known as \"unit vector scaling\" or \"vector normalization,\" is a technique used in feature scaling, particularly in machine learning and data preprocessing. The primary goal of feature scaling is to transform the numerical features of a dataset into a specific range or scale to ensure that they have similar magnitudes. This helps improve the performance of certain machine learning algorithms that are sensitive to the scale of the input features, such as gradient descent-based algorithms (e.g., linear regression, support vector machines) or distance-based algorithms (e.g., K-nearest neighbors).\n",
    "\n",
    "The unit vector method involves transforming each feature such that it has a unit magnitude or length (i.e., a length of 1). This is done by dividing each feature vector by its Euclidean norm (also known as the L2 norm or Euclidean length). The Euclidean norm of a vector is calculated as the square root of the sum of the squares of its individual components. Mathematically, for a feature vector x = [x1, x2, ..., xn], the unit vector u would be calculated as:\n",
    "\n",
    "u = x / ||x||\n",
    "\n",
    "Where:\n",
    "- u is the unit vector of x.\n",
    "- x is the original feature vector.\n",
    "- ||x|| represents the Euclidean norm (L2 norm) of x, calculated as sqrt(x1^2 + x2^2 + ... + xn^2).\n",
    "\n",
    "Here's how the unit vector method works step by step:\n",
    "\n",
    "1. Calculate the Euclidean norm (L2 norm) of each feature vector in your dataset.\n",
    "2. For each feature vector, divide each component by its corresponding Euclidean norm.\n",
    "3. The resulting vectors will have a unit length, which means they lie on the unit hypersphere (a sphere with a radius of 1) in n-dimensional space.\n",
    "\n",
    "Benefits of using the unit vector method for feature scaling:\n",
    "\n",
    "1. Equalizes the scale of features: By ensuring that all features have the same scale (i.e., a unit length), you eliminate the problem of certain features dominating others due to their larger magnitudes.\n",
    "\n",
    "2. Preserves the direction of data: The unit vector transformation does not change the direction of the original data points; it only scales them to have unit length. This is particularly useful when the direction of the data is essential for analysis.\n",
    "\n",
    "3. Helps with distance-based algorithms: The unit vector method is useful when working with distance-based algorithms, such as K-nearest neighbors, where feature scales can affect the results significantly.\n",
    "\n",
    "4. Simplifies feature scaling: Unlike some other scaling techniques like min-max scaling or standardization (z-score scaling), the unit vector method doesn't require selecting specific scaling ranges or parameters.\n",
    "\n",
    "However, it's worth noting that the unit vector method may not be suitable for all types of datasets or machine learning algorithms. For instance, it may not handle outliers well, as extreme values can lead to vectors with very long magnitudes. Therefore, it's important to consider the characteristics of your data and the requirements of your machine learning model when choosing a feature scaling method."
   ]
  },
  {
   "cell_type": "code",
   "execution_count": 1,
   "id": "cf2afae1",
   "metadata": {},
   "outputs": [],
   "source": [
    "from sklearn.preprocessing import normalize\n",
    "import seaborn as sns\n",
    "import pandas as pd"
   ]
  },
  {
   "cell_type": "code",
   "execution_count": 2,
   "id": "501b7cca",
   "metadata": {},
   "outputs": [],
   "source": [
    "df = sns.load_dataset('iris')"
   ]
  },
  {
   "cell_type": "code",
   "execution_count": 11,
   "id": "b6b3b9fc",
   "metadata": {},
   "outputs": [
    {
     "data": {
      "text/html": [
       "<div>\n",
       "<style scoped>\n",
       "    .dataframe tbody tr th:only-of-type {\n",
       "        vertical-align: middle;\n",
       "    }\n",
       "\n",
       "    .dataframe tbody tr th {\n",
       "        vertical-align: top;\n",
       "    }\n",
       "\n",
       "    .dataframe thead th {\n",
       "        text-align: right;\n",
       "    }\n",
       "</style>\n",
       "<table border=\"1\" class=\"dataframe\">\n",
       "  <thead>\n",
       "    <tr style=\"text-align: right;\">\n",
       "      <th></th>\n",
       "      <th>sepal_length</th>\n",
       "      <th>sepal_width</th>\n",
       "      <th>petal_length</th>\n",
       "      <th>petal_width</th>\n",
       "      <th>species</th>\n",
       "    </tr>\n",
       "  </thead>\n",
       "  <tbody>\n",
       "    <tr>\n",
       "      <th>0</th>\n",
       "      <td>5.1</td>\n",
       "      <td>3.5</td>\n",
       "      <td>1.4</td>\n",
       "      <td>0.2</td>\n",
       "      <td>setosa</td>\n",
       "    </tr>\n",
       "    <tr>\n",
       "      <th>1</th>\n",
       "      <td>4.9</td>\n",
       "      <td>3.0</td>\n",
       "      <td>1.4</td>\n",
       "      <td>0.2</td>\n",
       "      <td>setosa</td>\n",
       "    </tr>\n",
       "    <tr>\n",
       "      <th>2</th>\n",
       "      <td>4.7</td>\n",
       "      <td>3.2</td>\n",
       "      <td>1.3</td>\n",
       "      <td>0.2</td>\n",
       "      <td>setosa</td>\n",
       "    </tr>\n",
       "    <tr>\n",
       "      <th>3</th>\n",
       "      <td>4.6</td>\n",
       "      <td>3.1</td>\n",
       "      <td>1.5</td>\n",
       "      <td>0.2</td>\n",
       "      <td>setosa</td>\n",
       "    </tr>\n",
       "    <tr>\n",
       "      <th>4</th>\n",
       "      <td>5.0</td>\n",
       "      <td>3.6</td>\n",
       "      <td>1.4</td>\n",
       "      <td>0.2</td>\n",
       "      <td>setosa</td>\n",
       "    </tr>\n",
       "  </tbody>\n",
       "</table>\n",
       "</div>"
      ],
      "text/plain": [
       "   sepal_length  sepal_width  petal_length  petal_width species\n",
       "0           5.1          3.5           1.4          0.2  setosa\n",
       "1           4.9          3.0           1.4          0.2  setosa\n",
       "2           4.7          3.2           1.3          0.2  setosa\n",
       "3           4.6          3.1           1.5          0.2  setosa\n",
       "4           5.0          3.6           1.4          0.2  setosa"
      ]
     },
     "execution_count": 11,
     "metadata": {},
     "output_type": "execute_result"
    }
   ],
   "source": [
    "df.head()"
   ]
  },
  {
   "cell_type": "code",
   "execution_count": 12,
   "id": "2ab6c7dd",
   "metadata": {},
   "outputs": [],
   "source": [
    "X_normalized = normalize(df[['sepal_length', 'sepal_width', 'petal_length', 'petal_width']], norm='l2', axis=0)"
   ]
  },
  {
   "cell_type": "code",
   "execution_count": 13,
   "id": "97f70c65",
   "metadata": {},
   "outputs": [],
   "source": [
    "new_df = pd.DataFrame(X_normalized,columns=['sepal_length', 'sepal_width', 'petal_length', 'petal_width'])"
   ]
  },
  {
   "cell_type": "code",
   "execution_count": 14,
   "id": "20979e16",
   "metadata": {},
   "outputs": [
    {
     "data": {
      "text/html": [
       "<div>\n",
       "<style scoped>\n",
       "    .dataframe tbody tr th:only-of-type {\n",
       "        vertical-align: middle;\n",
       "    }\n",
       "\n",
       "    .dataframe tbody tr th {\n",
       "        vertical-align: top;\n",
       "    }\n",
       "\n",
       "    .dataframe thead th {\n",
       "        text-align: right;\n",
       "    }\n",
       "</style>\n",
       "<table border=\"1\" class=\"dataframe\">\n",
       "  <thead>\n",
       "    <tr style=\"text-align: right;\">\n",
       "      <th></th>\n",
       "      <th>sepal_length</th>\n",
       "      <th>sepal_width</th>\n",
       "      <th>petal_length</th>\n",
       "      <th>petal_width</th>\n",
       "    </tr>\n",
       "  </thead>\n",
       "  <tbody>\n",
       "    <tr>\n",
       "      <th>0</th>\n",
       "      <td>0.070563</td>\n",
       "      <td>0.092542</td>\n",
       "      <td>0.027548</td>\n",
       "      <td>0.011502</td>\n",
       "    </tr>\n",
       "    <tr>\n",
       "      <th>1</th>\n",
       "      <td>0.067795</td>\n",
       "      <td>0.079322</td>\n",
       "      <td>0.027548</td>\n",
       "      <td>0.011502</td>\n",
       "    </tr>\n",
       "    <tr>\n",
       "      <th>2</th>\n",
       "      <td>0.065028</td>\n",
       "      <td>0.084610</td>\n",
       "      <td>0.025580</td>\n",
       "      <td>0.011502</td>\n",
       "    </tr>\n",
       "    <tr>\n",
       "      <th>3</th>\n",
       "      <td>0.063645</td>\n",
       "      <td>0.081966</td>\n",
       "      <td>0.029516</td>\n",
       "      <td>0.011502</td>\n",
       "    </tr>\n",
       "    <tr>\n",
       "      <th>4</th>\n",
       "      <td>0.069179</td>\n",
       "      <td>0.095186</td>\n",
       "      <td>0.027548</td>\n",
       "      <td>0.011502</td>\n",
       "    </tr>\n",
       "  </tbody>\n",
       "</table>\n",
       "</div>"
      ],
      "text/plain": [
       "   sepal_length  sepal_width  petal_length  petal_width\n",
       "0      0.070563     0.092542      0.027548     0.011502\n",
       "1      0.067795     0.079322      0.027548     0.011502\n",
       "2      0.065028     0.084610      0.025580     0.011502\n",
       "3      0.063645     0.081966      0.029516     0.011502\n",
       "4      0.069179     0.095186      0.027548     0.011502"
      ]
     },
     "execution_count": 14,
     "metadata": {},
     "output_type": "execute_result"
    }
   ],
   "source": [
    "new_df.head()"
   ]
  },
  {
   "cell_type": "markdown",
   "id": "eddc101b",
   "metadata": {},
   "source": [
    "In this example:\n",
    "\n",
    "1. We import the necessary libraries, including `normalize` from `sklearn.preprocessing` and `numpy` for creating the sample feature matrix.\n",
    "\n",
    "3. We use the `normalize` function to normalize the feature matrix `X`. We specify `norm='l2'` to indicate that we want to normalize using the L2 (Euclidean) norm, and `axis=0` to normalize each feature individually.\n",
    "\n",
    "4. The result is stored in `X_normalized`, which will contain the normalized feature matrix.\n",
    "\n",
    "5. Finally, we print the normalized feature matrix to see the scaled values.\n",
    "\n",
    "The resulting `X_normalized` will contain the same data as the original matrix, but each feature (column) will have a unit magnitude, meaning its Euclidean norm will be 1. This is the essence of the unit vector scaling method."
   ]
  },
  {
   "cell_type": "code",
   "execution_count": null,
   "id": "064fb3c8",
   "metadata": {},
   "outputs": [],
   "source": []
  }
 ],
 "metadata": {
  "kernelspec": {
   "display_name": "Python 3 (ipykernel)",
   "language": "python",
   "name": "python3"
  },
  "language_info": {
   "codemirror_mode": {
    "name": "ipython",
    "version": 3
   },
   "file_extension": ".py",
   "mimetype": "text/x-python",
   "name": "python",
   "nbconvert_exporter": "python",
   "pygments_lexer": "ipython3",
   "version": "3.9.13"
  }
 },
 "nbformat": 4,
 "nbformat_minor": 5
}
