{
  "nbformat": 4,
  "nbformat_minor": 0,
  "metadata": {
    "colab": {
      "provenance": []
    },
    "kernelspec": {
      "name": "python3",
      "display_name": "Python 3"
    },
    "language_info": {
      "name": "python"
    }
  },
  "cells": [
    {
      "cell_type": "markdown",
      "source": [
        "###`Q-1:` Create a random 3x4 matrix with value between 0-100. And perform below tasks\n",
        "\n",
        "    i. Sort this matrix. np.sort()\n",
        "    ii. Sort this matrix based on values in 2nd column.\n",
        "    iii. Sort this matrix based on max value in each row.\n",
        "    iv. Sort based on elements value.\n"
      ],
      "metadata": {
        "id": "J88qfqQEk_sT"
      }
    },
    {
      "cell_type": "markdown",
      "source": [
        "See examples:\n",
        "```\n",
        "arr = \n",
        "    [[92 90 74]\n",
        "    [ 6 63 93]\n",
        "    [15 93 96]\n",
        "    [70 60 48]]\n",
        "```\n",
        "```\n",
        "i. np.sort\n",
        "[[74 90 92]\n",
        " [ 6 63 93]\n",
        " [15 93 96]\n",
        " [48 60 70]]\n",
        "\n",
        "ii. based on 2nd column\n",
        "[[70 60 48]\n",
        " [ 6 63 93]\n",
        " [92 90 74]\n",
        " [15 93 96]]\n",
        "\n",
        "iii. based on row max- ascending\n",
        "[[15 93 96]\n",
        " [ 6 63 93]\n",
        " [92 90 74]\n",
        " [70 60 48]]\n",
        "\n",
        "iv. based on elements value\n",
        "[[ 6 15 48]\n",
        " [60 63 70]\n",
        " [74 90 92]\n",
        " [93 93 96]]\n",
        "\n",
        "```"
      ],
      "metadata": {
        "id": "xpOwOdhqlE9R"
      }
    },
    {
      "cell_type": "code",
      "source": [
        "# code here\n",
        "import numpy as np\n",
        "arr = np.array([[92, 90, 74],\n",
        "    [ 6, 63, 93],\n",
        "    [15, 93, 96],\n",
        "    [70, 60, 48]])\n",
        "\n",
        "arr = np.sort(arr)\n",
        "arr\n"
      ],
      "metadata": {
        "id": "Auy-guUwlALv",
        "outputId": "e6b98b5b-3651-47df-8bcc-bdca630c7fb7",
        "colab": {
          "base_uri": "https://localhost:8080/"
        }
      },
      "execution_count": 85,
      "outputs": [
        {
          "output_type": "execute_result",
          "data": {
            "text/plain": [
              "array([[74, 90, 92],\n",
              "       [ 6, 63, 93],\n",
              "       [15, 93, 96],\n",
              "       [48, 60, 70]])"
            ]
          },
          "metadata": {},
          "execution_count": 85
        }
      ]
    },
    {
      "cell_type": "code",
      "source": [
        "# based on 2nd column\n",
        "arr[arr[:,1].argsort()]"
      ],
      "metadata": {
        "id": "MVH6j2SceT18",
        "outputId": "476f1eb6-12ba-482a-e8bf-c7ac5d0f628c",
        "colab": {
          "base_uri": "https://localhost:8080/"
        }
      },
      "execution_count": 86,
      "outputs": [
        {
          "output_type": "execute_result",
          "data": {
            "text/plain": [
              "array([[48, 60, 70],\n",
              "       [ 6, 63, 93],\n",
              "       [74, 90, 92],\n",
              "       [15, 93, 96]])"
            ]
          },
          "metadata": {},
          "execution_count": 86
        }
      ]
    },
    {
      "cell_type": "markdown",
      "source": [
        "**argsort()** is a useful NumPy method for obtaining the indices that would sort an array in ascending order. It is particularly useful for sorting along a specific axis of a multi-dimensional array."
      ],
      "metadata": {
        "id": "05I_nR-kjlTL"
      }
    },
    {
      "cell_type": "markdown",
      "source": [
        "[[15 93 96]\n",
        " [ 6 63 93]\n",
        " [92 90 74]\n",
        " [70 60 48]]"
      ],
      "metadata": {
        "id": "AlyQh-w_pu_6"
      }
    },
    {
      "cell_type": "code",
      "source": [
        "\n",
        "sorted_arr = arr[arr.max(axis=1).argsort()][::-1]\n",
        "\n",
        "\n",
        "print(sorted_arr)\n"
      ],
      "metadata": {
        "id": "BZ5L2FBgeT4N",
        "outputId": "6a3c46b5-4d45-46a2-9035-d23d79a6e93f",
        "colab": {
          "base_uri": "https://localhost:8080/"
        }
      },
      "execution_count": 87,
      "outputs": [
        {
          "output_type": "stream",
          "name": "stdout",
          "text": [
            "[[15 93 96]\n",
            " [ 6 63 93]\n",
            " [74 90 92]\n",
            " [48 60 70]]\n"
          ]
        }
      ]
    },
    {
      "cell_type": "code",
      "source": [
        "# based on element value\n",
        "\n",
        "np.sort(arr, axis=None).reshape(4,3)\n"
      ],
      "metadata": {
        "colab": {
          "base_uri": "https://localhost:8080/"
        },
        "id": "-avhmDCWxYag",
        "outputId": "6a8e0aec-9d8e-4873-ee4f-6961c4484616"
      },
      "execution_count": 88,
      "outputs": [
        {
          "output_type": "execute_result",
          "data": {
            "text/plain": [
              "array([[ 6, 15, 48],\n",
              "       [60, 63, 70],\n",
              "       [74, 90, 92],\n",
              "       [93, 93, 96]])"
            ]
          },
          "metadata": {},
          "execution_count": 88
        }
      ]
    },
    {
      "cell_type": "markdown",
      "source": [
        "###`Q-2:` There is an array of marks of 5 students in 4 subjects. Further you are asked to perform below task.\n",
        "    i. Add marks every student of an extra subject in the same array.\n",
        "    ii. Add two new students marks in respective 5 subjects.(one subject added in above task)\n",
        "    iii. Add extra column with sum of all subjects(5-subjects) marks\n",
        "    iv. Sort the array(non-ascending order) on total marks column--one added in above task. Show top 2 rows.\n",
        "\n",
        "Note: Change dimension of arrays during concatenation or appending if required."
      ],
      "metadata": {
        "id": "Jx_I3gx9lBay"
      }
    },
    {
      "cell_type": "code",
      "source": [],
      "metadata": {
        "id": "w0UMn42neTMU"
      },
      "execution_count": 88,
      "outputs": []
    },
    {
      "cell_type": "markdown",
      "source": [
        "Given Array-\n",
        "```\n",
        "marks = [[13, 10,  9, 33],\n",
        "       [63, 46, 90, 42],\n",
        "       [39, 76, 13, 29],\n",
        "       [82,  9, 29, 78],\n",
        "       [67, 61, 59, 36]]\n",
        "\n",
        "extra_subject = [41, 87, 72, 36, 92]\n",
        "#Two extra students record-\n",
        "rec1 = [77, 83, 98, 95, 89]\n",
        "rec2 = [92, 71, 52, 61, 53]\n",
        "```"
      ],
      "metadata": {
        "id": "lXF-CE6ylNIw"
      }
    },
    {
      "cell_type": "code",
      "source": [
        "#\n",
        "marks = np.array([[13, 10, 9, 33],\n",
        "                  [63, 46, 90, 42],\n",
        "                  [39, 76, 13, 29],\n",
        "                  [82, 9, 29, 78],\n",
        "                  [67, 61, 59, 36]])\n",
        "\n",
        "extra_subject = np.array([41,87,72,36,92])\n",
        "\n",
        "print(marks.shape,extra_subject.shape)\n",
        "\n",
        "new_extra_subject = extra_subject[:,np.newaxis]\n",
        "\n",
        "\n",
        "\n",
        "marks = np.concatenate((marks,new_extra_subject),axis=1)\n",
        "marks"
      ],
      "metadata": {
        "id": "7YKsWO2olMkq",
        "colab": {
          "base_uri": "https://localhost:8080/"
        },
        "outputId": "d083fcac-ac2f-431c-a3e5-c572ac018f04"
      },
      "execution_count": 183,
      "outputs": [
        {
          "output_type": "stream",
          "name": "stdout",
          "text": [
            "(5, 4) (5,)\n"
          ]
        },
        {
          "output_type": "execute_result",
          "data": {
            "text/plain": [
              "array([[13, 10,  9, 33, 41],\n",
              "       [63, 46, 90, 42, 87],\n",
              "       [39, 76, 13, 29, 72],\n",
              "       [82,  9, 29, 78, 36],\n",
              "       [67, 61, 59, 36, 92]])"
            ]
          },
          "metadata": {},
          "execution_count": 183
        }
      ]
    },
    {
      "cell_type": "code",
      "source": [
        "# ii\n",
        "rec1 = [77, 83, 98, 95, 89]\n",
        "rec2 = [92, 71, 52, 61, 53]\n",
        "new_marks = np.array([rec1,rec2])\n",
        "\n",
        "print(new_marks.shape)\n",
        "\n",
        "new_marks = new_marks.reshape(-2,2)\n",
        "print(new_marks.shape)\n",
        "\n",
        "marks = np.append(marks,new_marks).reshape(7,5)\n",
        "marks"
      ],
      "metadata": {
        "colab": {
          "base_uri": "https://localhost:8080/"
        },
        "id": "xqRktIx85hnU",
        "outputId": "92065dc5-10d1-40c2-e120-49b9c399abf9"
      },
      "execution_count": 184,
      "outputs": [
        {
          "output_type": "stream",
          "name": "stdout",
          "text": [
            "(2, 5)\n",
            "(5, 2)\n"
          ]
        },
        {
          "output_type": "execute_result",
          "data": {
            "text/plain": [
              "array([[13, 10,  9, 33, 41],\n",
              "       [63, 46, 90, 42, 87],\n",
              "       [39, 76, 13, 29, 72],\n",
              "       [82,  9, 29, 78, 36],\n",
              "       [67, 61, 59, 36, 92],\n",
              "       [77, 83, 98, 95, 89],\n",
              "       [92, 71, 52, 61, 53]])"
            ]
          },
          "metadata": {},
          "execution_count": 184
        }
      ]
    },
    {
      "cell_type": "code",
      "source": [
        "# iii\n",
        "\n",
        "sum_col = np.sum(marks,axis=1)\n",
        "print(sum_col.shape)\n",
        "new_sum_col = sum_col[:,np.newaxis]\n",
        "new_sum_col"
      ],
      "metadata": {
        "colab": {
          "base_uri": "https://localhost:8080/"
        },
        "id": "d3Z3SJ7a5hrL",
        "outputId": "2af0efc3-cf5c-4fa0-8840-260374a21a6a"
      },
      "execution_count": 185,
      "outputs": [
        {
          "output_type": "stream",
          "name": "stdout",
          "text": [
            "(7,)\n"
          ]
        },
        {
          "output_type": "execute_result",
          "data": {
            "text/plain": [
              "array([[106],\n",
              "       [328],\n",
              "       [229],\n",
              "       [234],\n",
              "       [315],\n",
              "       [442],\n",
              "       [329]])"
            ]
          },
          "metadata": {},
          "execution_count": 185
        }
      ]
    },
    {
      "cell_type": "code",
      "source": [
        "marks = np.concatenate((marks,new_sum_col),axis=1)\n",
        "marks"
      ],
      "metadata": {
        "colab": {
          "base_uri": "https://localhost:8080/"
        },
        "id": "jM57eDBw5htO",
        "outputId": "20967bed-e84e-4925-ec93-b407bb671abf"
      },
      "execution_count": 186,
      "outputs": [
        {
          "output_type": "execute_result",
          "data": {
            "text/plain": [
              "array([[ 13,  10,   9,  33,  41, 106],\n",
              "       [ 63,  46,  90,  42,  87, 328],\n",
              "       [ 39,  76,  13,  29,  72, 229],\n",
              "       [ 82,   9,  29,  78,  36, 234],\n",
              "       [ 67,  61,  59,  36,  92, 315],\n",
              "       [ 77,  83,  98,  95,  89, 442],\n",
              "       [ 92,  71,  52,  61,  53, 329]])"
            ]
          },
          "metadata": {},
          "execution_count": 186
        }
      ]
    },
    {
      "cell_type": "code",
      "source": [
        "# iv\n",
        "indices = np.argsort(marks[:,-1])[::-1]\n",
        "\n",
        "print(indices)\n",
        "\n",
        "result = marks[indices]\n",
        "print(result)\n",
        "print('only two row: \\n',result[0:2,:])"
      ],
      "metadata": {
        "colab": {
          "base_uri": "https://localhost:8080/"
        },
        "id": "ENtQ1eJp_Q3y",
        "outputId": "cef25928-4154-4512-e9c8-624f26e8a134"
      },
      "execution_count": 198,
      "outputs": [
        {
          "output_type": "stream",
          "name": "stdout",
          "text": [
            "[5 6 1 4 3 2 0]\n",
            "[[ 77  83  98  95  89 442]\n",
            " [ 92  71  52  61  53 329]\n",
            " [ 63  46  90  42  87 328]\n",
            " [ 67  61  59  36  92 315]\n",
            " [ 82   9  29  78  36 234]\n",
            " [ 39  76  13  29  72 229]\n",
            " [ 13  10   9  33  41 106]]\n",
            "only two row: \n",
            " [[ 77  83  98  95  89 442]\n",
            " [ 92  71  52  61  53 329]]\n"
          ]
        }
      ]
    },
    {
      "cell_type": "code",
      "source": [],
      "metadata": {
        "id": "OeYPjryD_Q6B"
      },
      "execution_count": null,
      "outputs": []
    },
    {
      "cell_type": "markdown",
      "source": [
        "###`Q-3:` Find unique arrays from a 2D array column wise and row wise.\n",
        "```\n",
        "arr = np.array([[1,2,3,3,1,1],\n",
        "                [0,9,1,2,8,8],\n",
        "                [1,2,3,8,8,8],\n",
        "                [1,2,3,3,1,1]])\n",
        "```\n",
        "Expected Result-\n",
        "```\n",
        "Row Wise\n",
        "[[0 9 1 2 8 8]\n",
        " [1 2 3 3 1 1]\n",
        " [1 2 3 8 8 8]]\n",
        "\n",
        "Col Wise\n",
        "[[1 1 2 3 3]\n",
        " [0 8 9 1 2]\n",
        " [1 8 2 3 8]\n",
        " [1 1 2 3 3]]\n",
        "```"
      ],
      "metadata": {
        "id": "VmOyK_8klRqR"
      }
    },
    {
      "cell_type": "code",
      "source": [
        "# row wise\n",
        "arr = np.array([[1,2,3,3,1,1],\n",
        "                [0,9,1,2,8,8],\n",
        "                [1,2,3,8,8,8],\n",
        "                [1,2,3,3,1,1]])\n",
        "\n",
        "\n",
        "np.unique(arr,axis=0)\n"
      ],
      "metadata": {
        "colab": {
          "base_uri": "https://localhost:8080/"
        },
        "id": "raaXnMPd_O1z",
        "outputId": "fd069b5e-689e-4b77-d2d0-5c4d4cd7d65d"
      },
      "execution_count": 199,
      "outputs": [
        {
          "output_type": "execute_result",
          "data": {
            "text/plain": [
              "array([[0, 9, 1, 2, 8, 8],\n",
              "       [1, 2, 3, 3, 1, 1],\n",
              "       [1, 2, 3, 8, 8, 8]])"
            ]
          },
          "metadata": {},
          "execution_count": 199
        }
      ]
    },
    {
      "cell_type": "code",
      "source": [],
      "metadata": {
        "id": "5cALgA04_O5p"
      },
      "execution_count": null,
      "outputs": []
    },
    {
      "cell_type": "code",
      "source": [
        "# column wise\n",
        "np.unique(arr,axis=1)"
      ],
      "metadata": {
        "id": "LJl10VQrlU5q",
        "colab": {
          "base_uri": "https://localhost:8080/"
        },
        "outputId": "f64b1f93-5255-4347-a585-8d3a04d6bee3"
      },
      "execution_count": 200,
      "outputs": [
        {
          "output_type": "execute_result",
          "data": {
            "text/plain": [
              "array([[1, 1, 2, 3, 3],\n",
              "       [0, 8, 9, 1, 2],\n",
              "       [1, 8, 2, 3, 8],\n",
              "       [1, 1, 2, 3, 3]])"
            ]
          },
          "metadata": {},
          "execution_count": 200
        }
      ]
    },
    {
      "cell_type": "markdown",
      "source": [
        "###`Q-4:` Flip given 2-D array along both axes at the same time."
      ],
      "metadata": {
        "id": "RaXwVkywlWY2"
      }
    },
    {
      "cell_type": "code",
      "source": [
        "# code here\n",
        "import numpy as np\n",
        "\n",
        "\n",
        "arr = np.array([[1, 2, 3],\n",
        "                [4, 5, 6],\n",
        "                [7, 8, 9]])\n",
        "\n",
        "\n",
        "flipped_arr = np.flip(arr, axis=(0,1))\n",
        "\n",
        "\n",
        "\n",
        "print(\"Original array:\\n\", arr)\n",
        "print(\"Flipped array:\\n\", flipped_arr)"
      ],
      "metadata": {
        "id": "mN7-4G8Kleeq",
        "colab": {
          "base_uri": "https://localhost:8080/"
        },
        "outputId": "6b28edc1-c7bc-4cb3-f9e6-40bbeb32c9a4"
      },
      "execution_count": 201,
      "outputs": [
        {
          "output_type": "stream",
          "name": "stdout",
          "text": [
            "Original array:\n",
            " [[1 2 3]\n",
            " [4 5 6]\n",
            " [7 8 9]]\n",
            "Flipped array:\n",
            " [[9 8 7]\n",
            " [6 5 4]\n",
            " [3 2 1]]\n"
          ]
        }
      ]
    },
    {
      "cell_type": "markdown",
      "source": [
        "### `Q-5:` Get row numbers of NumPy array having element larger than X.\n",
        "```\n",
        "arr = [[1,2,3,4,5], \n",
        "      [10,-3,30,4,5], \n",
        "      [3,2,5,-4,5], \n",
        "      [9,7,3,6,5]] \n",
        "\n",
        "X = 6\n",
        "```"
      ],
      "metadata": {
        "id": "X0S7BUNTlfoq"
      }
    },
    {
      "cell_type": "code",
      "source": [
        "# row numbers\n",
        "arr = np.array([[1,2,3,4,5], \n",
        "      [10,-3,30,4,5], \n",
        "      [3,2,5,-4,5], \n",
        "      [9,7,3,6,5]])\n",
        "\n",
        "x=6\n",
        "\n",
        "np.where(arr>x)[0]"
      ],
      "metadata": {
        "id": "bi8jRmWhlkBU",
        "colab": {
          "base_uri": "https://localhost:8080/"
        },
        "outputId": "a3863d7f-a1d1-4332-fa7d-58e28f7f82d8"
      },
      "execution_count": 204,
      "outputs": [
        {
          "output_type": "execute_result",
          "data": {
            "text/plain": [
              "array([1, 1, 3, 3])"
            ]
          },
          "metadata": {},
          "execution_count": 204
        }
      ]
    },
    {
      "cell_type": "markdown",
      "source": [
        "That means in row number 2 there are two elements greater than 6, that is why it is showing 1,1\n",
        "\n",
        "then in row number 4 there are two elements greater than 6, that's why showing 3,3"
      ],
      "metadata": {
        "id": "wI8C6ax4Fnux"
      }
    },
    {
      "cell_type": "code",
      "source": [
        "# Column numbers\n",
        "arr = np.array([[1,2,3,4,5], \n",
        "      [10,-3,30,4,5], \n",
        "      [3,2,5,-4,5], \n",
        "      [9,7,3,6,5]])\n",
        "\n",
        "x=6\n",
        "\n",
        "np.where(arr>x)[1]"
      ],
      "metadata": {
        "colab": {
          "base_uri": "https://localhost:8080/"
        },
        "id": "naML1NPWFl26",
        "outputId": "3ff34aa2-86d5-47d7-a398-933f0f767e0a"
      },
      "execution_count": 205,
      "outputs": [
        {
          "output_type": "execute_result",
          "data": {
            "text/plain": [
              "array([0, 2, 0, 1])"
            ]
          },
          "metadata": {},
          "execution_count": 205
        }
      ]
    },
    {
      "cell_type": "markdown",
      "source": [
        "### `Q-6:` How to convert an array of arrays into a flat 1d array?\n"
      ],
      "metadata": {
        "id": "DSCQMo4mlnDG"
      }
    },
    {
      "cell_type": "code",
      "source": [
        "# These arrays are given.\n",
        "arr1 = np.arange(3)\n",
        "arr2 = np.arange(3,7)\n",
        "arr3 = np.arange(7,10)"
      ],
      "metadata": {
        "id": "QZhSkUT2lsJW"
      },
      "execution_count": 206,
      "outputs": []
    },
    {
      "cell_type": "code",
      "source": [
        "# code here\n",
        "import numpy as np\n",
        "\n",
        "arr = np.array([[1, 2, 3], [4, 5, 6], [7, 8, 9]])\n",
        "flat_arr = arr.flatten()\n",
        "\n",
        "print(flat_arr) "
      ],
      "metadata": {
        "id": "f42OXNrFls0I",
        "colab": {
          "base_uri": "https://localhost:8080/"
        },
        "outputId": "57d1db3c-c15d-450f-d6df-84ba94578fdd"
      },
      "execution_count": 210,
      "outputs": [
        {
          "output_type": "stream",
          "name": "stdout",
          "text": [
            "[1 2 3 4 5 6 7 8 9]\n"
          ]
        }
      ]
    },
    {
      "cell_type": "markdown",
      "source": [
        "### `Q-7:` You are given a array. You have to find the minimum and maximum array element and remove that from the array.\n",
        "\n",
        "```python\n",
        "import numpy as np\n",
        "\n",
        "np.random.seed(400)\n",
        "arr = np.random.randint(100, 1000, 200).reshape((1, 200))\n",
        "```"
      ],
      "metadata": {
        "id": "A1J4oOVCluqO"
      }
    },
    {
      "cell_type": "code",
      "source": [
        "# code here\n",
        "\n",
        "np.random.seed(400)\n",
        "arr = np.random.randint(100, 1000, 200).reshape((1, 200))\n",
        "\n",
        "max_ele = np.max(arr)\n",
        "min_ele = np.min(arr)\n",
        "print('max_element',max_ele)\n",
        "print('min_element',min_ele)\n",
        "\n",
        "max_ele_index = np.argmax(arr)\n",
        "min_ele_index = np.argmin(arr)\n",
        "arr = np.delete(arr,[min_ele_index,max_ele_index])\n",
        "\n",
        "max_ele = np.max(arr)\n",
        "min_ele = np.min(arr)\n",
        "print('max_element',max_ele)\n",
        "print('min_element',min_ele)"
      ],
      "metadata": {
        "id": "c6kmgtUJlybZ",
        "colab": {
          "base_uri": "https://localhost:8080/"
        },
        "outputId": "00e13b1d-f0cd-40fc-dae2-0aa13cbdf01e"
      },
      "execution_count": 215,
      "outputs": [
        {
          "output_type": "stream",
          "name": "stdout",
          "text": [
            "max_element 998\n",
            "min_element 103\n",
            "max_element 997\n",
            "min_element 117\n"
          ]
        }
      ]
    },
    {
      "cell_type": "markdown",
      "source": [
        "### `Q-8:` You are given an arrays. You have to limit this array's elements between 100 to 200. $arr ∈ [100, 700]$. So replace those values accordingly with the minimum and maximum value. Then sort the array and perform the cumulative sum of that array."
      ],
      "metadata": {
        "id": "0dHN1sdnl0Jy"
      }
    },
    {
      "cell_type": "code",
      "source": [
        "# code here\n",
        "arr = np.random.randint(100,700,100)\n",
        "arr = np.clip(arr,100,200)\n",
        "arr = np.sort(arr)\n",
        "cumulative_sum = np.cumsum(arr)\n",
        "\n",
        "print(cumulative_sum)\n",
        "\n",
        "\n"
      ],
      "metadata": {
        "id": "a3YF_E-Hlza7",
        "colab": {
          "base_uri": "https://localhost:8080/"
        },
        "outputId": "b2036673-5597-4fd5-ef2a-6b56654b5310"
      },
      "execution_count": 234,
      "outputs": [
        {
          "output_type": "stream",
          "name": "stdout",
          "text": [
            "[  125   279   437   600   767   936  1105  1275  1447  1630  1819  2019\n",
            "  2219  2419  2619  2819  3019  3219  3419  3619  3819  4019  4219  4419\n",
            "  4619  4819  5019  5219  5419  5619  5819  6019  6219  6419  6619  6819\n",
            "  7019  7219  7419  7619  7819  8019  8219  8419  8619  8819  9019  9219\n",
            "  9419  9619  9819 10019 10219 10419 10619 10819 11019 11219 11419 11619\n",
            " 11819 12019 12219 12419 12619 12819 13019 13219 13419 13619 13819 14019\n",
            " 14219 14419 14619 14819 15019 15219 15419 15619 15819 16019 16219 16419\n",
            " 16619 16819 17019 17219 17419 17619 17819 18019 18219 18419 18619 18819\n",
            " 19019 19219 19419 19619]\n"
          ]
        }
      ]
    },
    {
      "cell_type": "markdown",
      "source": [
        "### `Q-9:` You are given a array ($arr ∈ [0, 1]$). First you have round off the elements upto 3 decimal places and compare that\n",
        "- 0th percentile == minimum value of the array\n",
        "- 100th percentile == maximum value of the array\n",
        "- also find the difference betwen 51th percenile and 50th percentile values"
      ],
      "metadata": {
        "id": "cXj90Susl4-I"
      }
    },
    {
      "cell_type": "code",
      "source": [
        "# code here\n",
        "arr = np.array([0.123456, 0.56789, 0.987654, 0.345678, 0.654321, 0.987654])\n",
        "arr = np.round(arr, decimals=3)\n",
        "\n",
        "\n",
        "min_val = np.percentile(arr, 0)\n",
        "max_val = np.percentile(arr, 100)\n",
        "\n",
        "\n",
        "p50 = np.percentile(arr, 50)\n",
        "p51 = np.percentile(arr, 51)\n",
        "\n",
        "\n",
        "diff = p51 - p50\n",
        "\n",
        "# Print the results\n",
        "print(\"Array after rounding off:\", arr)\n",
        "print(\"Minimum value:\", min_val)\n",
        "print(\"Maximum value:\", max_val)\n",
        "print(\"Difference between 51th and 50th percentiles:\", diff)"
      ],
      "metadata": {
        "id": "SgBEHodgl7Lo",
        "colab": {
          "base_uri": "https://localhost:8080/"
        },
        "outputId": "5b885940-26f4-4442-db13-4195d9496bd2"
      },
      "execution_count": 235,
      "outputs": [
        {
          "output_type": "stream",
          "name": "stdout",
          "text": [
            "Array after rounding off: [0.123 0.568 0.988 0.346 0.654 0.988]\n",
            "Minimum value: 0.123\n",
            "Maximum value: 0.988\n",
            "Difference between 51th and 50th percentiles: 0.0042999999999999705\n"
          ]
        }
      ]
    },
    {
      "cell_type": "code",
      "source": [],
      "metadata": {
        "id": "FQ7013MFM1R9"
      },
      "execution_count": null,
      "outputs": []
    },
    {
      "cell_type": "markdown",
      "source": [
        "np.percentile is a NumPy function that calculates the value at a specific percentile of a given array. Percentiles are a way to divide a dataset into equal parts. For example, the median is the 50th percentile because it divides the dataset into two equal parts.\n",
        "\n",
        "The np.percentile function takes three arguments:\n",
        "\n",
        "a: the input array\n",
        "q: the percentile(s) to calculate, can be a single value or a sequence of values\n",
        "axis: the axis or axes along which to perform the calculation, optional\n",
        "The function returns the percentile value(s) as a float or an array of floats. By default, the function uses linear interpolation to estimate the percentile values, but this can be changed using the interpolation argument.\n",
        "\n",
        "In summary, np.percentile is a useful function for calculating percentiles of a dataset, which can provide valuable information about the distribution of the data.\n",
        "\n",
        "Imagine you have a group of 100 people and you want to see how you compare to everyone else in terms of height. The 50th percentile would be the height where half of the people are taller than you and the other half are shorter than you. If you are taller than 70 out of the 100 people, then you are in the 70th percentile."
      ],
      "metadata": {
        "id": "q-xuO_stNGRf"
      }
    },
    {
      "cell_type": "code",
      "source": [],
      "metadata": {
        "id": "2I5kHVYyNGwA"
      },
      "execution_count": null,
      "outputs": []
    }
  ]
}