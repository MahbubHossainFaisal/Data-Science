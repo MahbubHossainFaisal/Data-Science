{
 "cells": [
  {
   "cell_type": "markdown",
   "id": "f93bbb1e-60a3-425d-9d62-11308624e8b0",
   "metadata": {},
   "source": [
    "### What is numpy?\n",
    "\n",
    "NumPy is the fundamental package for scientific computing in Python. It is a Python library that provides a multidimensional array object, various derived objects (such as masked arrays and matrices), and an assortment of routines for fast operations on arrays, including mathematical, logical, shape manipulation, sorting, selecting, I/O, discrete Fourier transforms, basic linear algebra, basic statistical operations, random simulation and much more.\n",
    "\n",
    "\n",
    "At the core of the NumPy package, is the ndarray object. This encapsulates n-dimensional arrays of homogeneous data types"
   ]
  },
  {
   "cell_type": "markdown",
   "id": "b58ec754-623c-452a-9fb8-0bc3dd57956f",
   "metadata": {},
   "source": [
    "### Numpy Arrays Vs Python Sequences (List or sets) \n",
    "\n",
    "- NumPy arrays have a fixed size at creation, unlike Python lists (which can grow dynamically). Changing the size of an ndarray will create a new array and delete the original.\n",
    "\n",
    "- The elements in a NumPy array are all required to be of the same data type, and thus will be the same size in memory.\n",
    "\n",
    "- NumPy arrays facilitate advanced mathematical and other types of operations on large numbers of data. Typically, such operations are executed more efficiently and with less code than is possible using Python’s built-in sequences.\n",
    "\n",
    "- A growing plethora of scientific and mathematical Python-based packages are using NumPy arrays; though these typically support Python-sequence input, they convert such input to NumPy arrays prior to processing, and they often output NumPy arrays."
   ]
  },
  {
   "cell_type": "code",
   "execution_count": 1,
   "id": "68598bfe-d7c4-4e2c-ac78-37fd01ec9042",
   "metadata": {},
   "outputs": [],
   "source": [
    "# importing numpy array\n",
    "import numpy as np"
   ]
  },
  {
   "cell_type": "code",
   "execution_count": 2,
   "id": "1413394d-772d-484c-af82-5f0bd74b8a08",
   "metadata": {},
   "outputs": [
    {
     "data": {
      "text/plain": [
       "array([1, 2, 4])"
      ]
     },
     "execution_count": 2,
     "metadata": {},
     "output_type": "execute_result"
    }
   ],
   "source": [
    "# 1D array or vector\n",
    "\n",
    "np.array([1,2,4])"
   ]
  },
  {
   "cell_type": "code",
   "execution_count": 3,
   "id": "46c3d28b-a64b-41d0-b5fc-f4e7e4ba3514",
   "metadata": {},
   "outputs": [
    {
     "data": {
      "text/plain": [
       "array([[1, 2],\n",
       "       [3, 4]])"
      ]
     },
     "execution_count": 3,
     "metadata": {},
     "output_type": "execute_result"
    }
   ],
   "source": [
    "# 2D array or matrix\n",
    "\n",
    "np.array([[1,2],[3,4]])"
   ]
  },
  {
   "cell_type": "code",
   "execution_count": 4,
   "id": "71365b7a-af96-45d1-861e-eb7a140598f5",
   "metadata": {},
   "outputs": [
    {
     "data": {
      "text/plain": [
       "array([[[1, 2],\n",
       "        [3, 4],\n",
       "        [5, 6]]])"
      ]
     },
     "execution_count": 4,
     "metadata": {},
     "output_type": "execute_result"
    }
   ],
   "source": [
    "# 3D array or Tensor\n",
    "\n",
    "np.array([[[1,2],[3,4],[5,6]]])"
   ]
  },
  {
   "cell_type": "code",
   "execution_count": 5,
   "id": "a7cb3d02-1fd2-411c-a023-619f7e25bd23",
   "metadata": {},
   "outputs": [
    {
     "data": {
      "text/plain": [
       "array([1., 2., 5.])"
      ]
     },
     "execution_count": 5,
     "metadata": {},
     "output_type": "execute_result"
    }
   ],
   "source": [
    "# changing array data type using dtype\n",
    "\n",
    "np.array([1,2,5],dtype=float)"
   ]
  },
  {
   "cell_type": "code",
   "execution_count": 6,
   "id": "f693742c-3d05-4550-a43a-4a6e829a846a",
   "metadata": {},
   "outputs": [
    {
     "data": {
      "text/plain": [
       "array([3.+0.j, 4.+0.j, 6.+0.j])"
      ]
     },
     "execution_count": 6,
     "metadata": {},
     "output_type": "execute_result"
    }
   ],
   "source": [
    "np.array([3,4,6],dtype=complex)"
   ]
  },
  {
   "cell_type": "code",
   "execution_count": 7,
   "id": "104f0964-432f-443e-a4d7-12cf5c8dbea3",
   "metadata": {},
   "outputs": [
    {
     "data": {
      "text/plain": [
       "array([ True,  True,  True])"
      ]
     },
     "execution_count": 7,
     "metadata": {},
     "output_type": "execute_result"
    }
   ],
   "source": [
    "np.array([4,2,6],dtype=bool) # every number is true except 0"
   ]
  },
  {
   "cell_type": "code",
   "execution_count": 8,
   "id": "236e48a9-70cb-4e04-9fa9-2a4362ef1e0d",
   "metadata": {},
   "outputs": [],
   "source": [
    "# np.arange"
   ]
  },
  {
   "cell_type": "code",
   "execution_count": 9,
   "id": "bb103c1c-22a1-4f1f-a64d-dd78d79382eb",
   "metadata": {},
   "outputs": [
    {
     "data": {
      "text/plain": [
       "array([22, 23, 24, 25, 26, 27, 28, 29, 30, 31, 32])"
      ]
     },
     "execution_count": 9,
     "metadata": {},
     "output_type": "execute_result"
    }
   ],
   "source": [
    "np.arange(22,33)"
   ]
  },
  {
   "cell_type": "code",
   "execution_count": 10,
   "id": "5768babe-df8d-43dd-b6aa-dd98c58e57e8",
   "metadata": {},
   "outputs": [
    {
     "data": {
      "text/plain": [
       "array([22, 24, 26, 28, 30, 32])"
      ]
     },
     "execution_count": 10,
     "metadata": {},
     "output_type": "execute_result"
    }
   ],
   "source": [
    "np.arange(22,34,2)"
   ]
  },
  {
   "cell_type": "code",
   "execution_count": 11,
   "id": "92299cc4-f441-41c8-a20d-92550c7c22a3",
   "metadata": {},
   "outputs": [],
   "source": [
    "# reshape array with matrix"
   ]
  },
  {
   "cell_type": "code",
   "execution_count": 12,
   "id": "ca902209-8138-4b59-a1be-89d47e9a93e2",
   "metadata": {},
   "outputs": [
    {
     "data": {
      "text/plain": [
       "array([[ 1,  2,  3,  4,  5],\n",
       "       [ 6,  7,  8,  9, 10]])"
      ]
     },
     "execution_count": 12,
     "metadata": {},
     "output_type": "execute_result"
    }
   ],
   "source": [
    "np.arange(1,11).reshape(2,5)"
   ]
  },
  {
   "cell_type": "code",
   "execution_count": 13,
   "id": "4aea760a-6b13-48c7-811f-825531f526e9",
   "metadata": {},
   "outputs": [
    {
     "data": {
      "text/plain": [
       "array([[ 1,  2],\n",
       "       [ 3,  4],\n",
       "       [ 5,  6],\n",
       "       [ 7,  8],\n",
       "       [ 9, 10]])"
      ]
     },
     "execution_count": 13,
     "metadata": {},
     "output_type": "execute_result"
    }
   ],
   "source": [
    "np.arange(1,11).reshape(5,2)"
   ]
  },
  {
   "cell_type": "markdown",
   "id": "3238713c-908b-4a48-bd07-9e85368b33a1",
   "metadata": {},
   "source": [
    "##### The number of products in reshape function after multiplication should be equal to number of items in the array"
   ]
  },
  {
   "cell_type": "markdown",
   "id": "53445d4b-a2c7-47cf-b82a-e893ac5ede40",
   "metadata": {},
   "source": [
    "# np ones and np zeros and np random\n",
    "Basically they are used for initialization"
   ]
  },
  {
   "cell_type": "code",
   "execution_count": 14,
   "id": "de969295-9272-4877-8d5f-fede056f9cc1",
   "metadata": {},
   "outputs": [
    {
     "data": {
      "text/plain": [
       "array([[1., 1., 1.],\n",
       "       [1., 1., 1.],\n",
       "       [1., 1., 1.],\n",
       "       [1., 1., 1.]])"
      ]
     },
     "execution_count": 14,
     "metadata": {},
     "output_type": "execute_result"
    }
   ],
   "source": [
    "np.ones((4,3))"
   ]
  },
  {
   "cell_type": "code",
   "execution_count": 15,
   "id": "69fa7395-3b84-43f1-8f7a-20d09cdd7afa",
   "metadata": {},
   "outputs": [
    {
     "data": {
      "text/plain": [
       "array([[0., 0., 0.],\n",
       "       [0., 0., 0.],\n",
       "       [0., 0., 0.],\n",
       "       [0., 0., 0.]])"
      ]
     },
     "execution_count": 15,
     "metadata": {},
     "output_type": "execute_result"
    }
   ],
   "source": [
    "np.zeros((4,3))"
   ]
  },
  {
   "cell_type": "code",
   "execution_count": 16,
   "id": "201ec852-0ae9-49f2-a338-f21f2802bb2b",
   "metadata": {},
   "outputs": [
    {
     "data": {
      "text/plain": [
       "array([[ 9.90440671, 66.69651161, 23.58375297, 22.03741768],\n",
       "       [78.39583811, 90.08032184, 75.49778438, 24.89177599],\n",
       "       [ 8.05668993, 13.7683625 , 72.06263971, 18.0492561 ]])"
      ]
     },
     "execution_count": 16,
     "metadata": {},
     "output_type": "execute_result"
    }
   ],
   "source": [
    "np.random.random((3,4))*100  # this will give me 0-100 random values."
   ]
  },
  {
   "cell_type": "code",
   "execution_count": 17,
   "id": "6b4d57f8-530f-4f85-ae5a-53763d28a52d",
   "metadata": {},
   "outputs": [],
   "source": [
    "# np linspace (Linearly spaced)"
   ]
  },
  {
   "cell_type": "markdown",
   "id": "e6313a7f-0684-4ab7-8985-e7327418dc79",
   "metadata": {},
   "source": [
    "np.linspace(lowerbound,upperbound,how_many_elements_you_want)"
   ]
  },
  {
   "cell_type": "code",
   "execution_count": 18,
   "id": "3ee03f7f-aeeb-4eab-b7f0-e3be6b2b1ff2",
   "metadata": {},
   "outputs": [
    {
     "data": {
      "text/plain": [
       "array([-10.,  -8.,  -6.,  -4.,  -2.,   0.,   2.,   4.,   6.,   8.,  10.])"
      ]
     },
     "execution_count": 18,
     "metadata": {},
     "output_type": "execute_result"
    }
   ],
   "source": [
    "np.linspace(-10,10,11)"
   ]
  },
  {
   "cell_type": "markdown",
   "id": "82b60795-fcdb-4cf7-abde-601f4789d1f0",
   "metadata": {},
   "source": [
    "The linspace function takes three arguments:\n",
    "\n",
    "- start: The starting value of the sequence\n",
    "- stop: The ending value of the sequence\n",
    "- num: The number of evenly spaced values to generate between start and stop (every element takes equal distances)\n",
    "- It will keep starting and ending number in the array"
   ]
  },
  {
   "cell_type": "code",
   "execution_count": 19,
   "id": "73e52a84-625a-442c-b401-3def156ee081",
   "metadata": {},
   "outputs": [],
   "source": [
    "# np identity "
   ]
  },
  {
   "cell_type": "markdown",
   "id": "aa5e93c3-416a-43ca-bfb4-a3acca59b23f",
   "metadata": {},
   "source": [
    "np.identity() An identity matrix is a special type of matrix that has ones along the diagonal and zeros everywhere else. It is denoted by the symbol \"I\", and is also known as a unit matrix or a diagonal matrix. The diagonal elements of an identity matrix are always equal to 1, while all other elements are equal to 0."
   ]
  },
  {
   "cell_type": "code",
   "execution_count": 20,
   "id": "4ddc292d-89a8-4ea3-990d-1e0bd7339bcf",
   "metadata": {},
   "outputs": [
    {
     "data": {
      "text/plain": [
       "array([[1., 0., 0., 0.],\n",
       "       [0., 1., 0., 0.],\n",
       "       [0., 0., 1., 0.],\n",
       "       [0., 0., 0., 1.]])"
      ]
     },
     "execution_count": 20,
     "metadata": {},
     "output_type": "execute_result"
    }
   ],
   "source": [
    "np.identity(4)"
   ]
  },
  {
   "cell_type": "markdown",
   "id": "3f6eaa52-a590-49d6-a174-966f31c986a0",
   "metadata": {},
   "source": [
    "# Array attributes"
   ]
  },
  {
   "cell_type": "code",
   "execution_count": 21,
   "id": "1092c420-0f95-4150-8ec7-04648aae1164",
   "metadata": {},
   "outputs": [
    {
     "data": {
      "text/plain": [
       "array([ 0,  1,  2,  3,  4,  5,  6,  7,  8,  9, 10], dtype=int32)"
      ]
     },
     "execution_count": 21,
     "metadata": {},
     "output_type": "execute_result"
    }
   ],
   "source": [
    "a0 = np.arange(11,dtype=np.int32)\n",
    "a0"
   ]
  },
  {
   "cell_type": "code",
   "execution_count": 22,
   "id": "c8b02d13-a955-4ece-b3ad-34cc96b27158",
   "metadata": {},
   "outputs": [
    {
     "data": {
      "text/plain": [
       "array([ 0,  1,  2,  3,  4,  5,  6,  7,  8,  9, 10])"
      ]
     },
     "execution_count": 22,
     "metadata": {},
     "output_type": "execute_result"
    }
   ],
   "source": [
    "a = np.arange(11)\n",
    "a"
   ]
  },
  {
   "cell_type": "code",
   "execution_count": 23,
   "id": "9c15e9df-2670-461c-b0cf-39fd86e06608",
   "metadata": {},
   "outputs": [
    {
     "data": {
      "text/plain": [
       "array([[0, 1, 2, 3],\n",
       "       [4, 5, 6, 7]])"
      ]
     },
     "execution_count": 23,
     "metadata": {},
     "output_type": "execute_result"
    }
   ],
   "source": [
    "b= np.arange(8).reshape(2,4)\n",
    "b"
   ]
  },
  {
   "cell_type": "code",
   "execution_count": 24,
   "id": "5871a350-504e-4cde-81e6-2fc899cf7e78",
   "metadata": {},
   "outputs": [
    {
     "data": {
      "text/plain": [
       "array([[[0, 1],\n",
       "        [2, 3]],\n",
       "\n",
       "       [[4, 5],\n",
       "        [6, 7]]])"
      ]
     },
     "execution_count": 24,
     "metadata": {},
     "output_type": "execute_result"
    }
   ],
   "source": [
    "c = np.arange(8).reshape(2,2,2)\n",
    "c"
   ]
  },
  {
   "cell_type": "code",
   "execution_count": 25,
   "id": "0f7da7ee-eb4c-4123-9e11-b5b4737784c5",
   "metadata": {},
   "outputs": [],
   "source": [
    "# ndim attribute (it prints how many dimensions your array has)"
   ]
  },
  {
   "cell_type": "code",
   "execution_count": 26,
   "id": "9dd7efd1-f1b8-4e05-b9ea-f010a0830830",
   "metadata": {},
   "outputs": [
    {
     "data": {
      "text/plain": [
       "1"
      ]
     },
     "execution_count": 26,
     "metadata": {},
     "output_type": "execute_result"
    }
   ],
   "source": [
    "a.ndim"
   ]
  },
  {
   "cell_type": "code",
   "execution_count": 27,
   "id": "74bef582-f880-444e-b8c7-b5c05af8a422",
   "metadata": {},
   "outputs": [
    {
     "data": {
      "text/plain": [
       "2"
      ]
     },
     "execution_count": 27,
     "metadata": {},
     "output_type": "execute_result"
    }
   ],
   "source": [
    "b.ndim"
   ]
  },
  {
   "cell_type": "code",
   "execution_count": 28,
   "id": "fb10ef89-4167-4fd5-81b5-30fd198066ce",
   "metadata": {},
   "outputs": [
    {
     "data": {
      "text/plain": [
       "3"
      ]
     },
     "execution_count": 28,
     "metadata": {},
     "output_type": "execute_result"
    }
   ],
   "source": [
    "c.ndim"
   ]
  },
  {
   "cell_type": "code",
   "execution_count": 29,
   "id": "ad3c700f-c288-403e-8a34-e99697803bf8",
   "metadata": {},
   "outputs": [],
   "source": [
    "# shape attribute"
   ]
  },
  {
   "cell_type": "code",
   "execution_count": 30,
   "id": "7d70f8bc-0289-494a-82ae-59450bd2f57b",
   "metadata": {},
   "outputs": [
    {
     "name": "stdout",
     "output_type": "stream",
     "text": [
      "(11,)\n"
     ]
    }
   ],
   "source": [
    "print(a.shape)"
   ]
  },
  {
   "cell_type": "markdown",
   "id": "df16aef5-3b9c-45b0-b3d7-14ca5008090a",
   "metadata": {},
   "source": [
    "means it is a 1D array which has 11 elements"
   ]
  },
  {
   "cell_type": "code",
   "execution_count": 31,
   "id": "3762819b-e5ce-4b22-8bba-5d5b3b381b6e",
   "metadata": {},
   "outputs": [
    {
     "name": "stdout",
     "output_type": "stream",
     "text": [
      "(2, 4)\n"
     ]
    }
   ],
   "source": [
    "print(b.shape)"
   ]
  },
  {
   "cell_type": "markdown",
   "id": "5a08991f-ee37-4525-9c52-7019c2ba4157",
   "metadata": {},
   "source": [
    "means it is a 2D array which has 2 rows and four columns and 2*4 = 8 elements"
   ]
  },
  {
   "cell_type": "code",
   "execution_count": 32,
   "id": "eb1bcea4-d97d-4e90-9a4e-48b50d125ac2",
   "metadata": {},
   "outputs": [
    {
     "name": "stdout",
     "output_type": "stream",
     "text": [
      "(2, 2, 2)\n"
     ]
    }
   ],
   "source": [
    "print(c.shape)"
   ]
  },
  {
   "cell_type": "markdown",
   "id": "464d4e34-d56f-4c5c-94a6-1e97b9dc6d7b",
   "metadata": {},
   "source": [
    "means it is a 3D array which has 2 arrays of (2 rows and 2 columns) and 2 * 2 * 2 = 8 elements"
   ]
  },
  {
   "cell_type": "code",
   "execution_count": 33,
   "id": "dbc6268b-6ac3-4d97-979e-a4978230d34a",
   "metadata": {},
   "outputs": [],
   "source": [
    "# Size attribute"
   ]
  },
  {
   "cell_type": "code",
   "execution_count": 34,
   "id": "b49bcd90-d9c6-48f1-9f4d-be8ee4b19538",
   "metadata": {},
   "outputs": [
    {
     "data": {
      "text/plain": [
       "11"
      ]
     },
     "execution_count": 34,
     "metadata": {},
     "output_type": "execute_result"
    }
   ],
   "source": [
    "a0.size"
   ]
  },
  {
   "cell_type": "code",
   "execution_count": 35,
   "id": "c8f0038f-1a6e-444d-a4b5-5d9aa093e3ef",
   "metadata": {},
   "outputs": [
    {
     "data": {
      "text/plain": [
       "11"
      ]
     },
     "execution_count": 35,
     "metadata": {},
     "output_type": "execute_result"
    }
   ],
   "source": [
    "a.size"
   ]
  },
  {
   "cell_type": "code",
   "execution_count": 36,
   "id": "792d0cf9-1c3a-4c33-8e1b-84c498517ed0",
   "metadata": {},
   "outputs": [
    {
     "data": {
      "text/plain": [
       "8"
      ]
     },
     "execution_count": 36,
     "metadata": {},
     "output_type": "execute_result"
    }
   ],
   "source": [
    "b.size"
   ]
  },
  {
   "cell_type": "code",
   "execution_count": 37,
   "id": "528ffb29-7c04-49d6-8298-c44192205dcf",
   "metadata": {},
   "outputs": [
    {
     "data": {
      "text/plain": [
       "8"
      ]
     },
     "execution_count": 37,
     "metadata": {},
     "output_type": "execute_result"
    }
   ],
   "source": [
    "c.size"
   ]
  },
  {
   "cell_type": "code",
   "execution_count": 38,
   "id": "1da10d8d-4b7d-4937-81c5-7789826dc3bb",
   "metadata": {},
   "outputs": [],
   "source": [
    "# item size attribute"
   ]
  },
  {
   "cell_type": "code",
   "execution_count": 39,
   "id": "ebb9c010-c7db-443c-85c8-21d416b4b7ae",
   "metadata": {},
   "outputs": [
    {
     "data": {
      "text/plain": [
       "4"
      ]
     },
     "execution_count": 39,
     "metadata": {},
     "output_type": "execute_result"
    }
   ],
   "source": [
    "a0.itemsize"
   ]
  },
  {
   "cell_type": "code",
   "execution_count": 40,
   "id": "4b39e448-72d6-406c-9bc6-ee3dd2f65ba9",
   "metadata": {},
   "outputs": [
    {
     "data": {
      "text/plain": [
       "8"
      ]
     },
     "execution_count": 40,
     "metadata": {},
     "output_type": "execute_result"
    }
   ],
   "source": [
    "a.itemsize"
   ]
  },
  {
   "cell_type": "code",
   "execution_count": 41,
   "id": "e3459b47-1606-44dd-b04a-8d92e7926939",
   "metadata": {},
   "outputs": [
    {
     "data": {
      "text/plain": [
       "8"
      ]
     },
     "execution_count": 41,
     "metadata": {},
     "output_type": "execute_result"
    }
   ],
   "source": [
    "b.itemsize"
   ]
  },
  {
   "cell_type": "code",
   "execution_count": 42,
   "id": "64b17948-192f-4e71-b2e3-ded927e27a64",
   "metadata": {},
   "outputs": [
    {
     "data": {
      "text/plain": [
       "8"
      ]
     },
     "execution_count": 42,
     "metadata": {},
     "output_type": "execute_result"
    }
   ],
   "source": [
    "c.itemsize"
   ]
  },
  {
   "cell_type": "markdown",
   "id": "334320ac-0aeb-4c3f-9c7a-9c53da89b2cc",
   "metadata": {},
   "source": [
    "#### size vs itemsize"
   ]
  },
  {
   "cell_type": "markdown",
   "id": "8805d867-93d4-4bbf-87c6-0323e9d6f402",
   "metadata": {},
   "source": [
    "size is the total number of elements in a DataFrame or Series object, calculated by multiplying the number of rows by the number of columns. It gives the total size of the object in terms of the number of elements it contains."
   ]
  },
  {
   "cell_type": "markdown",
   "id": "bbc71f5d-bce3-4ade-b5f5-0348d4db5d8f",
   "metadata": {},
   "source": [
    "itemsize is the size of each element in the DataFrame or Series object in bytes. It gives the memory size of each element in the object."
   ]
  },
  {
   "cell_type": "code",
   "execution_count": 43,
   "id": "262fc217-1193-462f-9e6e-5e3de93b54d9",
   "metadata": {},
   "outputs": [],
   "source": [
    "# dtype attribute (shows the type of the elements of the array)"
   ]
  },
  {
   "cell_type": "code",
   "execution_count": 44,
   "id": "5bfc2f69-50e8-4827-9d18-bffd10aa5d45",
   "metadata": {},
   "outputs": [
    {
     "data": {
      "text/plain": [
       "dtype('int32')"
      ]
     },
     "execution_count": 44,
     "metadata": {},
     "output_type": "execute_result"
    }
   ],
   "source": [
    "a0.dtype"
   ]
  },
  {
   "cell_type": "code",
   "execution_count": 45,
   "id": "c8df1ce3-9084-48cd-b663-17d718d3127a",
   "metadata": {},
   "outputs": [
    {
     "data": {
      "text/plain": [
       "dtype('int64')"
      ]
     },
     "execution_count": 45,
     "metadata": {},
     "output_type": "execute_result"
    }
   ],
   "source": [
    "a.dtype"
   ]
  },
  {
   "cell_type": "code",
   "execution_count": 46,
   "id": "6842c8be-9e73-4500-b1a7-662014ee4cef",
   "metadata": {},
   "outputs": [
    {
     "data": {
      "text/plain": [
       "dtype('int64')"
      ]
     },
     "execution_count": 46,
     "metadata": {},
     "output_type": "execute_result"
    }
   ],
   "source": [
    "b.dtype"
   ]
  },
  {
   "cell_type": "code",
   "execution_count": 47,
   "id": "0df557e0-c4a0-4848-a5b5-0f92213e089a",
   "metadata": {},
   "outputs": [
    {
     "data": {
      "text/plain": [
       "dtype('int64')"
      ]
     },
     "execution_count": 47,
     "metadata": {},
     "output_type": "execute_result"
    }
   ],
   "source": [
    "c.dtype"
   ]
  },
  {
   "cell_type": "code",
   "execution_count": null,
   "id": "99e427c5-1ee7-44d6-89f2-264f539ebbd8",
   "metadata": {},
   "outputs": [],
   "source": []
  },
  {
   "cell_type": "markdown",
   "id": "04479fd7-b92f-449a-b253-f8b81f20a422",
   "metadata": {},
   "source": [
    "# Changing Data Types of an array"
   ]
  },
  {
   "cell_type": "code",
   "execution_count": 48,
   "id": "e6f536c6-76bf-4708-9e1a-152043b324bb",
   "metadata": {},
   "outputs": [
    {
     "name": "stdout",
     "output_type": "stream",
     "text": [
      "a before:  int64\n",
      "a after:  int32\n"
     ]
    }
   ],
   "source": [
    "print('a before: ',a.dtype)\n",
    "\n",
    "# will convert a array from int 64 to int 32\n",
    "\n",
    "a = a.astype(np.int32)\n",
    "\n",
    "print('a after: ',a.dtype)"
   ]
  },
  {
   "cell_type": "code",
   "execution_count": 49,
   "id": "add17971-e94e-4d4a-814a-b7f61a7ff057",
   "metadata": {},
   "outputs": [
    {
     "name": "stdout",
     "output_type": "stream",
     "text": [
      "a before:  int32\n",
      "a after:  float64\n"
     ]
    }
   ],
   "source": [
    "print('a before: ',a.dtype)\n",
    "\n",
    "a = a.astype(float)\n",
    "\n",
    "print('a after: ',a.dtype)"
   ]
  },
  {
   "cell_type": "code",
   "execution_count": null,
   "id": "51bbe4b7-0c74-485e-bfd3-f3e48f1a64b9",
   "metadata": {},
   "outputs": [],
   "source": []
  },
  {
   "cell_type": "markdown",
   "id": "d1116f4d-8934-432c-a3c9-8a2a358e4e60",
   "metadata": {},
   "source": [
    "## Scaler operations"
   ]
  },
  {
   "cell_type": "code",
   "execution_count": 51,
   "id": "f264524f-9943-47b7-8b7c-2db298ab0c4c",
   "metadata": {},
   "outputs": [
    {
     "data": {
      "text/plain": [
       "array([[ 0,  1,  2,  3],\n",
       "       [ 4,  5,  6,  7],\n",
       "       [ 8,  9, 10, 11]])"
      ]
     },
     "execution_count": 51,
     "metadata": {},
     "output_type": "execute_result"
    }
   ],
   "source": [
    "a1 = np.arange(12).reshape(3,4)\n",
    "a1"
   ]
  },
  {
   "cell_type": "code",
   "execution_count": 52,
   "id": "32ce4fbd-8c9a-489f-9627-fe9a1bf39a93",
   "metadata": {},
   "outputs": [
    {
     "data": {
      "text/plain": [
       "array([[ 2,  3,  4,  5],\n",
       "       [ 6,  7,  8,  9],\n",
       "       [10, 11, 12, 13]])"
      ]
     },
     "execution_count": 52,
     "metadata": {},
     "output_type": "execute_result"
    }
   ],
   "source": [
    "a1+2"
   ]
  },
  {
   "cell_type": "code",
   "execution_count": 54,
   "id": "fa740ed7-873b-457f-8e82-78c851e9572e",
   "metadata": {},
   "outputs": [
    {
     "data": {
      "text/plain": [
       "array([[ 0,  4,  8, 12],\n",
       "       [16, 20, 24, 28],\n",
       "       [32, 36, 40, 44]])"
      ]
     },
     "execution_count": 54,
     "metadata": {},
     "output_type": "execute_result"
    }
   ],
   "source": [
    "a1*4"
   ]
  },
  {
   "cell_type": "code",
   "execution_count": 55,
   "id": "eb1f6f1d-770f-4dbf-9942-35713e22332c",
   "metadata": {},
   "outputs": [
    {
     "data": {
      "text/plain": [
       "array([[0.  , 0.25, 0.5 , 0.75],\n",
       "       [1.  , 1.25, 1.5 , 1.75],\n",
       "       [2.  , 2.25, 2.5 , 2.75]])"
      ]
     },
     "execution_count": 55,
     "metadata": {},
     "output_type": "execute_result"
    }
   ],
   "source": [
    "a1/4"
   ]
  },
  {
   "cell_type": "code",
   "execution_count": 56,
   "id": "f7e31f25-3027-4e1d-a461-6ac3e8b09c7c",
   "metadata": {},
   "outputs": [
    {
     "data": {
      "text/plain": [
       "array([[0, 1, 2, 3],\n",
       "       [0, 1, 2, 3],\n",
       "       [0, 1, 2, 3]])"
      ]
     },
     "execution_count": 56,
     "metadata": {},
     "output_type": "execute_result"
    }
   ],
   "source": [
    "a1%4"
   ]
  },
  {
   "cell_type": "markdown",
   "id": "3cdeebeb-76cb-4b2b-9bbe-342a28b2000c",
   "metadata": {},
   "source": [
    "## Relational operations"
   ]
  },
  {
   "cell_type": "code",
   "execution_count": 65,
   "id": "3a5066a6-9974-4c32-b48f-0b1056fc929a",
   "metadata": {},
   "outputs": [
    {
     "data": {
      "text/plain": [
       "array([[ 0,  1,  2,  3],\n",
       "       [ 4,  5,  6,  7],\n",
       "       [ 8,  9, 10, 11]])"
      ]
     },
     "execution_count": 65,
     "metadata": {},
     "output_type": "execute_result"
    }
   ],
   "source": [
    "a1 "
   ]
  },
  {
   "cell_type": "code",
   "execution_count": 66,
   "id": "0d00c364-47df-4ee8-b52f-a2ac99bb6c10",
   "metadata": {},
   "outputs": [
    {
     "data": {
      "text/plain": [
       "array([[False, False, False, False],\n",
       "       [False, False, False, False],\n",
       "       [False,  True,  True,  True]])"
      ]
     },
     "execution_count": 66,
     "metadata": {},
     "output_type": "execute_result"
    }
   ],
   "source": [
    "a1 > 8"
   ]
  },
  {
   "cell_type": "code",
   "execution_count": 67,
   "id": "82516b51-b5f0-4ca5-985c-10c3de13002a",
   "metadata": {},
   "outputs": [
    {
     "data": {
      "text/plain": [
       "array([[ True,  True,  True,  True],\n",
       "       [ True,  True,  True,  True],\n",
       "       [ True, False, False, False]])"
      ]
     },
     "execution_count": 67,
     "metadata": {},
     "output_type": "execute_result"
    }
   ],
   "source": [
    "a1 <= 8"
   ]
  },
  {
   "cell_type": "code",
   "execution_count": 68,
   "id": "06a30c2e-e11a-4107-ab97-576e736b8a9c",
   "metadata": {},
   "outputs": [
    {
     "data": {
      "text/plain": [
       "array([[False, False, False, False],\n",
       "       [False, False, False, False],\n",
       "       [False, False,  True, False]])"
      ]
     },
     "execution_count": 68,
     "metadata": {},
     "output_type": "execute_result"
    }
   ],
   "source": [
    "a1 == 10"
   ]
  },
  {
   "cell_type": "markdown",
   "id": "b4b85e56-31ee-4cae-ad50-e7ba9b4597ea",
   "metadata": {},
   "source": [
    "## Vector operations"
   ]
  },
  {
   "cell_type": "code",
   "execution_count": 69,
   "id": "fd3f0c15-c8a2-44ad-a61d-1bfce288602f",
   "metadata": {},
   "outputs": [
    {
     "data": {
      "text/plain": [
       "array([[ 0,  1,  2,  3],\n",
       "       [ 4,  5,  6,  7],\n",
       "       [ 8,  9, 10, 11]])"
      ]
     },
     "execution_count": 69,
     "metadata": {},
     "output_type": "execute_result"
    }
   ],
   "source": [
    "a1"
   ]
  },
  {
   "cell_type": "code",
   "execution_count": 71,
   "id": "9c875a54-aaee-4b20-ac09-2c022db82530",
   "metadata": {},
   "outputs": [
    {
     "data": {
      "text/plain": [
       "array([[12, 13, 14, 15],\n",
       "       [16, 17, 18, 19],\n",
       "       [20, 21, 22, 23]])"
      ]
     },
     "execution_count": 71,
     "metadata": {},
     "output_type": "execute_result"
    }
   ],
   "source": [
    "a2 = np.arange(12,24).reshape(3,4)\n",
    "a2"
   ]
  },
  {
   "cell_type": "code",
   "execution_count": 72,
   "id": "938bc39c-0d64-4b5c-9eac-67f41ed58ba0",
   "metadata": {},
   "outputs": [
    {
     "data": {
      "text/plain": [
       "array([[12, 14, 16, 18],\n",
       "       [20, 22, 24, 26],\n",
       "       [28, 30, 32, 34]])"
      ]
     },
     "execution_count": 72,
     "metadata": {},
     "output_type": "execute_result"
    }
   ],
   "source": [
    "a1 + a2"
   ]
  },
  {
   "cell_type": "code",
   "execution_count": 73,
   "id": "c5216ab0-6818-41cb-b398-5341fa92f622",
   "metadata": {},
   "outputs": [
    {
     "data": {
      "text/plain": [
       "array([[-12, -12, -12, -12],\n",
       "       [-12, -12, -12, -12],\n",
       "       [-12, -12, -12, -12]])"
      ]
     },
     "execution_count": 73,
     "metadata": {},
     "output_type": "execute_result"
    }
   ],
   "source": [
    "a1 - a2"
   ]
  },
  {
   "cell_type": "code",
   "execution_count": 74,
   "id": "c492e689-9ea6-4ddd-94cf-c92e161c9c40",
   "metadata": {},
   "outputs": [
    {
     "data": {
      "text/plain": [
       "array([[  0,  13,  28,  45],\n",
       "       [ 64,  85, 108, 133],\n",
       "       [160, 189, 220, 253]])"
      ]
     },
     "execution_count": 74,
     "metadata": {},
     "output_type": "execute_result"
    }
   ],
   "source": [
    "a1 * a2"
   ]
  },
  {
   "cell_type": "code",
   "execution_count": 78,
   "id": "5296a099-1881-4e84-8a6f-fa87982d14ec",
   "metadata": {},
   "outputs": [
    {
     "data": {
      "text/plain": [
       "array([[0.        , 0.07692308, 0.14285714, 0.2       ],\n",
       "       [0.25      , 0.29411765, 0.33333333, 0.36842105],\n",
       "       [0.4       , 0.42857143, 0.45454545, 0.47826087]])"
      ]
     },
     "execution_count": 78,
     "metadata": {},
     "output_type": "execute_result"
    }
   ],
   "source": [
    "a1/a2"
   ]
  },
  {
   "cell_type": "code",
   "execution_count": null,
   "id": "66f6718e-0c0a-47f1-b726-e5e7e4530e21",
   "metadata": {},
   "outputs": [],
   "source": []
  }
 ],
 "metadata": {
  "kernelspec": {
   "display_name": "Python 3 (ipykernel)",
   "language": "python",
   "name": "python3"
  },
  "language_info": {
   "codemirror_mode": {
    "name": "ipython",
    "version": 3
   },
   "file_extension": ".py",
   "mimetype": "text/x-python",
   "name": "python",
   "nbconvert_exporter": "python",
   "pygments_lexer": "ipython3",
   "version": "3.10.8"
  }
 },
 "nbformat": 4,
 "nbformat_minor": 5
}
