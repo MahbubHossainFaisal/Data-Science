{
 "cells": [
  {
   "cell_type": "markdown",
   "id": "f2d09fef-2a8a-4609-ad83-aa1333172a34",
   "metadata": {},
   "source": [
    "# Numpy Array functions"
   ]
  },
  {
   "cell_type": "code",
   "execution_count": 1,
   "id": "55013393-fac1-4299-8803-1cc4b8021428",
   "metadata": {},
   "outputs": [],
   "source": [
    "import numpy as np"
   ]
  },
  {
   "cell_type": "code",
   "execution_count": 2,
   "id": "ec055528-9bc6-4ff7-bceb-5592aed4ee5c",
   "metadata": {},
   "outputs": [
    {
     "data": {
      "text/plain": [
       "array([[6., 1., 8., 8.],\n",
       "       [6., 8., 8., 9.],\n",
       "       [6., 9., 9., 6.]])"
      ]
     },
     "execution_count": 2,
     "metadata": {},
     "output_type": "execute_result"
    }
   ],
   "source": [
    "a1 = np.random.random((3,4)) \n",
    "a1 = np.round(a1*10)\n",
    "a1"
   ]
  },
  {
   "cell_type": "markdown",
   "id": "650298b5-b60e-4f18-9fd6-a55554c49c40",
   "metadata": {},
   "source": [
    "#### max/min/sum/prod functions"
   ]
  },
  {
   "cell_type": "code",
   "execution_count": 3,
   "id": "9fef2d65-b03d-4f77-b885-a9e5ec4e07ff",
   "metadata": {},
   "outputs": [
    {
     "data": {
      "text/plain": [
       "9.0"
      ]
     },
     "execution_count": 3,
     "metadata": {},
     "output_type": "execute_result"
    }
   ],
   "source": [
    "# find max from whole matrix\n",
    "np.max(a1)"
   ]
  },
  {
   "cell_type": "code",
   "execution_count": 4,
   "id": "6ff0fce1-2bcb-4318-bdf6-a4082a72d6d1",
   "metadata": {},
   "outputs": [
    {
     "data": {
      "text/plain": [
       "array([6., 9., 9., 9.])"
      ]
     },
     "execution_count": 4,
     "metadata": {},
     "output_type": "execute_result"
    }
   ],
   "source": [
    "# find max from every column\n",
    "np.max(a1,axis=0)  # 0 -> column"
   ]
  },
  {
   "cell_type": "code",
   "execution_count": 5,
   "id": "0d5f422e-91c1-4ba0-8005-66c7c4cb8a44",
   "metadata": {},
   "outputs": [
    {
     "data": {
      "text/plain": [
       "array([8., 9., 9.])"
      ]
     },
     "execution_count": 5,
     "metadata": {},
     "output_type": "execute_result"
    }
   ],
   "source": [
    "# find max from every row\n",
    "np.max(a1,axis = 1)   # 1 -> row"
   ]
  },
  {
   "cell_type": "code",
   "execution_count": 6,
   "id": "320e4531-0d10-48f3-8379-0bee9c798fdf",
   "metadata": {},
   "outputs": [
    {
     "data": {
      "text/plain": [
       "1.0"
      ]
     },
     "execution_count": 6,
     "metadata": {},
     "output_type": "execute_result"
    }
   ],
   "source": [
    "np.min(a1)"
   ]
  },
  {
   "cell_type": "code",
   "execution_count": 7,
   "id": "a53110d4-7ced-4cb4-9517-2fe5acc06c0d",
   "metadata": {},
   "outputs": [
    {
     "data": {
      "text/plain": [
       "array([6., 1., 8., 6.])"
      ]
     },
     "execution_count": 7,
     "metadata": {},
     "output_type": "execute_result"
    }
   ],
   "source": [
    "# find min from every column\n",
    "np.min(a1,axis=0)  # 0 -> column"
   ]
  },
  {
   "cell_type": "code",
   "execution_count": 8,
   "id": "2699d956-b857-40c6-8c9b-f9e6ffa41db5",
   "metadata": {},
   "outputs": [
    {
     "data": {
      "text/plain": [
       "array([1., 6., 6.])"
      ]
     },
     "execution_count": 8,
     "metadata": {},
     "output_type": "execute_result"
    }
   ],
   "source": [
    "# find max from every row\n",
    "np.min(a1,axis = 1)   # 1 -> row"
   ]
  },
  {
   "cell_type": "code",
   "execution_count": 9,
   "id": "5985712e-fd47-46f3-b420-ae6115deb40c",
   "metadata": {},
   "outputs": [
    {
     "data": {
      "text/plain": [
       "84.0"
      ]
     },
     "execution_count": 9,
     "metadata": {},
     "output_type": "execute_result"
    }
   ],
   "source": [
    "np.sum(a1)"
   ]
  },
  {
   "cell_type": "code",
   "execution_count": 10,
   "id": "072c6645-aa93-42fa-aab9-1bc396830b96",
   "metadata": {},
   "outputs": [
    {
     "data": {
      "text/plain": [
       "array([18., 18., 25., 23.])"
      ]
     },
     "execution_count": 10,
     "metadata": {},
     "output_type": "execute_result"
    }
   ],
   "source": [
    "# find sum from all columns individually\n",
    "np.sum(a1,axis=0)"
   ]
  },
  {
   "cell_type": "code",
   "execution_count": 11,
   "id": "1d0c6a95-00af-45e3-a3b5-d2a7d674b492",
   "metadata": {},
   "outputs": [
    {
     "data": {
      "text/plain": [
       "array([23., 31., 30.])"
      ]
     },
     "execution_count": 11,
     "metadata": {},
     "output_type": "execute_result"
    }
   ],
   "source": [
    "# find sum from all rows individually\n",
    "np.sum(a1,axis=1)"
   ]
  },
  {
   "cell_type": "code",
   "execution_count": 12,
   "id": "c4289278-e768-445b-a97d-592ded56089a",
   "metadata": {},
   "outputs": [
    {
     "data": {
      "text/plain": [
       "3869835264.0"
      ]
     },
     "execution_count": 12,
     "metadata": {},
     "output_type": "execute_result"
    }
   ],
   "source": [
    "np.prod(a1)"
   ]
  },
  {
   "cell_type": "code",
   "execution_count": 13,
   "id": "1478902d-82d1-4f7d-bd5b-572e2328de42",
   "metadata": {},
   "outputs": [
    {
     "data": {
      "text/plain": [
       "array([216.,  72., 576., 432.])"
      ]
     },
     "execution_count": 13,
     "metadata": {},
     "output_type": "execute_result"
    }
   ],
   "source": [
    "# find product from all columns individually\n",
    "np.prod(a1,axis=0)"
   ]
  },
  {
   "cell_type": "code",
   "execution_count": 14,
   "id": "856b4814-0e43-4a01-af97-9dc439697438",
   "metadata": {},
   "outputs": [
    {
     "data": {
      "text/plain": [
       "array([ 384., 3456., 2916.])"
      ]
     },
     "execution_count": 14,
     "metadata": {},
     "output_type": "execute_result"
    }
   ],
   "source": [
    "# find product from all rows individually\n",
    "np.prod(a1,axis=1)"
   ]
  },
  {
   "cell_type": "code",
   "execution_count": null,
   "id": "652f3186-8eb4-4497-8989-f894bd414078",
   "metadata": {},
   "outputs": [],
   "source": []
  },
  {
   "cell_type": "markdown",
   "id": "458326fb-ee25-4547-a4d1-fd3d3910ee78",
   "metadata": {},
   "source": [
    "#### mean/median/std/var"
   ]
  },
  {
   "cell_type": "code",
   "execution_count": 15,
   "id": "a937ba26-043b-4b9a-9117-35e4c30daafa",
   "metadata": {},
   "outputs": [
    {
     "data": {
      "text/plain": [
       "7.0"
      ]
     },
     "execution_count": 15,
     "metadata": {},
     "output_type": "execute_result"
    }
   ],
   "source": [
    "np.mean(a1)"
   ]
  },
  {
   "cell_type": "code",
   "execution_count": 16,
   "id": "80dc6cdc-1d2e-4fd8-8ee6-b0e43363167e",
   "metadata": {},
   "outputs": [
    {
     "data": {
      "text/plain": [
       "array([6.        , 6.        , 8.33333333, 7.66666667])"
      ]
     },
     "execution_count": 16,
     "metadata": {},
     "output_type": "execute_result"
    }
   ],
   "source": [
    "np.mean(a1,axis=0)"
   ]
  },
  {
   "cell_type": "code",
   "execution_count": 17,
   "id": "dd02ff8c-a46d-4521-958e-4028dc9d9be0",
   "metadata": {},
   "outputs": [
    {
     "data": {
      "text/plain": [
       "array([5.75, 7.75, 7.5 ])"
      ]
     },
     "execution_count": 17,
     "metadata": {},
     "output_type": "execute_result"
    }
   ],
   "source": [
    "np.mean(a1,axis=1)"
   ]
  },
  {
   "cell_type": "code",
   "execution_count": 18,
   "id": "24689a1e-d099-4585-b5f3-802be8852676",
   "metadata": {},
   "outputs": [
    {
     "data": {
      "text/plain": [
       "8.0"
      ]
     },
     "execution_count": 18,
     "metadata": {},
     "output_type": "execute_result"
    }
   ],
   "source": [
    "np.median(a1)"
   ]
  },
  {
   "cell_type": "code",
   "execution_count": 19,
   "id": "78d9d71e-6c67-4350-874b-1a22549e448a",
   "metadata": {},
   "outputs": [
    {
     "data": {
      "text/plain": [
       "array([6., 8., 8., 8.])"
      ]
     },
     "execution_count": 19,
     "metadata": {},
     "output_type": "execute_result"
    }
   ],
   "source": [
    "np.median(a1,axis=0)"
   ]
  },
  {
   "cell_type": "code",
   "execution_count": 20,
   "id": "7bfadcc3-c727-47fa-a58c-60d549012ac6",
   "metadata": {},
   "outputs": [
    {
     "data": {
      "text/plain": [
       "array([7. , 8. , 7.5])"
      ]
     },
     "execution_count": 20,
     "metadata": {},
     "output_type": "execute_result"
    }
   ],
   "source": [
    "np.median(a1,axis=1)"
   ]
  },
  {
   "cell_type": "code",
   "execution_count": 21,
   "id": "6b38df42-f4ed-491e-83a1-c5278a9db586",
   "metadata": {},
   "outputs": [
    {
     "data": {
      "text/plain": [
       "2.160246899469287"
      ]
     },
     "execution_count": 21,
     "metadata": {},
     "output_type": "execute_result"
    }
   ],
   "source": [
    "np.std(a1)"
   ]
  },
  {
   "cell_type": "code",
   "execution_count": 22,
   "id": "8e8348c3-a655-44d0-8e73-6eb392980363",
   "metadata": {},
   "outputs": [
    {
     "data": {
      "text/plain": [
       "array([0.        , 3.55902608, 0.47140452, 1.24721913])"
      ]
     },
     "execution_count": 22,
     "metadata": {},
     "output_type": "execute_result"
    }
   ],
   "source": [
    "np.std(a1,axis=0)"
   ]
  },
  {
   "cell_type": "code",
   "execution_count": 23,
   "id": "9156d36b-22b7-48f5-94c9-103439198317",
   "metadata": {},
   "outputs": [
    {
     "data": {
      "text/plain": [
       "array([2.86138079, 1.08972474, 1.5       ])"
      ]
     },
     "execution_count": 23,
     "metadata": {},
     "output_type": "execute_result"
    }
   ],
   "source": [
    "np.std(a1,axis=1)"
   ]
  },
  {
   "cell_type": "code",
   "execution_count": 24,
   "id": "0b347e55-728a-49e0-893e-af2eb6c21b83",
   "metadata": {},
   "outputs": [
    {
     "data": {
      "text/plain": [
       "4.666666666666667"
      ]
     },
     "execution_count": 24,
     "metadata": {},
     "output_type": "execute_result"
    }
   ],
   "source": [
    "np.var(a1)"
   ]
  },
  {
   "cell_type": "code",
   "execution_count": 25,
   "id": "a0adec4e-907a-466a-abcf-a5868866e0ee",
   "metadata": {},
   "outputs": [
    {
     "data": {
      "text/plain": [
       "array([ 0.        , 12.66666667,  0.22222222,  1.55555556])"
      ]
     },
     "execution_count": 25,
     "metadata": {},
     "output_type": "execute_result"
    }
   ],
   "source": [
    "np.var(a1,axis=0)"
   ]
  },
  {
   "cell_type": "code",
   "execution_count": 26,
   "id": "bba6bd77-dcaa-4d50-acc6-4fa309f5d267",
   "metadata": {},
   "outputs": [
    {
     "data": {
      "text/plain": [
       "array([8.1875, 1.1875, 2.25  ])"
      ]
     },
     "execution_count": 26,
     "metadata": {},
     "output_type": "execute_result"
    }
   ],
   "source": [
    "np.var(a1,axis=1)"
   ]
  },
  {
   "cell_type": "markdown",
   "id": "247979b7-ada0-41c8-b11c-d7fa20c7ad79",
   "metadata": {},
   "source": [
    "#### dot product"
   ]
  },
  {
   "cell_type": "code",
   "execution_count": 27,
   "id": "a227f82b-d66f-4ba6-a336-d997fba378e3",
   "metadata": {},
   "outputs": [
    {
     "data": {
      "text/plain": [
       "array([[ 0,  1,  2,  3],\n",
       "       [ 4,  5,  6,  7],\n",
       "       [ 8,  9, 10, 11]])"
      ]
     },
     "execution_count": 27,
     "metadata": {},
     "output_type": "execute_result"
    }
   ],
   "source": [
    "b1 = np.arange(12).reshape((3,4))\n",
    "b1"
   ]
  },
  {
   "cell_type": "code",
   "execution_count": 28,
   "id": "e991ecf4-6b49-4792-8ace-1aaafdd4c766",
   "metadata": {},
   "outputs": [
    {
     "data": {
      "text/plain": [
       "array([[11, 12, 13],\n",
       "       [14, 15, 16],\n",
       "       [17, 18, 19],\n",
       "       [20, 21, 22]])"
      ]
     },
     "execution_count": 28,
     "metadata": {},
     "output_type": "execute_result"
    }
   ],
   "source": [
    "c1 = np.arange(11,23).reshape((4,3))\n",
    "c1\n"
   ]
  },
  {
   "cell_type": "code",
   "execution_count": 29,
   "id": "aca5c4d1-101f-4cb5-a305-ff4475932324",
   "metadata": {},
   "outputs": [
    {
     "data": {
      "text/plain": [
       "array([[108, 114, 120],\n",
       "       [356, 378, 400],\n",
       "       [604, 642, 680]])"
      ]
     },
     "execution_count": 29,
     "metadata": {},
     "output_type": "execute_result"
    }
   ],
   "source": [
    "np.dot(b1,c1)"
   ]
  },
  {
   "cell_type": "markdown",
   "id": "9c794781-3327-47fe-ad01-874fed2b0864",
   "metadata": {},
   "source": [
    "#### round/ceil/floor"
   ]
  },
  {
   "cell_type": "code",
   "execution_count": 30,
   "id": "1ca67e23-2dfa-4a13-95db-1d37220302ef",
   "metadata": {},
   "outputs": [
    {
     "data": {
      "text/plain": [
       "array([[76, 93,  5, 54],\n",
       "       [68, 76,  4, 68],\n",
       "       [46, 43, 94, 89]])"
      ]
     },
     "execution_count": 30,
     "metadata": {},
     "output_type": "execute_result"
    }
   ],
   "source": [
    "np.round(np.random.random((3,4))*100).astype(int)"
   ]
  },
  {
   "cell_type": "code",
   "execution_count": null,
   "id": "be127778-691f-4e78-8b92-5c6d448176a0",
   "metadata": {},
   "outputs": [],
   "source": []
  },
  {
   "cell_type": "markdown",
   "id": "a7fbc729-cbf4-46e6-9bbd-7f6955e186ad",
   "metadata": {},
   "source": [
    "### Indexing and Slicing"
   ]
  },
  {
   "cell_type": "code",
   "execution_count": 31,
   "id": "79605f5f-272f-4537-a3b1-c3599b775989",
   "metadata": {},
   "outputs": [
    {
     "data": {
      "text/plain": [
       "array([0, 1, 2, 3, 4, 5, 6, 7, 8, 9])"
      ]
     },
     "execution_count": 31,
     "metadata": {},
     "output_type": "execute_result"
    }
   ],
   "source": [
    "a1 = np.arange(10)\n",
    "a1"
   ]
  },
  {
   "cell_type": "code",
   "execution_count": 32,
   "id": "5fb92db6-7683-40bb-8878-4baac45b71b9",
   "metadata": {},
   "outputs": [
    {
     "data": {
      "text/plain": [
       "array([[ 0,  1,  2,  3],\n",
       "       [ 4,  5,  6,  7],\n",
       "       [ 8,  9, 10, 11]])"
      ]
     },
     "execution_count": 32,
     "metadata": {},
     "output_type": "execute_result"
    }
   ],
   "source": [
    "a2 = np.arange(12).reshape(3,4)\n",
    "a2"
   ]
  },
  {
   "cell_type": "code",
   "execution_count": 34,
   "id": "20b67549-b230-497e-b911-28f2f79bdfda",
   "metadata": {},
   "outputs": [
    {
     "data": {
      "text/plain": [
       "array([[[0, 1],\n",
       "        [2, 3]],\n",
       "\n",
       "       [[4, 5],\n",
       "        [6, 7]]])"
      ]
     },
     "execution_count": 34,
     "metadata": {},
     "output_type": "execute_result"
    }
   ],
   "source": [
    "a3 = np.arange(8).reshape(2,2,2)\n",
    "a3"
   ]
  },
  {
   "cell_type": "code",
   "execution_count": 71,
   "id": "e6eeffe7-66dd-4931-a6c9-853c31f5d616",
   "metadata": {},
   "outputs": [
    {
     "data": {
      "text/plain": [
       "6"
      ]
     },
     "execution_count": 71,
     "metadata": {},
     "output_type": "execute_result"
    }
   ],
   "source": [
    "# find 6 in the matrix\n",
    "a2[1,2]"
   ]
  },
  {
   "cell_type": "code",
   "execution_count": 72,
   "id": "3b20894e-b629-47fa-a941-648c83c6aacb",
   "metadata": {},
   "outputs": [
    {
     "data": {
      "text/plain": [
       "7"
      ]
     },
     "execution_count": 72,
     "metadata": {},
     "output_type": "execute_result"
    }
   ],
   "source": [
    "# find 7 in tensor\n",
    "\n",
    "\n",
    "a3[1,1,1]"
   ]
  },
  {
   "cell_type": "code",
   "execution_count": 73,
   "id": "da95e3e6-c34f-4860-915f-082af95ac638",
   "metadata": {},
   "outputs": [
    {
     "data": {
      "text/plain": [
       "array([5, 6, 7])"
      ]
     },
     "execution_count": 73,
     "metadata": {},
     "output_type": "execute_result"
    }
   ],
   "source": [
    "# find 5,6,7 from matrix\n",
    "\n",
    "a2[1,1:]"
   ]
  },
  {
   "cell_type": "code",
   "execution_count": 52,
   "id": "2119d6f3-08ff-430e-ac13-6ff7af4f5603",
   "metadata": {},
   "outputs": [
    {
     "data": {
      "text/plain": [
       "array([ 2,  6, 10])"
      ]
     },
     "execution_count": 52,
     "metadata": {},
     "output_type": "execute_result"
    }
   ],
   "source": [
    "# find 2,6,10 from matrix\n",
    "a2[:,2]"
   ]
  },
  {
   "cell_type": "code",
   "execution_count": 53,
   "id": "8bea74a0-f7ac-4565-a156-7184e48c2148",
   "metadata": {},
   "outputs": [
    {
     "data": {
      "text/plain": [
       "array([[ 5,  6],\n",
       "       [ 9, 10]])"
      ]
     },
     "execution_count": 53,
     "metadata": {},
     "output_type": "execute_result"
    }
   ],
   "source": [
    "# find 5,6,9,19 from matrix\n",
    "\n",
    "a2[1:,1:3]"
   ]
  },
  {
   "cell_type": "code",
   "execution_count": 56,
   "id": "32652295-8dc9-483d-b188-5f52a9296a7a",
   "metadata": {},
   "outputs": [
    {
     "data": {
      "text/plain": [
       "array([[ 0,  3],\n",
       "       [ 8, 11]])"
      ]
     },
     "execution_count": 56,
     "metadata": {},
     "output_type": "execute_result"
    }
   ],
   "source": [
    "#find 0,3,8,11 from matrix\n",
    "\n",
    "a2[::2,::3]"
   ]
  },
  {
   "cell_type": "code",
   "execution_count": 63,
   "id": "1fcd006c-6017-40d6-8ea0-1b65cdfd61d6",
   "metadata": {},
   "outputs": [
    {
     "data": {
      "text/plain": [
       "array([[ 1,  3],\n",
       "       [ 9, 11]])"
      ]
     },
     "execution_count": 63,
     "metadata": {},
     "output_type": "execute_result"
    }
   ],
   "source": [
    "# find 1,3,9,11 from matrix\n",
    "\n",
    "a2[::2,1::2]"
   ]
  },
  {
   "cell_type": "code",
   "execution_count": 67,
   "id": "9b0e48c0-7850-462b-a4dc-0f7d3a1548e6",
   "metadata": {},
   "outputs": [
    {
     "data": {
      "text/plain": [
       "array([4, 7])"
      ]
     },
     "execution_count": 67,
     "metadata": {},
     "output_type": "execute_result"
    }
   ],
   "source": [
    "# find 4,7 from matrix\n",
    "\n",
    "a2[1,::3]"
   ]
  },
  {
   "cell_type": "code",
   "execution_count": 70,
   "id": "317299a5-b3ad-455e-8add-f1ff3536b9c2",
   "metadata": {},
   "outputs": [
    {
     "data": {
      "text/plain": [
       "array([[1, 2, 3],\n",
       "       [5, 6, 7]])"
      ]
     },
     "execution_count": 70,
     "metadata": {},
     "output_type": "execute_result"
    }
   ],
   "source": [
    "# FIND 1,2,3,5,6,7 from matrix\n",
    "\n",
    "a2[0:2,1:]"
   ]
  },
  {
   "cell_type": "code",
   "execution_count": 76,
   "id": "4e9f3eb7-73fb-4ba1-9d27-2dc109243611",
   "metadata": {},
   "outputs": [
    {
     "data": {
      "text/plain": [
       "array([[[ 0,  1,  2],\n",
       "        [ 3,  4,  5],\n",
       "        [ 6,  7,  8]],\n",
       "\n",
       "       [[ 9, 10, 11],\n",
       "        [12, 13, 14],\n",
       "        [15, 16, 17]],\n",
       "\n",
       "       [[18, 19, 20],\n",
       "        [21, 22, 23],\n",
       "        [24, 25, 26]]])"
      ]
     },
     "execution_count": 76,
     "metadata": {},
     "output_type": "execute_result"
    }
   ],
   "source": [
    "a3 = np.arange(27).reshape(3,3,3)\n",
    "a3"
   ]
  },
  {
   "cell_type": "code",
   "execution_count": 78,
   "id": "1e8b363f-cf13-478e-9422-56f85d3fe830",
   "metadata": {},
   "outputs": [
    {
     "data": {
      "text/plain": [
       "array([[ 9, 10, 11],\n",
       "       [12, 13, 14],\n",
       "       [15, 16, 17]])"
      ]
     },
     "execution_count": 78,
     "metadata": {},
     "output_type": "execute_result"
    }
   ],
   "source": [
    "# extract the middle 2d matrix\n",
    "\n",
    "a3[1]"
   ]
  },
  {
   "cell_type": "code",
   "execution_count": 80,
   "id": "23aed777-0a01-4051-9bdc-0c6104b4f07b",
   "metadata": {},
   "outputs": [
    {
     "data": {
      "text/plain": [
       "array([[[ 0,  1,  2],\n",
       "        [ 3,  4,  5],\n",
       "        [ 6,  7,  8]],\n",
       "\n",
       "       [[18, 19, 20],\n",
       "        [21, 22, 23],\n",
       "        [24, 25, 26]]])"
      ]
     },
     "execution_count": 80,
     "metadata": {},
     "output_type": "execute_result"
    }
   ],
   "source": [
    "# find the first and last 2d matrix\n",
    "\n",
    "a3[::2]"
   ]
  },
  {
   "cell_type": "code",
   "execution_count": 83,
   "id": "a2e905aa-2322-4433-a949-a04fdc0dfaf0",
   "metadata": {},
   "outputs": [
    {
     "data": {
      "text/plain": [
       "array([3, 4, 5])"
      ]
     },
     "execution_count": 83,
     "metadata": {},
     "output_type": "execute_result"
    }
   ],
   "source": [
    "# find the first matrix 2nd row\n",
    "\n",
    "a3[0,1,:]"
   ]
  },
  {
   "cell_type": "code",
   "execution_count": 84,
   "id": "fa84783e-10e5-47ca-bf61-d5c92479c4a8",
   "metadata": {},
   "outputs": [
    {
     "data": {
      "text/plain": [
       "array([10, 13, 16])"
      ]
     },
     "execution_count": 84,
     "metadata": {},
     "output_type": "execute_result"
    }
   ],
   "source": [
    "# find the second matrix 2nd column\n",
    "\n",
    "a3[1,:,1]"
   ]
  },
  {
   "cell_type": "code",
   "execution_count": 85,
   "id": "91059fac-efbf-40dc-b176-3a7bb8b57a0a",
   "metadata": {},
   "outputs": [
    {
     "data": {
      "text/plain": [
       "array([[22, 23],\n",
       "       [25, 26]])"
      ]
     },
     "execution_count": 85,
     "metadata": {},
     "output_type": "execute_result"
    }
   ],
   "source": [
    "# find 22,23,25,26\n",
    "\n",
    "a3[2,1:,1:]"
   ]
  },
  {
   "cell_type": "code",
   "execution_count": 86,
   "id": "54b3be5f-7b32-42bd-9942-78b082102f4a",
   "metadata": {},
   "outputs": [
    {
     "data": {
      "text/plain": [
       "array([[ 0,  2],\n",
       "       [18, 20]])"
      ]
     },
     "execution_count": 86,
     "metadata": {},
     "output_type": "execute_result"
    }
   ],
   "source": [
    "#find 0,2,18,20\n",
    "\n",
    "a3[0::2,0,0::2]"
   ]
  },
  {
   "cell_type": "code",
   "execution_count": null,
   "id": "72f846f7-f418-4bb7-b895-06c26ccaa756",
   "metadata": {},
   "outputs": [],
   "source": []
  },
  {
   "cell_type": "markdown",
   "id": "31c690ef-f212-4782-9efa-e61571772861",
   "metadata": {},
   "source": [
    "## Looping"
   ]
  },
  {
   "cell_type": "code",
   "execution_count": 87,
   "id": "a7266a59-2827-4ca0-9644-d9c6875614f1",
   "metadata": {},
   "outputs": [
    {
     "data": {
      "text/plain": [
       "array([0, 1, 2, 3, 4, 5, 6, 7, 8, 9])"
      ]
     },
     "execution_count": 87,
     "metadata": {},
     "output_type": "execute_result"
    }
   ],
   "source": [
    "a1"
   ]
  },
  {
   "cell_type": "code",
   "execution_count": 88,
   "id": "2b5a9001-e911-4f39-9f77-287bf07daa19",
   "metadata": {},
   "outputs": [
    {
     "data": {
      "text/plain": [
       "array([[ 0,  1,  2,  3],\n",
       "       [ 4,  5,  6,  7],\n",
       "       [ 8,  9, 10, 11]])"
      ]
     },
     "execution_count": 88,
     "metadata": {},
     "output_type": "execute_result"
    }
   ],
   "source": [
    "a2"
   ]
  },
  {
   "cell_type": "code",
   "execution_count": 89,
   "id": "213e77ca-fdcd-496c-a6d6-c2602df4338c",
   "metadata": {},
   "outputs": [
    {
     "data": {
      "text/plain": [
       "array([[[ 0,  1,  2],\n",
       "        [ 3,  4,  5],\n",
       "        [ 6,  7,  8]],\n",
       "\n",
       "       [[ 9, 10, 11],\n",
       "        [12, 13, 14],\n",
       "        [15, 16, 17]],\n",
       "\n",
       "       [[18, 19, 20],\n",
       "        [21, 22, 23],\n",
       "        [24, 25, 26]]])"
      ]
     },
     "execution_count": 89,
     "metadata": {},
     "output_type": "execute_result"
    }
   ],
   "source": [
    "a3"
   ]
  },
  {
   "cell_type": "code",
   "execution_count": 91,
   "id": "dc8d48c7-76c8-4faa-a433-a3ec7f72c2e4",
   "metadata": {},
   "outputs": [
    {
     "name": "stdout",
     "output_type": "stream",
     "text": [
      "0 1 2 3 4 5 6 7 8 9 10 11 "
     ]
    }
   ],
   "source": [
    "for i in np.nditer(a2):\n",
    "    print(i,end=' ')"
   ]
  },
  {
   "cell_type": "code",
   "execution_count": 94,
   "id": "6ff5b545-b326-4de2-9aac-08710bacd900",
   "metadata": {},
   "outputs": [
    {
     "name": "stdout",
     "output_type": "stream",
     "text": [
      "0 1 2 3 4 5 6 7 8 9 10 11 12 13 14 15 16 17 18 19 20 21 22 23 24 25 26 "
     ]
    }
   ],
   "source": [
    "for i in np.nditer(a3):\n",
    "    print(i,end=' ')"
   ]
  },
  {
   "cell_type": "code",
   "execution_count": null,
   "id": "3c2315fa-b374-4492-8a72-f177f10b1cc4",
   "metadata": {},
   "outputs": [],
   "source": []
  },
  {
   "cell_type": "markdown",
   "id": "6de6d3d2-80e6-456e-917f-adb60952a781",
   "metadata": {},
   "source": [
    "## Reshaping"
   ]
  },
  {
   "cell_type": "markdown",
   "id": "e762c842-e85e-447a-a30a-1a8d506b47c3",
   "metadata": {},
   "source": [
    "#### Transpose (convert rows into columns and columns into rows)"
   ]
  },
  {
   "cell_type": "code",
   "execution_count": 100,
   "id": "fefe548d-d090-4cd6-8394-c02e3e7cefed",
   "metadata": {},
   "outputs": [
    {
     "data": {
      "text/plain": [
       "array([[ 0,  1,  2,  3],\n",
       "       [ 4,  5,  6,  7],\n",
       "       [ 8,  9, 10, 11]])"
      ]
     },
     "execution_count": 100,
     "metadata": {},
     "output_type": "execute_result"
    }
   ],
   "source": [
    "a2"
   ]
  },
  {
   "cell_type": "code",
   "execution_count": 101,
   "id": "8d1c2280-2fd6-4380-9ffa-0df7d87ac79d",
   "metadata": {},
   "outputs": [
    {
     "data": {
      "text/plain": [
       "array([[ 0,  4,  8],\n",
       "       [ 1,  5,  9],\n",
       "       [ 2,  6, 10],\n",
       "       [ 3,  7, 11]])"
      ]
     },
     "execution_count": 101,
     "metadata": {},
     "output_type": "execute_result"
    }
   ],
   "source": [
    "np.transpose(a2)"
   ]
  },
  {
   "cell_type": "markdown",
   "id": "d9b26e11-6387-4bc3-9488-6835a8e491df",
   "metadata": {},
   "source": [
    "#### Ravel (converting n dimensional arrays to 1D array)"
   ]
  },
  {
   "cell_type": "code",
   "execution_count": 102,
   "id": "a86ff084-1577-492c-9f15-edd5e0575826",
   "metadata": {},
   "outputs": [
    {
     "data": {
      "text/plain": [
       "array([[[ 0,  1,  2],\n",
       "        [ 3,  4,  5],\n",
       "        [ 6,  7,  8]],\n",
       "\n",
       "       [[ 9, 10, 11],\n",
       "        [12, 13, 14],\n",
       "        [15, 16, 17]],\n",
       "\n",
       "       [[18, 19, 20],\n",
       "        [21, 22, 23],\n",
       "        [24, 25, 26]]])"
      ]
     },
     "execution_count": 102,
     "metadata": {},
     "output_type": "execute_result"
    }
   ],
   "source": [
    "a3"
   ]
  },
  {
   "cell_type": "code",
   "execution_count": 103,
   "id": "eb2c982b-6458-4311-a5d3-86aa1e456132",
   "metadata": {},
   "outputs": [
    {
     "data": {
      "text/plain": [
       "array([ 0,  1,  2,  3,  4,  5,  6,  7,  8,  9, 10, 11, 12, 13, 14, 15, 16,\n",
       "       17, 18, 19, 20, 21, 22, 23, 24, 25, 26])"
      ]
     },
     "execution_count": 103,
     "metadata": {},
     "output_type": "execute_result"
    }
   ],
   "source": [
    "np.ravel(a3)"
   ]
  },
  {
   "cell_type": "code",
   "execution_count": null,
   "id": "95a934be-e39f-4589-ae9f-04150631bc3a",
   "metadata": {},
   "outputs": [],
   "source": []
  },
  {
   "cell_type": "markdown",
   "id": "c9fc8b57-d17f-48db-891b-8035c8f4fd67",
   "metadata": {},
   "source": [
    "## Stacking"
   ]
  },
  {
   "cell_type": "markdown",
   "id": "0073952c-4aee-4858-b3b0-0d9f68cf38a8",
   "metadata": {},
   "source": [
    "#### vstack"
   ]
  },
  {
   "cell_type": "markdown",
   "id": "70213ef8-ecac-450f-b7c4-1b8f696320a2",
   "metadata": {},
   "source": [
    "vstack is used to stack arrays vertically (i.e., along the row axis) to create a new array. It takes a sequence of arrays as input and returns a new array that has the same number of columns as the input arrays, but with the rows stacked on top of each other."
   ]
  },
  {
   "cell_type": "code",
   "execution_count": 104,
   "id": "f96470c5-a2fd-4b87-a85b-d463cc0712ed",
   "metadata": {},
   "outputs": [
    {
     "data": {
      "text/plain": [
       "array([[ 0,  1,  2,  3],\n",
       "       [ 4,  5,  6,  7],\n",
       "       [ 8,  9, 10, 11]])"
      ]
     },
     "execution_count": 104,
     "metadata": {},
     "output_type": "execute_result"
    }
   ],
   "source": [
    "a4 = np.arange(12).reshape(3,4)\n",
    "a4"
   ]
  },
  {
   "cell_type": "code",
   "execution_count": 107,
   "id": "436e2e2d-aa2d-4c5f-b3a3-ea34d68b3541",
   "metadata": {},
   "outputs": [
    {
     "data": {
      "text/plain": [
       "array([[24, 25, 26, 27],\n",
       "       [28, 29, 30, 31],\n",
       "       [32, 33, 34, 35]])"
      ]
     },
     "execution_count": 107,
     "metadata": {},
     "output_type": "execute_result"
    }
   ],
   "source": [
    "a5 = np.arange(24,36).reshape(3,4)\n",
    "a5"
   ]
  },
  {
   "cell_type": "code",
   "execution_count": 109,
   "id": "d00a5fd8-60aa-4ab0-8d71-a2ec254619bb",
   "metadata": {},
   "outputs": [
    {
     "data": {
      "text/plain": [
       "array([[ 0,  1,  2,  3],\n",
       "       [ 4,  5,  6,  7],\n",
       "       [ 8,  9, 10, 11],\n",
       "       [24, 25, 26, 27],\n",
       "       [28, 29, 30, 31],\n",
       "       [32, 33, 34, 35]])"
      ]
     },
     "execution_count": 109,
     "metadata": {},
     "output_type": "execute_result"
    }
   ],
   "source": [
    "np.vstack((a4,a5))"
   ]
  },
  {
   "cell_type": "markdown",
   "id": "1672ac5d-b480-4358-bd30-7d06bf6de998",
   "metadata": {},
   "source": [
    "#### hstack"
   ]
  },
  {
   "cell_type": "markdown",
   "id": "4c23928c-1f69-465f-acee-bf045f004e41",
   "metadata": {},
   "source": [
    "hstack, on the other hand, is used to stack arrays horizontally (i.e., along the column axis) to create a new array. It takes a sequence of arrays as input and returns a new array that has the same number of rows as the input arrays, but with the columns stacked next to each other."
   ]
  },
  {
   "cell_type": "code",
   "execution_count": 111,
   "id": "4215ff60-da40-40e0-a023-a9a1b641eb5e",
   "metadata": {},
   "outputs": [
    {
     "data": {
      "text/plain": [
       "array([[ 0,  1,  2,  3],\n",
       "       [ 4,  5,  6,  7],\n",
       "       [ 8,  9, 10, 11]])"
      ]
     },
     "execution_count": 111,
     "metadata": {},
     "output_type": "execute_result"
    }
   ],
   "source": [
    "a4"
   ]
  },
  {
   "cell_type": "code",
   "execution_count": 112,
   "id": "ff645fbd-b411-45ed-bc3a-b46c5100b236",
   "metadata": {},
   "outputs": [
    {
     "data": {
      "text/plain": [
       "array([[24, 25, 26, 27],\n",
       "       [28, 29, 30, 31],\n",
       "       [32, 33, 34, 35]])"
      ]
     },
     "execution_count": 112,
     "metadata": {},
     "output_type": "execute_result"
    }
   ],
   "source": [
    "a5"
   ]
  },
  {
   "cell_type": "code",
   "execution_count": 113,
   "id": "e4f9c8eb-4cd1-4111-b0ea-3e3c4277d849",
   "metadata": {},
   "outputs": [
    {
     "data": {
      "text/plain": [
       "array([[ 0,  1,  2,  3, 24, 25, 26, 27],\n",
       "       [ 4,  5,  6,  7, 28, 29, 30, 31],\n",
       "       [ 8,  9, 10, 11, 32, 33, 34, 35]])"
      ]
     },
     "execution_count": 113,
     "metadata": {},
     "output_type": "execute_result"
    }
   ],
   "source": [
    "np.hstack((a4,a5))"
   ]
  },
  {
   "cell_type": "code",
   "execution_count": null,
   "id": "275df2a3-9554-4243-b9dd-0da7b8fcf943",
   "metadata": {},
   "outputs": [],
   "source": []
  },
  {
   "cell_type": "markdown",
   "id": "c2d01f46-9686-4da3-860c-33d6ca4aba6b",
   "metadata": {},
   "source": [
    "## Splitting"
   ]
  },
  {
   "cell_type": "markdown",
   "id": "aa7c3c9f-24d5-46ad-b4b9-3e8b9f05ebca",
   "metadata": {},
   "source": [
    "#### vsplit (It has to be always equal split of rows)"
   ]
  },
  {
   "cell_type": "code",
   "execution_count": 115,
   "id": "4a9d4e16-a07a-4131-8a07-87fdf852eac5",
   "metadata": {},
   "outputs": [
    {
     "data": {
      "text/plain": [
       "array([[ 0,  1,  2,  3],\n",
       "       [ 4,  5,  6,  7],\n",
       "       [ 8,  9, 10, 11]])"
      ]
     },
     "execution_count": 115,
     "metadata": {},
     "output_type": "execute_result"
    }
   ],
   "source": [
    "a4"
   ]
  },
  {
   "cell_type": "code",
   "execution_count": 120,
   "id": "5fa7059b-88a6-4bc7-b468-ce9d36170ad3",
   "metadata": {},
   "outputs": [
    {
     "data": {
      "text/plain": [
       "[array([[0, 1, 2, 3]]), array([[4, 5, 6, 7]]), array([[ 8,  9, 10, 11]])]"
      ]
     },
     "execution_count": 120,
     "metadata": {},
     "output_type": "execute_result"
    }
   ],
   "source": [
    "np.vsplit(a4,3)"
   ]
  },
  {
   "cell_type": "markdown",
   "id": "013943f3-8a19-44d4-af4a-559785b0c086",
   "metadata": {},
   "source": [
    "#### hsplit (It has to be always equal split of columns)"
   ]
  },
  {
   "cell_type": "code",
   "execution_count": 127,
   "id": "883aeb6f-b032-4084-b4d2-d51d87e28b69",
   "metadata": {},
   "outputs": [
    {
     "data": {
      "text/plain": [
       "[array([[0, 1],\n",
       "        [4, 5],\n",
       "        [8, 9]]),\n",
       " array([[ 2,  3],\n",
       "        [ 6,  7],\n",
       "        [10, 11]])]"
      ]
     },
     "execution_count": 127,
     "metadata": {},
     "output_type": "execute_result"
    }
   ],
   "source": [
    "np.hsplit(a4,2)"
   ]
  },
  {
   "cell_type": "code",
   "execution_count": null,
   "id": "d64d979c-11ef-4eaa-8c95-5f083a718186",
   "metadata": {},
   "outputs": [],
   "source": []
  }
 ],
 "metadata": {
  "kernelspec": {
   "display_name": "Python 3 (ipykernel)",
   "language": "python",
   "name": "python3"
  },
  "language_info": {
   "codemirror_mode": {
    "name": "ipython",
    "version": 3
   },
   "file_extension": ".py",
   "mimetype": "text/x-python",
   "name": "python",
   "nbconvert_exporter": "python",
   "pygments_lexer": "ipython3",
   "version": "3.10.8"
  }
 },
 "nbformat": 4,
 "nbformat_minor": 5
}
