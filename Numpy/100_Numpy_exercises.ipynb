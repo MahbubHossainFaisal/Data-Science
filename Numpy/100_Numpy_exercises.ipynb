{
 "cells": [
  {
   "cell_type": "markdown",
   "id": "6293cc50",
   "metadata": {},
   "source": [
    "# 100 numpy exercises\n",
    "\n",
    "This is a collection of exercises that have been collected in the numpy mailing list, on stack overflow\n",
    "and in the numpy documentation. The goal of this collection is to offer a quick reference for both old\n",
    "and new users but also to provide a set of exercises for those who teach.\n",
    "\n",
    "\n",
    "If you find an error or think you've a better way to solve some of them, feel\n",
    "free to open an issue at <https://github.com/rougier/numpy-100>."
   ]
  },
  {
   "cell_type": "markdown",
   "id": "a167c052",
   "metadata": {},
   "source": [
    "File automatically generated. See the documentation to update questions/answers/hints programmatically."
   ]
  },
  {
   "cell_type": "markdown",
   "id": "57fc0ee5",
   "metadata": {},
   "source": [
    "Run the `initialize.py` module, then for each question you can query the\n",
    "answer or an hint with `hint(n)` or `answer(n)` for `n` question number."
   ]
  },
  {
   "cell_type": "code",
   "execution_count": null,
   "id": "3d46fba2",
   "metadata": {},
   "outputs": [],
   "source": []
  },
  {
   "cell_type": "markdown",
   "id": "3c1222ff",
   "metadata": {},
   "source": [
    "#### 1. Import the numpy package under the name `np` (★☆☆)"
   ]
  },
  {
   "cell_type": "code",
   "execution_count": 1,
   "id": "f52e6a0b",
   "metadata": {},
   "outputs": [],
   "source": [
    "import numpy as np"
   ]
  },
  {
   "cell_type": "markdown",
   "id": "9d9f4753",
   "metadata": {},
   "source": [
    "#### 2. Print the numpy version and the configuration (★☆☆)"
   ]
  },
  {
   "cell_type": "code",
   "execution_count": 2,
   "id": "b7fa5fa1",
   "metadata": {},
   "outputs": [
    {
     "name": "stdout",
     "output_type": "stream",
     "text": [
      "NumPy version:\n",
      " 1.23.5\n",
      "blas_info:\n",
      "    libraries = ['cblas', 'blas', 'cblas', 'blas']\n",
      "    library_dirs = ['/opt/conda/lib']\n",
      "    include_dirs = ['/opt/conda/include']\n",
      "    language = c\n",
      "    define_macros = [('HAVE_CBLAS', None)]\n",
      "blas_opt_info:\n",
      "    define_macros = [('NO_ATLAS_INFO', 1), ('HAVE_CBLAS', None)]\n",
      "    libraries = ['cblas', 'blas', 'cblas', 'blas']\n",
      "    library_dirs = ['/opt/conda/lib']\n",
      "    include_dirs = ['/opt/conda/include']\n",
      "    language = c\n",
      "lapack_info:\n",
      "    libraries = ['lapack', 'blas', 'lapack', 'blas']\n",
      "    library_dirs = ['/opt/conda/lib']\n",
      "    language = f77\n",
      "lapack_opt_info:\n",
      "    libraries = ['lapack', 'blas', 'lapack', 'blas', 'cblas', 'blas', 'cblas', 'blas']\n",
      "    library_dirs = ['/opt/conda/lib']\n",
      "    language = c\n",
      "    define_macros = [('NO_ATLAS_INFO', 1), ('HAVE_CBLAS', None)]\n",
      "    include_dirs = ['/opt/conda/include']\n",
      "Supported SIMD extensions in this NumPy install:\n",
      "    baseline = SSE,SSE2,SSE3\n",
      "    found = SSSE3,SSE41,POPCNT,SSE42,AVX,F16C,FMA3,AVX2\n",
      "    not found = AVX512F,AVX512CD,AVX512_KNL,AVX512_KNM,AVX512_SKX,AVX512_CLX,AVX512_CNL,AVX512_ICL\n",
      "\n",
      "NumPy configuration:\n",
      " None\n"
     ]
    }
   ],
   "source": [
    "print(\"NumPy version:\\n\", np.__version__)\n",
    "print(\"\\nNumPy configuration:\\n\", np.show_config())"
   ]
  },
  {
   "cell_type": "markdown",
   "id": "3e4c23c6",
   "metadata": {},
   "source": [
    "#### 3. Create a null vector of size 10 (★☆☆)"
   ]
  },
  {
   "cell_type": "code",
   "execution_count": 3,
   "id": "083c5c46",
   "metadata": {},
   "outputs": [
    {
     "data": {
      "text/plain": [
       "array([0, 0, 0, 0, 0, 0, 0, 0, 0, 0])"
      ]
     },
     "execution_count": 3,
     "metadata": {},
     "output_type": "execute_result"
    }
   ],
   "source": [
    "np.zeros(10,dtype = int)"
   ]
  },
  {
   "cell_type": "markdown",
   "id": "c38bbe82",
   "metadata": {},
   "source": [
    "#### 4. How to find the memory size of any array (★☆☆)"
   ]
  },
  {
   "cell_type": "code",
   "execution_count": 4,
   "id": "02b04021",
   "metadata": {},
   "outputs": [
    {
     "name": "stdout",
     "output_type": "stream",
     "text": [
      "memory size:  80  bytes\n"
     ]
    }
   ],
   "source": [
    "arr =np.zeros(10,dtype = int)\n",
    "print('memory size: ',arr.nbytes,' bytes')"
   ]
  },
  {
   "cell_type": "markdown",
   "id": "67f893d4",
   "metadata": {},
   "source": [
    "#### 5. How to get the documentation of the numpy add function from the command line? (★☆☆)"
   ]
  },
  {
   "cell_type": "code",
   "execution_count": 5,
   "id": "40e6b70d",
   "metadata": {},
   "outputs": [
    {
     "name": "stdout",
     "output_type": "stream",
     "text": [
      "Help on ufunc:\n",
      "\n",
      "add = <ufunc 'add'>\n",
      "    add(x1, x2, /, out=None, *, where=True, casting='same_kind', order='K', dtype=None, subok=True[, signature, extobj])\n",
      "    \n",
      "    Add arguments element-wise.\n",
      "    \n",
      "    Parameters\n",
      "    ----------\n",
      "    x1, x2 : array_like\n",
      "        The arrays to be added.\n",
      "        If ``x1.shape != x2.shape``, they must be broadcastable to a common\n",
      "        shape (which becomes the shape of the output).\n",
      "    out : ndarray, None, or tuple of ndarray and None, optional\n",
      "        A location into which the result is stored. If provided, it must have\n",
      "        a shape that the inputs broadcast to. If not provided or None,\n",
      "        a freshly-allocated array is returned. A tuple (possible only as a\n",
      "        keyword argument) must have length equal to the number of outputs.\n",
      "    where : array_like, optional\n",
      "        This condition is broadcast over the input. At locations where the\n",
      "        condition is True, the `out` array will be set to the ufunc result.\n",
      "        Elsewhere, the `out` array will retain its original value.\n",
      "        Note that if an uninitialized `out` array is created via the default\n",
      "        ``out=None``, locations within it where the condition is False will\n",
      "        remain uninitialized.\n",
      "    **kwargs\n",
      "        For other keyword-only arguments, see the\n",
      "        :ref:`ufunc docs <ufuncs.kwargs>`.\n",
      "    \n",
      "    Returns\n",
      "    -------\n",
      "    add : ndarray or scalar\n",
      "        The sum of `x1` and `x2`, element-wise.\n",
      "        This is a scalar if both `x1` and `x2` are scalars.\n",
      "    \n",
      "    Notes\n",
      "    -----\n",
      "    Equivalent to `x1` + `x2` in terms of array broadcasting.\n",
      "    \n",
      "    Examples\n",
      "    --------\n",
      "    >>> np.add(1.0, 4.0)\n",
      "    5.0\n",
      "    >>> x1 = np.arange(9.0).reshape((3, 3))\n",
      "    >>> x2 = np.arange(3.0)\n",
      "    >>> np.add(x1, x2)\n",
      "    array([[  0.,   2.,   4.],\n",
      "           [  3.,   5.,   7.],\n",
      "           [  6.,   8.,  10.]])\n",
      "    \n",
      "    The ``+`` operator can be used as a shorthand for ``np.add`` on ndarrays.\n",
      "    \n",
      "    >>> x1 = np.arange(9.0).reshape((3, 3))\n",
      "    >>> x2 = np.arange(3.0)\n",
      "    >>> x1 + x2\n",
      "    array([[ 0.,  2.,  4.],\n",
      "           [ 3.,  5.,  7.],\n",
      "           [ 6.,  8., 10.]])\n",
      "\n"
     ]
    }
   ],
   "source": [
    "help(np.add)"
   ]
  },
  {
   "cell_type": "markdown",
   "id": "e0c739c6",
   "metadata": {},
   "source": [
    "#### 6. Create a null vector of size 10 but the fifth value which is 1 (★☆☆)"
   ]
  },
  {
   "cell_type": "code",
   "execution_count": 6,
   "id": "bcceacf7",
   "metadata": {},
   "outputs": [
    {
     "data": {
      "text/plain": [
       "array([0., 0., 0., 0., 1., 0., 0., 0., 0., 0.])"
      ]
     },
     "execution_count": 6,
     "metadata": {},
     "output_type": "execute_result"
    }
   ],
   "source": [
    "arr = np.zeros(10)\n",
    "arr[4] = 1\n",
    "arr"
   ]
  },
  {
   "cell_type": "markdown",
   "id": "fbebedab",
   "metadata": {},
   "source": [
    "#### 7. Create a vector with values ranging from 10 to 49 (★☆☆)"
   ]
  },
  {
   "cell_type": "code",
   "execution_count": 7,
   "id": "3d117d54",
   "metadata": {},
   "outputs": [
    {
     "data": {
      "text/plain": [
       "array([10, 11, 12, 13, 14, 15, 16, 17, 18, 19, 20, 21, 22, 23, 24, 25, 26,\n",
       "       27, 28, 29, 30, 31, 32, 33, 34, 35, 36, 37, 38, 39, 40, 41, 42, 43,\n",
       "       44, 45, 46, 47, 48, 49])"
      ]
     },
     "execution_count": 7,
     "metadata": {},
     "output_type": "execute_result"
    }
   ],
   "source": [
    "arr = np.linspace(10,49,40, dtype = int)\n",
    "arr"
   ]
  },
  {
   "cell_type": "markdown",
   "id": "ad0bff02",
   "metadata": {},
   "source": [
    "#### 8. Reverse a vector (first element becomes last) (★☆☆)"
   ]
  },
  {
   "cell_type": "code",
   "execution_count": 8,
   "id": "22d23470",
   "metadata": {},
   "outputs": [
    {
     "data": {
      "text/plain": [
       "array([[7, 6],\n",
       "       [5, 4],\n",
       "       [3, 2],\n",
       "       [1, 0]])"
      ]
     },
     "execution_count": 8,
     "metadata": {},
     "output_type": "execute_result"
    }
   ],
   "source": [
    "arr = np.arange(8).reshape(4,2)\n",
    "arr[::-1,::-1]"
   ]
  },
  {
   "cell_type": "markdown",
   "id": "9f59d7e1",
   "metadata": {},
   "source": [
    "#### 9. Create a 3x3 matrix with values ranging from 0 to 8 (★☆☆)"
   ]
  },
  {
   "cell_type": "code",
   "execution_count": 9,
   "id": "7449e82d",
   "metadata": {},
   "outputs": [
    {
     "data": {
      "text/plain": [
       "array([[0, 1, 2],\n",
       "       [3, 4, 5],\n",
       "       [6, 7, 8]])"
      ]
     },
     "execution_count": 9,
     "metadata": {},
     "output_type": "execute_result"
    }
   ],
   "source": [
    "arr = np.arange(9).reshape(3,3)\n",
    "arr"
   ]
  },
  {
   "cell_type": "markdown",
   "id": "f374c4cf",
   "metadata": {},
   "source": [
    "#### 10. Find indices of non-zero elements from [1,2,0,0,4,0] (★☆☆)"
   ]
  },
  {
   "cell_type": "code",
   "execution_count": 10,
   "id": "1a84bed8",
   "metadata": {},
   "outputs": [
    {
     "name": "stdout",
     "output_type": "stream",
     "text": [
      "Help on function nonzero in module numpy:\n",
      "\n",
      "nonzero(a)\n",
      "    Return the indices of the elements that are non-zero.\n",
      "    \n",
      "    Returns a tuple of arrays, one for each dimension of `a`,\n",
      "    containing the indices of the non-zero elements in that\n",
      "    dimension. The values in `a` are always tested and returned in\n",
      "    row-major, C-style order.\n",
      "    \n",
      "    To group the indices by element, rather than dimension, use `argwhere`,\n",
      "    which returns a row for each non-zero element.\n",
      "    \n",
      "    .. note::\n",
      "    \n",
      "       When called on a zero-d array or scalar, ``nonzero(a)`` is treated\n",
      "       as ``nonzero(atleast_1d(a))``.\n",
      "    \n",
      "       .. deprecated:: 1.17.0\n",
      "    \n",
      "          Use `atleast_1d` explicitly if this behavior is deliberate.\n",
      "    \n",
      "    Parameters\n",
      "    ----------\n",
      "    a : array_like\n",
      "        Input array.\n",
      "    \n",
      "    Returns\n",
      "    -------\n",
      "    tuple_of_arrays : tuple\n",
      "        Indices of elements that are non-zero.\n",
      "    \n",
      "    See Also\n",
      "    --------\n",
      "    flatnonzero :\n",
      "        Return indices that are non-zero in the flattened version of the input\n",
      "        array.\n",
      "    ndarray.nonzero :\n",
      "        Equivalent ndarray method.\n",
      "    count_nonzero :\n",
      "        Counts the number of non-zero elements in the input array.\n",
      "    \n",
      "    Notes\n",
      "    -----\n",
      "    While the nonzero values can be obtained with ``a[nonzero(a)]``, it is\n",
      "    recommended to use ``x[x.astype(bool)]`` or ``x[x != 0]`` instead, which\n",
      "    will correctly handle 0-d arrays.\n",
      "    \n",
      "    Examples\n",
      "    --------\n",
      "    >>> x = np.array([[3, 0, 0], [0, 4, 0], [5, 6, 0]])\n",
      "    >>> x\n",
      "    array([[3, 0, 0],\n",
      "           [0, 4, 0],\n",
      "           [5, 6, 0]])\n",
      "    >>> np.nonzero(x)\n",
      "    (array([0, 1, 2, 2]), array([0, 1, 0, 1]))\n",
      "    \n",
      "    >>> x[np.nonzero(x)]\n",
      "    array([3, 4, 5, 6])\n",
      "    >>> np.transpose(np.nonzero(x))\n",
      "    array([[0, 0],\n",
      "           [1, 1],\n",
      "           [2, 0],\n",
      "           [2, 1]])\n",
      "    \n",
      "    A common use for ``nonzero`` is to find the indices of an array, where\n",
      "    a condition is True.  Given an array `a`, the condition `a` > 3 is a\n",
      "    boolean array and since False is interpreted as 0, np.nonzero(a > 3)\n",
      "    yields the indices of the `a` where the condition is true.\n",
      "    \n",
      "    >>> a = np.array([[1, 2, 3], [4, 5, 6], [7, 8, 9]])\n",
      "    >>> a > 3\n",
      "    array([[False, False, False],\n",
      "           [ True,  True,  True],\n",
      "           [ True,  True,  True]])\n",
      "    >>> np.nonzero(a > 3)\n",
      "    (array([1, 1, 1, 2, 2, 2]), array([0, 1, 2, 0, 1, 2]))\n",
      "    \n",
      "    Using this result to index `a` is equivalent to using the mask directly:\n",
      "    \n",
      "    >>> a[np.nonzero(a > 3)]\n",
      "    array([4, 5, 6, 7, 8, 9])\n",
      "    >>> a[a > 3]  # prefer this spelling\n",
      "    array([4, 5, 6, 7, 8, 9])\n",
      "    \n",
      "    ``nonzero`` can also be called as a method of the array.\n",
      "    \n",
      "    >>> (a > 3).nonzero()\n",
      "    (array([1, 1, 1, 2, 2, 2]), array([0, 1, 2, 0, 1, 2]))\n",
      "\n"
     ]
    }
   ],
   "source": [
    "help(np.nonzero)"
   ]
  },
  {
   "cell_type": "code",
   "execution_count": 11,
   "id": "5620982a-d927-4f15-8293-b670bedf524a",
   "metadata": {},
   "outputs": [
    {
     "data": {
      "text/plain": [
       "array([0, 1, 4])"
      ]
     },
     "execution_count": 11,
     "metadata": {},
     "output_type": "execute_result"
    }
   ],
   "source": [
    "arr = np.array([1,2,0,0,4,0])\n",
    "\n",
    "tup = np.nonzero(arr)\n",
    "\n",
    "tup[0]"
   ]
  },
  {
   "cell_type": "markdown",
   "id": "9c4707f5",
   "metadata": {},
   "source": [
    "#### 11. Create a 3x3 identity matrix (★☆☆)"
   ]
  },
  {
   "cell_type": "code",
   "execution_count": 12,
   "id": "29dc1fd3",
   "metadata": {},
   "outputs": [
    {
     "data": {
      "text/plain": [
       "array([[1., 0., 0.],\n",
       "       [0., 1., 0.],\n",
       "       [0., 0., 1.]])"
      ]
     },
     "execution_count": 12,
     "metadata": {},
     "output_type": "execute_result"
    }
   ],
   "source": [
    "np.identity(3)"
   ]
  },
  {
   "cell_type": "markdown",
   "id": "3bac294a",
   "metadata": {},
   "source": [
    "#### 12. Create a 3x3x3 array with random values (★☆☆)"
   ]
  },
  {
   "cell_type": "code",
   "execution_count": 13,
   "id": "eadfae67",
   "metadata": {},
   "outputs": [
    {
     "data": {
      "text/plain": [
       "array([[[89.9125568 , 63.65641976, 76.27967451],\n",
       "        [29.23888969, 67.7165172 , 72.16765037],\n",
       "        [85.86886907, 17.44642913, 32.57484472]],\n",
       "\n",
       "       [[83.56400436, 59.60460002,  7.23775799],\n",
       "        [24.33579853, 22.11489029,  6.02111951],\n",
       "        [76.85528877, 67.25454871, 45.53156565]],\n",
       "\n",
       "       [[97.1591341 , 15.75298206, 25.8081216 ],\n",
       "        [80.57026394, 88.9031032 , 72.24423924],\n",
       "        [38.41855404, 71.11522782, 21.6161867 ]]])"
      ]
     },
     "execution_count": 13,
     "metadata": {},
     "output_type": "execute_result"
    }
   ],
   "source": [
    "np.random.random(27).reshape(3,3,3)*100"
   ]
  },
  {
   "cell_type": "markdown",
   "id": "466c2989",
   "metadata": {},
   "source": [
    "#### 13. Create a 10x10 array with random values and find the minimum and maximum values (★☆☆)"
   ]
  },
  {
   "cell_type": "code",
   "execution_count": 14,
   "id": "9a74dbfc",
   "metadata": {},
   "outputs": [
    {
     "name": "stdout",
     "output_type": "stream",
     "text": [
      "[[0.45251693 0.89990396 0.95345134 0.71490973 0.6285108  0.61769306\n",
      "  0.91921687 0.58366725 0.69147895 0.62187229]\n",
      " [0.21491248 0.83609767 0.45783304 0.79613203 0.80490426 0.2026553\n",
      "  0.33963502 0.99772071 0.47678265 0.81994519]\n",
      " [0.74071157 0.32360626 0.25200641 0.62204885 0.61084117 0.64052072\n",
      "  0.71469749 0.52179132 0.76887436 0.650845  ]\n",
      " [0.43598634 0.42566695 0.24868625 0.36295281 0.96766813 0.29572153\n",
      "  0.33630291 0.23725969 0.49460396 0.7985221 ]\n",
      " [0.65938919 0.85299808 0.82905587 0.82729653 0.94314637 0.58119748\n",
      "  0.05438838 0.91027708 0.66356092 0.61766324]\n",
      " [0.09676514 0.82798229 0.95945279 0.99298089 0.39868068 0.73525937\n",
      "  0.55143033 0.29195871 0.59682675 0.42031787]\n",
      " [0.72640698 0.22248166 0.26903463 0.00818525 0.70775946 0.02061599\n",
      "  0.62788389 0.79224039 0.39555007 0.71182944]\n",
      " [0.58121017 0.46081493 0.3637484  0.37676566 0.83826432 0.5402982\n",
      "  0.38576671 0.3466736  0.49937166 0.95457009]\n",
      " [0.89035596 0.24469827 0.10344007 0.33037965 0.08507017 0.93838174\n",
      "  0.40706424 0.19917614 0.34640239 0.8805277 ]\n",
      " [0.18699777 0.88135186 0.15392743 0.8482364  0.96315222 0.10103697\n",
      "  0.11973882 0.79200822 0.038379   0.33244875]]\n",
      "minimum value:  0.9977207107404186\n",
      "maximum value:  0.008185252318514302\n"
     ]
    }
   ],
   "source": [
    "arr = np.random.random(100).reshape(10,10)\n",
    "\n",
    "\n",
    "max_val = np.max(arr)\n",
    "min_val = np.min(arr)\n",
    "\n",
    "print(arr)\n",
    "print('minimum value: ',max_val)\n",
    "print('maximum value: ',min_val)"
   ]
  },
  {
   "cell_type": "markdown",
   "id": "53a8edb2",
   "metadata": {},
   "source": [
    "#### 14. Create a random vector of size 30 and find the mean value (★☆☆)"
   ]
  },
  {
   "cell_type": "code",
   "execution_count": 15,
   "id": "6691530b",
   "metadata": {},
   "outputs": [
    {
     "name": "stdout",
     "output_type": "stream",
     "text": [
      "[[0.77209327 0.43505421 0.99785989 0.41948233 0.26040208 0.26181913\n",
      "  0.78708225 0.71879278 0.43517795 0.13945191 0.87006384 0.89960603\n",
      "  0.45017359 0.80132055 0.6685578 ]\n",
      " [0.89015768 0.84142047 0.36690095 0.73106364 0.56187302 0.1271705\n",
      "  0.4987031  0.53797964 0.30051386 0.26999623 0.44990019 0.1610051\n",
      "  0.38634951 0.76408156 0.05409469]]\n",
      "mean value:  0.5286049233680481\n"
     ]
    }
   ],
   "source": [
    "arr = np.random.random(30).reshape(2,15)\n",
    "\n",
    "mean_val = np.mean(arr)\n",
    "\n",
    "print(arr)\n",
    "\n",
    "print('mean value: ',mean_val)"
   ]
  },
  {
   "cell_type": "markdown",
   "id": "cbaad31c",
   "metadata": {},
   "source": [
    "#### 15. Create a 2d array with 1 on the border and 0 inside (★☆☆)"
   ]
  },
  {
   "cell_type": "code",
   "execution_count": 16,
   "id": "ad8308e3",
   "metadata": {},
   "outputs": [
    {
     "data": {
      "text/plain": [
       "array([[1., 1., 1., 1.],\n",
       "       [1., 0., 0., 1.],\n",
       "       [1., 0., 0., 1.],\n",
       "       [1., 1., 1., 1.]])"
      ]
     },
     "execution_count": 16,
     "metadata": {},
     "output_type": "execute_result"
    }
   ],
   "source": [
    "arr = np.ones(16).reshape(4,4)\n",
    "\n",
    "arr[1:3,1:3] = 0\n",
    "\n",
    "\n",
    "arr"
   ]
  },
  {
   "cell_type": "markdown",
   "id": "c5ecc267",
   "metadata": {},
   "source": [
    "#### 16. How to add a border (filled with 0's) around an existing array? (★☆☆)"
   ]
  },
  {
   "cell_type": "code",
   "execution_count": 17,
   "id": "9d5c78c4",
   "metadata": {},
   "outputs": [
    {
     "name": "stdout",
     "output_type": "stream",
     "text": [
      "existing array:\n",
      "  [[ 0  1  2  3]\n",
      " [ 4  5  6  7]\n",
      " [ 8  9 10 11]\n",
      " [12 13 14 15]]\n",
      "zero array:\n",
      "  [[0. 0. 0. 0. 0. 0.]\n",
      " [0. 0. 0. 0. 0. 0.]\n",
      " [0. 0. 0. 0. 0. 0.]\n",
      " [0. 0. 0. 0. 0. 0.]\n",
      " [0. 0. 0. 0. 0. 0.]\n",
      " [0. 0. 0. 0. 0. 0.]]\n",
      "array with border 0: \n",
      " [[ 0.  0.  0.  0.  0.  0.]\n",
      " [ 0.  0.  1.  2.  3.  0.]\n",
      " [ 0.  4.  5.  6.  7.  0.]\n",
      " [ 0.  8.  9. 10. 11.  0.]\n",
      " [ 0. 12. 13. 14. 15.  0.]\n",
      " [ 0.  0.  0.  0.  0.  0.]]\n"
     ]
    }
   ],
   "source": [
    "existing_arr = np.arange(16).reshape(4,4)\n",
    "zero_arr = np.zeros(36).reshape(6,6)\n",
    "\n",
    "print('existing array:\\n ',existing_arr)\n",
    "print('zero array:\\n ',zero_arr)\n",
    "\n",
    "zero_arr[1:5,1:5] = existing_arr\n",
    "\n",
    "print('array with border 0: \\n',zero_arr)"
   ]
  },
  {
   "cell_type": "markdown",
   "id": "ef909b72",
   "metadata": {},
   "source": [
    "#### 17. What is the result of the following expression? (★☆☆)\n",
    "```python\n",
    "0 * np.nan\n",
    "np.nan == np.nan\n",
    "np.inf > np.nan\n",
    "np.nan - np.nan\n",
    "np.nan in set([np.nan])\n",
    "0.3 == 3 * 0.1\n",
    "```"
   ]
  },
  {
   "cell_type": "markdown",
   "id": "dded1289-9e87-44f6-aab2-f461a17e52de",
   "metadata": {},
   "source": [
    "**0 * np.nan**  will result in nan (not a number) because any arithmetic operation involving nan will result in nan.\n",
    "\n",
    "**np.nan == np.nan** will result in False. This is because nan is not equal to any value, including itself. To check for nan, you can use the np.isnan() function.\n",
    "\n",
    "**np.inf > np.nan** will result in False. This is because np.inf represents positive infinity, while np.nan represents an undefined or indeterminate value. Any comparison involving np.nan will result in False.\n",
    "\n",
    "**np.nan - np.nan** will result in nan. This is because any arithmetic operation involving nan will result in nan.\n",
    "\n",
    "**np.nan in set([np.nan])** will result in True. Although nan is not equal to any value, including itself, it is still a member of the set containing np.nan.\n",
    "\n",
    "**0.3 == 3 * 0.1** will result in False. This is because of a quirk in the way that floating point arithmetic is performed on computers. Due to the limitations of binary representation, the decimal number 0.1 cannot be represented exactly as a finite binary fraction. Therefore, when you perform the multiplication 3 * 0.1, the result is not exactly 0.3, but is instead a slightly different value."
   ]
  },
  {
   "cell_type": "markdown",
   "id": "502738ac",
   "metadata": {},
   "source": [
    "#### 18. Create a 5x5 matrix with values 1,2,3,4 just below the diagonal (★☆☆)"
   ]
  },
  {
   "cell_type": "code",
   "execution_count": 18,
   "id": "faed6e2b",
   "metadata": {},
   "outputs": [
    {
     "data": {
      "text/plain": [
       "array([[1, 0, 0, 0],\n",
       "       [0, 2, 0, 0],\n",
       "       [0, 0, 3, 0],\n",
       "       [0, 0, 0, 4]])"
      ]
     },
     "execution_count": 18,
     "metadata": {},
     "output_type": "execute_result"
    }
   ],
   "source": [
    "diagonal_matrix = np.diag([1,2,3,4])\n",
    "diagonal_matrix"
   ]
  },
  {
   "cell_type": "code",
   "execution_count": 19,
   "id": "a9495e28-3056-4e7c-b3de-c2aefb763089",
   "metadata": {},
   "outputs": [
    {
     "data": {
      "text/plain": [
       "array([[0, 0, 0, 0, 0],\n",
       "       [1, 0, 0, 0, 0],\n",
       "       [0, 2, 0, 0, 0],\n",
       "       [0, 0, 3, 0, 0],\n",
       "       [0, 0, 0, 4, 0]])"
      ]
     },
     "execution_count": 19,
     "metadata": {},
     "output_type": "execute_result"
    }
   ],
   "source": [
    "diagonal_matrix = np.diag([1,2,3,4],k=-1)\n",
    "diagonal_matrix"
   ]
  },
  {
   "cell_type": "markdown",
   "id": "a65da660",
   "metadata": {},
   "source": [
    "#### 19. Create a 8x8 matrix and fill it with a checkerboard pattern (★☆☆)"
   ]
  },
  {
   "cell_type": "code",
   "execution_count": null,
   "id": "7dffdc77-c05a-4c0b-9248-2e14d7119406",
   "metadata": {},
   "outputs": [],
   "source": []
  },
  {
   "cell_type": "code",
   "execution_count": 20,
   "id": "ed150400",
   "metadata": {},
   "outputs": [
    {
     "data": {
      "text/plain": [
       "array([[0, 1, 0, 1, 0, 1, 0, 1],\n",
       "       [1, 0, 1, 0, 1, 0, 1, 0],\n",
       "       [0, 1, 0, 1, 0, 1, 0, 1],\n",
       "       [1, 0, 1, 0, 1, 0, 1, 0],\n",
       "       [0, 1, 0, 1, 0, 1, 0, 1],\n",
       "       [1, 0, 1, 0, 1, 0, 1, 0],\n",
       "       [0, 1, 0, 1, 0, 1, 0, 1],\n",
       "       [1, 0, 1, 0, 1, 0, 1, 0]])"
      ]
     },
     "execution_count": 20,
     "metadata": {},
     "output_type": "execute_result"
    }
   ],
   "source": [
    "arr = np.zeros(64, dtype=int)\n",
    "\n",
    "arr = arr.reshape(8,8)\n",
    "arr[1::2,::2] = 1\n",
    "arr[::2,1::2]=1\n",
    "\n",
    "\n",
    "arr"
   ]
  },
  {
   "cell_type": "markdown",
   "id": "9f7f9c49",
   "metadata": {},
   "source": [
    "#### 20. Consider a (6,7,8) shape array, what is the index (x,y,z) of the 100th element? (★☆☆)"
   ]
  },
  {
   "cell_type": "code",
   "execution_count": 21,
   "id": "3782b5a9",
   "metadata": {},
   "outputs": [
    {
     "name": "stdout",
     "output_type": "stream",
     "text": [
      "(1, 5, 3)\n"
     ]
    }
   ],
   "source": [
    "import numpy as np\n",
    "\n",
    "arr = np.zeros((6, 7, 8))\n",
    "\n",
    "idx = np.unravel_index(99, arr.shape)\n",
    "\n",
    "print(idx)"
   ]
  },
  {
   "cell_type": "markdown",
   "id": "66bfda35",
   "metadata": {},
   "source": [
    "#### 21. Create a checkerboard 8x8 matrix using the tile function (★☆☆)"
   ]
  },
  {
   "cell_type": "code",
   "execution_count": 22,
   "id": "4c07477c",
   "metadata": {},
   "outputs": [
    {
     "data": {
      "text/plain": [
       "array([[0, 1, 0, 1, 0, 1, 0, 1],\n",
       "       [1, 0, 1, 0, 1, 0, 1, 0],\n",
       "       [0, 1, 0, 1, 0, 1, 0, 1],\n",
       "       [1, 0, 1, 0, 1, 0, 1, 0],\n",
       "       [0, 1, 0, 1, 0, 1, 0, 1],\n",
       "       [1, 0, 1, 0, 1, 0, 1, 0],\n",
       "       [0, 1, 0, 1, 0, 1, 0, 1],\n",
       "       [1, 0, 1, 0, 1, 0, 1, 0]])"
      ]
     },
     "execution_count": 22,
     "metadata": {},
     "output_type": "execute_result"
    }
   ],
   "source": [
    "input_arr = [[0,1],[1,0]]\n",
    "\n",
    "checkboard = np.tile(input_arr,(4,4))\n",
    "\n",
    "checkboard"
   ]
  },
  {
   "cell_type": "markdown",
   "id": "d5bcfc08",
   "metadata": {},
   "source": [
    "#### 22. Normalize a 5x5 random matrix (★☆☆)"
   ]
  },
  {
   "cell_type": "code",
   "execution_count": 23,
   "id": "cea6c993",
   "metadata": {},
   "outputs": [
    {
     "data": {
      "text/plain": [
       "array([[-1.66410059, -1.52542554, -1.38675049, -1.24807544, -1.10940039],\n",
       "       [-0.97072534, -0.83205029, -0.69337525, -0.5547002 , -0.41602515],\n",
       "       [-0.2773501 , -0.13867505,  0.        ,  0.13867505,  0.2773501 ],\n",
       "       [ 0.41602515,  0.5547002 ,  0.69337525,  0.83205029,  0.97072534],\n",
       "       [ 1.10940039,  1.24807544,  1.38675049,  1.52542554,  1.66410059]])"
      ]
     },
     "execution_count": 23,
     "metadata": {},
     "output_type": "execute_result"
    }
   ],
   "source": [
    "arr = np.arange(25).reshape(5,5)\n",
    "\n",
    "# normalize the matrix formula\n",
    "arr_norm = (arr - np.mean(arr)) / np.std(arr)\n",
    "\n",
    "arr_norm\n"
   ]
  },
  {
   "cell_type": "markdown",
   "id": "c4c6087f-bbf9-4792-9d5e-d4d461f57446",
   "metadata": {},
   "source": [
    "Normalization is a common technique used in data preprocessing and machine learning to scale numerical data to a common range. The main reasons why we normalize data are:\n",
    "\n",
    "To prevent features with large scales from dominating the learning process: When working with datasets that contain features with vastly different scales, the features with larger scales can dominate the learning process and mask the effects of the smaller-scale features. Normalizing data allows all features to contribute equally to the learning process, preventing this issue.\n",
    "\n",
    "To improve the performance of some algorithms: Some machine learning algorithms, such as K-nearest neighbors (KNN) and support vector machines (SVM), are sensitive to the scale of the input features. Normalizing the data can improve the performance of these algorithms.\n",
    "\n",
    "To accelerate the training process: Normalizing data can sometimes help accelerate the convergence of the training process of machine learning algorithms.\n",
    "\n",
    "Overall, normalization is an important technique to use when working with datasets that contain features with different scales. It can help improve the performance and stability of machine learning models, and it can make the learning process more efficient."
   ]
  },
  {
   "cell_type": "markdown",
   "id": "f9a0911e",
   "metadata": {},
   "source": [
    "#### 23. Create a custom dtype that describes a color as four unsigned bytes (RGBA) (★☆☆)"
   ]
  },
  {
   "cell_type": "code",
   "execution_count": 24,
   "id": "d165044b",
   "metadata": {},
   "outputs": [
    {
     "name": "stdout",
     "output_type": "stream",
     "text": [
      "[(255,   0,   0, 255) (  0, 255,   0, 255) (  0,   0, 255, 255)]\n"
     ]
    }
   ],
   "source": [
    "import numpy as np\n",
    "\n",
    "#  a custom data type for RGBA colors using four unsigned bytes\n",
    "color_dtype = np.dtype([('R', np.uint8), ('G', np.uint8), ('B', np.uint8), ('A', np.uint8)])\n",
    "\n",
    "#  array of colors with the custom data type\n",
    "colors = np.array([(255, 0, 0, 255), (0, 255, 0, 255), (0, 0, 255, 255)], dtype=color_dtype)\n",
    "\n",
    "print(colors)\n",
    "\n"
   ]
  },
  {
   "cell_type": "markdown",
   "id": "b9bb9006-8b72-4805-83d4-659c69addb62",
   "metadata": {},
   "source": [
    "The purpose of creating a custom data type that represents a color as four unsigned bytes (RGBA) is to be able to efficiently store and manipulate color information in a way that is compatible with NumPy arrays and operations.\n",
    "\n",
    "By defining a custom data type that explicitly specifies the format and size of each channel (i.e., the red, green, blue, and alpha channels of the color), we can create arrays of colors and perform element-wise operations on them using NumPy functions.\n",
    "\n",
    "This can be useful in a wide range of applications that involve working with color data, such as image processing, computer graphics, data visualization, and machine learning. By defining a custom data type for color data, we can ensure that our code is efficient, accurate, and compatible with existing tools and libraries for working with NumPy arrays."
   ]
  },
  {
   "cell_type": "markdown",
   "id": "654805b1",
   "metadata": {},
   "source": [
    "#### 24. Multiply a 5x3 matrix by a 3x2 matrix (real matrix product) (★☆☆)"
   ]
  },
  {
   "cell_type": "code",
   "execution_count": 25,
   "id": "6a42619f",
   "metadata": {},
   "outputs": [
    {
     "name": "stdout",
     "output_type": "stream",
     "text": [
      "array 1: \n",
      " [[ 0  1  2]\n",
      " [ 3  4  5]\n",
      " [ 6  7  8]\n",
      " [ 9 10 11]\n",
      " [12 13 14]]\n",
      "array 2: \n",
      " [[0 1]\n",
      " [2 3]\n",
      " [4 5]]\n"
     ]
    },
    {
     "data": {
      "text/plain": [
       "array([[ 10,  13],\n",
       "       [ 28,  40],\n",
       "       [ 46,  67],\n",
       "       [ 64,  94],\n",
       "       [ 82, 121]])"
      ]
     },
     "execution_count": 25,
     "metadata": {},
     "output_type": "execute_result"
    }
   ],
   "source": [
    "arr1 = np.arange(15).reshape(5,3)\n",
    "arr2 = np.arange(6).reshape(3,2)\n",
    "print('array 1: \\n',arr1)\n",
    "print('array 2: \\n',arr2)\n",
    "\n",
    "mat_prod = np.dot(arr1,arr2)\n",
    "mat_prod"
   ]
  },
  {
   "cell_type": "markdown",
   "id": "994c25df",
   "metadata": {},
   "source": [
    "#### 25. Given a 1D array, negate all elements which are between 3 and 8, in place. (★☆☆)"
   ]
  },
  {
   "cell_type": "code",
   "execution_count": 26,
   "id": "e4b39c03",
   "metadata": {},
   "outputs": [
    {
     "name": "stdout",
     "output_type": "stream",
     "text": [
      "[False False False  True  True  True  True False False]\n",
      "[ 1  2  3 -4 -5 -6 -7  8  9]\n"
     ]
    }
   ],
   "source": [
    "arr = np.array([1, 2, 3, 4, 5, 6, 7, 8, 9])\n",
    "\n",
    "\n",
    "mask = (arr > 3) & (arr < 8)\n",
    "print(mask)\n",
    "\n",
    "arr[mask] *= -1\n",
    "\n",
    "\n",
    "print(arr)"
   ]
  },
  {
   "cell_type": "markdown",
   "id": "b7d15d1a",
   "metadata": {},
   "source": [
    "#### 26. What is the output of the following script? (★☆☆)\n",
    "```python\n",
    "# Author: Jake VanderPlas\n",
    "\n",
    "print(sum(range(5),-1))\n",
    "from numpy import *\n",
    "print(sum(range(5),-1))\n",
    "```"
   ]
  },
  {
   "cell_type": "code",
   "execution_count": 27,
   "id": "4c95bc3f",
   "metadata": {},
   "outputs": [
    {
     "data": {
      "text/plain": [
       "10"
      ]
     },
     "execution_count": 27,
     "metadata": {},
     "output_type": "execute_result"
    }
   ],
   "source": [
    "9\n",
    "10"
   ]
  },
  {
   "cell_type": "markdown",
   "id": "0b21d9d0-c677-41f9-9c20-de946204b887",
   "metadata": {},
   "source": [
    "The first line of the script uses Python's built-in sum() function to sum the numbers in the range 0 to 4 (inclusive) and adds -1 to the result. The sum of the numbers in the range 0 to 4 is 10, so the output of the first line will be 9 (i.e., 10 - 1).\n",
    "\n",
    "The second line of the script uses NumPy's sum() function to sum the numbers in the range 0 to 4 (inclusive) along the last axis (-1). Since the input is a 1D array, which has only one axis, axis=-1 is equivalent to axis=0. Therefore, the function will sum the elements along the first axis, resulting in the sum of the numbers in the range 0 to 4, which is 10. The output of the second line will be 10."
   ]
  },
  {
   "cell_type": "markdown",
   "id": "a34f0d08",
   "metadata": {},
   "source": [
    "#### 27. Consider an integer vector Z, which of these expressions are legal? (★☆☆)\n",
    "```python\n",
    "Z**Z\n",
    "2 << Z >> 2\n",
    "Z <- Z\n",
    "1j*Z\n",
    "Z/1/1\n",
    "Z<Z>Z\n",
    "```"
   ]
  },
  {
   "cell_type": "markdown",
   "id": "012f20cd-3cc2-496d-8ce8-fa8d472383dd",
   "metadata": {},
   "source": [
    "- Z**Z: This expression is legal and raises each element of Z to the power of itself.\n",
    "- 2 << Z >> 2: This expression is legal and performs a bitwise left shift of 2 by each element of Z, followed by a bitwise right shift of the result by 2.\n",
    "- Z <- Z: This expression is legal and compares each element of Z with its negation, returning a boolean array with the same shape as Z.\n",
    "- 1j*Z: This expression is legal and multiplies each element of Z by 1j, the imaginary unit sqrt(-1).\n",
    "- Z/1/1: This expression is legal and divides each element of Z by 1, resulting in the same array as Z.\n",
    "- Z<Z>Z: This expression is not legal because it does not have a well-defined meaning in Python. It is not clear what it would mean to compare Z to itself twice using chained inequalities."
   ]
  },
  {
   "cell_type": "code",
   "execution_count": 28,
   "id": "564658fc",
   "metadata": {},
   "outputs": [
    {
     "data": {
      "text/plain": [
       "array([4, 8])"
      ]
     },
     "execution_count": 28,
     "metadata": {},
     "output_type": "execute_result"
    }
   ],
   "source": [
    "2**np.array([2,3])"
   ]
  },
  {
   "cell_type": "code",
   "execution_count": 29,
   "id": "e0763313-581a-4666-9b27-93d51534c820",
   "metadata": {},
   "outputs": [
    {
     "data": {
      "text/plain": [
       "array([2, 4])"
      ]
     },
     "execution_count": 29,
     "metadata": {},
     "output_type": "execute_result"
    }
   ],
   "source": [
    "z= np.array([2,3])\n",
    "2 << z >> 2"
   ]
  },
  {
   "cell_type": "code",
   "execution_count": 30,
   "id": "18b9b62c-040f-4f59-b74b-d8d4ff6eb43d",
   "metadata": {},
   "outputs": [
    {
     "data": {
      "text/plain": [
       "array([False, False])"
      ]
     },
     "execution_count": 30,
     "metadata": {},
     "output_type": "execute_result"
    }
   ],
   "source": [
    "2 <- np.array([2,3])"
   ]
  },
  {
   "cell_type": "code",
   "execution_count": 31,
   "id": "4cb75221-9663-4b21-87a5-76c8d47794eb",
   "metadata": {},
   "outputs": [
    {
     "data": {
      "text/plain": [
       "array([0.+2.j, 0.+3.j])"
      ]
     },
     "execution_count": 31,
     "metadata": {},
     "output_type": "execute_result"
    }
   ],
   "source": [
    "1j*np.array([2,3])"
   ]
  },
  {
   "cell_type": "code",
   "execution_count": 32,
   "id": "f818805d-d2bc-495d-b094-aed6137f05ba",
   "metadata": {},
   "outputs": [
    {
     "data": {
      "text/plain": [
       "array([2., 3.])"
      ]
     },
     "execution_count": 32,
     "metadata": {},
     "output_type": "execute_result"
    }
   ],
   "source": [
    "np.array([2,3])/1/1"
   ]
  },
  {
   "cell_type": "code",
   "execution_count": 33,
   "id": "38849bee-fd2c-47f4-99e0-ef085d84f3bb",
   "metadata": {},
   "outputs": [
    {
     "ename": "ValueError",
     "evalue": "The truth value of an array with more than one element is ambiguous. Use a.any() or a.all()",
     "output_type": "error",
     "traceback": [
      "\u001b[0;31m---------------------------------------------------------------------------\u001b[0m",
      "\u001b[0;31mValueError\u001b[0m                                Traceback (most recent call last)",
      "Cell \u001b[0;32mIn[33], line 1\u001b[0m\n\u001b[0;32m----> 1\u001b[0m \u001b[38;5;241m2\u001b[39m\u001b[38;5;241m<\u001b[39mnp\u001b[38;5;241m.\u001b[39marray([\u001b[38;5;241m2\u001b[39m,\u001b[38;5;241m3\u001b[39m])\u001b[38;5;241m>\u001b[39m\u001b[38;5;241m2\u001b[39m\n",
      "\u001b[0;31mValueError\u001b[0m: The truth value of an array with more than one element is ambiguous. Use a.any() or a.all()"
     ]
    }
   ],
   "source": [
    "2<np.array([2,3])>2"
   ]
  },
  {
   "cell_type": "markdown",
   "id": "c34e94bf",
   "metadata": {},
   "source": [
    "#### 28. What are the result of the following expressions? (★☆☆)\n",
    "```python\n",
    "np.array(0) / np.array(0)\n",
    "np.array(0) // np.array(0)\n",
    "np.array([np.nan]).astype(int).astype(float)\n",
    "```"
   ]
  },
  {
   "cell_type": "code",
   "execution_count": 40,
   "id": "56663562",
   "metadata": {},
   "outputs": [
    {
     "data": {
      "text/plain": [
       "nan"
      ]
     },
     "execution_count": 40,
     "metadata": {},
     "output_type": "execute_result"
    }
   ],
   "source": [
    "np.array(0) / np.array(0)"
   ]
  },
  {
   "cell_type": "code",
   "execution_count": 41,
   "id": "2ebfcafa-b397-4712-91c9-938efb9a3bb6",
   "metadata": {},
   "outputs": [
    {
     "data": {
      "text/plain": [
       "0"
      ]
     },
     "execution_count": 41,
     "metadata": {},
     "output_type": "execute_result"
    }
   ],
   "source": [
    "np.array(0) // np.array(0)"
   ]
  },
  {
   "cell_type": "code",
   "execution_count": 42,
   "id": "592341b7-32aa-4c4a-b0af-c040656225d4",
   "metadata": {},
   "outputs": [
    {
     "data": {
      "text/plain": [
       "array([-9.22337204e+18])"
      ]
     },
     "execution_count": 42,
     "metadata": {},
     "output_type": "execute_result"
    }
   ],
   "source": [
    "np.array([np.nan]).astype(int).astype(float)"
   ]
  },
  {
   "cell_type": "markdown",
   "id": "546f5e7b",
   "metadata": {},
   "source": [
    "#### 29. How to round away from zero a float array ? (★☆☆)"
   ]
  },
  {
   "cell_type": "code",
   "execution_count": 43,
   "id": "f725a6d2",
   "metadata": {},
   "outputs": [
    {
     "data": {
      "text/plain": [
       "array([-2., -2.,  1.,  1.,  4.,  5.])"
      ]
     },
     "execution_count": 43,
     "metadata": {},
     "output_type": "execute_result"
    }
   ],
   "source": [
    "arr = np.array([-2.3, -1.5, 0.7, 1.2, 3.8, 5.1])\n",
    "\n",
    "rounded = np.round(arr)\n",
    "\n",
    "rounded"
   ]
  },
  {
   "cell_type": "markdown",
   "id": "eadca856",
   "metadata": {},
   "source": [
    "#### 30. How to find common values between two arrays? (★☆☆)"
   ]
  },
  {
   "cell_type": "code",
   "execution_count": 44,
   "id": "e0270b5b",
   "metadata": {},
   "outputs": [
    {
     "data": {
      "text/plain": [
       "array([3, 4, 5])"
      ]
     },
     "execution_count": 44,
     "metadata": {},
     "output_type": "execute_result"
    }
   ],
   "source": [
    "arr1 = np.array([1,2,3,4,5])\n",
    "arr2 = np.array([3,4,5,6,7,8])\n",
    "\n",
    "common = np.intersect1d(arr1,arr2)\n",
    "\n",
    "common"
   ]
  },
  {
   "cell_type": "markdown",
   "id": "ca16ca22",
   "metadata": {},
   "source": [
    "#### 31. How to ignore all numpy warnings (not recommended)? (★☆☆)"
   ]
  },
  {
   "cell_type": "code",
   "execution_count": 39,
   "id": "7d7208ef",
   "metadata": {},
   "outputs": [],
   "source": [
    "import warnings\n",
    "warnings.filterwarnings(\"ignore\")"
   ]
  },
  {
   "cell_type": "markdown",
   "id": "c7871d0d",
   "metadata": {},
   "source": [
    "#### 32. Is the following expressions true? (★☆☆)\n",
    "```python\n",
    "np.sqrt(-1) == np.emath.sqrt(-1)\n",
    "```"
   ]
  },
  {
   "cell_type": "code",
   "execution_count": 45,
   "id": "acc3701a",
   "metadata": {},
   "outputs": [
    {
     "data": {
      "text/plain": [
       "nan"
      ]
     },
     "execution_count": 45,
     "metadata": {},
     "output_type": "execute_result"
    }
   ],
   "source": [
    "np.sqrt(-1)"
   ]
  },
  {
   "cell_type": "code",
   "execution_count": 46,
   "id": "b889679e-0d02-40db-a061-4057bcc991cb",
   "metadata": {},
   "outputs": [
    {
     "data": {
      "text/plain": [
       "1j"
      ]
     },
     "execution_count": 46,
     "metadata": {},
     "output_type": "execute_result"
    }
   ],
   "source": [
    "np.emath.sqrt(-1)"
   ]
  },
  {
   "cell_type": "markdown",
   "id": "962d5bcc-c951-4f65-9f77-fb3a30c29439",
   "metadata": {},
   "source": [
    "So they are not equal.\n",
    "\n",
    "When np.sqrt(-1) is evaluated, it will return a runtime warning and return nan (not a number) as the result. This is because NumPy's sqrt() function does not support complex numbers, and the square root of a negative real number is a complex number.\n",
    "\n",
    "On the other hand, np.emath.sqrt(-1) returns the expected value of 1j, which represents the square root of -1 in the complex plane. The np.emath module provides functions that support complex numbers and is the recommended way to handle complex numbers in NumPy."
   ]
  },
  {
   "cell_type": "markdown",
   "id": "e0433e30",
   "metadata": {},
   "source": [
    "#### 33. How to get the dates of yesterday, today and tomorrow? (★☆☆)"
   ]
  },
  {
   "cell_type": "code",
   "execution_count": 49,
   "id": "9c4d2152",
   "metadata": {},
   "outputs": [
    {
     "name": "stdout",
     "output_type": "stream",
     "text": [
      "Yesterday was: 2023-05-08\n",
      "Today is: 2023-05-09\n",
      "Tomorrow will be: 2023-05-10\n"
     ]
    }
   ],
   "source": [
    "from datetime import datetime, timedelta\n",
    "\n",
    "today = datetime.now().date()\n",
    "\n",
    "yesterday = today - timedelta(days=1)\n",
    "\n",
    "tomorrow = today + timedelta(days=1)\n",
    "\n",
    "print(\"Yesterday was:\", yesterday)\n",
    "print(\"Today is:\", today)\n",
    "print(\"Tomorrow will be:\", tomorrow)"
   ]
  },
  {
   "cell_type": "markdown",
   "id": "9f52a2ef",
   "metadata": {},
   "source": [
    "#### 34. How to get all the dates corresponding to the month of July 2016? (★★☆)"
   ]
  },
  {
   "cell_type": "code",
   "execution_count": 61,
   "id": "d6c34dec",
   "metadata": {},
   "outputs": [
    {
     "data": {
      "text/plain": [
       "array([datetime.datetime(2016, 7, 1, 0, 0),\n",
       "       datetime.datetime(2016, 7, 2, 0, 0),\n",
       "       datetime.datetime(2016, 7, 3, 0, 0),\n",
       "       datetime.datetime(2016, 7, 4, 0, 0),\n",
       "       datetime.datetime(2016, 7, 5, 0, 0),\n",
       "       datetime.datetime(2016, 7, 6, 0, 0),\n",
       "       datetime.datetime(2016, 7, 7, 0, 0),\n",
       "       datetime.datetime(2016, 7, 8, 0, 0),\n",
       "       datetime.datetime(2016, 7, 9, 0, 0),\n",
       "       datetime.datetime(2016, 7, 10, 0, 0),\n",
       "       datetime.datetime(2016, 7, 11, 0, 0),\n",
       "       datetime.datetime(2016, 7, 12, 0, 0),\n",
       "       datetime.datetime(2016, 7, 13, 0, 0),\n",
       "       datetime.datetime(2016, 7, 14, 0, 0),\n",
       "       datetime.datetime(2016, 7, 15, 0, 0),\n",
       "       datetime.datetime(2016, 7, 16, 0, 0),\n",
       "       datetime.datetime(2016, 7, 17, 0, 0),\n",
       "       datetime.datetime(2016, 7, 18, 0, 0),\n",
       "       datetime.datetime(2016, 7, 19, 0, 0),\n",
       "       datetime.datetime(2016, 7, 20, 0, 0),\n",
       "       datetime.datetime(2016, 7, 21, 0, 0),\n",
       "       datetime.datetime(2016, 7, 22, 0, 0),\n",
       "       datetime.datetime(2016, 7, 23, 0, 0),\n",
       "       datetime.datetime(2016, 7, 24, 0, 0),\n",
       "       datetime.datetime(2016, 7, 25, 0, 0),\n",
       "       datetime.datetime(2016, 7, 26, 0, 0),\n",
       "       datetime.datetime(2016, 7, 27, 0, 0),\n",
       "       datetime.datetime(2016, 7, 28, 0, 0),\n",
       "       datetime.datetime(2016, 7, 29, 0, 0),\n",
       "       datetime.datetime(2016, 7, 30, 0, 0),\n",
       "       datetime.datetime(2016, 7, 31, 0, 0)], dtype=object)"
      ]
     },
     "execution_count": 61,
     "metadata": {},
     "output_type": "execute_result"
    }
   ],
   "source": [
    "from datetime import datetime,timedelta\n",
    "\n",
    "startDate = datetime(2016,7,1)\n",
    "endDate = datetime(2016,7,31)\n",
    "\n",
    "num_of_days = (endDate-startDate).days + 1\n",
    "\n",
    "days_arr = np.array([startDate + timedelta(days=i) for i in range(num_of_days)])\n",
    "\n",
    "days_arr"
   ]
  },
  {
   "cell_type": "markdown",
   "id": "4a64e059",
   "metadata": {},
   "source": [
    "#### 35. How to compute ((A+B)*(-A/2)) in place (without copy)? (★★☆)"
   ]
  },
  {
   "cell_type": "code",
   "execution_count": 73,
   "id": "49267f60",
   "metadata": {},
   "outputs": [
    {
     "name": "stdout",
     "output_type": "stream",
     "text": [
      "[0 1 1]\n",
      "[ 0 -1 -1]\n",
      "[ 0 -4 -5]\n"
     ]
    }
   ],
   "source": [
    "A = np.array([1, 2, 3], dtype= int)\n",
    "B = np.array([4, 5, 6], dtype = int)\n",
    "\n",
    "\n",
    "A //=2\n",
    "print(A)\n",
    "\n",
    "A*=-1\n",
    "print(A)\n",
    "\n",
    "A *= B + A\n",
    "\n",
    "print(A)"
   ]
  },
  {
   "cell_type": "markdown",
   "id": "8a98c2a8",
   "metadata": {},
   "source": [
    "#### 36. Extract the integer part of a random array of positive numbers using 4 different methods (★★☆)"
   ]
  },
  {
   "cell_type": "code",
   "execution_count": 83,
   "id": "368130b3",
   "metadata": {},
   "outputs": [],
   "source": [
    "# floor method\n",
    "\n",
    "arr = np.random.random(10) * 10\n",
    "\n",
    "int_part = np.floor(arr)"
   ]
  },
  {
   "cell_type": "code",
   "execution_count": 84,
   "id": "2034c39a-4ae0-4d41-9581-96d5a98a6b63",
   "metadata": {},
   "outputs": [
    {
     "data": {
      "text/plain": [
       "array([3, 1, 9, 8, 7, 7, 6, 1, 8, 6])"
      ]
     },
     "execution_count": 84,
     "metadata": {},
     "output_type": "execute_result"
    }
   ],
   "source": [
    "# astype method\n",
    "\n",
    "int_part = arr.astype(int)\n",
    "\n",
    "int_part"
   ]
  },
  {
   "cell_type": "code",
   "execution_count": 86,
   "id": "3b6ffb52-d414-4376-9657-1a02ff51907f",
   "metadata": {},
   "outputs": [
    {
     "data": {
      "text/plain": [
       "array([3., 1., 9., 8., 7., 7., 6., 1., 8., 6.])"
      ]
     },
     "execution_count": 86,
     "metadata": {},
     "output_type": "execute_result"
    }
   ],
   "source": [
    "# trunc method\n",
    "\n",
    "int_part = np.trunc(arr)\n",
    "\n",
    "int_part\n"
   ]
  },
  {
   "cell_type": "code",
   "execution_count": 87,
   "id": "6e775335-0e04-4585-ab6f-a9596b7b30b2",
   "metadata": {},
   "outputs": [
    {
     "data": {
      "text/plain": [
       "[3, 1, 9, 8, 7, 7, 6, 1, 8, 6]"
      ]
     },
     "execution_count": 87,
     "metadata": {},
     "output_type": "execute_result"
    }
   ],
   "source": [
    "# using list\n",
    "\n",
    "int_part = [int(i) for i in arr]\n",
    "\n",
    "int_part"
   ]
  },
  {
   "cell_type": "markdown",
   "id": "5a2e3d85",
   "metadata": {},
   "source": [
    "#### 37. Create a 5x5 matrix with row values ranging from 0 to 4 (★★☆)"
   ]
  },
  {
   "cell_type": "code",
   "execution_count": 94,
   "id": "1d974e8f",
   "metadata": {},
   "outputs": [
    {
     "data": {
      "text/plain": [
       "array([[0, 1, 2, 3, 4, 5],\n",
       "       [0, 1, 2, 3, 4, 5],\n",
       "       [0, 1, 2, 3, 4, 5],\n",
       "       [0, 1, 2, 3, 4, 5],\n",
       "       [0, 1, 2, 3, 4, 5]])"
      ]
     },
     "execution_count": 94,
     "metadata": {},
     "output_type": "execute_result"
    }
   ],
   "source": [
    "arr = np.tile(np.arange(6),(5,1))\n",
    "\n",
    "arr"
   ]
  },
  {
   "cell_type": "markdown",
   "id": "9720e2d5",
   "metadata": {},
   "source": [
    "#### 38. Consider a generator function that generates 10 integers and use it to build an array (★☆☆)"
   ]
  },
  {
   "cell_type": "code",
   "execution_count": 96,
   "id": "e5dd8fc9",
   "metadata": {},
   "outputs": [
    {
     "data": {
      "text/plain": [
       "array([91, 76, 86, 25, 59, 58, 98, 76,  6, 76])"
      ]
     },
     "execution_count": 96,
     "metadata": {},
     "output_type": "execute_result"
    }
   ],
   "source": [
    "def generate_int():\n",
    "    for i in range(10):\n",
    "        yield np.random.randint(100)\n",
    "        \n",
    "arr = np.fromiter(generate_int(),dtype = int)\n",
    "\n",
    "arr"
   ]
  },
  {
   "cell_type": "markdown",
   "id": "c6f2c912",
   "metadata": {},
   "source": [
    "#### 39. Create a vector of size 10 with values ranging from 0 to 1, both excluded (★★☆)"
   ]
  },
  {
   "cell_type": "code",
   "execution_count": 109,
   "id": "6aaa27d3",
   "metadata": {},
   "outputs": [
    {
     "data": {
      "text/plain": [
       "array([0.09090909, 0.18181818, 0.27272727, 0.36363636, 0.45454545,\n",
       "       0.54545455, 0.63636364, 0.72727273, 0.81818182, 0.90909091])"
      ]
     },
     "execution_count": 109,
     "metadata": {},
     "output_type": "execute_result"
    }
   ],
   "source": [
    "vector = np.linspace(0,1,12)[1:-1]\n",
    "\n",
    "vector"
   ]
  },
  {
   "cell_type": "markdown",
   "id": "a36d6ee4",
   "metadata": {},
   "source": [
    "#### 40. Create a random vector of size 10 and sort it (★★☆)"
   ]
  },
  {
   "cell_type": "code",
   "execution_count": 114,
   "id": "e589d216",
   "metadata": {},
   "outputs": [
    {
     "data": {
      "text/plain": [
       "array([0.00817359, 0.07522346, 0.11307206, 0.14988805, 0.23458005,\n",
       "       0.50080495, 0.54067722, 0.60041173, 0.62971995, 0.77764328])"
      ]
     },
     "execution_count": 114,
     "metadata": {},
     "output_type": "execute_result"
    }
   ],
   "source": [
    "vec = np.random.rand(10)\n",
    "\n",
    "vec = np.sort(vec)\n",
    "\n",
    "vec"
   ]
  },
  {
   "cell_type": "markdown",
   "id": "0fb4ad68",
   "metadata": {},
   "source": [
    "#### 41. How to sum a small array faster than np.sum? (★★☆)"
   ]
  },
  {
   "cell_type": "code",
   "execution_count": 115,
   "id": "a1ba05a0",
   "metadata": {},
   "outputs": [
    {
     "data": {
      "text/plain": [
       "29"
      ]
     },
     "execution_count": 115,
     "metadata": {},
     "output_type": "execute_result"
    }
   ],
   "source": [
    "arr = np.array([4,7,2,5,8,3])\n",
    "\n",
    "total = sum(arr)\n",
    "\n",
    "total"
   ]
  },
  {
   "cell_type": "markdown",
   "id": "b37debce-f16b-4a08-b957-13220c808aad",
   "metadata": {},
   "source": [
    "In terms of small numbers of array sum() is faster than np.sum() but for larger array elements np.sum() is more faster."
   ]
  },
  {
   "cell_type": "markdown",
   "id": "024ac365",
   "metadata": {},
   "source": [
    "#### 42. Consider two random array A and B, check if they are equal (★★☆)"
   ]
  },
  {
   "cell_type": "code",
   "execution_count": 121,
   "id": "7db3846d",
   "metadata": {},
   "outputs": [
    {
     "name": "stdout",
     "output_type": "stream",
     "text": [
      "C and D are equal\n"
     ]
    }
   ],
   "source": [
    "A = np.random.rand(10)\n",
    "B = np.random.rand(10)\n",
    "C = np.array([4,7,2,5,8,3])\n",
    "D = np.array([4,7,2,5,8,3])\n",
    "\n",
    "if np.array_equal(A,B):\n",
    "    print('A and B are equal')\n",
    "    \n",
    "if np.array_equal(C,D):\n",
    "    print('C and D are equal')"
   ]
  },
  {
   "cell_type": "markdown",
   "id": "c68d2401",
   "metadata": {},
   "source": [
    "#### 43. Make an array immutable (read-only) (★★☆)"
   ]
  },
  {
   "cell_type": "code",
   "execution_count": 122,
   "id": "7828539d",
   "metadata": {},
   "outputs": [
    {
     "ename": "ValueError",
     "evalue": "assignment destination is read-only",
     "output_type": "error",
     "traceback": [
      "\u001b[0;31m---------------------------------------------------------------------------\u001b[0m",
      "\u001b[0;31mValueError\u001b[0m                                Traceback (most recent call last)",
      "Cell \u001b[0;32mIn[122], line 5\u001b[0m\n\u001b[1;32m      1\u001b[0m A \u001b[38;5;241m=\u001b[39m np\u001b[38;5;241m.\u001b[39marray([\u001b[38;5;241m1\u001b[39m, \u001b[38;5;241m2\u001b[39m, \u001b[38;5;241m3\u001b[39m, \u001b[38;5;241m4\u001b[39m, \u001b[38;5;241m5\u001b[39m])\n\u001b[1;32m      3\u001b[0m A\u001b[38;5;241m.\u001b[39mflags\u001b[38;5;241m.\u001b[39mwriteable \u001b[38;5;241m=\u001b[39m \u001b[38;5;28;01mFalse\u001b[39;00m\n\u001b[0;32m----> 5\u001b[0m \u001b[43mA\u001b[49m\u001b[43m[\u001b[49m\u001b[38;5;241;43m0\u001b[39;49m\u001b[43m]\u001b[49m \u001b[38;5;241m=\u001b[39m \u001b[38;5;241m10\u001b[39m\n",
      "\u001b[0;31mValueError\u001b[0m: assignment destination is read-only"
     ]
    }
   ],
   "source": [
    "\n",
    "A = np.array([1, 2, 3, 4, 5])\n",
    "\n",
    "A.flags.writeable = False\n",
    "\n",
    "A[0] = 10\n"
   ]
  },
  {
   "cell_type": "markdown",
   "id": "55df6280",
   "metadata": {},
   "source": [
    "#### 44. Consider a random 10x2 matrix representing cartesian coordinates, convert them to polar coordinates (★★☆)"
   ]
  },
  {
   "cell_type": "code",
   "execution_count": 123,
   "id": "f1c86ea0",
   "metadata": {},
   "outputs": [
    {
     "name": "stdout",
     "output_type": "stream",
     "text": [
      "Cartesian coordinates:\n",
      "[[0.2309582  0.39598814]\n",
      " [0.67623022 0.18368822]\n",
      " [0.4360329  0.87875454]\n",
      " [0.46075123 0.76353481]\n",
      " [0.23491854 0.25586493]\n",
      " [0.94147028 0.95865832]\n",
      " [0.25076238 0.19369875]\n",
      " [0.31134535 0.57687846]\n",
      " [0.1360486  0.22087308]\n",
      " [0.60230105 0.97806718]]\n",
      "Polar coordinates:\n",
      "[[0.45841935 1.0427876 ]\n",
      " [0.70073438 0.26523569]\n",
      " [0.98098635 1.110198  ]\n",
      " [0.8917831  1.02784762]\n",
      " [0.34735224 0.82805177]\n",
      " [1.34364878 0.79444364]\n",
      " [0.31686114 0.65770835]\n",
      " [0.65553389 1.07588993]\n",
      " [0.25941114 1.01872536]\n",
      " [1.14864353 1.01883471]]\n"
     ]
    }
   ],
   "source": [
    "# Create a random 10x2 matrix representing cartesian coordinates\n",
    "cartesian = np.random.rand(10, 2)\n",
    "\n",
    "# Convert cartesian coordinates to polar coordinates\n",
    "distance = np.hypot(cartesian[:, 0], cartesian[:, 1])\n",
    "angle = np.arctan2(cartesian[:, 1], cartesian[:, 0])\n",
    "\n",
    "# Create a 10x2 matrix representing polar coordinates\n",
    "polar = np.column_stack((distance, angle))\n",
    "\n",
    "print(\"Cartesian coordinates:\")\n",
    "print(cartesian)\n",
    "print(\"Polar coordinates:\")\n",
    "print(polar)"
   ]
  },
  {
   "cell_type": "markdown",
   "id": "2f60f1ec",
   "metadata": {},
   "source": [
    "#### 45. Create random vector of size 10 and replace the maximum value by 0 (★★☆)"
   ]
  },
  {
   "cell_type": "code",
   "execution_count": 133,
   "id": "d9f48f1c",
   "metadata": {},
   "outputs": [
    {
     "name": "stdout",
     "output_type": "stream",
     "text": [
      "99\n"
     ]
    },
    {
     "data": {
      "text/plain": [
       "array([36, 12, 61, 55, 51, 72, 25, 81,  0, 47])"
      ]
     },
     "execution_count": 133,
     "metadata": {},
     "output_type": "execute_result"
    }
   ],
   "source": [
    "arr = np.round(np.random.rand(10) * 100).astype(int)\n",
    "\n",
    "max_index = np.argmax(arr)\n",
    "print(arr[max_index])\n",
    "arr[max_index] = 0\n",
    "\n",
    "arr"
   ]
  },
  {
   "cell_type": "markdown",
   "id": "084e8ad4",
   "metadata": {},
   "source": [
    "#### 46. Create a structured array with `x` and `y` coordinates covering the [0,1]x[0,1] area (★★☆)"
   ]
  },
  {
   "cell_type": "code",
   "execution_count": 134,
   "id": "58b47c13",
   "metadata": {},
   "outputs": [
    {
     "name": "stdout",
     "output_type": "stream",
     "text": [
      "[[0.   0.  ]\n",
      " [0.25 0.  ]\n",
      " [0.5  0.  ]\n",
      " [0.75 0.  ]\n",
      " [1.   0.  ]\n",
      " [0.   0.25]\n",
      " [0.25 0.25]\n",
      " [0.5  0.25]\n",
      " [0.75 0.25]\n",
      " [1.   0.25]\n",
      " [0.   0.5 ]\n",
      " [0.25 0.5 ]\n",
      " [0.5  0.5 ]\n",
      " [0.75 0.5 ]\n",
      " [1.   0.5 ]\n",
      " [0.   0.75]\n",
      " [0.25 0.75]\n",
      " [0.5  0.75]\n",
      " [0.75 0.75]\n",
      " [1.   0.75]\n",
      " [0.   1.  ]\n",
      " [0.25 1.  ]\n",
      " [0.5  1.  ]\n",
      " [0.75 1.  ]\n",
      " [1.   1.  ]]\n"
     ]
    }
   ],
   "source": [
    "# Define the number of points along each axis\n",
    "n = 5\n",
    "\n",
    "# Generate a grid of x and y coordinates\n",
    "x, y = np.meshgrid(np.linspace(0, 1, n), np.linspace(0, 1, n))\n",
    "\n",
    "# Stack the x and y coordinates into a structured array\n",
    "coords = np.column_stack((x.ravel(), y.ravel()))\n",
    "\n",
    "print(coords)"
   ]
  },
  {
   "cell_type": "markdown",
   "id": "d7b9bc42",
   "metadata": {},
   "source": [
    "#### 47. Given two arrays, X and Y, construct the Cauchy matrix C (Cij =1/(xi - yj)) (★★☆)"
   ]
  },
  {
   "cell_type": "code",
   "execution_count": 135,
   "id": "a24824fb",
   "metadata": {},
   "outputs": [
    {
     "name": "stdout",
     "output_type": "stream",
     "text": [
      "[[-0.25       -0.2        -0.16666667]\n",
      " [-0.33333333 -0.25       -0.2       ]\n",
      " [-0.5        -0.33333333 -0.25      ]\n",
      " [-1.         -0.5        -0.33333333]]\n"
     ]
    }
   ],
   "source": [
    "\n",
    "# Define input arrays X and Y\n",
    "X = np.array([1, 2, 3, 4])\n",
    "Y = np.array([5, 6, 7])\n",
    "\n",
    "# Construct the Cauchy matrix C\n",
    "C = 1.0 / (X[:, None] - Y)\n",
    "\n",
    "print(C)"
   ]
  },
  {
   "cell_type": "markdown",
   "id": "6e1d3298-2a79-4b38-ae4a-503fad14bf13",
   "metadata": {},
   "source": [
    "In linear algebra, a Cauchy matrix is a matrix with entries defined as:\n",
    "\n",
    "C_ij = 1 / (x_i - y_j)\n",
    "\n",
    "where x and y are two vectors of distinct non-zero real numbers.\n",
    "\n",
    "The Cauchy matrix is named after the French mathematician Augustin Louis Cauchy. It arises in various applications, including interpolation problems, numerical integration, and signal processing.\n",
    "\n",
    "One important property of the Cauchy matrix is that it is singular, meaning that its determinant is zero. This implies that the matrix is not invertible, and that its null space is non-trivial.\n",
    "\n",
    "The singularity of the Cauchy matrix also implies that it is ill-conditioned, meaning that small changes to the entries of the matrix can cause large changes in its solution. This can make it challenging to compute solutions to problems involving the Cauchy matrix.\n",
    "\n",
    "Despite these challenges, the Cauchy matrix has important applications in a variety of fields, including physics, engineering, and finance."
   ]
  },
  {
   "cell_type": "markdown",
   "id": "65ebc11b",
   "metadata": {},
   "source": [
    "#### 48. Print the minimum and maximum representable value for each numpy scalar type (★★☆)"
   ]
  },
  {
   "cell_type": "code",
   "execution_count": 137,
   "id": "e45d38fb",
   "metadata": {},
   "outputs": [
    {
     "name": "stdout",
     "output_type": "stream",
     "text": [
      "<class 'numpy.int8'>: -128, 127\n",
      "<class 'numpy.int16'>: -32768, 32767\n",
      "<class 'numpy.int32'>: -2147483648, 2147483647\n",
      "<class 'numpy.int64'>: -9223372036854775808, 9223372036854775807\n",
      "<class 'numpy.uint8'>: 0, 255\n",
      "<class 'numpy.uint16'>: 0, 65535\n",
      "<class 'numpy.uint32'>: 0, 4294967295\n",
      "<class 'numpy.uint64'>: 0, 18446744073709551615\n",
      "<class 'numpy.float16'>: -65504.0, 65504.0\n",
      "<class 'numpy.float32'>: -3.4028234663852886e+38, 3.4028234663852886e+38\n",
      "<class 'numpy.float64'>: -1.7976931348623157e+308, 1.7976931348623157e+308\n",
      "<class 'numpy.complex64'>: not inexact\n",
      "<class 'numpy.complex128'>: not inexact\n"
     ]
    }
   ],
   "source": [
    "import numpy as np\n",
    "\n",
    "dtypes = [np.int8, np.int16, np.int32, np.int64, np.uint8, np.uint16, np.uint32, np.uint64,\n",
    "          np.float16, np.float32, np.float64, np.complex64, np.complex128]\n",
    "\n",
    "for dtype in dtypes:\n",
    "    if np.issubdtype(dtype, np.integer):\n",
    "        info = np.iinfo(dtype)\n",
    "        print(f\"{dtype}: {info.min}, {info.max}\")\n",
    "    elif np.issubdtype(dtype, np.floating):\n",
    "        info = np.finfo(dtype)\n",
    "        print(f\"{dtype}: {info.min}, {info.max}\")\n",
    "    elif dtype == np.bool_:\n",
    "        print(f\"{dtype}: {False}, {True}\")\n",
    "    else:\n",
    "        print(f\"{dtype}: not inexact\")\n"
   ]
  },
  {
   "cell_type": "markdown",
   "id": "9b317a98",
   "metadata": {},
   "source": [
    "#### 49. How to print all the values of an array? (★★☆)"
   ]
  },
  {
   "cell_type": "code",
   "execution_count": 138,
   "id": "309cdeb9",
   "metadata": {},
   "outputs": [
    {
     "name": "stdout",
     "output_type": "stream",
     "text": [
      "[0 1 2 3 4 5 6 7 8 9]\n"
     ]
    }
   ],
   "source": [
    "# Create a 1D array with 10 elements\n",
    "arr = np.arange(10)\n",
    "\n",
    "# Print the entire array\n",
    "np.set_printoptions(threshold=np.inf)\n",
    "print(arr)"
   ]
  },
  {
   "cell_type": "markdown",
   "id": "776e0065-13a3-4332-95bc-9fd157e35176",
   "metadata": {},
   "source": [
    "To print all the values of an array in NumPy, you can simply use the print() function to print the array object. By default, NumPy will print the entire array if it is small enough to fit on the screen. However, if the array is too large, NumPy will only print the beginning and end of the array. To override this behavior and force NumPy to print the entire array, you can use the set_printoptions() function from the numpy module"
   ]
  },
  {
   "cell_type": "markdown",
   "id": "b580f9d0",
   "metadata": {},
   "source": [
    "#### 50. How to find the closest value (to a given scalar) in a vector? (★★☆)"
   ]
  },
  {
   "cell_type": "code",
   "execution_count": 139,
   "id": "ebfb6714",
   "metadata": {},
   "outputs": [
    {
     "name": "stdout",
     "output_type": "stream",
     "text": [
      "5.6\n"
     ]
    }
   ],
   "source": [
    "\n",
    "# Example vector\n",
    "vec = np.array([1.2, 3.4, 5.6, 7.8, 9.0])\n",
    "\n",
    "# Scalar to find the closest value to\n",
    "scalar = 4.5\n",
    "\n",
    "# Compute the absolute difference between each element and the scalar\n",
    "diff = np.abs(vec - scalar)\n",
    "\n",
    "# Find the index of the closest value\n",
    "index = np.argmin(diff)\n",
    "\n",
    "# Get the closest value\n",
    "closest_value = vec[index]\n",
    "\n",
    "print(closest_value)"
   ]
  },
  {
   "cell_type": "markdown",
   "id": "602e6252",
   "metadata": {},
   "source": [
    "#### 51. Create a structured array representing a position (x,y) and a color (r,g,b) (★★☆)"
   ]
  },
  {
   "cell_type": "code",
   "execution_count": 140,
   "id": "cf002b3a",
   "metadata": {},
   "outputs": [
    {
     "name": "stdout",
     "output_type": "stream",
     "text": [
      "[((1., 2.), (255.,   0., 0.)) ((3., 4.), (  0., 255., 0.))]\n"
     ]
    }
   ],
   "source": [
    "\n",
    "# Define the data type of the structured array\n",
    "dt = np.dtype([('position', [('x', float), ('y', float)]), ('color', [('r', float), ('g', float), ('b', float)])])\n",
    "\n",
    "# Create a structured array\n",
    "arr = np.array([((1.0, 2.0), (255.0, 0.0, 0.0)), ((3.0, 4.0), (0.0, 255.0, 0.0))], dtype=dt)\n",
    "\n",
    "# Print the structured array\n",
    "print(arr)"
   ]
  },
  {
   "cell_type": "markdown",
   "id": "78bcd92f",
   "metadata": {},
   "source": [
    "#### 52. Consider a random vector with shape (100,2) representing coordinates, find point by point distances (★★☆)"
   ]
  },
  {
   "cell_type": "code",
   "execution_count": 142,
   "id": "fea7f9a6",
   "metadata": {},
   "outputs": [],
   "source": [
    "from scipy.spatial.distance import pdist\n",
    "\n",
    "# Generate a random vector with shape (100, 2)\n",
    "random_vector = np.random.rand(100, 2)\n",
    "\n",
    "# Compute pairwise distances between points\n",
    "distances = pdist(random_vector)\n",
    "\n",
    "# Print the distances\n",
    "#print(distances)"
   ]
  },
  {
   "cell_type": "markdown",
   "id": "343c5a85",
   "metadata": {},
   "source": [
    "#### 53. How to convert a float (32 bits) array into an integer (32 bits) in place?"
   ]
  },
  {
   "cell_type": "code",
   "execution_count": 145,
   "id": "fc1b687b",
   "metadata": {},
   "outputs": [
    {
     "data": {
      "text/plain": [
       "array([1, 2, 3, 4], dtype=int32)"
      ]
     },
     "execution_count": 145,
     "metadata": {},
     "output_type": "execute_result"
    }
   ],
   "source": [
    "a = np.array([1.1, 2.2, 3.3, 4.4], dtype=np.float32)\n",
    "\n",
    "# convert to an integer array in place\n",
    "a = a.astype(np.int32)\n",
    "a"
   ]
  },
  {
   "cell_type": "markdown",
   "id": "a69e1ace",
   "metadata": {},
   "source": [
    "#### 54. How to read the following file? (★★☆)\n",
    "```\n",
    "1, 2, 3, 4, 5\n",
    "6,  ,  , 7, 8\n",
    " ,  , 9,10,11\n",
    "```"
   ]
  },
  {
   "cell_type": "code",
   "execution_count": 147,
   "id": "1c7957d4",
   "metadata": {},
   "outputs": [
    {
     "name": "stdout",
     "output_type": "stream",
     "text": [
      "[[ 1.  2.  3.  4.  5.]\n",
      " [ 6. nan nan  7.  8.]\n",
      " [nan nan  9. 10. 11.]]\n"
     ]
    }
   ],
   "source": [
    "# Read the file using genfromtxt\n",
    "arr = np.genfromtxt('file.txt', delimiter=',', dtype=np.float64, missing_values='', filling_values=np.nan)\n",
    "\n",
    "# Print the resulting array\n",
    "print(arr)"
   ]
  },
  {
   "cell_type": "markdown",
   "id": "c23bd80d",
   "metadata": {},
   "source": [
    "#### 55. What is the equivalent of enumerate for numpy arrays? (★★☆)"
   ]
  },
  {
   "cell_type": "code",
   "execution_count": 148,
   "id": "d95d9578",
   "metadata": {},
   "outputs": [
    {
     "name": "stdout",
     "output_type": "stream",
     "text": [
      "(0, 0) 1\n",
      "(0, 1) 2\n",
      "(1, 0) 3\n",
      "(1, 1) 4\n"
     ]
    }
   ],
   "source": [
    "\n",
    "arr = np.array([[1, 2], [3, 4]])\n",
    "\n",
    "for index, value in np.ndenumerate(arr):\n",
    "    print(index, value)"
   ]
  },
  {
   "cell_type": "markdown",
   "id": "2153a5ec",
   "metadata": {},
   "source": [
    "#### 56. Generate a generic 2D Gaussian-like array (★★☆)"
   ]
  },
  {
   "cell_type": "code",
   "execution_count": 149,
   "id": "61122d1e",
   "metadata": {},
   "outputs": [
    {
     "name": "stdout",
     "output_type": "stream",
     "text": [
      "[[0.01831564 0.082085   0.13533528 0.082085   0.01831564]\n",
      " [0.082085   0.36787944 0.60653066 0.36787944 0.082085  ]\n",
      " [0.13533528 0.60653066 1.         0.60653066 0.13533528]\n",
      " [0.082085   0.36787944 0.60653066 0.36787944 0.082085  ]\n",
      " [0.01831564 0.082085   0.13533528 0.082085   0.01831564]]\n"
     ]
    }
   ],
   "source": [
    "\n",
    "def gaussian_array(size, center, sigma):\n",
    "    x, y = np.meshgrid(np.arange(size[0]), np.arange(size[1]))\n",
    "    x = x - center[0]\n",
    "    y = y - center[1]\n",
    "    dist = np.sqrt(x**2 + y**2)\n",
    "    gaussian = np.exp(-dist**2 / (2 * sigma**2))\n",
    "    return gaussian\n",
    "\n",
    "gaussian = gaussian_array((5, 5), (2, 2), 1.0)\n",
    "print(gaussian)"
   ]
  },
  {
   "cell_type": "markdown",
   "id": "2e76d589",
   "metadata": {},
   "source": [
    "#### 57. How to randomly place p elements in a 2D array? (★★☆)"
   ]
  },
  {
   "cell_type": "code",
   "execution_count": 150,
   "id": "0c2e4fcc",
   "metadata": {},
   "outputs": [
    {
     "name": "stdout",
     "output_type": "stream",
     "text": [
      "[[0. 0. 0. 1. 0.]\n",
      " [1. 0. 0. 0. 0.]\n",
      " [0. 0. 0. 0. 0.]\n",
      " [0. 0. 0. 1. 0.]\n",
      " [0. 0. 0. 0. 0.]]\n"
     ]
    }
   ],
   "source": [
    "arr = np.zeros((5, 5))\n",
    "\n",
    "# Number of elements to randomly place\n",
    "p = 3\n",
    "\n",
    "# Generate a random list of unique indices to place the elements\n",
    "indices = np.random.choice(range(5*5), p, replace=False)\n",
    "\n",
    "# Set the values of the selected indices to 1\n",
    "arr.flat[indices] = 1\n",
    "\n",
    "# Print the resulting array\n",
    "print(arr)"
   ]
  },
  {
   "cell_type": "markdown",
   "id": "8b3933eb",
   "metadata": {},
   "source": [
    "#### 58. Subtract the mean of each row of a matrix (★★☆)"
   ]
  },
  {
   "cell_type": "code",
   "execution_count": 151,
   "id": "a306c9ef",
   "metadata": {},
   "outputs": [
    {
     "name": "stdout",
     "output_type": "stream",
     "text": [
      "[[-1.  0.  1.]\n",
      " [-1.  0.  1.]\n",
      " [-1.  0.  1.]]\n"
     ]
    }
   ],
   "source": [
    "A = np.array([[1, 2, 3], [4, 5, 6], [7, 8, 9]])\n",
    "\n",
    "# Compute row-wise means\n",
    "row_means = np.mean(A, axis=1)\n",
    "\n",
    "# Subtract row-wise means from A\n",
    "A_sub_mean = A - row_means[:, np.newaxis]\n",
    "\n",
    "print(A_sub_mean)"
   ]
  },
  {
   "cell_type": "markdown",
   "id": "ea8807c0",
   "metadata": {},
   "source": [
    "#### 59. How to sort an array by the nth column? (★★☆)"
   ]
  },
  {
   "cell_type": "code",
   "execution_count": 152,
   "id": "cc89a699",
   "metadata": {},
   "outputs": [
    {
     "name": "stdout",
     "output_type": "stream",
     "text": [
      "Original array:\n",
      " [[7 7 9]\n",
      " [1 7 2]\n",
      " [1 6 9]\n",
      " [1 9 3]\n",
      " [0 9 2]]\n",
      "\n",
      "Sorted by 1th column:\n",
      " [[1 6 9]\n",
      " [7 7 9]\n",
      " [1 7 2]\n",
      " [1 9 3]\n",
      " [0 9 2]]\n"
     ]
    }
   ],
   "source": [
    "arr = np.random.randint(0, 10, size=(5, 3))\n",
    "print(\"Original array:\\n\", arr)\n",
    "\n",
    "# sort the array by the 2nd column (index 1)\n",
    "n = 1\n",
    "indices = arr[:, n].argsort()\n",
    "arr_sorted = arr[indices]\n",
    "\n",
    "print(f\"\\nSorted by {n}th column:\\n\", arr_sorted)"
   ]
  },
  {
   "cell_type": "markdown",
   "id": "00fa00a1",
   "metadata": {},
   "source": [
    "#### 60. How to tell if a given 2D array has null columns? (★★☆)"
   ]
  },
  {
   "cell_type": "code",
   "execution_count": 156,
   "id": "3436e165",
   "metadata": {},
   "outputs": [
    {
     "name": "stdout",
     "output_type": "stream",
     "text": [
      "[False  True False]\n",
      "[False False False]\n"
     ]
    }
   ],
   "source": [
    "arr1 = np.array([[1, 0, 0], [4, 0, 6], [0, 0, 0]])\n",
    "\n",
    "\n",
    "arr2 = np.array([[1, 2, 3], [4, 5, 6], [7, 8, 9]])\n",
    "\n",
    "# check if arr1 has null columns\n",
    "null_columns1 = np.all(arr1 == 0, axis=0)\n",
    "\n",
    "# check if arr2 has null columns\n",
    "null_columns2 = np.all(arr2 == 0, axis=0)\n",
    "\n",
    "print(null_columns1) \n",
    "print(null_columns2)  "
   ]
  },
  {
   "cell_type": "markdown",
   "id": "5a65c7a2",
   "metadata": {},
   "source": [
    "#### 61. Find the nearest value from a given value in an array (★★☆)"
   ]
  },
  {
   "cell_type": "code",
   "execution_count": null,
   "id": "73f149d6",
   "metadata": {},
   "outputs": [],
   "source": []
  },
  {
   "cell_type": "markdown",
   "id": "dd83e8af",
   "metadata": {},
   "source": [
    "#### 62. Considering two arrays with shape (1,3) and (3,1), how to compute their sum using an iterator? (★★☆)"
   ]
  },
  {
   "cell_type": "code",
   "execution_count": null,
   "id": "29a709a1",
   "metadata": {},
   "outputs": [],
   "source": []
  },
  {
   "cell_type": "markdown",
   "id": "6c042efa",
   "metadata": {},
   "source": [
    "#### 63. Create an array class that has a name attribute (★★☆)"
   ]
  },
  {
   "cell_type": "code",
   "execution_count": null,
   "id": "45b3d2e0",
   "metadata": {},
   "outputs": [],
   "source": []
  },
  {
   "cell_type": "markdown",
   "id": "0a075c3d",
   "metadata": {},
   "source": [
    "#### 64. Consider a given vector, how to add 1 to each element indexed by a second vector (be careful with repeated indices)? (★★★)"
   ]
  },
  {
   "cell_type": "code",
   "execution_count": null,
   "id": "36c50470",
   "metadata": {},
   "outputs": [],
   "source": []
  },
  {
   "cell_type": "markdown",
   "id": "0fb2f0c5",
   "metadata": {},
   "source": [
    "#### 65. How to accumulate elements of a vector (X) to an array (F) based on an index list (I)? (★★★)"
   ]
  },
  {
   "cell_type": "code",
   "execution_count": null,
   "id": "58aa5f82",
   "metadata": {},
   "outputs": [],
   "source": []
  },
  {
   "cell_type": "markdown",
   "id": "d89dc506",
   "metadata": {},
   "source": [
    "#### 66. Considering a (w,h,3) image of (dtype=ubyte), compute the number of unique colors (★★☆)"
   ]
  },
  {
   "cell_type": "code",
   "execution_count": null,
   "id": "8fb43a49",
   "metadata": {},
   "outputs": [],
   "source": []
  },
  {
   "cell_type": "markdown",
   "id": "535a5d81",
   "metadata": {},
   "source": [
    "#### 67. Considering a four dimensions array, how to get sum over the last two axis at once? (★★★)"
   ]
  },
  {
   "cell_type": "code",
   "execution_count": null,
   "id": "f954ab9d",
   "metadata": {},
   "outputs": [],
   "source": []
  },
  {
   "cell_type": "markdown",
   "id": "eee66d3c",
   "metadata": {},
   "source": [
    "#### 68. Considering a one-dimensional vector D, how to compute means of subsets of D using a vector S of same size describing subset  indices? (★★★)"
   ]
  },
  {
   "cell_type": "code",
   "execution_count": null,
   "id": "8929773a",
   "metadata": {},
   "outputs": [],
   "source": []
  },
  {
   "cell_type": "markdown",
   "id": "f90d4c40",
   "metadata": {},
   "source": [
    "#### 69. How to get the diagonal of a dot product? (★★★)"
   ]
  },
  {
   "cell_type": "code",
   "execution_count": null,
   "id": "b47d392d",
   "metadata": {},
   "outputs": [],
   "source": []
  },
  {
   "cell_type": "markdown",
   "id": "a8a97e7d",
   "metadata": {},
   "source": [
    "#### 70. Consider the vector [1, 2, 3, 4, 5], how to build a new vector with 3 consecutive zeros interleaved between each value? (★★★)"
   ]
  },
  {
   "cell_type": "code",
   "execution_count": null,
   "id": "ee6c6c37",
   "metadata": {},
   "outputs": [],
   "source": []
  },
  {
   "cell_type": "markdown",
   "id": "d6a30d60",
   "metadata": {},
   "source": [
    "#### 71. Consider an array of dimension (5,5,3), how to mulitply it by an array with dimensions (5,5)? (★★★)"
   ]
  },
  {
   "cell_type": "code",
   "execution_count": null,
   "id": "e9703f2e",
   "metadata": {},
   "outputs": [],
   "source": []
  },
  {
   "cell_type": "markdown",
   "id": "bac359a9",
   "metadata": {},
   "source": [
    "#### 72. How to swap two rows of an array? (★★★)"
   ]
  },
  {
   "cell_type": "code",
   "execution_count": null,
   "id": "f1b432b1",
   "metadata": {},
   "outputs": [],
   "source": []
  },
  {
   "cell_type": "markdown",
   "id": "620c9f83",
   "metadata": {},
   "source": [
    "#### 73. Consider a set of 10 triplets describing 10 triangles (with shared vertices), find the set of unique line segments composing all the  triangles (★★★)"
   ]
  },
  {
   "cell_type": "code",
   "execution_count": null,
   "id": "4e595ffc",
   "metadata": {},
   "outputs": [],
   "source": []
  },
  {
   "cell_type": "markdown",
   "id": "a76c55a2",
   "metadata": {},
   "source": [
    "#### 74. Given a sorted array C that corresponds to a bincount, how to produce an array A such that np.bincount(A) == C? (★★★)"
   ]
  },
  {
   "cell_type": "code",
   "execution_count": null,
   "id": "2d2ae65a",
   "metadata": {},
   "outputs": [],
   "source": []
  },
  {
   "cell_type": "markdown",
   "id": "d550c8e2",
   "metadata": {},
   "source": [
    "#### 75. How to compute averages using a sliding window over an array? (★★★)"
   ]
  },
  {
   "cell_type": "code",
   "execution_count": null,
   "id": "841c457c",
   "metadata": {},
   "outputs": [],
   "source": []
  },
  {
   "cell_type": "markdown",
   "id": "6b170b00",
   "metadata": {},
   "source": [
    "#### 76. Consider a one-dimensional array Z, build a two-dimensional array whose first row is (Z[0],Z[1],Z[2]) and each subsequent row is  shifted by 1 (last row should be (Z[-3],Z[-2],Z[-1]) (★★★)"
   ]
  },
  {
   "cell_type": "code",
   "execution_count": null,
   "id": "d9a0cf4e",
   "metadata": {},
   "outputs": [],
   "source": []
  },
  {
   "cell_type": "markdown",
   "id": "e94a5c1d",
   "metadata": {},
   "source": [
    "#### 77. How to negate a boolean, or to change the sign of a float inplace? (★★★)"
   ]
  },
  {
   "cell_type": "code",
   "execution_count": null,
   "id": "c0f9504f",
   "metadata": {},
   "outputs": [],
   "source": []
  },
  {
   "cell_type": "markdown",
   "id": "4eb8b5c1",
   "metadata": {},
   "source": [
    "#### 78. Consider 2 sets of points P0,P1 describing lines (2d) and a point p, how to compute distance from p to each line i (P0[i],P1[i])? (★★★)"
   ]
  },
  {
   "cell_type": "code",
   "execution_count": null,
   "id": "487f47ec",
   "metadata": {},
   "outputs": [],
   "source": []
  },
  {
   "cell_type": "markdown",
   "id": "3df99948",
   "metadata": {},
   "source": [
    "#### 79. Consider 2 sets of points P0,P1 describing lines (2d) and a set of points P, how to compute distance from each point j (P[j]) to each line i (P0[i],P1[i])? (★★★)"
   ]
  },
  {
   "cell_type": "code",
   "execution_count": null,
   "id": "dc2df37b",
   "metadata": {},
   "outputs": [],
   "source": []
  },
  {
   "cell_type": "markdown",
   "id": "11e972c2",
   "metadata": {},
   "source": [
    "#### 80. Consider an arbitrary array, write a function that extract a subpart with a fixed shape and centered on a given element (pad with a `fill` value when necessary) (★★★)"
   ]
  },
  {
   "cell_type": "code",
   "execution_count": null,
   "id": "0291247f",
   "metadata": {},
   "outputs": [],
   "source": []
  },
  {
   "cell_type": "markdown",
   "id": "93cfeab3",
   "metadata": {},
   "source": [
    "#### 81. Consider an array Z = [1,2,3,4,5,6,7,8,9,10,11,12,13,14], how to generate an array R = [[1,2,3,4], [2,3,4,5], [3,4,5,6], ..., [11,12,13,14]]? (★★★)"
   ]
  },
  {
   "cell_type": "code",
   "execution_count": null,
   "id": "360de791",
   "metadata": {},
   "outputs": [],
   "source": []
  },
  {
   "cell_type": "markdown",
   "id": "4c15ceff",
   "metadata": {},
   "source": [
    "#### 82. Compute a matrix rank (★★★)"
   ]
  },
  {
   "cell_type": "code",
   "execution_count": null,
   "id": "9a4272d2",
   "metadata": {},
   "outputs": [],
   "source": []
  },
  {
   "cell_type": "markdown",
   "id": "1171cb84",
   "metadata": {},
   "source": [
    "#### 83. How to find the most frequent value in an array?"
   ]
  },
  {
   "cell_type": "code",
   "execution_count": null,
   "id": "33e951c8",
   "metadata": {},
   "outputs": [],
   "source": []
  },
  {
   "cell_type": "markdown",
   "id": "04f472aa",
   "metadata": {},
   "source": [
    "#### 84. Extract all the contiguous 3x3 blocks from a random 10x10 matrix (★★★)"
   ]
  },
  {
   "cell_type": "code",
   "execution_count": null,
   "id": "7aade14a",
   "metadata": {},
   "outputs": [],
   "source": []
  },
  {
   "cell_type": "markdown",
   "id": "52836346",
   "metadata": {},
   "source": [
    "#### 85. Create a 2D array subclass such that Z[i,j] == Z[j,i] (★★★)"
   ]
  },
  {
   "cell_type": "code",
   "execution_count": null,
   "id": "4df70318",
   "metadata": {},
   "outputs": [],
   "source": []
  },
  {
   "cell_type": "markdown",
   "id": "78c43ee5",
   "metadata": {},
   "source": [
    "#### 86. Consider a set of p matrices with shape (n,n) and a set of p vectors with shape (n,1). How to compute the sum of of the p matrix products at once? (result has shape (n,1)) (★★★)"
   ]
  },
  {
   "cell_type": "code",
   "execution_count": null,
   "id": "32fd2c3b",
   "metadata": {},
   "outputs": [],
   "source": []
  },
  {
   "cell_type": "markdown",
   "id": "158f9945",
   "metadata": {},
   "source": [
    "#### 87. Consider a 16x16 array, how to get the block-sum (block size is 4x4)? (★★★)"
   ]
  },
  {
   "cell_type": "code",
   "execution_count": null,
   "id": "5a9b808f",
   "metadata": {},
   "outputs": [],
   "source": []
  },
  {
   "cell_type": "markdown",
   "id": "2e0ad860",
   "metadata": {},
   "source": [
    "#### 88. How to implement the Game of Life using numpy arrays? (★★★)"
   ]
  },
  {
   "cell_type": "code",
   "execution_count": null,
   "id": "574acff5",
   "metadata": {},
   "outputs": [],
   "source": []
  },
  {
   "cell_type": "markdown",
   "id": "69a892fa",
   "metadata": {},
   "source": [
    "#### 89. How to get the n largest values of an array (★★★)"
   ]
  },
  {
   "cell_type": "code",
   "execution_count": null,
   "id": "21b2bd48",
   "metadata": {},
   "outputs": [],
   "source": []
  },
  {
   "cell_type": "markdown",
   "id": "b55ccacc",
   "metadata": {},
   "source": [
    "#### 90. Given an arbitrary number of vectors, build the cartesian product (every combinations of every item) (★★★)"
   ]
  },
  {
   "cell_type": "code",
   "execution_count": null,
   "id": "4b645da4",
   "metadata": {},
   "outputs": [],
   "source": []
  },
  {
   "cell_type": "markdown",
   "id": "89187a23",
   "metadata": {},
   "source": [
    "#### 91. How to create a record array from a regular array? (★★★)"
   ]
  },
  {
   "cell_type": "code",
   "execution_count": null,
   "id": "da94c71a",
   "metadata": {},
   "outputs": [],
   "source": []
  },
  {
   "cell_type": "markdown",
   "id": "aa70d4ca",
   "metadata": {},
   "source": [
    "#### 92. Consider a large vector Z, compute Z to the power of 3 using 3 different methods (★★★)"
   ]
  },
  {
   "cell_type": "code",
   "execution_count": null,
   "id": "7cff1bf5",
   "metadata": {},
   "outputs": [],
   "source": []
  },
  {
   "cell_type": "markdown",
   "id": "5f79dd00",
   "metadata": {},
   "source": [
    "#### 93. Consider two arrays A and B of shape (8,3) and (2,2). How to find rows of A that contain elements of each row of B regardless of the order of the elements in B? (★★★)"
   ]
  },
  {
   "cell_type": "code",
   "execution_count": null,
   "id": "20c105b2",
   "metadata": {},
   "outputs": [],
   "source": []
  },
  {
   "cell_type": "markdown",
   "id": "a80570cd",
   "metadata": {},
   "source": [
    "#### 94. Considering a 10x3 matrix, extract rows with unequal values (e.g. [2,2,3]) (★★★)"
   ]
  },
  {
   "cell_type": "code",
   "execution_count": null,
   "id": "84db8de1",
   "metadata": {},
   "outputs": [],
   "source": []
  },
  {
   "cell_type": "markdown",
   "id": "ba154f43",
   "metadata": {},
   "source": [
    "#### 95. Convert a vector of ints into a matrix binary representation (★★★)"
   ]
  },
  {
   "cell_type": "code",
   "execution_count": null,
   "id": "cfa96e1b",
   "metadata": {},
   "outputs": [],
   "source": []
  },
  {
   "cell_type": "markdown",
   "id": "420e2343",
   "metadata": {},
   "source": [
    "#### 96. Given a two dimensional array, how to extract unique rows? (★★★)"
   ]
  },
  {
   "cell_type": "code",
   "execution_count": null,
   "id": "4680dfd0",
   "metadata": {},
   "outputs": [],
   "source": []
  },
  {
   "cell_type": "markdown",
   "id": "89fef2f3",
   "metadata": {},
   "source": [
    "#### 97. Considering 2 vectors A & B, write the einsum equivalent of inner, outer, sum, and mul function (★★★)"
   ]
  },
  {
   "cell_type": "code",
   "execution_count": null,
   "id": "bb9c14b2",
   "metadata": {},
   "outputs": [],
   "source": []
  },
  {
   "cell_type": "markdown",
   "id": "7ad5cc5f",
   "metadata": {},
   "source": [
    "#### 98. Considering a path described by two vectors (X,Y), how to sample it using equidistant samples (★★★)?"
   ]
  },
  {
   "cell_type": "code",
   "execution_count": null,
   "id": "0899d1d5",
   "metadata": {},
   "outputs": [],
   "source": []
  },
  {
   "cell_type": "markdown",
   "id": "2b69272e",
   "metadata": {},
   "source": [
    "#### 99. Given an integer n and a 2D array X, select from X the rows which can be interpreted as draws from a multinomial distribution with n degrees, i.e., the rows which only contain integers and which sum to n. (★★★)"
   ]
  },
  {
   "cell_type": "code",
   "execution_count": null,
   "id": "55c8b034",
   "metadata": {},
   "outputs": [],
   "source": []
  },
  {
   "cell_type": "markdown",
   "id": "59ab5516",
   "metadata": {},
   "source": [
    "#### 100. Compute bootstrapped 95% confidence intervals for the mean of a 1D array X (i.e., resample the elements of an array with replacement N times, compute the mean of each sample, and then compute percentiles over the means). (★★★)"
   ]
  },
  {
   "cell_type": "code",
   "execution_count": null,
   "id": "450877d8",
   "metadata": {},
   "outputs": [],
   "source": []
  }
 ],
 "metadata": {
  "kernelspec": {
   "display_name": "Python 3 (ipykernel)",
   "language": "python",
   "name": "python3"
  },
  "language_info": {
   "codemirror_mode": {
    "name": "ipython",
    "version": 3
   },
   "file_extension": ".py",
   "mimetype": "text/x-python",
   "name": "python",
   "nbconvert_exporter": "python",
   "pygments_lexer": "ipython3",
   "version": "3.10.8"
  }
 },
 "nbformat": 4,
 "nbformat_minor": 5
}
