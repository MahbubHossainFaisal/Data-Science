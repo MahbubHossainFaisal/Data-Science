{
  "nbformat": 4,
  "nbformat_minor": 0,
  "metadata": {
    "colab": {
      "provenance": []
    },
    "kernelspec": {
      "name": "python3",
      "display_name": "Python 3"
    },
    "language_info": {
      "name": "python"
    }
  },
  "cells": [
    {
      "cell_type": "markdown",
      "source": [],
      "metadata": {
        "id": "6WdKdPGx-tnY"
      }
    },
    {
      "cell_type": "code",
      "source": [
        "import numpy as np"
      ],
      "metadata": {
        "id": "-J4F1ysN4mLk"
      },
      "execution_count": 1,
      "outputs": []
    },
    {
      "cell_type": "markdown",
      "source": [
        "###`Q-1` Create a null vector of size 10 but the fifth value which is 1.\n",
        "\n"
      ],
      "metadata": {
        "id": "a_K8IH-C6HDK"
      }
    },
    {
      "cell_type": "code",
      "source": [
        "#Code here\n",
        "arr = np.zeros(10, dtype = int)\n",
        "\n",
        "arr[4] = 1\n",
        "\n",
        "arr"
      ],
      "metadata": {
        "id": "sTF03KsZ6QUI",
        "colab": {
          "base_uri": "https://localhost:8080/"
        },
        "outputId": "1ab1cb64-23eb-4f2f-c872-e07d9263577f"
      },
      "execution_count": 2,
      "outputs": [
        {
          "output_type": "execute_result",
          "data": {
            "text/plain": [
              "array([0, 0, 0, 0, 1, 0, 0, 0, 0, 0])"
            ]
          },
          "metadata": {},
          "execution_count": 2
        }
      ]
    },
    {
      "cell_type": "markdown",
      "source": [
        "###`Q-2` Ask user to input two numbers a, b. Write a program to generate a random array of shape (a, b) and print the array and avg of the array."
      ],
      "metadata": {
        "id": "TEiG25rS6S1i"
      }
    },
    {
      "cell_type": "code",
      "source": [
        "#Code here\n",
        "\n",
        "a = int(input('Give input for row numbers: '))\n",
        "b = int(input('Give input for column numbers: '))\n",
        "\n",
        "\n",
        "arr = np.random.randint(low=0,high=100,size=a*b).reshape((a,b))\n",
        "\n",
        "avg = np.mean(arr)\n",
        "\n",
        "print('array: ',arr)\n",
        "print('avg: ',avg)"
      ],
      "metadata": {
        "id": "ihwn4oOH6Vh7",
        "colab": {
          "base_uri": "https://localhost:8080/"
        },
        "outputId": "98141d55-2445-4f3d-cf42-3ed7eff18961"
      },
      "execution_count": 3,
      "outputs": [
        {
          "output_type": "stream",
          "name": "stdout",
          "text": [
            "Give input for row numbers: 5\n",
            "Give input for column numbers: 4\n",
            "array:  [[86 82 52 99]\n",
            " [96 13  8 15]\n",
            " [68  0 61  1]\n",
            " [69 54 65 82]\n",
            " [93 61  4 17]]\n",
            "avg:  51.3\n"
          ]
        }
      ]
    },
    {
      "cell_type": "markdown",
      "source": [
        "\n",
        "###`Q-3`Write a function to create a 2d array with 1 on the border and 0 inside. Take 2-D array shape as (a,b) as parameter to function.\n",
        "\n",
        "Eg.-\n",
        "```\n",
        "\n",
        "[[1,1,1,1],\n",
        "[1,0,0,1],\n",
        "[1,0,0,1],\n",
        "[1,1,1,1]]\n",
        "```"
      ],
      "metadata": {
        "id": "2iEeybS06ZSq"
      }
    },
    {
      "cell_type": "code",
      "source": [
        "#Code here\n",
        "def onezero(a,b):\n",
        "  if a>2 and b>2:\n",
        "    arr = np.ones((a,b),dtype=int)\n",
        "    arr[1:a-1,1:b-1] = 0\n",
        "    return arr\n",
        "  else: \n",
        "    return np.ones((a,b),dtype=int)\n",
        "\n",
        "\n",
        "ans = onezero(2,2)\n",
        "print(ans)"
      ],
      "metadata": {
        "id": "gEKndkDU6ZSs",
        "colab": {
          "base_uri": "https://localhost:8080/"
        },
        "outputId": "b6c18288-ba2b-4233-e2f1-9efafe3966cb"
      },
      "execution_count": 4,
      "outputs": [
        {
          "output_type": "stream",
          "name": "stdout",
          "text": [
            "[[1 1]\n",
            " [1 1]]\n"
          ]
        }
      ]
    },
    {
      "cell_type": "markdown",
      "source": [
        "###`Q-4` Create a vector of size 10 with values ranging from 0 to 1, both excluded.\n"
      ],
      "metadata": {
        "id": "QRJicQ8j6ZlE"
      }
    },
    {
      "cell_type": "code",
      "source": [
        "#Code here\n",
        "\n",
        "np.linspace(0,1,12)[1:11]"
      ],
      "metadata": {
        "id": "eC4XLhDq6ZlF",
        "colab": {
          "base_uri": "https://localhost:8080/"
        },
        "outputId": "d1be2243-7cde-49dd-c64b-41fd64e05653"
      },
      "execution_count": 5,
      "outputs": [
        {
          "output_type": "execute_result",
          "data": {
            "text/plain": [
              "array([0.09090909, 0.18181818, 0.27272727, 0.36363636, 0.45454545,\n",
              "       0.54545455, 0.63636364, 0.72727273, 0.81818182, 0.90909091])"
            ]
          },
          "metadata": {},
          "execution_count": 5
        }
      ]
    },
    {
      "cell_type": "markdown",
      "source": [
        "###`Q-5` Can you create a identity mattrix of shape (3,4). If yes write code for it."
      ],
      "metadata": {
        "id": "vb4jK4yQ6Zs2"
      }
    },
    {
      "cell_type": "code",
      "source": [
        "#Code here\n",
        "#No to create a identity matrix , row and column must be same size"
      ],
      "metadata": {
        "id": "DTV_AbMS6Zs4"
      },
      "execution_count": 68,
      "outputs": []
    },
    {
      "cell_type": "markdown",
      "source": [],
      "metadata": {
        "id": "zF06JARE3TRL"
      }
    },
    {
      "cell_type": "markdown",
      "source": [
        "###`Q-6:` Create a 5x5 matrix with row values ranging from 0 to 4."
      ],
      "metadata": {
        "id": "QtjAFm5PEntK"
      }
    },
    {
      "cell_type": "code",
      "source": [
        "#Code here\n",
        "np.linspace(0,4,25, dtype = int).reshape(5,5)"
      ],
      "metadata": {
        "id": "z2WGxRjvEuRS",
        "colab": {
          "base_uri": "https://localhost:8080/"
        },
        "outputId": "ae4be9e8-45a4-4a2e-f12c-bf0dfd89ada4"
      },
      "execution_count": 7,
      "outputs": [
        {
          "output_type": "execute_result",
          "data": {
            "text/plain": [
              "array([[0, 0, 0, 0, 0],\n",
              "       [0, 1, 1, 1, 1],\n",
              "       [1, 1, 2, 2, 2],\n",
              "       [2, 2, 2, 3, 3],\n",
              "       [3, 3, 3, 3, 4]])"
            ]
          },
          "metadata": {},
          "execution_count": 7
        }
      ]
    },
    {
      "cell_type": "markdown",
      "source": [
        "###`Q-7:`  Consider a random integer (in range 1 to 100) vector with shape `(10,2)` representing coordinates, and coordinates of a point as array is given. Create an array of distance of each point in the random vectros from the given point. Distance array should be interger type.\n",
        "\n",
        "```\n",
        "point = np.array([2,3]) \n",
        "```\n"
      ],
      "metadata": {
        "id": "KPpvxKjVHnyx"
      }
    },
    {
      "cell_type": "code",
      "source": [
        "#code here\n",
        "import math\n",
        "point = np.array([2,3]) \n",
        "distance = []\n",
        "arr = np.random.randint(low=1,high=100,size=10*2).reshape((10,2))\n",
        "\n",
        "for i in range(len(arr)):\n",
        "  #print(arr[i])\n",
        "  x1 = point[0]\n",
        "  y1 = point[1]\n",
        "  x2 = arr[i][0]\n",
        "  y2 = arr[i][1]\n",
        "\n",
        "  d = ((x2-x1)**2 + (y2-y1)**2)**.5\n",
        "  #print(d)\n",
        "  distance.append(d)\n",
        "\n",
        "print(distance)"
      ],
      "metadata": {
        "id": "X7KGnWLNIM6f",
        "colab": {
          "base_uri": "https://localhost:8080/"
        },
        "outputId": "cbc58a68-ff09-407a-c205-13ee5e6da4f3"
      },
      "execution_count": 8,
      "outputs": [
        {
          "output_type": "stream",
          "name": "stdout",
          "text": [
            "[95.1892851112981, 72.47068372797375, 124.96399481450646, 53.150729063673246, 11.704699910719626, 66.2872536767062, 56.60388679233962, 68.73136110975832, 95.90099061010788, 76.48529270389177]\n"
          ]
        }
      ]
    },
    {
      "cell_type": "markdown",
      "source": [
        "###`Q-8:` Consider a (6,7,8) shape array, what is the index (x,y,z) of the 100th element?"
      ],
      "metadata": {
        "id": "tajOFJlCDwTr"
      }
    },
    {
      "cell_type": "code",
      "source": [
        "#Code here\n",
        "\n",
        "import numpy as np\n",
        "\n",
        "arr = np.zeros((6, 7, 8))\n",
        "\n",
        "# find the indices of the 100th element\n",
        "idx = np.unravel_index(99, arr.shape)\n",
        "\n",
        "\n",
        "#print(arr)\n",
        "print(idx)"
      ],
      "metadata": {
        "id": "qH4oxvs0D3Ra",
        "colab": {
          "base_uri": "https://localhost:8080/"
        },
        "outputId": "eb61cf95-32ff-4861-bda2-d0d5b70e69c7"
      },
      "execution_count": 9,
      "outputs": [
        {
          "output_type": "stream",
          "name": "stdout",
          "text": [
            "(1, 5, 3)\n"
          ]
        }
      ]
    },
    {
      "cell_type": "markdown",
      "source": [
        "np.unravel_index() is a function in NumPy that takes a single integer index and the shape of an array, and returns the tuple of indices that corresponds to the position of the element at that index in the flattened array.\n",
        "\n",
        "In the given example, we first create a NumPy array arr with shape (6, 7, 8) and fill it with zeros using the np.zeros() function. Then, we use np.unravel_index() to find the tuple of indices that corresponds to the 100th element in the flattened array.\n",
        "\n",
        "The arr.shape attribute returns the shape of the arr array as a tuple. In this case, the shape tuple is (6, 7, 8), which means that arr has 6 rows, 7 columns, and 8 \"depth\" or \"height\" dimensions.\n",
        "\n",
        "By passing the integer index 99 and the shape tuple (6, 7, 8) to np.unravel_index(), we get the tuple of indices (1, 5, 3) that corresponds to the position of the 100th element in the flattened arr array. This means that the element at position (1, 5, 3) in the original 3D array has a flattened index of 99.\n",
        "\n",
        "\n",
        "\n",
        "\n"
      ],
      "metadata": {
        "id": "VwRG5YzXWE4o"
      }
    },
    {
      "cell_type": "markdown",
      "source": [
        "### `Q-9:` Arrays\n",
        "\n",
        "You are given a space separated list of numbers. Your task is to print a reversed NumPy array with the element type float.\n",
        "\n"
      ],
      "metadata": {
        "id": "9LxBAbT2Pw33"
      }
    },
    {
      "cell_type": "markdown",
      "source": [
        "**Input Format:**\n",
        "\n",
        "A single line of input containing space separated numbers.\n",
        "\n",
        "**Output Format:**\n",
        "\n",
        "Print the reverse NumPy array with type float.\n",
        "\n",
        "**Example 1:**\n",
        "\n",
        "Input:\n",
        "\n",
        "```bash\n",
        "1 2 3 4 -8 -10\n",
        "```\n",
        "\n",
        "Output:\n",
        "\n",
        "```bash\n",
        "[-10.  -8.   4.   3.   2.   1.]\n",
        "```"
      ],
      "metadata": {
        "id": "JJpqVms2Nq7L"
      }
    },
    {
      "cell_type": "code",
      "source": [
        "#Code here\n",
        "arr = [1,2,3,4,-8,-10]\n",
        "\n",
        "ans = np.array(arr[::-1], dtype=float)\n",
        "\n",
        "ans\n"
      ],
      "metadata": {
        "id": "7iQyg6ChNl3j",
        "colab": {
          "base_uri": "https://localhost:8080/"
        },
        "outputId": "d0f80d81-d533-49fe-a7c7-3765d92b92e9"
      },
      "execution_count": 10,
      "outputs": [
        {
          "output_type": "execute_result",
          "data": {
            "text/plain": [
              "array([-10.,  -8.,   4.,   3.,   2.,   1.])"
            ]
          },
          "metadata": {},
          "execution_count": 10
        }
      ]
    },
    {
      "cell_type": "markdown",
      "source": [
        "### `Q-10:` Elements count\n",
        "\n",
        "Count the number of elements of a numpy array.\n",
        "\n"
      ],
      "metadata": {
        "id": "TPxD7jM8Sjz9"
      }
    },
    {
      "cell_type": "markdown",
      "source": [
        "**Example 1:**\n",
        "\n",
        "Input:\n",
        "```bash\n",
        "np.array([])\n",
        "```\n",
        "\n",
        "Output:\n",
        "```bash\n",
        "elements_count :  0\n",
        "```\n",
        "\n",
        "**Example 2:**\n",
        "\n",
        "Input:\n",
        "```bash\n",
        "np.array([1, 2])\n",
        "```\n",
        "\n",
        "Output:\n",
        "```bash\n",
        "elements_count :  2\n",
        "```"
      ],
      "metadata": {
        "id": "oHTiTz_jNkAU"
      }
    },
    {
      "cell_type": "code",
      "source": [
        "#Code here\n",
        "\n",
        "numpy_arr = np.arange(12).reshape((3,4))\n",
        "print(numpy_arr.size)"
      ],
      "metadata": {
        "id": "RG0H2I-TNeGN",
        "colab": {
          "base_uri": "https://localhost:8080/"
        },
        "outputId": "d521ac81-bcf7-4585-9969-6b8db1e4f337"
      },
      "execution_count": 11,
      "outputs": [
        {
          "output_type": "stream",
          "name": "stdout",
          "text": [
            "12\n"
          ]
        }
      ]
    },
    {
      "cell_type": "markdown",
      "source": [
        "### `Q-11:` Softmax function\n",
        "\n",
        "Create a Python function to calculate the Softmax of the given numpy 1D array. The function only accepts the numpy 1D array, otherwise raise error.\n",
        "\n",
        "$$\\Large \\sigma(\\vec z)_i = \\frac{e^{z_i}}{\\sum_{j=i}^{K}{e^{z_j}}}$$\n",
        "\n",
        "https://en.wikipedia.org/wiki/Softmax_function\n",
        "\n"
      ],
      "metadata": {
        "id": "pwgPz-3l5ic5"
      }
    },
    {
      "cell_type": "markdown",
      "source": [
        "**Example 1:**\n",
        "\n",
        "Input:\n",
        "```bash\n",
        "[86.03331084 37.7285648  48.64908087 87.16563062 38.40852563 37.20006318]\n",
        "```\n",
        "\n",
        "Output:\n",
        "```bash\n",
        "[2.43733249e-01, 2.56112115e-22, 1.41628284e-17, 7.56266751e-01, \n",
        "       5.05514197e-22, 1.50974911e-22]\n",
        "```\n",
        "\n",
        "**Example 2:**\n",
        "\n",
        "Input:\n",
        "```bash\n",
        "[33.17344305 45.61961654 82.05405781 80.9647098  68.82830233 91.52064278]\n",
        "```\n",
        "\n",
        "Output:\n",
        "```bash\n",
        "[4.57181035e-26, 1.16249923e-20, 7.73872596e-05, 2.60358426e-05,\n",
        "       1.39571531e-10, 9.99896577e-01]\n",
        "```"
      ],
      "metadata": {
        "id": "eZ3WJt6UM1ul"
      }
    },
    {
      "cell_type": "markdown",
      "source": [
        "The softmax function is a commonly used activation function in machine learning and deep learning. It is a mathematical function that takes as input a vector of numbers and returns a vector of the same size, with values that represent the probabilities of each input value belonging to different categories.\n",
        "\n",
        " Let's say we have a list of students and we want to predict their grades in a test. We have some information about each student, like how many hours they studied, how much sleep they got, and how much they enjoyed the subject. We want to use this information to predict the grade each student will get.\n",
        "\n",
        "We can represent each student's information as a list of numbers. For example, one student's information might be [10, 7, 8], where the first number represents the hours they studied, the second number represents the hours of sleep they got, and the third number represents how much they enjoyed the subject.\n",
        "\n",
        "We can use the softmax function to predict the grade each student will get. We'll first train our computer using data from other students. We'll have a list of each student's information and the grade they got in the test. We'll use this data to figure out the best values for the numbers we use in the softmax function.\n",
        "\n",
        "Once we've trained our computer, we can give it the information for a new student, like [12, 6, 9], and it will give us a list of numbers that represent the chance of the student getting each possible grade. We can look at the list and see which grade has the highest chance, and that will be our prediction for the student's grade.\n",
        "\n",
        "\n",
        "The softmax function is defined mathematically as follows:\n",
        "\n",
        "Given an input vector z = [z1, z2, ..., zn], the softmax function computes the output vector y = [y1, y2, ..., yn] where:\n",
        "\n",
        "yi = e^zi / (e^z1 + e^z2 + ... + e^zn)"
      ],
      "metadata": {
        "id": "bkETJFhZWc35"
      }
    },
    {
      "cell_type": "code",
      "source": [
        "import numpy as np\n",
        "\n",
        "def softmax(x):\n",
        "  if x.ndim != 1:\n",
        "    print('Please provide a vector!')\n",
        "  else:\n",
        "    exp_x = np.exp(x)\n",
        "    softmax_x = exp_x / np.sum(exp_x, keepdims=True)\n",
        "    return softmax_x\n",
        "\n",
        "ans = softmax(np.array([33.17344305,45.61961654 ,82.05405781, 80.9647098,  68.82830233, 91.52064278]))\n",
        "print(ans)"
      ],
      "metadata": {
        "id": "VNzj05lkNaNi",
        "colab": {
          "base_uri": "https://localhost:8080/"
        },
        "outputId": "2a71c024-92ba-48bf-a75e-6dd7d3641869"
      },
      "execution_count": 12,
      "outputs": [
        {
          "output_type": "stream",
          "name": "stdout",
          "text": [
            "[4.57181033e-26 1.16249922e-20 7.73872594e-05 2.60358426e-05\n",
            " 1.39571531e-10 9.99896577e-01]\n"
          ]
        }
      ]
    },
    {
      "cell_type": "markdown",
      "source": [
        "exp_x = np.exp(x), calculates the exponential of each number in the x array. This means that each number in x is raised to the power of a special number called \"e\". The result is a new numpy array called exp_x that has the same shape as x.\n",
        "\n",
        "The second line, softmax_x = exp_x / np.sum(exp_x, keepdims=True), calculates the softmax function for each number in x. First, it calculates the sum of all the exponential values in the exp_x array using np.sum(exp_x, keepdims=True). The keepdims=True argument is used to make sure that the sum is a numpy array with the same shape as exp_x, which is important for the next step.\n",
        "\n",
        "Next, it divides each value in the exp_x array by the sum that was calculated in the previous step. This gives us a new numpy array called softmax_x that contains the chance of each number in x belonging to a certain category."
      ],
      "metadata": {
        "id": "G5DlIUL6XdYm"
      }
    },
    {
      "cell_type": "markdown",
      "source": [
        "### `Q-12:` Vertical stack\n",
        "\n",
        "Write a python function that accepts infinite number of numpy arrays and do the vertical stack to them. Then return that new array as result. The function only accepts the numpy array, otherwise raise error.\n",
        "\n"
      ],
      "metadata": {
        "id": "k4JWSwWu_HXg"
      }
    },
    {
      "cell_type": "markdown",
      "source": [
        "**Example 1:**\n",
        "\n",
        "Input:\n",
        "```bash\n",
        "a= [[0 1 2 3 4]\n",
        " [5 6 7 8 9]]\n",
        "\n",
        "b= [[1 1 1 1 1]\n",
        " [1 1 1 1 1]]\n",
        "```\n",
        "\n",
        "Output:\n",
        "\n",
        "```bash\n",
        "[[0 1 2 3 4]\n",
        " [5 6 7 8 9]\n",
        " [1 1 1 1 1]\n",
        " [1 1 1 1 1]]\n",
        "```\n",
        "\n",
        "**Example 2:**\n",
        "\n",
        "Input:\n",
        "```bash\n",
        "a= [[0 1 2 3 4]\n",
        " [5 6 7 8 9]]\n",
        "\n",
        "b= [[1 1 1 1 1]\n",
        " [1 1 1 1 1]]\n",
        "\n",
        "c= [[0.10117373 0.1677244  0.73764059 0.83166097 0.48985695]\n",
        " [0.44581567 0.13502419 0.55692335 0.16479622 0.61193593]] \n",
        "```\n",
        "\n",
        "Output:\n",
        "```bash\n",
        "[[0.         1.         2.         3.         4.        ]\n",
        " [5.         6.         7.         8.         9.        ]\n",
        " [1.         1.         1.         1.         1.        ]\n",
        " [1.         1.         1.         1.         1.        ]\n",
        " [0.10117373 0.1677244  0.73764059 0.83166097 0.48985695]\n",
        " [0.44581567 0.13502419 0.55692335 0.16479622 0.61193593]]\n",
        "```"
      ],
      "metadata": {
        "id": "XhhV3mraNAWr"
      }
    },
    {
      "cell_type": "code",
      "source": [
        "#Coder here\n",
        "\n",
        "import numpy as np\n",
        "\n",
        "def vstack(*args):\n",
        "  #print(args)\n",
        "  for arg in args:\n",
        "      if not isinstance(arg, np.ndarray):\n",
        "          raise ValueError(\"Input is not a numpy array\")\n",
        "  return np.vstack(args)\n",
        "\n",
        "\n",
        "\n",
        "a = np.array([[1, 2, 3], [4, 5, 6],[32,41,56]])\n",
        "b = np.array([[7, 8, 9], [10, 11, 12]])\n",
        "c = np.array([[13, 14, 15], [16, 17, 18]])\n",
        "\n",
        "result = vstack(a, b, c)\n",
        "print(result)"
      ],
      "metadata": {
        "id": "dhtnbSj6NP8z",
        "colab": {
          "base_uri": "https://localhost:8080/"
        },
        "outputId": "36029168-68c6-4062-c559-922f04d67420"
      },
      "execution_count": 13,
      "outputs": [
        {
          "output_type": "stream",
          "name": "stdout",
          "text": [
            "[[ 1  2  3]\n",
            " [ 4  5  6]\n",
            " [32 41 56]\n",
            " [ 7  8  9]\n",
            " [10 11 12]\n",
            " [13 14 15]\n",
            " [16 17 18]]\n"
          ]
        }
      ]
    },
    {
      "cell_type": "markdown",
      "source": [
        "### `Q-13:` Dates\n",
        "\n",
        "Create a python function named **date_array** that accepts two dates as string format and returns a numpy array of dates between those 2 dates. The function only accept 2 strings, otherwise raise error. The date format should be like this only: `2022-12-6`. The end date should be included and for simplicity, choose dates from a same year.\n",
        "\n"
      ],
      "metadata": {
        "id": "3mk8T6CuC2DP"
      }
    },
    {
      "cell_type": "markdown",
      "source": [
        "**Example 1:**\n",
        "\n",
        "Input:\n",
        "```bash\n",
        "date_array(start = '2020-09-15', end = '2020-09-25')\n",
        "```\n",
        "\n",
        "Output:\n",
        "```bash\n",
        "['2020-09-15', '2020-09-16', '2020-09-17', '2020-09-18',\n",
        " '2020-09-19', '2020-09-20', '2020-09-21', '2020-09-22',\n",
        " '2020-09-23', '2020-09-24', '2020-09-25']\n",
        "```\n",
        "\n",
        "**Example 2:**\n",
        "\n",
        "Input:\n",
        "```bash\n",
        "date_array(start = '2022-12-01', end = '2022-12-06')\n",
        "```\n",
        "\n",
        "Output:\n",
        "```bash\n",
        "['2022-12-01', '2022-12-02', '2022-12-03', '2022-12-04', '2022-12-05', '2022-12-06']\n",
        "```\n",
        "\n",
        "**Example 3:**\n",
        "\n",
        "Input:\n",
        "```bash\n",
        "date_array(start = '2020-11-25', end = '2020-11-30')\n",
        "```\n",
        "\n",
        "Output:\n",
        "```bash\n",
        "['2020-11-25', '2020-11-26', '2020-11-27', '2020-11-28',\n",
        " '2020-11-29', '2020-11-30']\n",
        "```"
      ],
      "metadata": {
        "id": "E3IgjnTTNFEk"
      }
    },
    {
      "cell_type": "code",
      "source": [
        "#Code here\n",
        "from datetime import datetime, timedelta\n",
        "\n",
        "def date_array(date1,date2):\n",
        "  if not isinstance(date1,str) and not isinstance(date2,str):\n",
        "    raise ValueError('Dates are not string type')\n",
        "\n",
        "  try:\n",
        "    dt1 = datetime.strptime(date1,'%Y-%m-%d')\n",
        "    dt2 = datetime.strptime(date2,'%Y-%m-%d')\n",
        "  except ValueError:\n",
        "    raise ValueError('Date inputs are not given according to the asked format.')\n",
        "  \n",
        "  if dt1.year != dt2.year:\n",
        "    raise ValueError('The year of the dates must be same')\n",
        "\n",
        "  num_of_days = (dt2-dt1).days+1\n",
        "  date_arr = np.array([dt1 + timedelta(days=i) for i in range(num_of_days)], dtype='datetime64[D]')\n",
        "  return date_arr\n",
        "\n",
        "\n",
        "\n",
        "ans = date_array('2020-11-25','2020-11-30')\n",
        "print(ans)"
      ],
      "metadata": {
        "id": "Yj5PBfQQNTnL",
        "colab": {
          "base_uri": "https://localhost:8080/"
        },
        "outputId": "801c5ac5-cf22-419f-95a1-9cdbd62f2c5c"
      },
      "execution_count": 14,
      "outputs": [
        {
          "output_type": "stream",
          "name": "stdout",
          "text": [
            "['2020-11-25' '2020-11-26' '2020-11-27' '2020-11-28' '2020-11-29'\n",
            " '2020-11-30']\n"
          ]
        }
      ]
    },
    {
      "cell_type": "markdown",
      "source": [
        "###`Q-14:` Subtract the mean of each row from a matrix."
      ],
      "metadata": {
        "id": "bcEp0wTWQijK"
      }
    },
    {
      "cell_type": "code",
      "source": [
        "#code here\n",
        "import numpy as np\n",
        "\n",
        "mat = np.array([[1, 2, 3], [4, 5, 6], [7, 8, 9]])\n",
        "x=3\n",
        "y=3\n",
        "\n",
        "# calculating the row means\n",
        "row_means = np.mean(mat, axis=1)\n",
        "z=0\n",
        "# subtract the row means using a for loop\n",
        "for i in range(x):\n",
        "  \n",
        "  for j in range(y):\n",
        "    mat[i][j] = mat[i][j] - row_means[z]\n",
        "  z+=1\n",
        "  \n",
        "mat"
      ],
      "metadata": {
        "id": "rpILVGcgQzMo",
        "colab": {
          "base_uri": "https://localhost:8080/"
        },
        "outputId": "ff46a74b-6a90-4592-868a-fdb6d2ca2ee1"
      },
      "execution_count": 15,
      "outputs": [
        {
          "output_type": "execute_result",
          "data": {
            "text/plain": [
              "array([[-1,  0,  1],\n",
              "       [-1,  0,  1],\n",
              "       [-1,  0,  1]])"
            ]
          },
          "metadata": {},
          "execution_count": 15
        }
      ]
    },
    {
      "cell_type": "markdown",
      "source": [
        "###`Q-15:` Swap column-1 of array with column-2 in the array."
      ],
      "metadata": {
        "id": "A-dMVlPPSBTT"
      }
    },
    {
      "cell_type": "code",
      "source": [
        "import numpy as np\n",
        "\n",
        "# create a sample 2D array\n",
        "arr = np.array([[1, 2, 3], [4, 5, 6], [7, 8, 9]])\n",
        "\n",
        "# swap column-1 with column-2\n",
        "arr[:, 1], arr[:, 2] = arr[:, 2], arr[:, 1].copy()\n",
        "\n",
        "print(arr)"
      ],
      "metadata": {
        "colab": {
          "base_uri": "https://localhost:8080/"
        },
        "id": "y287CVEDwhiy",
        "outputId": "6a87e43d-e802-41ee-e06a-d98574ac82a4"
      },
      "execution_count": 16,
      "outputs": [
        {
          "output_type": "stream",
          "name": "stdout",
          "text": [
            "[[1 3 2]\n",
            " [4 6 5]\n",
            " [7 9 8]]\n"
          ]
        }
      ]
    },
    {
      "cell_type": "code",
      "source": [
        "#Code here\n",
        "\n",
        "arr = np.arange(12).reshape(3,4)\n",
        "\n",
        "x = arr[:,1]\n",
        "y=x\n",
        "print(x)\n",
        "print(arr)\n",
        "arr[:,1] = arr[:,2]\n",
        "print(x)\n",
        "print(y)\n",
        "print(arr)\n",
        "arr[:,2] = y\n",
        "\n",
        "print(arr)\n"
      ],
      "metadata": {
        "id": "3RtngM9-Q6S7",
        "colab": {
          "base_uri": "https://localhost:8080/"
        },
        "outputId": "60c22ee5-b5ec-4757-d419-890ef372bf03"
      },
      "execution_count": 17,
      "outputs": [
        {
          "output_type": "stream",
          "name": "stdout",
          "text": [
            "[1 5 9]\n",
            "[[ 0  1  2  3]\n",
            " [ 4  5  6  7]\n",
            " [ 8  9 10 11]]\n",
            "[ 2  6 10]\n",
            "[ 2  6 10]\n",
            "[[ 0  2  2  3]\n",
            " [ 4  6  6  7]\n",
            " [ 8 10 10 11]]\n",
            "[[ 0  2  2  3]\n",
            " [ 4  6  6  7]\n",
            " [ 8 10 10 11]]\n"
          ]
        }
      ]
    },
    {
      "cell_type": "code",
      "source": [],
      "metadata": {
        "id": "ueoMV_LlSnGU"
      },
      "execution_count": 17,
      "outputs": []
    },
    {
      "cell_type": "markdown",
      "source": [
        "###`Q-16:` Replace odd elements in arrays with -1."
      ],
      "metadata": {
        "id": "cB4VMexvS6Zi"
      }
    },
    {
      "cell_type": "code",
      "source": [
        "#Code here\n",
        "\n",
        "import numpy as np\n",
        "\n",
        "mat = np.array([[1, 2, 3], [4, 5, 6], [7, 8, 9]])\n",
        "\n",
        "# replace odd elements with -1\n",
        "mat[mat % 2 == 1] = -1\n",
        "\n",
        "print(mat)"
      ],
      "metadata": {
        "id": "Bt83nXEVS5O4",
        "colab": {
          "base_uri": "https://localhost:8080/"
        },
        "outputId": "ac19f476-5407-43f7-c179-eac90d54b712"
      },
      "execution_count": 18,
      "outputs": [
        {
          "output_type": "stream",
          "name": "stdout",
          "text": [
            "[[-1  2 -1]\n",
            " [ 4 -1  6]\n",
            " [-1  8 -1]]\n"
          ]
        }
      ]
    },
    {
      "cell_type": "code",
      "source": [],
      "metadata": {
        "id": "1ZlvMaXLVyoW"
      },
      "execution_count": 18,
      "outputs": []
    },
    {
      "cell_type": "markdown",
      "source": [
        "###`Q-17:` Given two arrays of same shape make an array of max out of two arrays. (Numpy way)\n",
        "```\n",
        "a=np.array([6,3,1,5,8])\n",
        "b=np.array([3,2,1,7,2])\n",
        "\n",
        "Result-> [6 3 1 7 8]\n",
        "``` "
      ],
      "metadata": {
        "id": "kf_qvmBxWIT_"
      }
    },
    {
      "cell_type": "code",
      "source": [
        "#Code here"
      ],
      "metadata": {
        "id": "TB9ZvF-EZSfu"
      },
      "execution_count": 19,
      "outputs": []
    },
    {
      "cell_type": "code",
      "source": [
        "a=np.array([6,3,1,5,8])\n",
        "b=np.array([3,2,1,7,2])\n",
        "\n",
        "c = np.maximum(a,b)\n",
        "c"
      ],
      "metadata": {
        "id": "D7ad-A6jZzCL",
        "colab": {
          "base_uri": "https://localhost:8080/"
        },
        "outputId": "94456df5-ee73-4a58-98a9-cd9a5488dd60"
      },
      "execution_count": 20,
      "outputs": [
        {
          "output_type": "execute_result",
          "data": {
            "text/plain": [
              "array([6, 3, 1, 7, 8])"
            ]
          },
          "metadata": {},
          "execution_count": 20
        }
      ]
    },
    {
      "cell_type": "markdown",
      "source": [
        "###`Q-18` Answer below asked questions on given array:\n",
        "1. Fetch Every alternate column of the array\n",
        "2. Normalise the given array\n",
        "\n",
        "https://en.wikipedia.org/wiki/Normalization_(statistics)\n",
        "\n",
        "There are different form of normalisation for this question use below formula.\n",
        "\n",
        "$$\\large X_{normalized} = \\frac{X - X_{min}}{X_{max} - X_{min}}$$\n",
        "\n",
        "```python\n",
        "arr1=np.random.randint(low=1, high=10000, size=40).reshape(8,5)\n",
        "```\n"
      ],
      "metadata": {
        "id": "iOQLUIeGc3zA"
      }
    },
    {
      "cell_type": "markdown",
      "source": [
        "Normalization in statistics is a technique used to transform data so that it has a standard scale or range. The goal of normalization is to bring all the variables in a dataset to a similar scale, making it easier to compare them.\n",
        "\n",
        "There are several ways to normalize data, but one common approach is to rescale the data so that it has a mean of 0 and a standard deviation of 1. This is known as standardization or z-score normalization.\n",
        "you know how we measure things like height, weight, and temperature, right? And sometimes, we want to compare different measurements, but they might not be in the same units or scale.\n",
        "\n",
        "For example, one person might measure their height in inches, and another might measure in centimeters. It can be hard to compare their heights if we're using different units, right?\n",
        "\n",
        "That's where normalization statistics come in! Basically, it's a way to make different measurements easier to compare by putting them on the same scale.\n",
        "\n",
        "It's like if we're playing a game and we want to know who's doing better. If we just look at the score, we might think that one person is winning. But if we know how many turns each person has had, we can divide their score by the number of turns to get their average score per turn. Then, we can compare their scores more fairly!\n",
        "\n",
        "Normalization statistics work kind of like that. They help us compare measurements by adjusting them based on things like the average, minimum, and maximum values. This makes it easier to see patterns or differences between different sets of data, even if they started out in different units or scales."
      ],
      "metadata": {
        "id": "HjytGr8UN-0S"
      }
    },
    {
      "cell_type": "code",
      "source": [
        "# Given\n",
        "arr1=np.random.randint(low=1, high=10000, size=40).reshape(8,5)\n",
        "arr1"
      ],
      "metadata": {
        "colab": {
          "base_uri": "https://localhost:8080/"
        },
        "id": "vjSm18k3d_1p",
        "outputId": "361457fd-6906-45d8-ef8a-3417ad81916f"
      },
      "execution_count": 21,
      "outputs": [
        {
          "output_type": "execute_result",
          "data": {
            "text/plain": [
              "array([[7370, 1480,  644, 2779, 4025],\n",
              "       [1358, 1865, 2370, 2353, 8408],\n",
              "       [7730, 8590, 7614, 4560, 3901],\n",
              "       [2745, 1370, 7665, 6608, 7420],\n",
              "       [7204, 3263, 2560, 6649, 7610],\n",
              "       [6338, 3927,  830, 4006, 6805],\n",
              "       [ 999, 4628, 9731, 2071, 1185],\n",
              "       [1757, 6857, 6743, 2621, 4359]])"
            ]
          },
          "metadata": {},
          "execution_count": 21
        }
      ]
    },
    {
      "cell_type": "code",
      "source": [
        "#Code here\n",
        "\n",
        "arr1[:,::2]"
      ],
      "metadata": {
        "id": "d7u8DB47eBfQ",
        "colab": {
          "base_uri": "https://localhost:8080/"
        },
        "outputId": "e14c3e1b-72bd-4938-d042-1e543e3beb9c"
      },
      "execution_count": 27,
      "outputs": [
        {
          "output_type": "execute_result",
          "data": {
            "text/plain": [
              "array([[7370,  644, 4025],\n",
              "       [1358, 2370, 8408],\n",
              "       [7730, 7614, 3901],\n",
              "       [2745, 7665, 7420],\n",
              "       [7204, 2560, 7610],\n",
              "       [6338,  830, 6805],\n",
              "       [ 999, 9731, 1185],\n",
              "       [1757, 6743, 4359]])"
            ]
          },
          "metadata": {},
          "execution_count": 27
        }
      ]
    },
    {
      "cell_type": "code",
      "source": [
        "min_value = np.min(arr1)\n",
        "min"
      ],
      "metadata": {
        "colab": {
          "base_uri": "https://localhost:8080/"
        },
        "id": "H2siBVG1NFej",
        "outputId": "b0ba33ff-490f-4623-b7ce-34d2ea27c6e1"
      },
      "execution_count": 32,
      "outputs": [
        {
          "output_type": "execute_result",
          "data": {
            "text/plain": [
              "644"
            ]
          },
          "metadata": {},
          "execution_count": 32
        }
      ]
    },
    {
      "cell_type": "code",
      "source": [
        "max_value = np.max(arr1)\n",
        "max_value"
      ],
      "metadata": {
        "colab": {
          "base_uri": "https://localhost:8080/"
        },
        "id": "WPilPiyPNaFK",
        "outputId": "ca5fa184-cd54-404d-c061-24a8dc288fe9"
      },
      "execution_count": 33,
      "outputs": [
        {
          "output_type": "execute_result",
          "data": {
            "text/plain": [
              "9731"
            ]
          },
          "metadata": {},
          "execution_count": 33
        }
      ]
    },
    {
      "cell_type": "code",
      "source": [
        "normalized_arr = (arr1 - min_value) / (max_value - min_value)\n",
        "normalized_arr"
      ],
      "metadata": {
        "colab": {
          "base_uri": "https://localhost:8080/"
        },
        "id": "ImuD2E79NaJj",
        "outputId": "583c7f82-15a6-49b1-f696-c4e2ff2bde40"
      },
      "execution_count": 34,
      "outputs": [
        {
          "output_type": "execute_result",
          "data": {
            "text/plain": [
              "array([[0.74017828, 0.09199956, 0.        , 0.23495103, 0.37206999],\n",
              "       [0.07857379, 0.13436778, 0.18994167, 0.18807087, 0.8544074 ],\n",
              "       [0.77979531, 0.87443601, 0.76702982, 0.43094531, 0.35842412],\n",
              "       [0.23120942, 0.07989435, 0.77264224, 0.65632222, 0.74568064],\n",
              "       [0.72191042, 0.28821393, 0.21085067, 0.66083416, 0.76658963],\n",
              "       [0.62660944, 0.36128535, 0.0204688 , 0.36997909, 0.67800154],\n",
              "       [0.0390668 , 0.43842852, 1.        , 0.15703753, 0.0595356 ],\n",
              "       [0.12248267, 0.683724  , 0.67117861, 0.21756355, 0.4088258 ]])"
            ]
          },
          "metadata": {},
          "execution_count": 34
        }
      ]
    },
    {
      "cell_type": "markdown",
      "source": [
        "###`Q-19:` Write a function which will accept 2 arguments.\n",
        "First: A 1D numpy array arr\n",
        "\n",
        "Second: An integer n {Please make sure n<=len(arr)}\n",
        "\n",
        "Output: The output should be the nth largest item out of the array\n",
        "```\n",
        "# Example1 : arr=(12,34,40,7,1,0) and n=3, the output should be 12\n",
        "# Example2 : arr=(12,34,40,7,1,0) and n=1, the output should be 40\n",
        "```"
      ],
      "metadata": {
        "id": "jCzsVEKLgGNo"
      }
    },
    {
      "cell_type": "markdown",
      "source": [
        "**np.partition** is a numpy function that is used to partition a numpy array along a specified axis. The function returns a new array where the elements on one side of the partition are smaller or equal to the elements on the other side, but the elements on each side may not be in any particular order."
      ],
      "metadata": {
        "id": "_vi7CC8CQcwS"
      }
    },
    {
      "cell_type": "code",
      "source": [
        "#Code here\n",
        "\n",
        "def nthLargest(arr,n):\n",
        " nth = np.partition(arr,-n)[::-1][n-1]\n",
        " print(nth)\n",
        "\n",
        "\n",
        "arr = np.array([12,34,47,7,1,0,45,41,64,13])\n",
        "\n",
        "nthLargest(arr,4)\n"
      ],
      "metadata": {
        "id": "J4AzkDk7gXSG",
        "colab": {
          "base_uri": "https://localhost:8080/"
        },
        "outputId": "b4f5ad3c-18da-44f1-e4a4-996e49310b22"
      },
      "execution_count": 59,
      "outputs": [
        {
          "output_type": "stream",
          "name": "stdout",
          "text": [
            "41\n"
          ]
        }
      ]
    },
    {
      "cell_type": "markdown",
      "source": [
        "In the code np.partition(arr, -n), the negative sign before the n indicates that we want to partition the array based on the nth largest element rather than the nth smallest element.\n",
        "The np.partition function can partition an array based on either the nth smallest or nth largest element. If kth is a positive integer, the array will be partitioned based on the nth smallest element, i.e., the first kth elements will be the smallest elements in the array, and the remaining elements will be the remaining elements in any order.\n",
        "\n",
        "However, if kth is a negative integer, the array will be partitioned based on the nth largest element, i.e., the last abs(kth) elements will be the largest elements in the array, and the remaining elements will be the remaining elements in any order."
      ],
      "metadata": {
        "id": "17zaYm94RG5Y"
      }
    },
    {
      "cell_type": "markdown",
      "source": [
        "###`Q-20:` Create the following pattern without hardcoding. Use only numpy functions and the below input array a.\n",
        "```\n",
        "# Input: a = np.array([1,2,3])\n",
        "# Output: array([1, 1, 1, 2, 2, 2, 3, 3, 3, 1, 2, 3, 1, 2, 3, 1, 2, 3])\n",
        "```"
      ],
      "metadata": {
        "id": "ja0xPCgjhBsg"
      }
    },
    {
      "cell_type": "code",
      "source": [
        "#code here\n",
        "a = np.array([1,2,3])\n",
        "repeated_arr = np.repeat(a,3)\n",
        "print(repeated_arr)\n",
        "\n",
        "tiled_arr = np.tile(a,3)\n",
        "print(tiled_arr)\n",
        "new_arr = np.concatenate((repeated_arr,tiled_arr))"
      ],
      "metadata": {
        "id": "CndS8TTNhG0F",
        "colab": {
          "base_uri": "https://localhost:8080/"
        },
        "outputId": "7f19a3ce-b3c8-4afd-d684-16f661962ff1"
      },
      "execution_count": 67,
      "outputs": [
        {
          "output_type": "stream",
          "name": "stdout",
          "text": [
            "[1 1 1 2 2 2 3 3 3]\n",
            "[1 2 3 1 2 3 1 2 3]\n"
          ]
        },
        {
          "output_type": "execute_result",
          "data": {
            "text/plain": [
              "array([1, 1, 1, 2, 2, 2, 3, 3, 3, 1, 2, 3, 1, 2, 3, 1, 2, 3])"
            ]
          },
          "metadata": {},
          "execution_count": 67
        }
      ]
    },
    {
      "cell_type": "markdown",
      "source": [
        "np.repeat() takes an array and repeats each element a specified number of times, resulting in a new flattened array. For example, if we have an array [1, 2, 3] and we want to repeat each element twice, we can use np.repeat([1, 2, 3], 2) to get [1, 1, 2, 2, 3, 3]. We can also specify an array of repeat counts to apply to each element of the input array, resulting in a new flattened array with the specified number of repetitions for each element.\n",
        "\n",
        "\n",
        "\n",
        "Sure! Here's another way to explain np.tile() without using a coding example:\n",
        "\n",
        "np.tile() is a function in NumPy that is used to repeat an array along one or more axes. When we use np.tile(), we pass in an input array and a tuple that specifies the number of times we want to repeat the input array along each axis.\n",
        "\n",
        "For example, suppose we have a 2D input array with shape (2, 3):\n",
        "input_array = [[1, 2, 3],\n",
        "               [4, 5, 6]]\n",
        "\n",
        "If we want to repeat this array twice along the row axis and three times along the column axis, we can use the following code:\n",
        "output_array = np.tile(input_array, (2, 3))\n",
        "The resulting output_array will have shape (4, 9) and will look like this:\n",
        "output_array = [[1, 2, 3, 1, 2, 3, 1, 2, 3],\n",
        "                [4, 5, 6, 4, 5, 6, 4, 5, 6],\n",
        "                [1, 2, 3, 1, 2, 3, 1, 2, 3],\n",
        "                [4, 5, 6, 4, 5, 6, 4, 5, 6]]\n",
        "\n"
      ],
      "metadata": {
        "id": "r9OgT3lFUU24"
      }
    },
    {
      "cell_type": "code",
      "source": [],
      "metadata": {
        "id": "xK0PwTTJTDur"
      },
      "execution_count": null,
      "outputs": []
    }
  ]
}