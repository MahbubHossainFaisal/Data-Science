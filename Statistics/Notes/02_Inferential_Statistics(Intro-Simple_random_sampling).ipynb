{
 "cells": [
  {
   "attachments": {},
   "cell_type": "markdown",
   "id": "672ab954",
   "metadata": {},
   "source": [
    "# Inferential Statistics"
   ]
  },
  {
   "cell_type": "markdown",
   "id": "cd125bf6",
   "metadata": {},
   "source": [
    "Inferential statistics is a branch of statistics that deals with drawing conclusions or making inferences about a population based on a sample of data. \n",
    "It involves using statistical techniques to analyze and interpret sample data in order to make generalizations or predictions about a larger population."
   ]
  },
  {
   "cell_type": "markdown",
   "id": "15924d7a",
   "metadata": {},
   "source": [
    "Imagine you work for a mobile phone company and you want to estimate the average battery life of a new smartphone model you've developed. Testing the battery life of every single phone would be time-consuming and expensive. Instead, you decide to randomly select 100 phones from the production line and measure their battery life.\n",
    "\n",
    "Using inferential statistics, you can make inferences about the battery life of all the phones produced based on the sample data. You calculate the sample mean battery life and the sample standard deviation to summarize the data.\n",
    "\n",
    "Next, you can construct a confidence interval to estimate the true average battery life in the entire production. For example, you might find that the sample mean battery life is 25 hours, and the 95% confidence interval is (23 hours, 27 hours). This means that you are 95% confident that the true average battery life of all the phones produced falls within the range of 23 to 27 hours.\n",
    "\n",
    "In this example, inferential statistics allows you to estimate the average battery life of all the phones produced, provide a measure of uncertainty through confidence intervals, and determine if there are any significant differences between different smartphone models. This information can help the company make informed decisions about product development, marketing, and customer satisfaction."
   ]
  },
  {
   "cell_type": "markdown",
   "id": "0686ea9e",
   "metadata": {},
   "source": [
    "## This includes"
   ]
  },
  {
   "cell_type": "markdown",
   "id": "d1d858c8",
   "metadata": {},
   "source": [
    "__Population__: In statistics, a population refers to the entire group or set of individuals, objects, or events of interest. In this mobile phone company example, the population would be all the smartphones of the particular model that your company has produced."
   ]
  },
  {
   "cell_type": "markdown",
   "id": "66798d71",
   "metadata": {},
   "source": [
    "__Parameter__: A parameter is a numerical value that describes a characteristic of a population. It is a fixed value, but in practice, we often don't know the true value of the parameter and need to estimate it based on sample data. In our example, the population parameter of interest would be the true average battery life of all the smartphones produced."
   ]
  },
  {
   "cell_type": "markdown",
   "id": "ae9adab7",
   "metadata": {},
   "source": [
    "__Sample__: A sample is a subset of the population. It is a smaller group selected from the population to represent the whole. In our example, the sample would be the 100 randomly selected smartphones from the production line whose battery life we measured."
   ]
  },
  {
   "cell_type": "markdown",
   "id": "dac07c53",
   "metadata": {},
   "source": [
    "__Statistics (Estimate)__: Statistics refers to numerical values calculated from the sample data that provide information about the population. An estimate is a statistic that is used to approximate the unknown population parameter. In our example, the sample mean battery life and sample standard deviation calculated from the 100 smartphones would be considered statistics. The sample mean battery life would serve as an estimate for the population mean battery life, while the sample standard deviation would provide information about the variability of battery life in the population."
   ]
  },
  {
   "cell_type": "markdown",
   "id": "0d5f5a11",
   "metadata": {},
   "source": [
    "## Bias in Sampling"
   ]
  },
  {
   "cell_type": "markdown",
   "id": "f4ce7167",
   "metadata": {},
   "source": [
    "__Bias__: In statistics, bias refers to a systematic error or distortion in the sampling or estimation process that consistently skews the results away from the true value. It occurs when there is a flaw in the data collection or analysis that leads to a consistent deviation from the population parameter of interest."
   ]
  },
  {
   "cell_type": "markdown",
   "id": "708ac38a",
   "metadata": {},
   "source": [
    "In our mobile phone battery life example, bias can occur if the sample of 100 smartphones selected from the production line is not representative of the entire population of smartphones. If the sample is biased, the sample statistics calculated from it may not accurately estimate the true population parameter.\n",
    "\n",
    "For instance, imagine that during the selection process, you accidentally choose more phones from a particular batch with a higher battery life compared to the rest of the production. This would introduce a bias in the sample. Consequently, the sample mean battery life calculated from this biased sample might overestimate the true average battery life of all the smartphones produced.\n",
    "\n",
    "Alternatively, if the sample is biased towards selecting phones with lower battery life, the sample mean battery life might underestimate the true average battery life of the population."
   ]
  },
  {
   "cell_type": "markdown",
   "id": "dff0a981",
   "metadata": {},
   "source": [
    "## Types of Bias"
   ]
  },
  {
   "cell_type": "markdown",
   "id": "3a4e9131",
   "metadata": {},
   "source": [
    "__Selection Bias__: Selection bias occurs when the process of selecting the sample is flawed, leading to a non-representative sample. This bias can arise if certain types of smartphones are more likely to be included or excluded from the sample, leading to an inaccurate estimation of the population parameter. For example, if the sample is selected only from a specific region or demographic, it may not represent the diversity of the entire population, leading to selection bias."
   ]
  },
  {
   "cell_type": "markdown",
   "id": "c55e4529",
   "metadata": {},
   "source": [
    "__Non-Response Bias__: Non-response bias occurs when individuals selected for the sample refuse to participate or fail to provide the required data. If there is a systematic difference between those who respond and those who do not, it can introduce bias into the sample. For example, if individuals with shorter battery life are less likely to participate in the study, the sample may overestimate the average battery life of the population."
   ]
  },
  {
   "cell_type": "markdown",
   "id": "1d1313ab",
   "metadata": {},
   "source": [
    "__Volunteer Bias__: Volunteer bias occurs when individuals self-select into a study or survey. This can introduce bias if those who choose to participate differ systematically from those who do not. For example, if individuals with a particular interest in smartphones or technology are more likely to volunteer for the study, it may lead to a biased sample that does not represent the broader population of smartphone users."
   ]
  },
  {
   "cell_type": "markdown",
   "id": "2c14b3c3",
   "metadata": {},
   "source": [
    "# Sample data in a way that minimizes biases"
   ]
  },
  {
   "cell_type": "markdown",
   "id": "f9f43cbf",
   "metadata": {},
   "source": [
    "### Simple Random Sample"
   ]
  },
  {
   "cell_type": "markdown",
   "id": "a9dc0281",
   "metadata": {},
   "source": [
    "In the context of your mobile phone example, a simple random sample refers to a sampling technique in which each smartphone in the production line has an equal and independent chance of being selected for the sample.\n",
    "\n",
    "So how to do simple random sample?"
   ]
  },
  {
   "cell_type": "markdown",
   "id": "056eb2d4",
   "metadata": {},
   "source": [
    "__Stratified random sampling__:\n",
    "\n",
    "Stratified random sampling involves dividing the population of mobile phones into groups or \"strata\" based on specific characteristics, such as different phone models (Model A, Model B, Model C). Then, a random sample is independently selected from each group.\n",
    "\n",
    "Here's a simplified explanation of how to conduct a stratified random sample:\n",
    "\n",
    "1. Identify different phone models: Determine the different phone models produced by your company, such as Model A, Model B, and Model C.\n",
    "\n",
    "2. Divide the phones into groups: Group the phones according to their models. This creates separate groups or \"strata\" for each model.\n",
    "\n",
    "3. Determine sample size for each model: Decide how many phones you want to include in your sample for each model. For example, let's say you want to select 5 phones from each model.\n",
    "\n",
    "4. Randomly select phones within each model: Independently and randomly select 5 phones from Model A, 5 phones from Model B, and 5 phones from Model C. You can use a random selection method like drawing names from a hat or using a random number generator.\n",
    "\n",
    "5. Collect battery life data: Once you have selected the phones from each model, measure and record their battery life.\n",
    "\n",
    "By using a stratified random sample, you ensure that each phone model is represented in the sample, allowing you to make comparisons and draw conclusions about battery life within each model. This sampling approach provides a more accurate representation of the different phone models and can help identify any differences in battery life between them."
   ]
  },
  {
   "cell_type": "markdown",
   "id": "1d4f81af",
   "metadata": {},
   "source": [
    "### Chance Error"
   ]
  },
  {
   "cell_type": "markdown",
   "id": "3df9a32d",
   "metadata": {},
   "source": [
    "Chance error, also known as random error or sampling error, refers to the variability or fluctuations in sample statistics that occur naturally due to the random selection of a sample from a population. It is the result of random chance and is not influenced by systematic factors.\n",
    "\n",
    "Here's an explanation of chance error using the mobile phone battery life example:\n",
    "\n",
    "When you select a sample of mobile phones to measure battery life, there will be inherent variations in the battery life measurements. These variations are caused by factors such as manufacturing differences, individual usage patterns, or measurement imprecision. Chance error accounts for these random fluctuations in the sample data.\n",
    "\n",
    "For instance, let's say you measure the battery life of 10 randomly selected phones from a production line. Due to chance error, you may find slight differences in battery life measurements among the selected phones, even if they come from the same model. Some phones may have slightly longer battery life, while others may have slightly shorter battery life, despite being part of the same population.\n",
    "\n",
    "Chance error is a natural part of the sampling process and cannot be completely eliminated. However, by using appropriate statistical techniques, such as calculating confidence intervals or conducting hypothesis tests, you can account for and quantify the impact of chance error on your sample estimates."
   ]
  },
  {
   "cell_type": "markdown",
   "id": "f9928a45",
   "metadata": {},
   "source": [
    "So in summmary in the context of mobile phone battery estimation:\n",
    "\n",
    "__Parameter__: The true average battery life of all the phones produced by the company.\n",
    "\n",
    "__Bias__: Any consistent deviation or systematic error in the estimation process.\n",
    "\n",
    "__Chance Error__: Natural variability or fluctuations in the sample estimates due to random chance.\n",
    "\n",
    "\n",
    "__Estimate__: The calculated value that approximates the true parameter value.\n",
    "\n",
    "\n",
    "We can say that __Estimate = Parameter + Bias + Chance Error__\n",
    "\n",
    "\n",
    "The estimate is obtained by adding the bias and chance error to the parameter. By minimizing bias and accounting for chance error, we aim to obtain reliable estimates that accurately reflect the true average battery life of all the phones produced."
   ]
  },
  {
   "cell_type": "code",
   "execution_count": null,
   "id": "31bf6307",
   "metadata": {},
   "outputs": [],
   "source": []
  }
 ],
 "metadata": {
  "kernelspec": {
   "display_name": "Python 3 (ipykernel)",
   "language": "python",
   "name": "python3"
  },
  "language_info": {
   "codemirror_mode": {
    "name": "ipython",
    "version": 3
   },
   "file_extension": ".py",
   "mimetype": "text/x-python",
   "name": "python",
   "nbconvert_exporter": "python",
   "pygments_lexer": "ipython3",
   "version": "3.9.13"
  }
 },
 "nbformat": 4,
 "nbformat_minor": 5
}
