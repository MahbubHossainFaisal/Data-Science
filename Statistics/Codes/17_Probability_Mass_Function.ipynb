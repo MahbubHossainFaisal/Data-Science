{
 "cells": [
  {
   "cell_type": "markdown",
   "id": "7c677fe9",
   "metadata": {},
   "source": [
    "A Probability Mass Function (PMF) is a fundamental concept in probability theory and statistics. It describes the probability distribution of a discrete random variable, which means a variable that can take on distinct, separate values with certain probabilities. The PMF assigns a probability to each possible outcome of the random variable, and the sum of these probabilities equals 1.\n",
    "\n",
    "Here's a summary of the key points regarding PMFs:\n",
    "\n",
    "1. **Definition**: A PMF is a function that maps each possible value of a discrete random variable to its associated probability.\n",
    "\n",
    "2. **Probability Values**: The PMF provides the probability that the random variable takes on a specific value or outcome. It is denoted as P(X = x), where X is the random variable, and x is a specific value it can take.\n",
    "\n",
    "3. **Sum of Probabilities**: The sum of all the probabilities in the PMF must equal 1. In mathematical notation, Σ P(X = x) = 1, where the summation is taken over all possible values of X.\n",
    "\n",
    "4. **Example**:\n",
    "\n",
    "   Let's say we have a six-sided fair die, and we want to create a PMF for the outcomes when rolling the die. The possible values for the random variable X are {1, 2, 3, 4, 5, 6}, and since it's a fair die, each outcome has an equal probability of 1/6.\n",
    "\n",
    "   The PMF for this scenario would look like:\n",
    "\n",
    "   P(X = 1) = 1/6\n",
    "   P(X = 2) = 1/6\n",
    "   P(X = 3) = 1/6\n",
    "   P(X = 4) = 1/6\n",
    "   P(X = 5) = 1/6\n",
    "   P(X = 6) = 1/6\n",
    "\n",
    "   And if you sum up all these probabilities, you get:\n",
    "\n",
    "   1/6 + 1/6 + 1/6 + 1/6 + 1/6 + 1/6 = 1\n",
    "\n",
    "   As expected, the sum of probabilities equals 1.\n",
    "\n",
    "In summary, a Probability Mass Function is a mathematical function that describes the probabilities associated with the possible outcomes of a discrete random variable. It allows us to understand and quantify uncertainty in various situations, such as rolling a die or any other discrete random experiment."
   ]
  },
  {
   "cell_type": "markdown",
   "id": "6e0bf4c2",
   "metadata": {},
   "source": [
    "## Compute Probability"
   ]
  },
  {
   "cell_type": "code",
   "execution_count": 1,
   "id": "31ea631e",
   "metadata": {},
   "outputs": [],
   "source": [
    "import matplotlib.pyplot as plt\n",
    "import numpy as np"
   ]
  },
  {
   "cell_type": "code",
   "execution_count": 17,
   "id": "33f45439",
   "metadata": {},
   "outputs": [],
   "source": [
    "## Different events\n",
    "\n",
    "events = np.array([1,2,4,3])\n",
    "\n",
    "# Probability\n",
    "probability = 100*(events/np.sum(events))"
   ]
  },
  {
   "cell_type": "code",
   "execution_count": 18,
   "id": "964a1e52",
   "metadata": {},
   "outputs": [
    {
     "data": {
      "text/plain": [
       "array([10., 20., 40., 30.])"
      ]
     },
     "execution_count": 18,
     "metadata": {},
     "output_type": "execute_result"
    }
   ],
   "source": [
    "probability # in percentage"
   ]
  },
  {
   "cell_type": "markdown",
   "id": "e7adfa0c",
   "metadata": {},
   "source": [
    "## Probability of drawing a particular colored marbel from a jar"
   ]
  },
  {
   "cell_type": "code",
   "execution_count": 19,
   "id": "44130972",
   "metadata": {},
   "outputs": [
    {
     "data": {
      "text/plain": [
       "array([1., 1., 1., 1., 1., 1., 1., 1., 1., 1., 1., 1., 1., 1., 1., 1., 1.,\n",
       "       1., 1., 1., 1., 1., 1., 1., 1., 1., 1., 1., 1., 1., 1., 1., 1., 1.,\n",
       "       1., 1., 1., 1., 1., 1., 2., 2., 2., 2., 2., 2., 2., 2., 2., 2., 2.,\n",
       "       2., 2., 2., 2., 2., 2., 2., 2., 2., 2., 2., 2., 2., 2., 2., 2., 2.,\n",
       "       2., 2., 3., 3., 3., 3., 3., 3., 3., 3., 3., 3., 3., 3., 3., 3., 3.,\n",
       "       3., 3., 3., 3., 3.])"
      ]
     },
     "execution_count": 19,
     "metadata": {},
     "output_type": "execute_result"
    }
   ],
   "source": [
    "# Number of marbels\n",
    "blue = 40\n",
    "yellow = 30\n",
    "orange = 20\n",
    "\n",
    "total_marbels = blue+yellow+orange\n",
    "\n",
    "# Putting them in a jar\n",
    "jar = np.hstack((1*np.ones(blue),2*np.ones(yellow),3*np.ones(orange)))\n",
    "jar\n"
   ]
  },
  {
   "cell_type": "markdown",
   "id": "0620ff1e",
   "metadata": {},
   "source": [
    "Now we will draw 400 marbels (With replacements: Mean we draw a marbel and again put it back again. So We can then draw as \n",
    "many times as we want)"
   ]
  },
  {
   "cell_type": "code",
   "execution_count": 38,
   "id": "4cbf9544",
   "metadata": {},
   "outputs": [],
   "source": [
    "numDraws = 400\n",
    "drawColors = np.zeros(numDraws)"
   ]
  },
  {
   "cell_type": "code",
   "execution_count": 39,
   "id": "e91af1d9",
   "metadata": {},
   "outputs": [
    {
     "name": "stdout",
     "output_type": "stream",
     "text": [
      "0.4325 0.3425 0.225\n"
     ]
    }
   ],
   "source": [
    "for i in range(numDraws):\n",
    "    # generate a random integer which will represent a marbel to draw\n",
    "    random_marbel = int(np.random.rand()*total_marbels)\n",
    "    \n",
    "    # storing the color of the random marbel\n",
    "    drawColors[i] = jar[random_marbel]\n",
    "    \n",
    "# Proportion of colors drawn\n",
    "proportion_blue = sum(drawColors==1) / numDraws\n",
    "proportion_yellow = sum(drawColors==2) / numDraws\n",
    "proportion_orange = sum(drawColors==3) / numDraws\n",
    "\n",
    "print(proportion_blue,proportion_yellow,proportion_orange)\n"
   ]
  },
  {
   "cell_type": "code",
   "execution_count": 41,
   "id": "36c440ca",
   "metadata": {},
   "outputs": [
    {
     "data": {
      "image/png": "[encoded data removed]",
      "text/plain": [
       "<Figure size 640x480 with 1 Axes>"
      ]
     },
     "metadata": {},
     "output_type": "display_data"
    }
   ],
   "source": [
    "# Proportion against theoratical probability\n",
    "plt.bar([1,2,3],[proportion_blue,proportion_yellow,proportion_orange],label='Proportion')\n",
    "plt.plot([0.5,1.5],[blue/total_marbels,blue/total_marbels],'b',linewidth=3,label='Probability')\n",
    "plt.plot([1.5,2.5],[yellow/total_marbels,yellow/total_marbels],'b',linewidth=3)\n",
    "plt.plot([2.5,3.5],[orange/total_marbels,orange/total_marbels],'b',linewidth=3)\n",
    "\n",
    "plt.xticks([1,2,3],labels=('Blue','Yellow','Orange'))\n",
    "plt.xlabel('Marbel Color')\n",
    "plt.ylabel('Proportion/Probability')\n",
    "plt.legend()\n",
    "plt.show()"
   ]
  },
  {
   "cell_type": "markdown",
   "id": "7507b387",
   "metadata": {},
   "source": [
    "As here the event has descrete values, it also can be called probability mass function. Where in the x axis there are the events and in the y axis there are the probabilities"
   ]
  },
  {
   "cell_type": "code",
   "execution_count": null,
   "id": "ebeca753",
   "metadata": {},
   "outputs": [],
   "source": []
  }
 ],
 "metadata": {
  "kernelspec": {
   "display_name": "Python 3 (ipykernel)",
   "language": "python",
   "name": "python3"
  },
  "language_info": {
   "codemirror_mode": {
    "name": "ipython",
    "version": 3
   },
   "file_extension": ".py",
   "mimetype": "text/x-python",
   "name": "python",
   "nbconvert_exporter": "python",
   "pygments_lexer": "ipython3",
   "version": "3.9.13"
  }
 },
 "nbformat": 4,
 "nbformat_minor": 5
}
