{
 "cells": [
  {
   "cell_type": "markdown",
   "id": "d726197e",
   "metadata": {},
   "source": [
    "### Mean Value (Average):\n",
    "\n",
    "The mean value, also known as the \"average,\" is a measure of central tendency in a dataset. It represents the typical or arithmetic average of a set of numbers.\n",
    "\n",
    "**Formula for Mean (Sample)**:\n",
    "\n",
    "```python\n",
    "# Sample Mean\n",
    "x̄ = (1/n) * Σ (from i=1 to n) xᵢ\n",
    "```\n",
    "\n",
    "**Formula for Mean (Population)**:\n",
    "\n",
    "```python\n",
    "# Population Mean\n",
    "μ = (1/N) * Σ (from i=1 to N) xᵢ\n",
    "```\n",
    "\n",
    "For example, if you have a set of exam scores {85, 92, 78, 88, 95}, the mean score would be calculated as:\n",
    "\n",
    "```python\n",
    "x̄ = (1/5) * (85 + 92 + 78 + 88 + 95) = 87.6\n",
    "```\n",
    "\n",
    "### Expected Value:\n",
    "\n",
    "The expected value, often denoted as \\(E(X)\\), is a concept used in probability theory. It represents the long-term average or the average outcome you can expect from a random variable over many repetitions of an experiment.\n",
    "\n",
    "**Formula for Expected Value (Discrete Random Variable)**:\n",
    "\n",
    "```python\n",
    "# Expected Value for Discrete Random Variable\n",
    "E(X) = Σ (for all values of x) xᵢ * P(X=xᵢ)\n",
    "```\n",
    "\n",
    "**Formula for Expected Value (Continuous Random Variable)**:\n",
    "\n",
    "```python\n",
    "# Expected Value for Continuous Random Variable\n",
    "E(X) = ∫ (from -∞ to ∞) x * f(x) dx\n",
    "```\n",
    "\n",
    "In simpler terms, the expected value tells you the average value you can anticipate when dealing with randomness or uncertainty. For example, the expected value of a fair six-sided die roll is:\n",
    "\n",
    "```python\n",
    "E(X) = (1/6) * (1 + 2 + 3 + 4 + 5 + 6) = 3.5\n",
    "```\n",
    "\n",
    "In summary, the \"mean\" represents the average of observed data points, while the \"expected value\" describes the average outcome of a random variable, especially in probabilistic or uncertain scenarios. These concepts are closely related but are used in different contexts."
   ]
  },
  {
   "cell_type": "markdown",
   "id": "71a88aa5",
   "metadata": {},
   "source": [
    "### When Expected value and MEAN both get same?"
   ]
  },
  {
   "cell_type": "markdown",
   "id": "3f06a58a",
   "metadata": {},
   "source": [
    "\n",
    "---\n",
    "\n",
    "**The expected value (E(X)) and the mean value** (usually denoted as \"x̄\" for a sample or \"μ\" for a population) **are essentially the same concept when dealing with deterministic or non-random data.** In other words, when you have a fixed set of data points with known values, **the mean and expected value will be the same**.\n",
    "\n",
    "For example, if you have a list of exam scores {85, 92, 78, 88, 95}, and you want to find the mean and expected value, they will be identical:\n",
    "\n",
    "- **Mean (Sample)**:\n",
    "  - x̄ = (1/n) * (85 + 92 + 78 + 88 + 95)\n",
    "  - x̄ = (1/5) * (85 + 92 + 78 + 88 + 95)\n",
    "  - x̄ = (1/5) * 438\n",
    "  - x̄ = 87.6\n",
    "\n",
    "- **Mean (Population)**:\n",
    "  - μ = (1/N) * (85 + 92 + 78 + 88 + 95)\n",
    "  - μ = (1/5) * (85 + 92 + 78 + 88 + 95)\n",
    "  - μ = (1/5) * 438\n",
    "  - μ = 87.6\n",
    "\n",
    "Both the mean and expected value in this case are 87.6 because you are dealing with known, non-random data.\n",
    "\n",
    "However, the key distinction arises when you are dealing with random variables and probability distributions. **The expected value (E(X)) is used in probabilistic contexts to represent the long-term average or the average outcome over many repetitions of a random experiment.** In such cases, **the mean value (\"x̄\" or \"μ\") is not applicable** because the data is not fixed; it's subject to randomness.\n",
    "\n",
    "So, in summary, the mean and expected value are the same when dealing with deterministic data, but they can differ when dealing with random variables and probability distributions."
   ]
  },
  {
   "cell_type": "code",
   "execution_count": null,
   "id": "6de27a5a",
   "metadata": {},
   "outputs": [],
   "source": []
  }
 ],
 "metadata": {
  "kernelspec": {
   "display_name": "Python 3 (ipykernel)",
   "language": "python",
   "name": "python3"
  },
  "language_info": {
   "codemirror_mode": {
    "name": "ipython",
    "version": 3
   },
   "file_extension": ".py",
   "mimetype": "text/x-python",
   "name": "python",
   "nbconvert_exporter": "python",
   "pygments_lexer": "ipython3",
   "version": "3.9.13"
  }
 },
 "nbformat": 4,
 "nbformat_minor": 5
}
