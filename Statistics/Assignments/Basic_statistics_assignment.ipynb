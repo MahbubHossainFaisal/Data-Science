{
 "cells": [
  {
   "cell_type": "markdown",
   "id": "ff891d93",
   "metadata": {},
   "source": [
    "### Q1. What is Statistics?"
   ]
  },
  {
   "cell_type": "markdown",
   "id": "a7b4dc75",
   "metadata": {},
   "source": [
    "It is the science of collecting, analyzing and organizing data"
   ]
  },
  {
   "cell_type": "markdown",
   "id": "2e118e08",
   "metadata": {},
   "source": [
    "### Q2. Define the different types of statistics and give an example of when each type might be used."
   ]
  },
  {
   "cell_type": "markdown",
   "id": "a3c19f12",
   "metadata": {},
   "source": [
    "There are two types of statistics - 1) Descriptive statistics 2) Inferential statistics\n",
    "\n",
    "__An example of descriptive statistics__: Suppose in a school of 10 classes, in one of the classes you are measuring the height of the students.\n",
    "    Students height data in cm = (130,150,165,170,173)\n",
    "Measuring the mean, median and mode value from the height is an example of descriptive statistics.\n",
    "\n",
    "__An example of inferential statistics__: From the above scenario we can create a hypothesis test of height in the overall school classes.\n",
    "\n",
    "Hypothesis Test - Average Height of All Students in the School\n",
    "\n",
    "So Hypothesis test is a part of inferential statistics"
   ]
  },
  {
   "cell_type": "markdown",
   "id": "13d5301a",
   "metadata": {},
   "source": [
    "### Q3. What are the different types of data and how do they differ from each other? Provide an example of each type of data."
   ]
  },
  {
   "cell_type": "markdown",
   "id": "d00c42eb",
   "metadata": {},
   "source": [
    "There are mainly two types of data : 1) Quantitative data 2) Qualitative data\n",
    "\n",
    "__Quantitative Data__:\n",
    "\n",
    "Quantitative data are numerical in nature and represent quantities or measurements. They can be further divided into two subtypes: discrete and continuous data.\n",
    "\n",
    "1. Discrete Data: Discrete data are whole numbers or countable values with distinct gaps between them. These values cannot be divided into smaller units. Examples of discrete data include:\n",
    "\n",
    "- Number of children in a family (e.g., 1, 2, 3)\n",
    "- Number of cars in a parking lot (e.g., 5, 10, 15)\n",
    "- Number of books on a shelf (e.g., 20, 30, 40)\n",
    "\n",
    "2. Continuous Data: Continuous data can take any value within a specific range, including decimals and fractions. There are no distinct gaps between the values. Examples of continuous data include:\n",
    "\n",
    "- Height of students in centimeters (e.g., 150.5 cm, 165.2 cm, 175.9 cm)\n",
    "- Temperature in degrees Celsius (e.g., 20.3°C, 25.1°C, 30.7°C)\n",
    "- Weight of fruits in grams (e.g., 250.6 g, 350.2 g, 450.8 g)\n",
    "\n",
    "__Qualitative Data__:\n",
    "\n",
    "Qualitative data, also known as categorical data, represent categories or labels without numerical significance. They are further categorized into two types: nominal and ordinal data.\n",
    "\n",
    "1. Nominal Data: Nominal data consist of categories with no inherent order or ranking between them. The categories are distinct and cannot be quantitatively compared. Examples of nominal data include:\n",
    "\n",
    "- Eye color (e.g., brown, blue, green)\n",
    "- Gender (e.g., male, female, non-binary)\n",
    "- Marital status (e.g., single, married, divorced, widowed)\n",
    "\n",
    "2. Ordinal Data: Ordinal data also represent categories, but they have a meaningful order or ranking between them. However, the differences between the categories are not necessarily equal. Examples of ordinal data include:\n",
    "\n",
    "- Educational qualification (e.g., high school diploma, bachelor's degree, master's degree)\n",
    "- Rating scale (e.g., excellent, good, average, poor)\n",
    "- Socioeconomic status (e.g., low, middle, high)"
   ]
  },
  {
   "cell_type": "markdown",
   "id": "1a13d9ff",
   "metadata": {},
   "source": [
    "### Q4. Categorise the following datasets with respect to quantitative and qualitative data types:\n",
    "\n",
    "(i) Grading in exam: A+, A, B+, B, C+, C, D, E\n",
    "\n",
    "(ii) Colour of mangoes: yellow, green, orange, red\n",
    "\n",
    "(iii) Height data of a class: [178.9, 179, 179.5, 176, 177.2, 178.3, 175.8,...]\n",
    "\n",
    "(iv) Number of mangoes exported by a farm: [500, 600, 478, 672, ...]"
   ]
  },
  {
   "cell_type": "markdown",
   "id": "7eefb62c",
   "metadata": {},
   "source": [
    "Here is the categorization of the following datasets with respect to qunatitative and qualitative data types:\n",
    "\n",
    "__(i) Grading in exam__: \n",
    "\n",
    "- Data Type: Qualitative (Ordinal)\n",
    "Explanation: The data represents different grades in an exam, such as A+, A, B+, B, C+, C, D, and E. These grades are categories with a meaningful order or ranking, but the differences between the grades are not quantitatively measurable.\n",
    "\n",
    "__(ii) Colour of mangoes__: \n",
    "- Data Type: Qualitative (Nominal)\n",
    "Explanation: The data represents the colors of mangoes, such as yellow, green, orange, and red. These colors are categories without any inherent order or ranking between them.\n",
    "\n",
    "__(iii) Height data of a class__: [178.9, 179, 179.5, 176, 177.2, 178.3, 175.8,...]\n",
    "- Data Type: Quantitative (Continuous)\n",
    "Explanation: The data represents the heights of students in a class, given as numerical values with decimals. These heights are measurable quantities and can take any value within a specific range.\n",
    "\n",
    "__(iv) Number of mangoes exported by a farm__: [500, 600, 478, 672, ...]\n",
    "- Data Type: Quantitative (Discrete)\n",
    "Explanation: The data represents the number of mangoes exported by a farm, given as whole numbers. The number of mangoes is a countable quantity with distinct gaps between the values."
   ]
  },
  {
   "cell_type": "markdown",
   "id": "2760883b",
   "metadata": {},
   "source": [
    "### Q5. Explain the concept of levels of measurement and give an example of a variable for each level."
   ]
  },
  {
   "cell_type": "markdown",
   "id": "0c33e7a0",
   "metadata": {},
   "source": [
    "Levels of measurement, also known as scales of measurement or data types, are a way of categorizing and describing the nature of data in statistical analysis. There are four primary levels of measurement: nominal, ordinal, interval, and ratio. Each level has unique characteristics and determines the types of statistical analysis that can be applied.\n",
    "\n",
    "1. Nominal Level:\n",
    "The nominal level of measurement involves variables that can be categorized into distinct and non-ordered groups or classes. In this level, data can be assigned to different categories, but there is no inherent order or numerical meaning to the categories. The only operation that can be performed is counting the occurrences of each category.\n",
    "\n",
    "Example: Eye color (Categories: Blue, Brown, Green, etc.). Each category is distinct, and there is no inherent order between them.\n",
    "\n",
    "2. Ordinal Level:\n",
    "The ordinal level of measurement involves variables that can be categorized and ranked. In this level, the data can be ordered or ranked, but the differences between the ranks are not necessarily meaningful or equal. It does not have a uniform measurement scale.\n",
    "\n",
    "Example: Education level (Categories: High school diploma, Bachelor's degree, Master's degree, Ph.D., etc.). We can rank these categories from the least to the highest level of education achieved, but the difference between each category is not consistent.\n",
    "\n",
    "3. Interval Level:\n",
    "The interval level of measurement involves variables where the data are categorized, ranked, and have equal intervals between values. However, there is no absolute zero point, which means that zero does not indicate the absence of the attribute being measured. Arithmetic operations like addition and subtraction can be performed, but multiplication and division are not meaningful.\n",
    "\n",
    "Example: Temperature in Celsius. The difference between 20°C and 30°C is the same as the difference between 30°C and 40°C (both are 10°C intervals), but 0°C does not mean the absence of temperature; it is an arbitrary point.\n",
    "\n",
    "4. Ratio Level:\n",
    "The ratio level of measurement involves variables where the data are categorized, ranked, have equal intervals, and possess a true zero point, indicating the absence of the attribute being measured. All arithmetic operations (addition, subtraction, multiplication, and division) are meaningful at this level.\n",
    "\n",
    "Example: Weight in kilograms. A weight of 0 kg indicates the absence of weight, and ratios are meaningful. For example, 20 kg is twice as heavy as 10 kg.\n",
    "\n",
    "Understanding the level of measurement of variables is crucial in choosing appropriate statistical techniques to analyze the data accurately and effectively."
   ]
  },
  {
   "cell_type": "markdown",
   "id": "33a13c6f",
   "metadata": {},
   "source": [
    "### Q6. Why is it important to understand the level of measurement when analyzing data? Provide an example to illustrate your answer."
   ]
  },
  {
   "cell_type": "markdown",
   "id": "9009996f",
   "metadata": {},
   "source": [
    "Understanding the level of measurement is essential when analyzing data because it determines the types of statistical analysis and operations that can be applied to the data. Different levels of measurement have varying degrees of mathematical properties and meaning, which influence the appropriate statistical methods and conclusions that can be drawn from the data. Misinterpreting or using the wrong statistical analysis based on the level of measurement can lead to erroneous conclusions and misleading insights.\n",
    "\n",
    "Example:\n",
    "\n",
    "Let's consider a scenario where we want to analyze the satisfaction levels of students in a college with respect to their courses. To do this, we collect data on the courses taken by each student and their corresponding satisfaction levels. We have two variables in our dataset: \"Course Name\" (nominal) and \"Satisfaction Rating\" (ordinal).\n",
    "\n",
    "1. Course Name (Nominal):\n",
    "Suppose we have categorized the courses into different groups, such as \"Mathematics,\" \"History,\" and \"Physics.\" Since the course names are nominal data, we cannot perform numerical operations like calculating the average or adding courses together. We can only count the occurrences of each course. For example, we can determine which course has the most students enrolled, but we cannot say that \"Physics\" is twice as much as \"Mathematics.\"\n",
    "\n",
    "2. Satisfaction Rating (Ordinal):\n",
    "The satisfaction ratings are ordinal data, which means we can rank them from low to high. For instance, the students may provide ratings like \"1\" (Very Dissatisfied), \"2\" (Dissatisfied), \"3\" (Neutral), \"4\" (Satisfied), and \"5\" (Very Satisfied). We can calculate the median satisfaction rating or find the most common rating. However, we cannot directly calculate the mean (average) satisfaction because the ordinal data lacks the property of equal intervals.\n",
    "\n",
    "If we mistakenly treated the \"Satisfaction Rating\" variable as interval data and calculated the mean satisfaction score, it would lead to an incorrect interpretation of the data. For example, if the average satisfaction rating is calculated as 3.5, it would imply that the \"average\" satisfaction level is somewhere between \"Neutral\" and \"Satisfied,\" which does not make sense since \"Neutral\" does not represent a numerical value.\n",
    "\n",
    "By understanding the level of measurement, we can choose appropriate statistical methods to analyze the data correctly. In this case, to analyze satisfaction ratings accurately, we should use non-parametric tests like the Mann-Whitney U test or Kruskal-Wallis test, which are suitable for ordinal data, rather than parametric tests like t-tests or ANOVA, which require interval or ratio data. This ensures that our analysis is valid and provides meaningful insights into the students' satisfaction levels."
   ]
  },
  {
   "cell_type": "markdown",
   "id": "f57a300e",
   "metadata": {},
   "source": [
    "### Q7. How nominal data type is different from ordinal data type."
   ]
  },
  {
   "cell_type": "markdown",
   "id": "e6cc88c5",
   "metadata": {},
   "source": [
    "Nominal and ordinal data types are two distinct levels of measurement used to categorize and describe data in statistics. They have different characteristics and levels of information.\n",
    "\n",
    "1. Nominal Data Type:\n",
    "\n",
    "- Nominal data is a categorical level of measurement where data is divided into distinct and non-ordered categories or groups.\n",
    "- The categories in nominal data have no inherent numerical value or meaningful order between them.\n",
    "- Nominal data can only be classified or categorized, and the only operation that can be performed on it is counting the occurrences of each category.\n",
    "- Examples of nominal data include gender (Male, Female), colors (Red, Blue, Green), countries (USA, UK, Canada), or types of fruits (Apple, Banana, Orange).\n",
    "\n",
    "2. Ordinal Data Type:\n",
    "\n",
    "- Ordinal data is a categorical level of measurement where data is divided into distinct categories, and there is a meaningful order or ranking between these categories.\n",
    "- Unlike nominal data, ordinal data allows for a comparison of relative positions or ranks, but the differences between the ranks are not necessarily equal or meaningful.\n",
    "- Ordinal data cannot be used for arithmetic operations like addition or subtraction because the numerical distance between the categories may not be consistent.\n",
    "- Examples of ordinal data include satisfaction ratings (Very Dissatisfied, Dissatisfied, Neutral, Satisfied, Very Satisfied), educational levels (High School Diploma, Bachelor's Degree, Master's Degree), or socioeconomic status (Low Income, Middle Income, High Income).\n",
    "\n",
    "In summary, the key difference between nominal and ordinal data lies in the level of information they convey. Nominal data only provides information about distinct categories without any inherent order, while ordinal data not only has distinct categories but also allows for meaningful ranking or ordering between these categories. Understanding the distinction between these two types of data is essential for choosing appropriate statistical analyses and interpreting the results accurately."
   ]
  },
  {
   "cell_type": "markdown",
   "id": "097486c3",
   "metadata": {},
   "source": [
    "### Q8. Which type of plot can be used to display data in terms of range?"
   ]
  },
  {
   "cell_type": "markdown",
   "id": "6124a603",
   "metadata": {},
   "source": [
    "A box plot, also known as a box-and-whisker plot, is a type of plot that can be used to display data in terms of range. The box plot provides a visual representation of the distribution of data, including the minimum and maximum values, as well as the quartiles (lower quartile, median, and upper quartile).\n",
    "\n",
    "In a box plot, the \"box\" represents the interquartile range (IQR), which is the range between the first quartile (Q1, the 25th percentile) and the third quartile (Q3, the 75th percentile). The median (Q2) is represented by a line inside the box. The \"whiskers\" extend from the minimum value to Q1 and from Q3 to the maximum value. Any data points outside the whiskers are considered outliers and are typically shown as individual points.\n",
    "\n",
    "Box plots are particularly useful for displaying the spread and range of data, identifying outliers, and comparing distributions across different groups or categories. They provide a concise and intuitive way to visualize the variability of the data, especially when dealing with skewed or asymmetric distributions."
   ]
  },
  {
   "cell_type": "markdown",
   "id": "2bb2e52e",
   "metadata": {},
   "source": [
    "### Q9. Describe the difference between descriptive and inferential statistics. Give an example of each type of statistics and explain how they are used."
   ]
  },
  {
   "cell_type": "markdown",
   "id": "b8bc9ebd",
   "metadata": {},
   "source": [
    "Descriptive Statistics and Inferential Statistics are two branches of statistics that serve different purposes in data analysis.\n",
    "\n",
    "1. __Descriptive Statistics__:\n",
    "\n",
    "Descriptive statistics involve methods and techniques used to summarize and describe the main features of a dataset. These statistics provide a concise overview of the data, enabling researchers and analysts to understand its central tendencies, dispersion, and basic characteristics. Descriptive statistics do not involve making inferences or generalizations beyond the data at hand; they simply describe what is observed in the dataset.\n",
    "\n",
    "Example: Mean and Standard Deviation\n",
    "\n",
    "Let's say we have a dataset representing the heights of students in a class:\n",
    "[160 cm, 165 cm, 155 cm, 170 cm, 175 cm]\n",
    "\n",
    "To calculate the descriptive statistics, we can find the mean and standard deviation. The mean height (descriptive statistic) would be: (160 + 165 + 155 + 170 + 175) / 5 = 165 cm. The standard deviation (another descriptive statistic) provides a measure of the spread or dispersion of the data around the mean.\n",
    "\n",
    "Descriptive statistics are widely used for data summarization and visualization. They help researchers gain insights into the dataset's basic properties, making it easier to communicate findings and identify potential patterns or outliers.\n",
    "\n",
    "2. __Inferential Statistics__:\n",
    "\n",
    "Inferential statistics involves making predictions, inferences, or generalizations about a population based on a sample of data. These statistical methods use probability theory to draw conclusions beyond the specific dataset being analyzed. Inferential statistics help researchers make educated guesses about a larger population based on the observed data.\n",
    "\n",
    "Example: Hypothesis Testing\n",
    "\n",
    "Suppose we want to know if there is a significant difference in the average height of male and female students in a school. We could take a random sample of students from each gender, collect their height data, and perform a hypothesis test (e.g., t-test) to determine if the observed difference in height is likely due to chance or if it is statistically significant.\n",
    "\n",
    "Inferential statistics are used in various fields, such as medical research, social sciences, economics, and market research. They allow researchers to make generalizations about a larger group, population, or phenomena based on a smaller sample, providing valuable insights and predictions.\n",
    "\n",
    "In summary, descriptive statistics are used to summarize and describe the characteristics of a dataset, while inferential statistics are employed to make predictions and draw conclusions about a larger population based on a sample. Both types of statistics are crucial in the process of data analysis and decision-making in various fields of research and business."
   ]
  },
  {
   "cell_type": "markdown",
   "id": "16571a4d",
   "metadata": {},
   "source": [
    "### Q10. What are some common measures of central tendency and variability used in statistics? Explain how each measure can be used to describe a dataset."
   ]
  },
  {
   "cell_type": "markdown",
   "id": "2f4de72b",
   "metadata": {},
   "source": [
    "In statistics, measures of central tendency and variability are used to describe the characteristics and spread of a dataset. They provide essential information about the central values and the degree of dispersion or variation in the data. Here are some common measures of central tendency and variability:\n",
    "\n",
    "Measures of Central Tendency:\n",
    "\n",
    "1. __Mean__:\n",
    "The mean is the average value of a dataset and is calculated by adding all the data points and dividing by the total number of observations. It represents the center or typical value of the data.\n",
    "\n",
    "Example: Mean height of a group of students is 165 cm. It provides an overall representation of the students' height.\n",
    "\n",
    "2. __Median__:\n",
    "The median is the middle value of a dataset when arranged in ascending or descending order. It is less affected by extreme values and is suitable for skewed data.\n",
    "\n",
    "Example: Median exam score in a class is 85. It represents the value that separates the lower and upper halves of the scores.\n",
    "\n",
    "3. __Mode__:\n",
    "The mode is the most frequently occurring value in a dataset. It is used mainly for nominal or categorical data.\n",
    "\n",
    "Example: Mode of a dataset representing eye colors is \"brown.\" It shows the most common eye color in the group.\n",
    "\n",
    "Measures of Variability:\n",
    "\n",
    "1. __Range__:\n",
    "The range is the difference between the maximum and minimum values in a dataset. It indicates the spread of the data from the lowest to the highest value.\n",
    "\n",
    "Example: Range of test scores is 40 (from 60 to 100). It gives the extent of variation in scores.\n",
    "\n",
    "2. __Variance__:\n",
    "Variance measures the average squared deviation of data points from the mean. It quantifies the overall spread of the data.\n",
    "\n",
    "Example: Variance of a set of exam scores is 100. A higher variance indicates more dispersion in the scores.\n",
    "\n",
    "3. __Standard Deviation__:\n",
    "The standard deviation is the square root of the variance. It provides a measure of how much individual data points deviate from the mean.\n",
    "\n",
    "Example: Standard deviation of heights in a class is 5 cm. It gives an idea of how spread out the heights are around the mean.\n",
    "\n",
    "These measures help statisticians and researchers summarize and understand datasets. Central tendency measures give insight into the typical value, while variability measures help assess the spread and distribution of the data. "
   ]
  },
  {
   "cell_type": "code",
   "execution_count": null,
   "id": "bd669699",
   "metadata": {},
   "outputs": [],
   "source": []
  }
 ],
 "metadata": {
  "kernelspec": {
   "display_name": "Python 3 (ipykernel)",
   "language": "python",
   "name": "python3"
  },
  "language_info": {
   "codemirror_mode": {
    "name": "ipython",
    "version": 3
   },
   "file_extension": ".py",
   "mimetype": "text/x-python",
   "name": "python",
   "nbconvert_exporter": "python",
   "pygments_lexer": "ipython3",
   "version": "3.9.13"
  }
 },
 "nbformat": 4,
 "nbformat_minor": 5
}
