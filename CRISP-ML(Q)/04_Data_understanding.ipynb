{
 "cells": [
  {
   "cell_type": "markdown",
   "id": "064ee83f",
   "metadata": {},
   "source": [
    "## Data Understanding"
   ]
  },
  {
   "cell_type": "markdown",
   "id": "1b548488",
   "metadata": {},
   "source": [
    "Data understanding is one of the key phases of CRISP-ML(Q). It involves getting familiar with the available data, assessing its quality, and gaining insights into its structure and content. The goal of this phase is to establish a solid foundation for subsequent data mining tasks.\n",
    "\n",
    "Here are the main steps involved in the data understanding phase of CRISP-DM:\n",
    "\n",
    "1. Initial Data Collection: In this step, you gather all the relevant data sources that are available for your analysis. This may include databases, files, spreadsheets, or any other data repositories.\n",
    "\n",
    "2. Describe Data: You examine the collected data to gain an understanding of its general properties. This involves summarizing the data's format, size, and the number of records or instances. It also includes identifying the data types (numeric, categorical, etc.) and the presence of missing values or outliers.\n",
    "\n",
    "3. Explore Data: Here, you perform a more in-depth exploration of the data to uncover patterns, relationships, or interesting characteristics. This can be done using statistical analysis, visualization techniques, or data profiling tools. The objective is to identify potential areas of interest and generate hypotheses for further analysis.\n",
    "\n",
    "4. Verify Data Quality: Data quality is crucial for accurate analysis. In this step, you assess the quality of the data by examining its completeness, consistency, accuracy, and relevance. This may involve checking for duplicate records, data integrity issues, or inconsistencies across different sources.\n",
    "\n",
    "5. Data Familiarization: It's important to understand the meaning and context of the data attributes. This step involves studying the metadata, data dictionaries, or any available documentation to gain insights into the semantics of the data. Domain knowledge or consultation with subject matter experts can also be useful in interpreting the data.\n",
    "\n",
    "6. Identify Data Relationships: During this phase, you investigate the relationships between different data attributes or variables. This can be achieved through correlation analysis, data profiling, or exploratory data analysis techniques. Understanding these relationships can help you formulate appropriate hypotheses for modeling.\n",
    "\n",
    "7. Data Sampling: Depending on the size and complexity of the data, you may choose to create a representative sample to work with. Sampling can help reduce processing time and resource requirements while still providing reliable insights.\n",
    "\n",
    "By completing these steps, you develop a comprehensive understanding of the data you're working with. This knowledge serves as a solid foundation for subsequent phases of the CRISP-DM methodology, such as data preparation, modeling, and evaluation."
   ]
  },
  {
   "cell_type": "markdown",
   "id": "5a82b02d",
   "metadata": {},
   "source": [
    "### A real life scenario"
   ]
  },
  {
   "cell_type": "markdown",
   "id": "c15857d5",
   "metadata": {},
   "source": [
    "Let's consider a real-life example of data understanding in the context of customer relationship management (CRM) for an e-commerce company:\n",
    "\n",
    "1. Initial Data Collection: The company collects various types of customer data, such as purchase history, demographics, website browsing behavior, and customer support interactions. These data sources include transactional databases, web analytics tools, and customer service logs.\n",
    "\n",
    "2. Describe Data: The collected data includes information such as customer ID, purchase amount, product categories, customer age, gender, website clickstream data, and customer feedback. The data consists of millions of records and spans multiple years.\n",
    "\n",
    "3. Explore Data: Through data exploration techniques, the company discovers that certain product categories are frequently purchased together, and there is a higher propensity for repeat purchases among customers who engage with personalized recommendations on the website.\n",
    "\n",
    "4. Verify Data Quality: The company examines the data for any data quality issues. They identify missing values in the customer age field and handle them by imputing values based on statistical methods. They also find some duplicate customer records and remove them from the dataset.\n",
    "\n",
    "5. Data Familiarization: The company reviews the metadata and data dictionaries to understand the meaning of each attribute. They find that some attributes require further clarification, so they consult with the customer support team to gain a better understanding of the data semantics.\n",
    "\n",
    "6. Identify Data Relationships: By performing correlation analysis, the company discovers that customer age is positively correlated with the average purchase amount, indicating that older customers tend to spend more. They also observe a negative correlation between website page load time and conversion rates, highlighting the importance of optimizing website performance.\n",
    "\n",
    "7. Data Sampling: Given the large dataset, the company decides to create a representative sample of customers for a specific analysis. They randomly select 10,000 customer records to work with, ensuring that the sample retains the key characteristics and patterns present in the full dataset.\n",
    "\n",
    "By going through these steps, the company gains a deep understanding of their customer data, identifies valuable insights, and addresses data quality issues. This understanding enables them to proceed with data preparation, modeling, and ultimately, leveraging the insights for effective customer relationship management strategies, such as personalized marketing campaigns or targeted recommendations."
   ]
  },
  {
   "cell_type": "markdown",
   "id": "d9b47e99",
   "metadata": {},
   "source": [
    "### Continuous Data vs Discrete Data"
   ]
  },
  {
   "cell_type": "markdown",
   "id": "59774555",
   "metadata": {},
   "source": [
    "Continuous data refers to information that can take on any value within a specific range. It can be measured and divided into smaller intervals, and there are no distinct boundaries between the values. Examples of continuous data include temperature, weight, height, and time. These values can be infinitely divided, and they are typically represented using decimal numbers.\n",
    "\n",
    "\n",
    "On the other hand, discrete data consists of separate, distinct values or categories. It often represents counts or whole numbers and cannot be divided into smaller parts. Examples of discrete data include the number of students in a class, the number of cars in a parking lot, and the results of a survey with options like \"yes\" or \"no.\" Discrete data is typically represented using integers or categorical variables."
   ]
  },
  {
   "cell_type": "markdown",
   "id": "6b55fc0e",
   "metadata": {},
   "source": [
    "### Types of Continuous Data"
   ]
  },
  {
   "cell_type": "markdown",
   "id": "f25e21d9",
   "metadata": {},
   "source": [
    "1. Interval Data: Interval data represents measurements where the intervals between values are consistent and meaningful, but there is no true zero point. The zero in interval data does not indicate the absence of the quantity being measured. Examples of interval data include temperature measured in Celsius or Fahrenheit, where zero does not indicate the absence of heat.\n",
    "\n",
    "2. Ratio Data: Ratio data, similar to interval data, has consistent and meaningful intervals between values. However, it also possesses a true zero point, indicating the absence of the measured quantity. Ratio data allows for meaningful ratios and comparisons. Examples include height, weight, time duration, and income. In ratio data, zero represents a complete absence of the quantity being measured.\n",
    "\n",
    "3. Time Data: Time data represents measurements related to time, such as hours, minutes, seconds, or timestamps. Time data is typically considered continuous because it can be divided into smaller intervals, and any point in time can be expressed to a greater level of precision.\n",
    "\n",
    "4. Measurement Data: Measurement data includes any data that can be quantitatively measured, such as length, width, volume, or area. These measurements are typically continuous and can take on any value within a given range.\n",
    "\n",
    "5. Sensor Data: Sensor data refers to continuous measurements collected from various sensors, devices, or instruments. This can include data from temperature sensors, pressure sensors, humidity sensors, or any other sensor that provides continuous numerical readings.\n",
    "\n",
    "It's important to note that continuous data can be represented as decimal numbers and can theoretically take on infinite possible values within a given range. Understanding the type of continuous data you are working with is crucial for selecting appropriate statistical analysis techniques and interpreting the results accurately."
   ]
  },
  {
   "cell_type": "markdown",
   "id": "a83408f3",
   "metadata": {},
   "source": [
    "### Types of Discrete Data"
   ]
  },
  {
   "cell_type": "markdown",
   "id": "e44d64ba",
   "metadata": {},
   "source": [
    "Discrete data refers to information that can only take specific, separate values. These values are often counted or categorized rather than measured on a continuous scale. Here are some common types of discrete data:\n",
    "\n",
    "1. Binary Data: Binary data has only two possible outcomes or categories. It represents a yes/no, true/false, or presence/absence situation. Examples include answers to yes/no questions (e.g., Did you pass the exam?), or gender (male/female).\n",
    "\n",
    "2. Count Data: Count data represents the number of occurrences or frequency of events within a given category. It involves whole numbers that cannot be negative or fractional. Examples include the number of cars in a parking lot, the number of students in a class, or the number of books on a shelf.\n",
    "\n",
    "3. Categorical Data: Categorical data consists of distinct groups or classes that do not have any inherent order. However, unlike nominal data, it may involve multiple categories or levels. Examples include types of pets (dog, cat, bird), marital status (single, married, divorced), or eye color (blue, brown, green).\n",
    "\n",
    "It's important to note that discrete data is different from continuous data, which can take any value within a given range and is typically measured rather than counted or categorized."
   ]
  },
  {
   "cell_type": "markdown",
   "id": "216e8a26",
   "metadata": {},
   "source": [
    "### Types of Categorical Data"
   ]
  },
  {
   "cell_type": "markdown",
   "id": "34f86b31",
   "metadata": {},
   "source": [
    "Categorical data, also known as qualitative data, refers to information that can be grouped into specific categories or classes. It represents characteristics or qualities that are non-numeric in nature. Categorical data is often collected through observations, surveys, or interviews, and it helps in understanding and describing different attributes or characteristics of a population or sample.\n",
    "\n",
    "Categorical data can be further divided into two types:\n",
    "\n",
    "Nominal Data: Nominal data consists of categories or labels with no inherent order or ranking. Each category is distinct and does not have any numerical significance. Examples of nominal data include gender (male/female), types of cars (sedan, SUV, hatchback), or cities (New York, London, Tokyo).\n",
    "\n",
    "Ordinal Data: Ordinal data includes categories that have a natural order or ranking. The categories can be ranked based on some criteria, but the differences between the categories may not be quantitatively measurable or equal. Examples of ordinal data include rating scales (e.g., 1 star, 2 stars, 3 stars), educational levels (e.g., elementary, middle school, high school), or survey responses (e.g., strongly agree, agree, neutral, disagree, strongly disagree).\n",
    "\n",
    "Categorical data is often analyzed using frequency distributions, bar charts, pie charts, or contingency tables. These methods help in visualizing and summarizing the distribution of data across different categories, making it easier to draw conclusions or identify patterns within the dataset. Statistical techniques such as chi-square tests or logistic regression can also be used to analyze categorical data and explore relationships between variables."
   ]
  },
  {
   "cell_type": "markdown",
   "id": "2e38b430",
   "metadata": {},
   "source": [
    "### Qualitative vs Quantitative Data"
   ]
  },
  {
   "cell_type": "markdown",
   "id": "2eef25ff",
   "metadata": {},
   "source": [
    "Qualitative data is descriptive and focuses on qualities, opinions, and experiences. It uses words, images, or observations to convey information. For example, asking someone how they feel about a movie or what they thought about a book generates qualitative data.\n",
    "\n",
    "Quantitative data, on the other hand, is numerical and focuses on quantities and measurements. It involves counting or measuring things. For instance, recording the number of people who attended an event or measuring the temperature outside are examples of quantitative data.\n",
    "\n",
    "In simple terms, qualitative data is about descriptions and opinions, while quantitative data is about numbers and measurements."
   ]
  },
  {
   "cell_type": "markdown",
   "id": "9c543aed",
   "metadata": {},
   "source": [
    "### Structured Data"
   ]
  },
  {
   "cell_type": "markdown",
   "id": "f8022fac",
   "metadata": {},
   "source": [
    "Structured data is well-organized and follows a specific format or schema. It is typically stored in databases or spreadsheets with rows and columns. Each piece of information has a designated place and is categorized into predefined categories. Think of it as a neatly arranged table where everything is organized.\n",
    "For example, a spreadsheet containing a list of employees with columns for their names, ages, positions, and salaries represents structured data. The data is organized into distinct fields, making it easy to search, sort, and analyze."
   ]
  },
  {
   "cell_type": "markdown",
   "id": "cf20499d",
   "metadata": {},
   "source": [
    "### Unstructured Data"
   ]
  },
  {
   "cell_type": "markdown",
   "id": "9d33f499",
   "metadata": {},
   "source": [
    "Unstructured data refers to information that doesn't have a predefined format or organization. It is usually free-flowing and doesn't fit neatly into rows and columns. Unstructured data can include text documents, social media posts, emails, images, audio files, videos, and more.\n",
    "Think of unstructured data as a messy pile of papers where you have to sift through to find what you need. Since it lacks a consistent structure, it requires special tools and techniques for analysis and extraction of meaningful insights.\n",
    "\n",
    "For example, a collection of customer reviews on a website or social media platform contains unstructured data. Each review may have different formats, sentence structures, and opinions, making it challenging to organize or analyze manually."
   ]
  },
  {
   "cell_type": "markdown",
   "id": "83ff117b",
   "metadata": {},
   "source": [
    "### Semi Structured"
   ]
  },
  {
   "cell_type": "markdown",
   "id": "0735346b",
   "metadata": {},
   "source": [
    "Semi-structured data lies somewhere in between structured and unstructured data. It has some organization or structure, but it is not as rigid as structured data. Semi-structured data contains both labeled and unlabeled information, allowing for flexibility in storing and retrieving data.\n",
    "A common representation of semi-structured data is XML (eXtensible Markup Language), where data elements are organized in a hierarchical structure with tags and attributes. The tags provide a level of organization, but the content within the tags can be varied and flexible.\n",
    "\n",
    "For example, an invoice in XML format can be considered semi-structured data. The invoice may have defined elements such as customer name, date, and total amount due, but there could be additional notes or comments that are not explicitly labeled."
   ]
  },
  {
   "cell_type": "markdown",
   "id": "556f0744",
   "metadata": {},
   "source": [
    "### Big Data vs Not Big Data"
   ]
  },
  {
   "cell_type": "markdown",
   "id": "feb22cdb",
   "metadata": {},
   "source": [
    "Big Data Example:\n",
    "Imagine a social media platform like Facebook or Twitter, which generates an enormous amount of data every second. This data includes user posts, comments, likes, shares, images, videos, and more. The volume of data is massive, as millions of users are actively engaging on the platform. The velocity is high, as new posts and interactions are constantly being generated. Additionally, the data comes in various formats and structures, such as text, multimedia, and user profiles. To analyze this big data, the platform uses advanced algorithms to understand user behavior, personalize content recommendations, and detect patterns for targeted advertising.\n",
    "\n",
    "Not Big Data (Small Data) Example:\n",
    "Consider a local retail store that keeps track of its daily sales and inventory using a basic point-of-sale system. The store collects structured data such as product names, quantities sold, prices, and timestamps. While this data is essential for the store's operations, it is relatively small in volume and does not require complex processing. The store can use traditional data analysis methods, like spreadsheets or basic statistical tools, to gain insights into sales trends, identify popular products, and manage inventory levels.\n",
    "\n",
    "Hybrid Scenario:\n",
    "In some cases, there can be a combination of big data and not big data. Let's say an e-commerce company operates a website where customers leave product reviews and ratings. While each individual review may be considered small data, the cumulative data of thousands or millions of reviews can become big data. The company may employ big data techniques to analyze sentiment, identify trends, and improve their product offerings based on customer feedback.\n",
    "\n",
    "Healthcare Scenario:\n",
    "In the healthcare industry, big data can be utilized to analyze vast amounts of patient records, medical images, and genomic data. For example, researchers can analyze large datasets of anonymized patient records to identify disease patterns, predict outbreaks, and improve treatment strategies. On the other hand, a small clinic may primarily deal with individual patient records and utilize smaller-scale data analysis methods for patient management and medical decision-making."
   ]
  },
  {
   "cell_type": "code",
   "execution_count": null,
   "id": "bb312f67",
   "metadata": {},
   "outputs": [],
   "source": []
  }
 ],
 "metadata": {
  "kernelspec": {
   "display_name": "Python 3 (ipykernel)",
   "language": "python",
   "name": "python3"
  },
  "language_info": {
   "codemirror_mode": {
    "name": "ipython",
    "version": 3
   },
   "file_extension": ".py",
   "mimetype": "text/x-python",
   "name": "python",
   "nbconvert_exporter": "python",
   "pygments_lexer": "ipython3",
   "version": "3.9.13"
  }
 },
 "nbformat": 4,
 "nbformat_minor": 5
}
