{
 "cells": [
  {
   "cell_type": "markdown",
   "id": "064ee83f",
   "metadata": {},
   "source": [
    "## Data Understanding"
   ]
  },
  {
   "cell_type": "markdown",
   "id": "1b548488",
   "metadata": {},
   "source": [
    "Data understanding is one of the key phases of CRISP-ML(Q). It involves getting familiar with the available data, assessing its quality, and gaining insights into its structure and content. The goal of this phase is to establish a solid foundation for subsequent data mining tasks.\n",
    "\n",
    "Here are the main steps involved in the data understanding phase of CRISP-DM:\n",
    "\n",
    "1. Initial Data Collection: In this step, you gather all the relevant data sources that are available for your analysis. This may include databases, files, spreadsheets, or any other data repositories.\n",
    "\n",
    "2. Describe Data: You examine the collected data to gain an understanding of its general properties. This involves summarizing the data's format, size, and the number of records or instances. It also includes identifying the data types (numeric, categorical, etc.) and the presence of missing values or outliers.\n",
    "\n",
    "3. Explore Data: Here, you perform a more in-depth exploration of the data to uncover patterns, relationships, or interesting characteristics. This can be done using statistical analysis, visualization techniques, or data profiling tools. The objective is to identify potential areas of interest and generate hypotheses for further analysis.\n",
    "\n",
    "4. Verify Data Quality: Data quality is crucial for accurate analysis. In this step, you assess the quality of the data by examining its completeness, consistency, accuracy, and relevance. This may involve checking for duplicate records, data integrity issues, or inconsistencies across different sources.\n",
    "\n",
    "5. Data Familiarization: It's important to understand the meaning and context of the data attributes. This step involves studying the metadata, data dictionaries, or any available documentation to gain insights into the semantics of the data. Domain knowledge or consultation with subject matter experts can also be useful in interpreting the data.\n",
    "\n",
    "6. Identify Data Relationships: During this phase, you investigate the relationships between different data attributes or variables. This can be achieved through correlation analysis, data profiling, or exploratory data analysis techniques. Understanding these relationships can help you formulate appropriate hypotheses for modeling.\n",
    "\n",
    "7. Data Sampling: Depending on the size and complexity of the data, you may choose to create a representative sample to work with. Sampling can help reduce processing time and resource requirements while still providing reliable insights.\n",
    "\n",
    "By completing these steps, you develop a comprehensive understanding of the data you're working with. This knowledge serves as a solid foundation for subsequent phases of the CRISP-DM methodology, such as data preparation, modeling, and evaluation."
   ]
  },
  {
   "cell_type": "markdown",
   "id": "5a82b02d",
   "metadata": {},
   "source": [
    "### A real life scenario"
   ]
  },
  {
   "cell_type": "markdown",
   "id": "c15857d5",
   "metadata": {},
   "source": [
    "Let's consider a real-life example of data understanding in the context of customer relationship management (CRM) for an e-commerce company:\n",
    "\n",
    "1. Initial Data Collection: The company collects various types of customer data, such as purchase history, demographics, website browsing behavior, and customer support interactions. These data sources include transactional databases, web analytics tools, and customer service logs.\n",
    "\n",
    "2. Describe Data: The collected data includes information such as customer ID, purchase amount, product categories, customer age, gender, website clickstream data, and customer feedback. The data consists of millions of records and spans multiple years.\n",
    "\n",
    "3. Explore Data: Through data exploration techniques, the company discovers that certain product categories are frequently purchased together, and there is a higher propensity for repeat purchases among customers who engage with personalized recommendations on the website.\n",
    "\n",
    "4. Verify Data Quality: The company examines the data for any data quality issues. They identify missing values in the customer age field and handle them by imputing values based on statistical methods. They also find some duplicate customer records and remove them from the dataset.\n",
    "\n",
    "5. Data Familiarization: The company reviews the metadata and data dictionaries to understand the meaning of each attribute. They find that some attributes require further clarification, so they consult with the customer support team to gain a better understanding of the data semantics.\n",
    "\n",
    "6. Identify Data Relationships: By performing correlation analysis, the company discovers that customer age is positively correlated with the average purchase amount, indicating that older customers tend to spend more. They also observe a negative correlation between website page load time and conversion rates, highlighting the importance of optimizing website performance.\n",
    "\n",
    "7. Data Sampling: Given the large dataset, the company decides to create a representative sample of customers for a specific analysis. They randomly select 10,000 customer records to work with, ensuring that the sample retains the key characteristics and patterns present in the full dataset.\n",
    "\n",
    "By going through these steps, the company gains a deep understanding of their customer data, identifies valuable insights, and addresses data quality issues. This understanding enables them to proceed with data preparation, modeling, and ultimately, leveraging the insights for effective customer relationship management strategies, such as personalized marketing campaigns or targeted recommendations."
   ]
  },
  {
   "cell_type": "code",
   "execution_count": null,
   "id": "9fa622ce",
   "metadata": {},
   "outputs": [],
   "source": []
  }
 ],
 "metadata": {
  "kernelspec": {
   "display_name": "Python 3 (ipykernel)",
   "language": "python",
   "name": "python3"
  },
  "language_info": {
   "codemirror_mode": {
    "name": "ipython",
    "version": 3
   },
   "file_extension": ".py",
   "mimetype": "text/x-python",
   "name": "python",
   "nbconvert_exporter": "python",
   "pygments_lexer": "ipython3",
   "version": "3.9.13"
  }
 },
 "nbformat": 4,
 "nbformat_minor": 5
}
