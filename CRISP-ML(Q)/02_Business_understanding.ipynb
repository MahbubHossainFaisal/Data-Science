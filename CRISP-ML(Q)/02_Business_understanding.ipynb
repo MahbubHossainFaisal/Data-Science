{
 "cells": [
  {
   "cell_type": "markdown",
   "id": "f244adef",
   "metadata": {},
   "source": [
    "### Business Understanding"
   ]
  },
  {
   "cell_type": "markdown",
   "id": "5175e8b9",
   "metadata": {},
   "source": [
    "Imagine you have a toy store, and you want to sell as many toys as possible. Business Understanding is like asking yourself questions to understand what you need to do to make your toy store successful.\n",
    "\n",
    "You might think:\n",
    "\n",
    "What kind of toys do kids like?\n",
    "How can I make my toy store attractive and fun for children?\n",
    "How much money do I want to make from selling toys?\n",
    "Business Understanding is about figuring out what you want to achieve and what you need to know to reach your goals. It's like creating a plan to make your toy store the best it can be!\n",
    "\n",
    "To understand your business, you might talk to kids and their parents to find out their favorite toys. You might also visit other toy stores to see what they do well and what you could do differently.\n",
    "\n",
    "By understanding your business, you can decide what toys to sell, how to arrange them in your store, and how much to charge for them. You can also think about how to advertise your store to attract more customers and make them happy.\n",
    "\n",
    "Business Understanding helps you make good decisions and have a clear plan. It's like having a map that shows you the best way to make your toy store successful and make kids happy with the toys they want.\n",
    "\n",
    "Remember, it's important to think about your customers, what they like, and what makes them happy. That way, you can have a successful toy store and bring joy to many children!"
   ]
  },
  {
   "cell_type": "markdown",
   "id": "b5975f26",
   "metadata": {},
   "source": [
    "**Define Scope of Application:** Imagine you have a special tool that can fix things, like a magic wrench. But this magic wrench can only fix certain things, like toys or bikes. That means its scope of application is limited to those things. It's like the magic wrench has a special area where it can be used to solve problems.\n"
   ]
  },
  {
   "cell_type": "markdown",
   "id": "1e73945f",
   "metadata": {},
   "source": [
    "\n",
    "    -business problem\n",
    "    -business objective\n",
    "    -business constraints\n",
    "\n",
    "\n",
    "**Business Problem**: A business problem is like when a store or a company has something that's not going well and needs to be fixed. For example, if a store has a lot of toys but no one is buying them, that's a problem because they want to sell the toys to make money.\n",
    "\n",
    "**Business Objective**: When a store or a company has a problem, they set a goal to solve it. This goal is called a business objective. It's like saying, \"We want to sell all the toys in the store by the end of the month.\" The objective is what they want to achieve or the target they want to reach.\n",
    "\n",
    "**Business Constraints**: Sometimes, there are things that make it difficult to solve a problem or achieve a goal. These things are called constraints. They can be like rules or limits that the store or company needs to follow. For example, they might have a constraint that says they can't spend more than a certain amount of money to sell the toys.\n",
    "\n",
    "Putting it all together: Imagine a toy store that has a problem because no one is buying the toys. The store's objective is to sell all the toys by the end of the month. However, they have a constraint that they can't spend too much money on advertising. So, they need to find a solution within that constraint to make people want to buy the toys.\n",
    "\n",
    "In this case, the scope of application for solving the problem and achieving the objective is within the toy store itself. The store needs to come up with ideas and strategies to make the toys attractive to customers and encourage them to buy.\n",
    "\n",
    "So, the scope of application is like the special area where the magic wrench can be used, the business problem is the issue the store wants to fix, the business objective is the goal they want to achieve, and the business constraints are the limits or rules they need to follow along the way.\n",
    "\n",
    "By understanding the scope, problem, objective, and constraints, the store can find the best way to solve their problem and reach their goal."
   ]
  },
  {
   "cell_type": "markdown",
   "id": "54cfba89",
   "metadata": {},
   "source": [
    "**Define Success criteria:** Success criteria are specific goals or benchmarks that help us measure and determine whether something has been successful or not. It's like having a set of rules or targets to know if we did a good job!\n",
    "\n",
    "**Business Success Criteria:** In a business, success criteria are the things we look at to see if the business is doing well. For example, if a business wants to be successful, they might set criteria like making a certain amount of money, having satisfied customers, or expanding to new locations. So, if a business meets these criteria, it means they are successful in achieving their goals.\n",
    "\n",
    "__Machine Learning Criteria:__ In a business, machine learning is like using special computer programs to help with important things. These programs can do clever things like understanding what customers like, predicting how much of a product will be needed, catching bad guys who try to cheat, and figuring out which customers might leave.\n",
    "To know if these machine learning programs are doing a good job, we use special rules called success criteria. These criteria help us check if the programs are accurate, helpful, and if they make the business better.\n",
    "For example, let's say we use machine learning to group customers into different groups based on what they like. We want to make sure the program does this correctly. So one success criterion is checking if the program gets the groups right most of the time.\n",
    "Another example is using machine learning to predict how much of a product will be needed in the future. We want the program to give us the right prediction, so another success criterion is checking if it predicts well most of the time.\n",
    "We also use machine learning to catch bad guys who try to cheat in the business. We want the program to find the cheaters and stop them. So a success criterion is checking if the program catches the bad guys and helps keep the business safe.\n",
    "Lastly, machine learning can help predict which customers might leave the business. We want to keep our customers happy, so we use the program to find out who might leave. A success criterion is checking if the program correctly predicts who might leave, so we can do something to keep them happy.\n",
    "\n",
    "__Survival Analytics:__ Survival analytics is a method used to study how long it takes for events to happen, such as patient survival or machine failure. In survival analytics, success criteria are based on the specific event being studied. For patient survival, the success criterion may be the percentage of patients who survive for a certain period of time after a treatment. For machine reliability, the success criterion may be the average time the machine operates without any issues. By using survival analytics and defining appropriate success criteria, we can better understand and assess the outcomes of events or processes. Survival analytics also checks the prediction model if it goes with the objectives and goals of the business. If the machine learning model any how hampering the financial growth, then survival analytics create constraints which has to be maintained along with the business objective while solving the business problem for the growth of the company.\n",
    "\n",
    "__Economic Success Criteria:__ Economic success criteria in business are about measuring how well a business is doing financially. It involves looking at factors like making money, creating jobs, and contributing to the overall growth of the economy. If a business is making more money than it spends, creating job opportunities for people, and helping the economy grow, it is considered economically successful. These criteria show that the business is financially strong and positively impacting the community or country it operates in."
   ]
  },
  {
   "cell_type": "markdown",
   "id": "e1a3200d",
   "metadata": {},
   "source": [
    "__Let's consider a real-world example of a retail business__ that wants to improve its customer retention and increase sales through personalized marketing. Here are the details:\n",
    "\n",
    "Scope of Application:\n",
    "- Business Problem: The retail business is facing challenges with customer retention. Many customers are leaving and not returning to make additional purchases.\n",
    "- Business Objective: The objective is to improve customer retention and increase sales by implementing personalized marketing strategies that cater to each customer's preferences and needs.\n",
    "- Business Constraints: The business has a limited budget for marketing initiatives, and there are regulations and privacy concerns that need to be followed when collecting and utilizing customer data.\n",
    "\n",
    "Success Criteria:\n",
    "- Business Success Criteria: The business success criteria would include metrics such as increased customer retention rate, higher customer satisfaction scores, and growth in sales revenue from repeat customers.\n",
    "- Machine Learning Success Criteria: For machine learning to support personalized marketing, success criteria would involve the accuracy of the recommendation system, the ability to predict customer preferences and needs, and the effectiveness of targeted marketing campaigns.\n",
    "- Economic Success Criteria: Economic success criteria would be reflected in metrics like increased customer lifetime value, higher customer spending per visit, and improved overall profitability for the business.\n",
    "\n",
    "Real-World Example: Let's say the retail business implements a machine learning-based recommendation system that analyzes customer purchase history, browsing behavior, and demographic information. It then provides personalized product recommendations to each customer through email campaigns or on the business's website. The system also tracks customer responses to the recommendations and adjusts future recommendations accordingly.\n",
    "\n",
    "Success criteria for this example could include:\n",
    "- Business Success Criteria: Increase customer retention rate by 20% within six months, achieve a 10% growth in sales revenue from repeat customers, and receive positive feedback from customers about the personalized shopping experience.\n",
    "- Machine Learning Success Criteria: Achieve an accuracy rate of 80% in predicting customer preferences, increase the click-through rate of personalized email campaigns by 15%, and receive positive feedback from customers regarding the relevance of the product recommendations.\n",
    "- Economic Success Criteria: Increase customer lifetime value by 15%, achieve a 10% increase in average customer spending per visit, and observe a positive impact on the overall profitability of the business.\n",
    "\n",
    "By meeting these success criteria, the retail business would be able to demonstrate the effectiveness of its personalized marketing approach, improve customer retention, and ultimately drive economic success through increased sales and customer satisfaction."
   ]
  },
  {
   "cell_type": "code",
   "execution_count": null,
   "id": "7d8fd6dd",
   "metadata": {},
   "outputs": [],
   "source": []
  }
 ],
 "metadata": {
  "kernelspec": {
   "display_name": "Python 3 (ipykernel)",
   "language": "python",
   "name": "python3"
  },
  "language_info": {
   "codemirror_mode": {
    "name": "ipython",
    "version": 3
   },
   "file_extension": ".py",
   "mimetype": "text/x-python",
   "name": "python",
   "nbconvert_exporter": "python",
   "pygments_lexer": "ipython3",
   "version": "3.9.13"
  }
 },
 "nbformat": 4,
 "nbformat_minor": 5
}
