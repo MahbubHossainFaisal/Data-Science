{
 "cells": [
  {
   "cell_type": "markdown",
   "id": "2efeb1e9-3f17-4463-bb3f-25d26e230033",
   "metadata": {},
   "source": [
    "# Traditional VS Cloud computing"
   ]
  },
  {
   "cell_type": "markdown",
   "id": "a67113ab-6d3b-4d3b-825e-a51536cb9abc",
   "metadata": {},
   "source": [
    "Traditional server problems:\n",
    "    \n",
    "    1) Server maintainance, hire people to handle.\n",
    "    2) Seperate place to keep the server (infrustructure problem)\n",
    "    3) You have to buy a fixed user based server\n",
    "    4) You cannot predict actually how many users will hit the server. Suppose if you buy the server for 10k users but the at one time the server is requested by 20k users then it may crash. or suppose not more than 1k users use your website. so then it becomes a loss."
   ]
  },
  {
   "cell_type": "markdown",
   "id": "976e9e34-276b-4bab-881f-cf49a74ea6a6",
   "metadata": {},
   "source": [
    "Cloud server benefits:\n",
    "\n",
    "    1) You don't have to buy server for fixed users. It can be flexible according to user request. Means if your one server can't handle the requests alone, you will get more.\n",
    "    2) Servers will be up and running 24/7\n",
    "    3) You can stop your server any time you want and you have to pay only for the total usage time.\n",
    "    4) You don't have to buy your physical infrustructures. (saves a lot of money)"
   ]
  },
  {
   "cell_type": "markdown",
   "id": "b68f0b30-36c9-4e65-a3e5-513c7b380c11",
   "metadata": {},
   "source": [
    "# Cloud computing service models"
   ]
  },
  {
   "cell_type": "markdown",
   "id": "d3347fb1-c772-40ee-90ba-c6cc3bd3c997",
   "metadata": {},
   "source": [
    "### 1) Infrustructure as a service (Iaas)\n",
    "### 2) Platform as a service (Paas)\n",
    "### 3) Software as a service (Saas)"
   ]
  },
  {
   "cell_type": "markdown",
   "id": "37f4522e-50b5-4052-9c14-86ce47cc5f31",
   "metadata": {},
   "source": [
    "## Iaas"
   ]
  },
  {
   "cell_type": "markdown",
   "id": "b0b2e921-b5e1-4fab-a9a5-1bd9d40cd216",
   "metadata": {},
   "source": [
    "- It will have it's own hardware and give you an OS to operate. Os can be of Ubuntu , fedora or anything else. You can choose that and operate.\n",
    "- Every responsibility of work is your own."
   ]
  },
  {
   "cell_type": "markdown",
   "id": "aa4ca317-6241-451b-93dd-4c0e17932d3e",
   "metadata": {},
   "source": [
    "## Paas"
   ]
  },
  {
   "cell_type": "markdown",
   "id": "2afc1256-bb2b-4c89-b792-5b5e4add25ef",
   "metadata": {},
   "source": [
    "- Here you don't have to manage the whole os by your own instead you will get the necessary applications to use as your choice and you don't have to create or configure them. You have to only maintain the data and application. AWS RDS is a Paas kind of service."
   ]
  },
  {
   "cell_type": "markdown",
   "id": "560300c9-68f3-49dd-bd87-8465be23cddb",
   "metadata": {},
   "source": [
    "## Saas"
   ]
  },
  {
   "cell_type": "markdown",
   "id": "da93cb6c-2f41-4f5e-a55b-35b864a40a8f",
   "metadata": {},
   "source": [
    "- Here you don't have to manage anything. You have to buy the service and use it. Everything will be managed by the service."
   ]
  },
  {
   "cell_type": "markdown",
   "id": "57b0d581-81db-41a4-944f-b776174790d4",
   "metadata": {},
   "source": [
    "# Types of Cloud"
   ]
  },
  {
   "cell_type": "markdown",
   "id": "409f4a5e-d5c8-4e5c-bd92-48600e729a6f",
   "metadata": {},
   "source": [
    "1) Public cloud\n",
    "2) Private cloud\n",
    "3) Hybrid cloud\n"
   ]
  },
  {
   "cell_type": "markdown",
   "id": "3943c560-9382-49c9-9c2e-01e71228e6ec",
   "metadata": {},
   "source": [
    "Public cloud: \n",
    "\n",
    "- It can be accessed by anyone over the internet."
   ]
  },
  {
   "cell_type": "markdown",
   "id": "6bba9110-5f62-4b87-8dde-54c6f0e2eac9",
   "metadata": {},
   "source": [
    "Private cloud:\n",
    "\n",
    "- It can be accessed by only limited user within a company. Every private company can create their own virtual machines using number of servers.\n",
    "  then they give the internal ip to individual workers so that they can work on the vitrual machines inside the network."
   ]
  },
  {
   "cell_type": "markdown",
   "id": "7b7dd5df-b8c1-49d6-a9db-dbe78578a06f",
   "metadata": {},
   "source": [
    "Hybrid cloud:\n",
    "- Many organizations use public cloud and as well as they have their own data centres where they use private servers. Like AWS outpost (The purpose of AWS Outposts is to enable customers to run AWS infrastructure on-premises or in co-location facilities using AWS hardware. This allows customers to have a consistent hybrid experience by extending their AWS infrastructure, services, APIs, and tools to their on-premises data centers or co-location facilities.)"
   ]
  },
  {
   "cell_type": "markdown",
   "id": "fe1d052d-3a6f-4224-968d-357ddebf7d70",
   "metadata": {},
   "source": [
    "# AWS Region (AWS global insfructure)"
   ]
  },
  {
   "cell_type": "markdown",
   "id": "25db3f8d-de6c-48db-9493-d140c8043128",
   "metadata": {},
   "source": [
    "- In every region , there need to be at least 2 availability zone and AWS keeps 3 availablity zone at least. Availability zones contains multiple data centers.\n"
   ]
  },
  {
   "cell_type": "markdown",
   "id": "b65ff103-550e-4030-bb8a-438018085f30",
   "metadata": {},
   "source": [
    "### Why there so many regions placed by AWS? Why it can not be stayed in one part of the world. Cz people are accessing it from online anyhow."
   ]
  },
  {
   "cell_type": "markdown",
   "id": "75ac7668-339f-4986-90e6-d7de5b944fab",
   "metadata": {},
   "source": [
    "- for shorter data traveling. Suppose people who are staying india or bangladesh can access the Mumbai or Hydrabad Region faster.\n",
    "\n",
    "- for government policies. Many govt. or companies want their data not to go outside of the country. So AWS need to create the data centers in that country only.\n",
    "\n",
    "- Also companies sometimes take backups of data center and use multiple regions to store the data."
   ]
  },
  {
   "cell_type": "markdown",
   "id": "e20710a3-7d84-42a2-8755-7eb9422595d0",
   "metadata": {},
   "source": [
    "### Why multiple availability zones needed?"
   ]
  },
  {
   "cell_type": "markdown",
   "id": "55d6474e-f3b7-41ee-8ffd-b73c2f6c4659",
   "metadata": {},
   "source": [
    "Because if some availability zone get down for some reason, then others can remain active and keep their services on."
   ]
  },
  {
   "cell_type": "markdown",
   "id": "ba9605ef-2311-485e-83b6-d391404f37b3",
   "metadata": {},
   "source": [
    "### Available zones vs Local zones"
   ]
  },
  {
   "cell_type": "markdown",
   "id": "ed8c6b03-2cc8-467a-888a-1261ea624713",
   "metadata": {},
   "source": [
    "#### Available zones\n",
    "Imagine you have a lot of toys, and you want to make sure you always have enough toys to play with. So you decide to put some toys in different boxes, just in case something happens to one of the boxes. This way, if one of the boxes gets lost or broken, you still have plenty of other toys to play with.\n",
    "\n",
    "AWS Availability Zones are kind of like those boxes. They're different parts of a big computer system, called the cloud, that have toys in them. But instead of toys, they have computer stuff like storage and databases. And just like your toy boxes, if something happens to one part of the system, the other parts can still keep working."
   ]
  },
  {
   "cell_type": "markdown",
   "id": "085fdea0-1f85-49d5-b7fb-993d85c85856",
   "metadata": {},
   "source": [
    "#### Local zones:\n",
    "    \n",
    "Imagine you're a student who needs to access a computer lab to do your homework. The computer lab is located in the main school building, but you live in a dormitory on the other side of campus. It takes a long time to walk to the lab, and sometimes the lab is crowded, which makes it hard to get your work done.\n",
    "\n",
    "AWS Local Zones are like having a mini computer lab that's located right in your dormitory. This mini lab has all the same programs and tools you need to do your homework, but it's faster and more convenient because it's right there in your dorm. You can access the lab quickly and easily whenever you need it, without having to walk all the way across campus.\n",
    "\n",
    "In the same way, AWS Local Zones bring cloud infrastructure closer to where customers need it, so they can access the cloud services they need quickly and easily, without having to send data back and forth over long distances."
   ]
  },
  {
   "cell_type": "markdown",
   "id": "f8c18651-512a-4004-be87-52d4296c6b36",
   "metadata": {},
   "source": [
    "##### But every service is not available in local zones."
   ]
  },
  {
   "cell_type": "markdown",
   "id": "7e2824a3-fde7-44e6-9ec8-c842356d1657",
   "metadata": {},
   "source": [
    "# AWS EC2 (Elastic compute cloud) Service"
   ]
  },
  {
   "cell_type": "markdown",
   "id": "3d8741f4-5fc5-48ff-889c-45602b758d53",
   "metadata": {},
   "source": [
    "EC2 provides virtual computer to the user which can be as much as powerful according to user choice. With EC2, you can choose how powerful you want your computer to be. If you need a lot of power, you can choose a really big and fast computer. If you just need a little bit of power, you can choose a smaller and slower computer. And the best part is that you only have to pay for what you use, just like you only pay for the electricity you use at home."
   ]
  },
  {
   "cell_type": "code",
   "execution_count": null,
   "id": "7f45a351-d064-486f-949c-203b7d000ba7",
   "metadata": {},
   "outputs": [],
   "source": []
  }
 ],
 "metadata": {
  "kernelspec": {
   "display_name": "Python 3 (ipykernel)",
   "language": "python",
   "name": "python3"
  },
  "language_info": {
   "codemirror_mode": {
    "name": "ipython",
    "version": 3
   },
   "file_extension": ".py",
   "mimetype": "text/x-python",
   "name": "python",
   "nbconvert_exporter": "python",
   "pygments_lexer": "ipython3",
   "version": "3.10.8"
  }
 },
 "nbformat": 4,
 "nbformat_minor": 5
}
