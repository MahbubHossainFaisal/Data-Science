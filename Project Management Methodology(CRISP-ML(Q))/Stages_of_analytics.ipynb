{
 "cells": [
  {
   "cell_type": "markdown",
   "id": "2e3b9701",
   "metadata": {},
   "source": []
  },
  {
   "cell_type": "markdown",
   "id": "d0e55445",
   "metadata": {},
   "source": []
  },
  {
   "cell_type": "markdown",
   "id": "e4401c88",
   "metadata": {},
   "source": [
    "## Stages of Analytics"
   ]
  },
  {
   "cell_type": "markdown",
   "id": "c2114335",
   "metadata": {},
   "source": [
    "###  Stage 1: Descriptive Analytics"
   ]
  },
  {
   "cell_type": "markdown",
   "id": "329ac26b",
   "metadata": {},
   "source": [
    "Descriptive analytics is like telling a story about the data we have. It helps us understand what has happened in the past and what is happening right now. It's like looking at a picture and describing what you see.\n",
    "\n",
    "Imagine you have a big jar filled with colorful candies. Descriptive analytics would help you answer questions like:\n",
    "- How many candies are in the jar?\n",
    "- What colors are the candies?\n",
    "- Which color is the most common?\n",
    "\n",
    "To find out, you would count all the candies in the jar and see how many candies of each color there are. You might discover that there are 100 candies in total, with 40 red, 30 green, and 30 blue candies.\n",
    "\n",
    "Descriptive analytics helps us organize and summarize data in a way that is easy to understand. It uses charts, graphs, and tables to present information visually. In our candy example, you could make a bar graph to show the different colors and their quantities.\n",
    "\n",
    "Descriptive analytics doesn't involve predicting or making decisions for the future. It simply tells us what has already happened or what is currently going on. It's like looking at a snapshot of a moment in time.\n",
    "\n",
    "So, descriptive analytics is all about observing and describing data to get a better understanding of what it means. It helps us uncover patterns, trends, and important information from the data we have, just like counting candies in a jar to learn about their colors and quantities."
   ]
  },
  {
   "cell_type": "markdown",
   "id": "b3f86018",
   "metadata": {},
   "source": [
    "### Stage 2: Diagnostic Analytics"
   ]
  },
  {
   "cell_type": "markdown",
   "id": "1dec8e17",
   "metadata": {},
   "source": [
    "Diagnostic analytics is like being a detective trying to solve a mystery. It helps us understand why something happened or why certain patterns or trends occurred in the data. It goes beyond descriptive analytics, which tells us what happened, and dives deeper into the reasons behind it.\n",
    "\n",
    "Let's continue with our candy jar example. Imagine that every time you eat a red candy, you feel happy afterward. This makes you curious, and you want to understand why eating red candies brings you joy. That's where diagnostic analytics comes in.\n",
    "\n",
    "Diagnostic analytics helps you answer questions like:\n",
    "- Why do I feel happy after eating red candies?\n",
    "- Is there something special about the red candies that makes me feel this way?\n",
    "\n",
    "To find out, you might look at other factors that could be related, like the flavor or the shape of the red candies. You could also compare it to other candy colors to see if there's a difference in your emotions.\n",
    "\n",
    "By analyzing the data, you might discover that the red candies have a special flavor that you really enjoy. This could explain why you feel happy when you eat them. Diagnostic analytics helps you uncover these relationships and understand the cause-and-effect behind the data patterns.\n",
    "\n",
    "In a broader context, diagnostic analytics helps us investigate and explore the factors that influence certain outcomes. It can involve statistical analysis, data mining, and other techniques to uncover correlations, relationships, or potential causes for observed phenomena.\n",
    "\n",
    "So, diagnostic analytics is like being a detective who digs deep into the data to understand the \"why\" behind certain patterns or events. It helps us uncover the reasons behind what we see and provides insights into the factors that contribute to specific outcomes or behaviors."
   ]
  },
  {
   "cell_type": "markdown",
   "id": "cea2bf72",
   "metadata": {},
   "source": [
    "### Stage 3: Predictive Analytics"
   ]
  },
  {
   "cell_type": "markdown",
   "id": "10ba7bb0",
   "metadata": {},
   "source": [
    "Predictive analytics is like having a crystal ball that helps us make predictions about the future based on the data we have. It uses historical data and statistical models to forecast what might happen next.\n",
    "\n",
    "Imagine you have been keeping track of the number of candies you eat every day and how happy you feel afterward. You want to know how many candies you will eat tomorrow and how happy you will be. Predictive analytics can help with that.\n",
    "\n",
    "Predictive analytics uses the data you have collected in the past to create a model that can predict future outcomes. It looks for patterns, trends, and relationships in the data to make these predictions.\n",
    "\n",
    "In our candy example, predictive analytics might analyze factors like the time of day, the weather, or your stress levels to predict how many candies you will eat tomorrow and how happy you will feel afterward. It might discover that on rainy days, you tend to eat more candies and feel happier compared to sunny days.\n",
    "\n",
    "To make these predictions, predictive analytics uses advanced techniques like machine learning, regression analysis, or time series forecasting. These methods analyze historical data and identify patterns that can be used to make predictions about future events.\n",
    "\n",
    "Predictive analytics is used in many real-life situations. For example, businesses use it to forecast sales, detect fraud, or optimize their marketing campaigns. It helps them make informed decisions based on what is likely to happen in the future.\n",
    "\n",
    "So, predictive analytics is like a crystal ball that uses historical data and mathematical models to predict future outcomes. It helps us anticipate what might happen next, giving us valuable insights for planning and decision-making."
   ]
  },
  {
   "cell_type": "markdown",
   "id": "15268487",
   "metadata": {},
   "source": [
    "### Stage 4: Prescriptive Analytics"
   ]
  },
  {
   "cell_type": "markdown",
   "id": "b55d7ef1",
   "metadata": {},
   "source": [
    "Prescriptive analytics is like having a personal advisor who not only predicts the future but also recommends the best course of action to achieve a desired outcome. It goes beyond descriptive and predictive analytics by providing actionable insights and suggesting optimal decisions.\n",
    "\n",
    "Imagine you have been using predictive analytics to forecast how many candies you will eat tomorrow and how happy you will feel. Now, you want to know what actions you can take to maximize your happiness. That's where prescriptive analytics comes in.\n",
    "\n",
    "Prescriptive analytics helps answer questions like:\n",
    "- What can I do to maximize my happiness based on the predicted candy consumption?\n",
    "- Which factors or actions will lead to the most desirable outcome?\n",
    "\n",
    "To find out, prescriptive analytics considers various scenarios and factors to identify the best course of action. It takes into account constraints, objectives, and potential trade-offs to provide recommendations.\n",
    "\n",
    "In our candy example, prescriptive analytics might consider additional data like your daily activities, sleep patterns, or exercise routines. It would analyze how these factors interact with your candy consumption and happiness levels to suggest actions that can optimize your happiness.\n",
    "\n",
    "For instance, it might recommend that you engage in physical activity before eating candies to enhance your happiness even more. It could also suggest moderating your candy intake or balancing it with healthier alternatives for long-term well-being.\n",
    "\n",
    "Prescriptive analytics uses techniques such as optimization algorithms, simulation, or decision trees to determine the best actions to achieve desired outcomes. It helps individuals and organizations make informed decisions by considering various factors, constraints, and objectives.\n",
    "\n",
    "In business settings, prescriptive analytics can be used for supply chain optimization, resource allocation, or portfolio management, among other applications. It helps identify the most effective strategies to achieve business goals.\n",
    "\n",
    "In summary, prescriptive analytics acts as a personalized advisor, leveraging predictive insights to recommend optimal actions. It assists in decision-making by considering multiple variables and suggesting the best course of action to achieve desired outcomes."
   ]
  },
  {
   "cell_type": "markdown",
   "id": "1b070a1f",
   "metadata": {},
   "source": [
    "## CRISP-ML(Q) / CRISP-DM"
   ]
  },
  {
   "cell_type": "markdown",
   "id": "f227a290",
   "metadata": {},
   "source": [
    "CRISP-DM (Cross-Industry Standard Process for Data Mining) / CRISP-ML(Q) (Cross-Industry Standard Process for Machine Learning with Quality Assurance) is a widely used methodology for data mining projects. It consists of six phases that provide a structured approach to guide the entire data mining project lifecycle. Here are the phases of CRISP-DM:\n",
    "\n",
    "1. Business Understanding: This phase focuses on understanding the business objectives and requirements of the data mining project. It involves defining the problem, understanding the project goals, and determining how data mining can contribute to achieving those goals. Key tasks include identifying business objectives, assessing the situation, and formulating a data mining plan.\n",
    "\n",
    "2. Data Understanding: In this phase, you explore and gain familiarity with the available data. You collect and analyze the data to understand its characteristics, quality, and relevance to the project. Key tasks include initial data collection, data description, data exploration, and data verification.\n",
    "\n",
    "3. Data Preparation: This phase involves preparing the data for analysis. It includes tasks such as selecting relevant data, cleaning and transforming the data, handling missing values, and addressing outliers. The goal is to ensure that the data is in a suitable format and quality for the modeling phase.\n",
    "\n",
    "4. Modeling: In this phase, you develop and build predictive or descriptive models based on the project goals. It includes selecting appropriate modeling techniques, creating the model, and validating it using training and testing datasets. The goal is to create accurate and reliable models that address the business objectives.\n",
    "\n",
    "5. Evaluation: The evaluation phase focuses on assessing the performance and effectiveness of the models. It involves evaluating the models against the business objectives, measuring their performance using appropriate evaluation metrics, and verifying if they meet the desired criteria. This phase helps determine whether the models are suitable for deployment.\n",
    "\n",
    "6. Deployment and Maintainance: The final phase involves deploying the models into the operational environment or integrating them into decision-making processes. This includes creating implementation plans, integrating the models with existing systems, and establishing procedures for monitoring and maintaining the models. The goal is to ensure that the models are effectively utilized to derive value and drive decision-making.\n",
    "\n",
    "It's important to note that CRISP-DM is an iterative process, meaning that after the deployment phase, the process can loop back to earlier phases if necessary. This allows for continuous improvement, refinement, and adaptation throughout the project lifecycle.\n",
    "\n",
    "By following the CRISP-DM methodology, organizations can effectively manage data mining or ML projects, ensure alignment with business objectives, and increase the chances of successful outcomes."
   ]
  },
  {
   "cell_type": "markdown",
   "id": "966132df",
   "metadata": {},
   "source": [
    "### Business Understanding"
   ]
  },
  {
   "cell_type": "markdown",
   "id": "dae57c41",
   "metadata": {},
   "source": [
    "Imagine you have a toy store, and you want to sell as many toys as possible. Business Understanding is like asking yourself questions to understand what you need to do to make your toy store successful.\n",
    "\n",
    "You might think:\n",
    "\n",
    "What kind of toys do kids like?\n",
    "How can I make my toy store attractive and fun for children?\n",
    "How much money do I want to make from selling toys?\n",
    "Business Understanding is about figuring out what you want to achieve and what you need to know to reach your goals. It's like creating a plan to make your toy store the best it can be!\n",
    "\n",
    "To understand your business, you might talk to kids and their parents to find out their favorite toys. You might also visit other toy stores to see what they do well and what you could do differently.\n",
    "\n",
    "By understanding your business, you can decide what toys to sell, how to arrange them in your store, and how much to charge for them. You can also think about how to advertise your store to attract more customers and make them happy.\n",
    "\n",
    "Business Understanding helps you make good decisions and have a clear plan. It's like having a map that shows you the best way to make your toy store successful and make kids happy with the toys they want.\n",
    "\n",
    "Remember, it's important to think about your customers, what they like, and what makes them happy. That way, you can have a successful toy store and bring joy to many children!"
   ]
  },
  {
   "cell_type": "code",
   "execution_count": null,
   "id": "f27fe532",
   "metadata": {},
   "outputs": [],
   "source": []
  },
  {
   "cell_type": "markdown",
   "id": "4524c419",
   "metadata": {},
   "source": [
    "**Define Scope of Application:** Imagine you have a special tool that can fix things, like a magic wrench. But this magic wrench can only fix certain things, like toys or bikes. That means its scope of application is limited to those things. It's like the magic wrench has a special area where it can be used to solve problems.\n"
   ]
  },
  {
   "cell_type": "markdown",
   "id": "4f1074a9",
   "metadata": {},
   "source": [
    "\n",
    "    -business problem\n",
    "    -business objective\n",
    "    -business constraints\n",
    "\n",
    "\n",
    "**Business Problem**: A business problem is like when a store or a company has something that's not going well and needs to be fixed. For example, if a store has a lot of toys but no one is buying them, that's a problem because they want to sell the toys to make money.\n",
    "\n",
    "**Business Objective**: When a store or a company has a problem, they set a goal to solve it. This goal is called a business objective. It's like saying, \"We want to sell all the toys in the store by the end of the month.\" The objective is what they want to achieve or the target they want to reach.\n",
    "\n",
    "**Business Constraints**: Sometimes, there are things that make it difficult to solve a problem or achieve a goal. These things are called constraints. They can be like rules or limits that the store or company needs to follow. For example, they might have a constraint that says they can't spend more than a certain amount of money to sell the toys.\n",
    "\n",
    "Putting it all together: Imagine a toy store that has a problem because no one is buying the toys. The store's objective is to sell all the toys by the end of the month. However, they have a constraint that they can't spend too much money on advertising. So, they need to find a solution within that constraint to make people want to buy the toys.\n",
    "\n",
    "In this case, the scope of application for solving the problem and achieving the objective is within the toy store itself. The store needs to come up with ideas and strategies to make the toys attractive to customers and encourage them to buy.\n",
    "\n",
    "So, the scope of application is like the special area where the magic wrench can be used, the business problem is the issue the store wants to fix, the business objective is the goal they want to achieve, and the business constraints are the limits or rules they need to follow along the way.\n",
    "\n",
    "By understanding the scope, problem, objective, and constraints, the store can find the best way to solve their problem and reach their goal."
   ]
  },
  {
   "cell_type": "code",
   "execution_count": null,
   "id": "d2df8832",
   "metadata": {},
   "outputs": [],
   "source": []
  },
  {
   "cell_type": "markdown",
   "id": "a8099b1c",
   "metadata": {},
   "source": [
    "**Define Success criteria:** Success criteria are specific goals or benchmarks that help us measure and determine whether something has been successful or not. It's like having a set of rules or targets to know if we did a good job!\n",
    "\n",
    "**Business Success Criteria:** In a business, success criteria are the things we look at to see if the business is doing well. For example, if a business wants to be successful, they might set criteria like making a certain amount of money, having satisfied customers, or expanding to new locations. So, if a business meets these criteria, it means they are successful in achieving their goals.\n",
    "\n",
    "__Machine Learning Criteria:__ In a business, machine learning is like using special computer programs to help with important things. These programs can do clever things like understanding what customers like, predicting how much of a product will be needed, catching bad guys who try to cheat, and figuring out which customers might leave.\n",
    "To know if these machine learning programs are doing a good job, we use special rules called success criteria. These criteria help us check if the programs are accurate, helpful, and if they make the business better.\n",
    "For example, let's say we use machine learning to group customers into different groups based on what they like. We want to make sure the program does this correctly. So one success criterion is checking if the program gets the groups right most of the time.\n",
    "Another example is using machine learning to predict how much of a product will be needed in the future. We want the program to give us the right prediction, so another success criterion is checking if it predicts well most of the time.\n",
    "We also use machine learning to catch bad guys who try to cheat in the business. We want the program to find the cheaters and stop them. So a success criterion is checking if the program catches the bad guys and helps keep the business safe.\n",
    "Lastly, machine learning can help predict which customers might leave the business. We want to keep our customers happy, so we use the program to find out who might leave. A success criterion is checking if the program correctly predicts who might leave, so we can do something to keep them happy.\n",
    "\n",
    "__Survival Analytics:__ Survival analytics is a method used to study how long it takes for events to happen, such as patient survival or machine failure. In survival analytics, success criteria are based on the specific event being studied. For patient survival, the success criterion may be the percentage of patients who survive for a certain period of time after a treatment. For machine reliability, the success criterion may be the average time the machine operates without any issues. By using survival analytics and defining appropriate success criteria, we can better understand and assess the outcomes of events or processes. Survival analytics also checks the prediction model if it goes with the objectives and goals of the business. If the machine learning model any how hampering the financial growth, then survival analytics create constraints which has to be maintained along with the business objective while solving the business problem for the growth of the company.\n",
    "\n",
    "__Economic Success Criteria:__ Economic success criteria in business are about measuring how well a business is doing financially. It involves looking at factors like making money, creating jobs, and contributing to the overall growth of the economy. If a business is making more money than it spends, creating job opportunities for people, and helping the economy grow, it is considered economically successful. These criteria show that the business is financially strong and positively impacting the community or country it operates in."
   ]
  },
  {
   "cell_type": "markdown",
   "id": "3fd70707",
   "metadata": {},
   "source": [
    "__Let's consider a real-world example of a retail business__ that wants to improve its customer retention and increase sales through personalized marketing. Here are the details:\n",
    "\n",
    "Scope of Application:\n",
    "- Business Problem: The retail business is facing challenges with customer retention. Many customers are leaving and not returning to make additional purchases.\n",
    "- Business Objective: The objective is to improve customer retention and increase sales by implementing personalized marketing strategies that cater to each customer's preferences and needs.\n",
    "- Business Constraints: The business has a limited budget for marketing initiatives, and there are regulations and privacy concerns that need to be followed when collecting and utilizing customer data.\n",
    "\n",
    "Success Criteria:\n",
    "- Business Success Criteria: The business success criteria would include metrics such as increased customer retention rate, higher customer satisfaction scores, and growth in sales revenue from repeat customers.\n",
    "- Machine Learning Success Criteria: For machine learning to support personalized marketing, success criteria would involve the accuracy of the recommendation system, the ability to predict customer preferences and needs, and the effectiveness of targeted marketing campaigns.\n",
    "- Economic Success Criteria: Economic success criteria would be reflected in metrics like increased customer lifetime value, higher customer spending per visit, and improved overall profitability for the business.\n",
    "\n",
    "Real-World Example: Let's say the retail business implements a machine learning-based recommendation system that analyzes customer purchase history, browsing behavior, and demographic information. It then provides personalized product recommendations to each customer through email campaigns or on the business's website. The system also tracks customer responses to the recommendations and adjusts future recommendations accordingly.\n",
    "\n",
    "Success criteria for this example could include:\n",
    "- Business Success Criteria: Increase customer retention rate by 20% within six months, achieve a 10% growth in sales revenue from repeat customers, and receive positive feedback from customers about the personalized shopping experience.\n",
    "- Machine Learning Success Criteria: Achieve an accuracy rate of 80% in predicting customer preferences, increase the click-through rate of personalized email campaigns by 15%, and receive positive feedback from customers regarding the relevance of the product recommendations.\n",
    "- Economic Success Criteria: Increase customer lifetime value by 15%, achieve a 10% increase in average customer spending per visit, and observe a positive impact on the overall profitability of the business.\n",
    "\n",
    "By meeting these success criteria, the retail business would be able to demonstrate the effectiveness of its personalized marketing approach, improve customer retention, and ultimately drive economic success through increased sales and customer satisfaction."
   ]
  },
  {
   "cell_type": "code",
   "execution_count": null,
   "id": "15c2eb98",
   "metadata": {},
   "outputs": [],
   "source": []
  }
 ],
 "metadata": {
  "kernelspec": {
   "display_name": "Python 3 (ipykernel)",
   "language": "python",
   "name": "python3"
  },
  "language_info": {
   "codemirror_mode": {
    "name": "ipython",
    "version": 3
   },
   "file_extension": ".py",
   "mimetype": "text/x-python",
   "name": "python",
   "nbconvert_exporter": "python",
   "pygments_lexer": "ipython3",
   "version": "3.9.13"
  }
 },
 "nbformat": 4,
 "nbformat_minor": 5
}
