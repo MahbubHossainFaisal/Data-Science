{
 "cells": [
  {
   "cell_type": "code",
   "execution_count": 1,
   "id": "86bcb5a6",
   "metadata": {},
   "outputs": [],
   "source": [
    "import numpy as np"
   ]
  },
  {
   "cell_type": "code",
   "execution_count": 17,
   "id": "d637acb1",
   "metadata": {},
   "outputs": [],
   "source": [
    "## Matrix operations"
   ]
  },
  {
   "cell_type": "code",
   "execution_count": 2,
   "id": "7aa18529",
   "metadata": {},
   "outputs": [],
   "source": [
    "p = np.array([[1,7],[2,1],[3,2]])"
   ]
  },
  {
   "cell_type": "code",
   "execution_count": 3,
   "id": "0e9dd5f8",
   "metadata": {},
   "outputs": [],
   "source": [
    "q = np.array([[2,3],[5,7],[2,2]])"
   ]
  },
  {
   "cell_type": "code",
   "execution_count": 4,
   "id": "d29573b0",
   "metadata": {},
   "outputs": [],
   "source": [
    "## Addition"
   ]
  },
  {
   "cell_type": "code",
   "execution_count": 5,
   "id": "00ce81cb",
   "metadata": {},
   "outputs": [
    {
     "data": {
      "text/plain": [
       "array([[ 3, 10],\n",
       "       [ 7,  8],\n",
       "       [ 5,  4]])"
      ]
     },
     "execution_count": 5,
     "metadata": {},
     "output_type": "execute_result"
    }
   ],
   "source": [
    "np.add(p,q)"
   ]
  },
  {
   "cell_type": "code",
   "execution_count": 6,
   "id": "35def139",
   "metadata": {},
   "outputs": [],
   "source": [
    "## Subtraction"
   ]
  },
  {
   "cell_type": "code",
   "execution_count": 7,
   "id": "75f58b7a",
   "metadata": {},
   "outputs": [
    {
     "data": {
      "text/plain": [
       "array([[-1,  4],\n",
       "       [-3, -6],\n",
       "       [ 1,  0]])"
      ]
     },
     "execution_count": 7,
     "metadata": {},
     "output_type": "execute_result"
    }
   ],
   "source": [
    "np.subtract(p,q)"
   ]
  },
  {
   "cell_type": "code",
   "execution_count": 8,
   "id": "c50550a6",
   "metadata": {},
   "outputs": [],
   "source": [
    "## dot product"
   ]
  },
  {
   "cell_type": "code",
   "execution_count": 9,
   "id": "b173c3ff",
   "metadata": {},
   "outputs": [],
   "source": [
    "r = np.array([[1,1,1],[-1,4,-6]])"
   ]
  },
  {
   "cell_type": "code",
   "execution_count": 10,
   "id": "024d984d",
   "metadata": {},
   "outputs": [
    {
     "data": {
      "text/plain": [
       "array([[ -6,  29, -41],\n",
       "       [  1,   6,  -4],\n",
       "       [  1,  11,  -9]])"
      ]
     },
     "execution_count": 10,
     "metadata": {},
     "output_type": "execute_result"
    }
   ],
   "source": [
    "x = np.dot(p,r)\n",
    "x"
   ]
  },
  {
   "cell_type": "code",
   "execution_count": 11,
   "id": "c4a606df",
   "metadata": {},
   "outputs": [],
   "source": [
    "### Determinant of x"
   ]
  },
  {
   "cell_type": "code",
   "execution_count": 12,
   "id": "2765b3bd",
   "metadata": {},
   "outputs": [
    {
     "data": {
      "text/plain": [
       "-1.687538997430241e-13"
      ]
     },
     "execution_count": 12,
     "metadata": {},
     "output_type": "execute_result"
    }
   ],
   "source": [
    "determinant_x = np.linalg.det(x)\n",
    "\n",
    "determinant_x"
   ]
  },
  {
   "cell_type": "code",
   "execution_count": 14,
   "id": "8b760d7f",
   "metadata": {},
   "outputs": [],
   "source": [
    "## Matrix Inverse"
   ]
  },
  {
   "cell_type": "code",
   "execution_count": 15,
   "id": "f625b4c6",
   "metadata": {},
   "outputs": [],
   "source": [
    "M = np.array([[1,-1],[2,3]])"
   ]
  },
  {
   "cell_type": "code",
   "execution_count": 16,
   "id": "584d117a",
   "metadata": {},
   "outputs": [
    {
     "data": {
      "text/plain": [
       "array([[ 0.6,  0.2],\n",
       "       [-0.4,  0.2]])"
      ]
     },
     "execution_count": 16,
     "metadata": {},
     "output_type": "execute_result"
    }
   ],
   "source": [
    "M_inverse = np.linalg.inv(M)\n",
    "M_inverse"
   ]
  },
  {
   "cell_type": "code",
   "execution_count": null,
   "id": "f6a1f4a9",
   "metadata": {},
   "outputs": [],
   "source": []
  }
 ],
 "metadata": {
  "kernelspec": {
   "display_name": "Python 3 (ipykernel)",
   "language": "python",
   "name": "python3"
  },
  "language_info": {
   "codemirror_mode": {
    "name": "ipython",
    "version": 3
   },
   "file_extension": ".py",
   "mimetype": "text/x-python",
   "name": "python",
   "nbconvert_exporter": "python",
   "pygments_lexer": "ipython3",
   "version": "3.9.13"
  }
 },
 "nbformat": 4,
 "nbformat_minor": 5
}
