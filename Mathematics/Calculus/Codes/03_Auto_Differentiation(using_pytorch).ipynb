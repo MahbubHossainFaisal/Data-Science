{
 "cells": [
  {
   "cell_type": "markdown",
   "id": "5c75c372",
   "metadata": {},
   "source": [
    "## Autodiff with Pytorch"
   ]
  },
  {
   "cell_type": "code",
   "execution_count": 3,
   "id": "102ec488",
   "metadata": {},
   "outputs": [
    {
     "name": "stdout",
     "output_type": "stream",
     "text": [
      "Requirement already satisfied: torch in c:\\users\\mahbub\\anaconda3\\lib\\site-packages (2.0.1)\n",
      "Requirement already satisfied: sympy in c:\\users\\mahbub\\anaconda3\\lib\\site-packages (from torch) (1.10.1)\n",
      "Requirement already satisfied: typing-extensions in c:\\users\\mahbub\\anaconda3\\lib\\site-packages (from torch) (4.3.0)\n",
      "Requirement already satisfied: filelock in c:\\users\\mahbub\\anaconda3\\lib\\site-packages (from torch) (3.6.0)\n",
      "Requirement already satisfied: networkx in c:\\users\\mahbub\\anaconda3\\lib\\site-packages (from torch) (2.8.4)\n",
      "Requirement already satisfied: jinja2 in c:\\users\\mahbub\\anaconda3\\lib\\site-packages (from torch) (2.11.3)\n",
      "Requirement already satisfied: MarkupSafe>=0.23 in c:\\users\\mahbub\\anaconda3\\lib\\site-packages (from jinja2->torch) (2.0.1)\n",
      "Requirement already satisfied: mpmath>=0.19 in c:\\users\\mahbub\\anaconda3\\lib\\site-packages (from sympy->torch) (1.2.1)\n"
     ]
    }
   ],
   "source": [
    "!pip install torch"
   ]
  },
  {
   "cell_type": "code",
   "execution_count": 4,
   "id": "c08e8855",
   "metadata": {},
   "outputs": [],
   "source": [
    "import torch"
   ]
  },
  {
   "cell_type": "markdown",
   "id": "a8bcfe07",
   "metadata": {},
   "source": [
    "Let's use them to calculate $dy/dx$ at $x = 5$ where: "
   ]
  },
  {
   "cell_type": "markdown",
   "id": "3dd53b70",
   "metadata": {},
   "source": [
    "$$y = x^2$$"
   ]
  },
  {
   "cell_type": "markdown",
   "id": "15b68b15",
   "metadata": {},
   "source": [
    "$$ \\frac{dy}{dx} = 2x = 2(5) = 10 $$"
   ]
  },
  {
   "cell_type": "code",
   "execution_count": 5,
   "id": "049fe8a7",
   "metadata": {},
   "outputs": [],
   "source": [
    "x = torch.tensor(5.0)"
   ]
  },
  {
   "cell_type": "code",
   "execution_count": 6,
   "id": "c8f48bb1",
   "metadata": {},
   "outputs": [
    {
     "data": {
      "text/plain": [
       "tensor(5.)"
      ]
     },
     "execution_count": 6,
     "metadata": {},
     "output_type": "execute_result"
    }
   ],
   "source": [
    "x"
   ]
  },
  {
   "cell_type": "code",
   "execution_count": 7,
   "id": "bcb4607f",
   "metadata": {},
   "outputs": [
    {
     "data": {
      "text/plain": [
       "tensor(5., requires_grad=True)"
      ]
     },
     "execution_count": 7,
     "metadata": {},
     "output_type": "execute_result"
    }
   ],
   "source": [
    "x.requires_grad_()"
   ]
  },
  {
   "cell_type": "code",
   "execution_count": 8,
   "id": "ed955f44",
   "metadata": {},
   "outputs": [],
   "source": [
    "y = x**2"
   ]
  },
  {
   "cell_type": "code",
   "execution_count": 9,
   "id": "42f00f99",
   "metadata": {},
   "outputs": [],
   "source": [
    "y.backward() #using autodiff"
   ]
  },
  {
   "cell_type": "code",
   "execution_count": 11,
   "id": "9fe279bd",
   "metadata": {},
   "outputs": [
    {
     "data": {
      "text/plain": [
       "tensor(10.)"
      ]
     },
     "execution_count": 11,
     "metadata": {},
     "output_type": "execute_result"
    }
   ],
   "source": [
    "x.grad"
   ]
  },
  {
   "cell_type": "markdown",
   "id": "5334f17b",
   "metadata": {},
   "source": [
    "This is a simple example of how to use PyTorch's automatic differentiation (autodiff) feature to calculate gradients. Let's break down the code step by step:\n",
    "\n",
    "1. `x = torch.tensor(5.0)`: This line creates a PyTorch tensor named `x` with a single scalar value of 5.0. Tensors in PyTorch are multi-dimensional arrays that can represent scalars, vectors, matrices, or higher-dimensional data.\n",
    "\n",
    "2. `x.requires_grad_()`: This line marks the tensor `x` as needing gradient computation. In PyTorch, when you set `requires_grad_()` to `True`, you're telling PyTorch to track operations on this tensor so that gradients can be computed later. This is essential for gradient-based optimization algorithms like stochastic gradient descent (SGD).\n",
    "\n",
    "3. `y = x**2`: Here, you create a new tensor `y` by performing a mathematical operation on `x`. You square `x` by using the `**` operator. Since `x` has `requires_grad` set to `True`, PyTorch will track this operation for gradient computation.\n",
    "\n",
    "4. `y.backward()`: This line computes the gradients of `y` with respect to all tensors that have `requires_grad` set to `True`. In this case, it calculates the gradient of `y` with respect to `x`, which is `2*x`. This information is stored in the `x.grad` attribute.\n",
    "\n",
    "5. `x.grad`: After calling `y.backward()`, you can access the gradient of `x` using `x.grad`. In this example, it will contain the computed gradient, which is `10.0` because `2*x` when `x` is 5.0 is equal to `10.0`.\n",
    "\n",
    "So, when you print `x.grad`, you should see the value `10.0`, which is the derivative of `y` with respect to `x` when `x` is 5.0.\n",
    "\n",
    "This is a basic example of how you can use autodiff in PyTorch to compute gradients, which is a fundamental concept in deep learning for training neural networks using techniques like gradient descent."
   ]
  },
  {
   "cell_type": "code",
   "execution_count": null,
   "id": "8d748b19",
   "metadata": {},
   "outputs": [],
   "source": []
  }
 ],
 "metadata": {
  "kernelspec": {
   "display_name": "Python 3 (ipykernel)",
   "language": "python",
   "name": "python3"
  },
  "language_info": {
   "codemirror_mode": {
    "name": "ipython",
    "version": 3
   },
   "file_extension": ".py",
   "mimetype": "text/x-python",
   "name": "python",
   "nbconvert_exporter": "python",
   "pygments_lexer": "ipython3",
   "version": "3.9.13"
  }
 },
 "nbformat": 4,
 "nbformat_minor": 5
}
